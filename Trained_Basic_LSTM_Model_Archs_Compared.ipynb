{
  "nbformat": 4,
  "nbformat_minor": 0,
  "metadata": {
    "colab": {
      "name": "Trained-Basic-LSTM-Model-Archs-Compared.ipynb",
      "provenance": [],
      "collapsed_sections": [],
      "authorship_tag": "ABX9TyOw6WOBqkAy6BMtYMP5Ih8q"
    },
    "kernelspec": {
      "name": "python3",
      "display_name": "Python 3"
    },
    "language_info": {
      "name": "python"
    },
    "gpuClass": "standard"
  },
  "cells": [
    {
      "cell_type": "markdown",
      "source": [
        "Set Colab to GPU Mode if you are training the models!"
      ],
      "metadata": {
        "id": "rN8VtTibW_kL"
      }
    },
    {
      "cell_type": "markdown",
      "source": [
        "### Mounting Google Drive"
      ],
      "metadata": {
        "id": "ESNkUUOEoS8j"
      }
    },
    {
      "cell_type": "code",
      "execution_count": 1,
      "metadata": {
        "id": "GWpiHXuGn6Oy",
        "colab": {
          "base_uri": "https://localhost:8080/"
        },
        "outputId": "1301c033-2c10-44d6-9f7b-d292b8db224b"
      },
      "outputs": [
        {
          "output_type": "stream",
          "name": "stdout",
          "text": [
            "Mounted at /content/drive\n"
          ]
        }
      ],
      "source": [
        "from google.colab import drive\n",
        "drive.mount('/content/drive')"
      ]
    },
    {
      "cell_type": "code",
      "source": [
        "cd 'drive/MyDrive/IIT J Summer Internship 2022/Code/Neural-Uncertainty-Representation/'"
      ],
      "metadata": {
        "id": "bpxEP-yeoWPX",
        "colab": {
          "base_uri": "https://localhost:8080/"
        },
        "outputId": "e22f89d1-bff6-45d2-d70e-5d499b6076b2"
      },
      "execution_count": 2,
      "outputs": [
        {
          "output_type": "stream",
          "name": "stdout",
          "text": [
            "/content/drive/.shortcut-targets-by-id/1h_oF16bG32l75GPobgHe_9HgdUduLFxT/IIT J Summer Internship 2022/Code/Neural-Uncertainty-Representation\n"
          ]
        }
      ]
    },
    {
      "cell_type": "markdown",
      "source": [
        "### Importing Necessary Libraries\n"
      ],
      "metadata": {
        "id": "Hq9mNRMMomT7"
      }
    },
    {
      "cell_type": "code",
      "source": [
        "import numpy as np\n",
        "import pandas as pd\n",
        "\n",
        "import tensorflow as tf\n",
        "\n",
        "from tensorflow.keras.layers import Dense, Dropout, LSTM, TimeDistributed\n",
        "from tensorflow.keras.models import Sequential\n",
        "from tensorflow.keras.optimizers import Adam\n",
        "\n",
        "from sklearn.preprocessing import MinMaxScaler\n",
        "\n",
        "import matplotlib.pyplot as plt\n",
        "import os"
      ],
      "metadata": {
        "id": "SRXBkwcIogPe"
      },
      "execution_count": 3,
      "outputs": []
    },
    {
      "cell_type": "markdown",
      "source": [
        "### Importing Data\n",
        "We import the data of a young subject's 3D-Tensor Data of dimensions (TR, Voxel, Number of Subjects) for the 5 different ROIs as follows:\n",
        "- **Prefrontal areas:** dlPFC, vlPFC, lOFC, dmPFC, mPFC, mOFC\n",
        "- **Default-mode areas:** mPFC, ACC, PCC, Precuneus, mOFC\n",
        "- **Sensory areas:** VC\n",
        "- **Multisensory area:** pSTS\n",
        "- **Some other areas:** TP, IPL, mCC, Put, PCG, Nac, INS\n",
        "\n",
        "\n",
        "\n"
      ],
      "metadata": {
        "id": "_R2-Cetmxned"
      }
    },
    {
      "cell_type": "code",
      "source": [
        "file_names = [name for name in os.listdir('/content/drive/MyDrive/IIT J Summer Internship 2022/Hitchcock/Data/YOUNG/Voxel_BOLD/Numpy') if name.endswith(\"npy\") and (\"(1)\" not in name)]\n",
        "file_names = [name for name in file_names if (\"537\" not in name)]"
      ],
      "metadata": {
        "id": "XUJPFBg1898z"
      },
      "execution_count": 4,
      "outputs": []
    },
    {
      "cell_type": "code",
      "source": [
        "ROI_names = [file_name.replace(\"data_\",\"\").replace(\".npy\",\"\") for file_name in file_names]"
      ],
      "metadata": {
        "id": "5lVnzf5N_Ufy"
      },
      "execution_count": 5,
      "outputs": []
    },
    {
      "cell_type": "code",
      "source": [
        "data_ori = list()\n",
        "for file_name in file_names:\n",
        "  data_ori.append(np.load('/content/drive/MyDrive/IIT J Summer Internship 2022/Hitchcock/Data/YOUNG/Voxel_BOLD/Numpy/'+file_name))"
      ],
      "metadata": {
        "id": "Kg22rkIGpfP2"
      },
      "execution_count": 6,
      "outputs": []
    },
    {
      "cell_type": "markdown",
      "source": [
        "### Data Preparation"
      ],
      "metadata": {
        "id": "Kcaxzm8WDjgO"
      }
    },
    {
      "cell_type": "markdown",
      "source": [
        "Now, here we prepare the data to be fed to the Neural Network Architechtures. We can't predict the time ahead upto which the subjects are predicting correctly so, we will take a bit round about way to predict the BOLD values ahead in time(for several choices of time points e.g. 1 time point ahead, 2 time point ahead, etc) and will compare the results for young and old subjects."
      ],
      "metadata": {
        "id": "K9rJ8CAb97K2"
      }
    },
    {
      "cell_type": "markdown",
      "source": [
        "Right from the starting we decide some of the data preparation parameters, so that we can use them as we require."
      ],
      "metadata": {
        "id": "im3Oqy2ueeEU"
      }
    },
    {
      "cell_type": "code",
      "source": [
        "TRAIN_BATCH_SIZE = 20\n",
        "TEST_BATCH_SIZE = 10\n",
        "LOOK_AHEAD = 1\n",
        "NUM_TEST_SUBS = 10"
      ],
      "metadata": {
        "id": "X1DoZ2Fcec20"
      },
      "execution_count": 7,
      "outputs": []
    },
    {
      "cell_type": "markdown",
      "source": [
        "We will start a basic data preparation where we will average across all the voxels for a ROI and fit the model which predicts this average BOLD value. Later we will avoid doing an average since, all voxels in a ROI is not equally important and hence we will want to predict the BOLD values of several voxels simultaneously."
      ],
      "metadata": {
        "id": "TYuu8ZM2-u9z"
      }
    },
    {
      "cell_type": "code",
      "source": [
        "data = [np.mean(dat, axis=1, keepdims=True) for dat in data_ori]"
      ],
      "metadata": {
        "id": "pFvaFL69geft"
      },
      "execution_count": 8,
      "outputs": []
    },
    {
      "cell_type": "markdown",
      "source": [
        "Let's Start the Data Preparation for lOFC later we will iterate the same procedure for the other ROIs."
      ],
      "metadata": {
        "id": "mY3usMssn3T5"
      }
    },
    {
      "cell_type": "code",
      "source": [
        "print(ROI_names[-1], \"Average BOLD Shape:\", data[-1].shape)"
      ],
      "metadata": {
        "colab": {
          "base_uri": "https://localhost:8080/"
        },
        "id": "71dv3Zkcgu3N",
        "outputId": "11be76fd-9aaa-4daa-9390-d9e19a9bc9d3"
      },
      "execution_count": 9,
      "outputs": [
        {
          "output_type": "stream",
          "name": "stdout",
          "text": [
            "lOFC Average BOLD Shape: (189, 1, 111)\n"
          ]
        }
      ]
    },
    {
      "cell_type": "markdown",
      "source": [
        "Below, we see the average BOLD time series plot for all the ROIs."
      ],
      "metadata": {
        "id": "jG7ofnvRczcN"
      }
    },
    {
      "cell_type": "markdown",
      "source": [
        "We have changed the data in the form (Number of Subjects, TR, Voxels) below."
      ],
      "metadata": {
        "id": "-wIOccLpE0d-"
      }
    },
    {
      "cell_type": "code",
      "source": [
        "data = [np.transpose(dat, (2,0,1)) for dat in data]"
      ],
      "metadata": {
        "id": "0pHK54KjDnah"
      },
      "execution_count": 10,
      "outputs": []
    },
    {
      "cell_type": "code",
      "source": [
        "print(ROI_names[-1], \"Average BOLD Shape:\", data[-1].shape)"
      ],
      "metadata": {
        "colab": {
          "base_uri": "https://localhost:8080/"
        },
        "id": "HRXHJ1cwgrzp",
        "outputId": "8f052470-8198-4557-a061-0375c9483379"
      },
      "execution_count": 11,
      "outputs": [
        {
          "output_type": "stream",
          "name": "stdout",
          "text": [
            "lOFC Average BOLD Shape: (111, 189, 1)\n"
          ]
        }
      ]
    },
    {
      "cell_type": "markdown",
      "source": [
        "We split the dataset of 111 young subjects into 101 subjects in the training data and 10 subject in the test data."
      ],
      "metadata": {
        "id": "gg50q17pp5xQ"
      }
    },
    {
      "cell_type": "code",
      "source": [
        "train_data_unscaled = [dat[:-NUM_TEST_SUBS] for dat in data]\n",
        "test_data_unscaled = [dat[-NUM_TEST_SUBS:] for dat in data]  "
      ],
      "metadata": {
        "id": "hrldyz8XnDlv"
      },
      "execution_count": 12,
      "outputs": []
    },
    {
      "cell_type": "markdown",
      "source": [
        "We scaled the BOLD values of each voxel in the train data between 0 and 1 for each voxel. We use the same MinMaxScaler fit on the train data on the test data."
      ],
      "metadata": {
        "id": "MDV7H0sYt6jd"
      }
    },
    {
      "cell_type": "code",
      "source": [
        "scalers = list()\n",
        "for i in range(len(ROI_names)):\n",
        "  scalers.append(MinMaxScaler(feature_range = (0, 1)))\n",
        "train_data = [sc.fit_transform(dat[:,:,0]) for sc, dat in zip(scalers, train_data_unscaled)] \n",
        "test_data = [sc.transform(dat[:,:,0]) for sc, dat in zip(scalers, test_data_unscaled)]"
      ],
      "metadata": {
        "id": "-xkJQLj3tORj"
      },
      "execution_count": 13,
      "outputs": []
    },
    {
      "cell_type": "code",
      "source": [
        "train_data = [np.expand_dims(dat, axis = -1) for dat in train_data]\n",
        "test_data = [np.expand_dims(dat, axis = -1) for dat in test_data]"
      ],
      "metadata": {
        "id": "Ail126iVuR6s"
      },
      "execution_count": 14,
      "outputs": []
    },
    {
      "cell_type": "code",
      "source": [
        "print(ROI_names[-1], \"Train Data Shape: \", train_data[-1].shape)\n",
        "print(ROI_names[-1], \"Test Data Shape: \", test_data[-1].shape)"
      ],
      "metadata": {
        "colab": {
          "base_uri": "https://localhost:8080/"
        },
        "id": "_cOAv_VrnbLU",
        "outputId": "0a7ad5c5-66a3-465a-ead1-b02e3f529035"
      },
      "execution_count": 15,
      "outputs": [
        {
          "output_type": "stream",
          "name": "stdout",
          "text": [
            "lOFC Train Data Shape:  (101, 189, 1)\n",
            "lOFC Test Data Shape:  (10, 189, 1)\n"
          ]
        }
      ]
    },
    {
      "cell_type": "markdown",
      "source": [
        "We now build a data generator which would produce mini-batches during the training of the neural network."
      ],
      "metadata": {
        "id": "0yjlAwWeiEru"
      }
    },
    {
      "cell_type": "code",
      "source": [
        "class KerasBatchGenerator(object):\n",
        "    def __init__(self, data, num_TRs, batch_size, look_ahead=1):\n",
        "        self.data = data\n",
        "        self.num_TRs = num_TRs\n",
        "        self.batch_size = batch_size\n",
        "        self.current_idx = 0\n",
        "        self.look_ahead = look_ahead\n",
        "\n",
        "    def generate(self):\n",
        "        while True:\n",
        "            if self.current_idx + self.batch_size >= self.data.shape[0]:\n",
        "              self.current_idx = 0\n",
        "            x = self.data[self.current_idx:(self.current_idx+self.batch_size),:(-self.look_ahead),:]\n",
        "            y = self.data[self.current_idx:(self.current_idx+self.batch_size),self.look_ahead:,:]\n",
        "            self.current_idx = self.current_idx + self.batch_size\n",
        "            yield x, y "
      ],
      "metadata": {
        "id": "Blko7LXpgtwA"
      },
      "execution_count": 16,
      "outputs": []
    },
    {
      "cell_type": "code",
      "source": [
        "train_data_generator = [KerasBatchGenerator(dat, dat.shape[1], TRAIN_BATCH_SIZE, LOOK_AHEAD) for dat in train_data]\n",
        "test_data_generator = [KerasBatchGenerator(dat, dat.shape[1], TEST_BATCH_SIZE, LOOK_AHEAD) for dat in test_data]"
      ],
      "metadata": {
        "id": "lZN56Eg3mrsc"
      },
      "execution_count": 17,
      "outputs": []
    },
    {
      "cell_type": "code",
      "source": [
        "batch_x, batch_y = next(train_data_generator[-1].generate())\n",
        "print(ROI_names[-1], \"Train Batch X Shape: \", batch_x.shape)\n",
        "print(ROI_names[-1], \"Train Batch y Shape: \", batch_y.shape)"
      ],
      "metadata": {
        "colab": {
          "base_uri": "https://localhost:8080/"
        },
        "id": "5UPT6iRxpJ7c",
        "outputId": "dd11d37d-97a5-46a2-de87-d61e6871c9f8"
      },
      "execution_count": 18,
      "outputs": [
        {
          "output_type": "stream",
          "name": "stdout",
          "text": [
            "lOFC Train Batch X Shape:  (20, 188, 1)\n",
            "lOFC Train Batch y Shape:  (20, 188, 1)\n"
          ]
        }
      ]
    },
    {
      "cell_type": "code",
      "source": [
        "batch_x, batch_y = next(test_data_generator[-1].generate())\n",
        "print(ROI_names[-1], \"Test Batch X Shape: \", batch_x.shape)\n",
        "print(ROI_names[-1], \"Test Batch y Shape: \", batch_y.shape)"
      ],
      "metadata": {
        "colab": {
          "base_uri": "https://localhost:8080/"
        },
        "id": "Clavfro-pSEV",
        "outputId": "ebbb8d83-1761-4cef-f4cc-f6434e777187"
      },
      "execution_count": 19,
      "outputs": [
        {
          "output_type": "stream",
          "name": "stdout",
          "text": [
            "lOFC Test Batch X Shape:  (10, 188, 1)\n",
            "lOFC Test Batch y Shape:  (10, 188, 1)\n"
          ]
        }
      ]
    },
    {
      "cell_type": "markdown",
      "source": [
        "### Building Model"
      ],
      "metadata": {
        "id": "31NRewZjqoi1"
      }
    },
    {
      "cell_type": "markdown",
      "source": [
        "#### Model-1"
      ],
      "metadata": {
        "id": "mIawKmyFfAkz"
      }
    },
    {
      "cell_type": "markdown",
      "source": [
        "We will start off by building a LSTM Model:\n",
        "- `Number of LSTM Layers = 1`\n",
        "- `Number of Dense Layers = 1`\n",
        "- `hidden units = 8`\n",
        "- `dropout = 0.3`"
      ],
      "metadata": {
        "id": "8Ry-jGmHqqx0"
      }
    },
    {
      "cell_type": "code",
      "source": [
        "HIDDEN_UNITS = 8\n",
        "DROPOUT_PROB = 0.3\n",
        "LSTM_LAYERS = 1\n",
        "DENSE_LAYERS = 1"
      ],
      "metadata": {
        "id": "AKDAJkiVgK2n"
      },
      "execution_count": 20,
      "outputs": []
    },
    {
      "cell_type": "code",
      "source": [
        "def avg_bold_model():\n",
        "  model = Sequential()\n",
        "  for _ in range(LSTM_LAYERS):\n",
        "    model.add(LSTM(HIDDEN_UNITS, return_sequences=True))\n",
        "  model.add(Dropout(0.3))\n",
        "  for _ in range(DENSE_LAYERS-1):\n",
        "    model.add(TimeDistributed(Dense(HIDDEN_UNITS)))\n",
        "  model.add(TimeDistributed(Dense(1)))\n",
        "  return model"
      ],
      "metadata": {
        "id": "fqoXwHTTqqCR"
      },
      "execution_count": 21,
      "outputs": []
    },
    {
      "cell_type": "code",
      "source": [
        "sample_model = avg_bold_model()\n",
        "sample_model.build(input_shape=batch_x.shape)\n",
        "sample_model.summary()"
      ],
      "metadata": {
        "colab": {
          "base_uri": "https://localhost:8080/"
        },
        "id": "nYHgnyz-v5nA",
        "outputId": "2dfba705-109d-4fcf-a579-52df0f9cf52f"
      },
      "execution_count": 22,
      "outputs": [
        {
          "output_type": "stream",
          "name": "stdout",
          "text": [
            "Model: \"sequential\"\n",
            "_________________________________________________________________\n",
            " Layer (type)                Output Shape              Param #   \n",
            "=================================================================\n",
            " lstm (LSTM)                 (10, 188, 8)              320       \n",
            "                                                                 \n",
            " dropout (Dropout)           (10, 188, 8)              0         \n",
            "                                                                 \n",
            " time_distributed (TimeDistr  (10, 188, 1)             9         \n",
            " ibuted)                                                         \n",
            "                                                                 \n",
            "=================================================================\n",
            "Total params: 329\n",
            "Trainable params: 329\n",
            "Non-trainable params: 0\n",
            "_________________________________________________________________\n"
          ]
        }
      ]
    },
    {
      "cell_type": "code",
      "source": [
        "models = [avg_bold_model() for _ in range(len(ROI_names))]"
      ],
      "metadata": {
        "id": "fUZSBnNft2Dl"
      },
      "execution_count": 23,
      "outputs": []
    },
    {
      "cell_type": "code",
      "source": [
        "for i in range(len(ROI_names)):\n",
        "  models[i].compile(optimizer = 'adam', loss = 'mean_squared_error')"
      ],
      "metadata": {
        "id": "kf-dFQmfzqTA"
      },
      "execution_count": 24,
      "outputs": []
    },
    {
      "cell_type": "code",
      "source": [
        "for i in range(len(ROI_names)):\n",
        "  models[i].load_weights(f\"./Models/YOUNG/LSTM/AVG-BOLD/{ROI_names[i]}/model_weights-{LSTM_LAYERS}L-{HIDDEN_UNITS}H-{DENSE_LAYERS}D-{int(DROPOUT_PROB*10)}Drop-{LOOK_AHEAD}Ahead-{ROI_names[i]}\")"
      ],
      "metadata": {
        "id": "dKvn0145hViW"
      },
      "execution_count": 25,
      "outputs": []
    },
    {
      "cell_type": "code",
      "source": [
        "preds = [models[i].predict(next(test_data_generator[i].generate())[0]) for i in range(len(ROI_names))]"
      ],
      "metadata": {
        "id": "7mpQ5Rap6kQ0"
      },
      "execution_count": null,
      "outputs": []
    },
    {
      "cell_type": "code",
      "source": [
        "a_TRs = np.array([56, 67, 73, 81, 134, 142, 155, 167, 174, 180])\n",
        "d_TRs = np.array([67, 72, 85, 89, 145, 154, 168, 174, 180, 188])\n",
        "and_TRs = np.union1d(a_TRs, d_TRs)"
      ],
      "metadata": {
        "id": "Xy_oAW9VgG9G"
      },
      "execution_count": 27,
      "outputs": []
    },
    {
      "cell_type": "code",
      "source": [
        "print(\"***Each Test Subject's Correlation Coefficient between predicted and actual average BOLD values of each Ascent and Descent for ROIs***\")\n",
        "print()\n",
        "avg_r = list()\n",
        "for i in range(len(ROI_names)):\n",
        "  actual_test_data_output = np.squeeze(test_data_unscaled[i])[:,LOOK_AHEAD:] \n",
        "  pred_test_data_output = scalers[i].inverse_transform(np.hstack([preds[i][:,:,0], preds[i][:,:LOOK_AHEAD,0]]))[:,:-LOOK_AHEAD]\n",
        "  for j in range(NUM_TEST_SUBS):\n",
        "    print(f\"{ROI_names[i]} for {j+1}th sub: {np.round(np.corrcoef(actual_test_data_output[j,:], pred_test_data_output[j,:])[0,1], 2)}\", end=\" ---> \")\n",
        "    sum_as = 0 # stores the sum of each the subject's avg BOLD 5 ascents correlation between actual and preds \n",
        "    sum_des = 0 # stores the sum of each the subject's avg BOLD 5 descents correlation between actual and preds \n",
        "    for k in range(5):\n",
        "      a = np.round(np.corrcoef(actual_test_data_output[j,a_TRs[2*k]:a_TRs[2*k+1]], pred_test_data_output[j,a_TRs[2*k]:a_TRs[2*k+1]])[0,1], 2)\n",
        "      d = np.round(np.corrcoef(actual_test_data_output[j,d_TRs[2*k]:d_TRs[2*k+1]], pred_test_data_output[j,d_TRs[2*k]:d_TRs[2*k+1]])[0,1], 2)\n",
        "      print(f\"A{k+1}: {a}\", end=\", \")\n",
        "      sum_as += a\n",
        "      print(f\"D{k+1}: {d}\", end=\", \")\n",
        "      sum_des += d\n",
        "    print(f\"Avg. Ascent: {np.round(sum_as/5, 2)}\", end=\", \")\n",
        "    print(f\"Avg. Descent: {np.round(sum_des/5, 2)}\", end=\"\")\n",
        "    print()\n",
        "  print()\n",
        "\n",
        "print(\"***Average across test subjects Correlation Coefficient between predicted and actual average BOLD values of each Ascent and Descent for ROIs***\")\n",
        "print()\n",
        "for i in range(len(ROI_names)):\n",
        "  actual_test_data_output = np.squeeze(test_data_unscaled[i])[:,LOOK_AHEAD:] \n",
        "  pred_test_data_output = scalers[i].inverse_transform(np.hstack([preds[i][:,:,0], preds[i][:,:LOOK_AHEAD,0]]))[:,:-LOOK_AHEAD]\n",
        "  sum_r = 0 # stores the sum of all the subjects avg BOLD correlation between actual and preds\n",
        "  sum_a = np.zeros(5) # stores the sum of all the subjects avg BOLD 5 ascents correlation between actual and preds\n",
        "  sum_d = np.zeros(5) # stores the sum of all the subjects avg BOLD 5 descents between actual and preds\n",
        "  for j in range(NUM_TEST_SUBS):\n",
        "    sum_r += np.corrcoef(actual_test_data_output[j,:], pred_test_data_output[j,:])[0,1]\n",
        "    for k in range(5):\n",
        "      sum_a[k] += np.corrcoef(actual_test_data_output[j,a_TRs[2*k]:a_TRs[2*k+1]], pred_test_data_output[j,a_TRs[2*k]:a_TRs[2*k+1]])[0,1]\n",
        "      sum_d[k] += np.corrcoef(actual_test_data_output[j,d_TRs[2*k]:d_TRs[2*k+1]], pred_test_data_output[j,d_TRs[2*k]:d_TRs[2*k+1]])[0,1]\n",
        "  print(f\"{ROI_names[i]}: {np.round(sum_r / NUM_TEST_SUBS, 2)}\", end=\", \")\n",
        "  print(f\"Ascents: {np.round(sum_a / NUM_TEST_SUBS, 2)}\", end=\", \")\n",
        "  print(f\"Avg. Ascent: {np.round(np.mean(sum_a / NUM_TEST_SUBS), 2)}\", end=\", \")\n",
        "  print(f\"Descents: {np.round(sum_d / NUM_TEST_SUBS, 2)}\", end=\", \")\n",
        "  print(f\"Avg. Descent: {np.round(np.mean(sum_d / NUM_TEST_SUBS), 2)}\")"
      ],
      "metadata": {
        "colab": {
          "base_uri": "https://localhost:8080/"
        },
        "id": "J8hiJzxcKFuz",
        "outputId": "29d464ac-09ff-4a80-c84d-11da5259bd66"
      },
      "execution_count": 31,
      "outputs": [
        {
          "output_type": "stream",
          "name": "stdout",
          "text": [
            "***Each Test Subject's Correlation Coefficient between predicted and actual average BOLD values of each Ascent and Descent for ROIs***\n",
            "\n",
            "dmPFC for 1th sub: 0.16 ---> A1: 0.1, D1: 0.04, A2: -0.14, D2: 0.43, A3: 0.44, D3: 0.12, A4: -0.13, D4: -0.1, A5: 0.03, D5: 0.59, Avg. Ascent: 0.06, Avg. Descent: 0.22\n",
            "dmPFC for 2th sub: 0.34 ---> A1: 0.62, D1: -0.58, A2: -0.38, D2: -0.46, A3: -0.46, D3: 0.05, A4: 0.25, D4: 0.66, A5: -0.18, D5: 0.26, Avg. Ascent: -0.03, Avg. Descent: -0.01\n",
            "dmPFC for 3th sub: 0.36 ---> A1: 0.43, D1: -0.5, A2: -0.63, D2: -0.66, A3: -0.82, D3: -0.54, A4: -0.11, D4: -0.69, A5: -0.38, D5: 0.02, Avg. Ascent: -0.3, Avg. Descent: -0.47\n",
            "dmPFC for 4th sub: 0.2 ---> A1: -0.72, D1: -0.28, A2: -0.25, D2: -0.68, A3: -0.48, D3: -0.38, A4: 0.03, D4: 0.48, A5: -0.23, D5: -0.4, Avg. Ascent: -0.33, Avg. Descent: -0.25\n",
            "dmPFC for 5th sub: 0.21 ---> A1: -0.33, D1: 0.11, A2: -0.65, D2: 0.67, A3: -0.39, D3: 0.22, A4: 0.35, D4: -0.12, A5: -0.3, D5: -0.84, Avg. Ascent: -0.26, Avg. Descent: 0.01\n",
            "dmPFC for 6th sub: 0.36 ---> A1: -0.25, D1: -0.76, A2: -0.47, D2: -0.39, A3: 0.27, D3: -0.54, A4: -0.17, D4: 0.64, A5: -0.17, D5: 0.07, Avg. Ascent: -0.16, Avg. Descent: -0.2\n",
            "dmPFC for 7th sub: 0.11 ---> A1: 0.51, D1: 0.85, A2: -0.45, D2: -0.92, A3: 0.29, D3: -0.76, A4: 0.07, D4: 0.12, A5: 0.09, D5: 0.52, Avg. Ascent: 0.1, Avg. Descent: -0.04\n",
            "dmPFC for 8th sub: 0.35 ---> A1: 0.33, D1: 0.27, A2: -0.54, D2: -0.3, A3: -0.2, D3: 0.29, A4: 0.06, D4: 0.17, A5: 0.24, D5: 0.12, Avg. Ascent: -0.02, Avg. Descent: 0.11\n",
            "dmPFC for 9th sub: 0.27 ---> A1: -0.13, D1: -0.05, A2: 0.25, D2: -0.48, A3: -0.36, D3: -0.16, A4: -0.03, D4: -0.24, A5: -0.28, D5: 0.09, Avg. Ascent: -0.11, Avg. Descent: -0.17\n",
            "dmPFC for 10th sub: 0.06 ---> A1: 0.42, D1: 0.7, A2: -0.67, D2: -0.6, A3: 0.57, D3: -0.43, A4: 0.36, D4: -0.13, A5: -0.76, D5: -0.53, Avg. Ascent: -0.02, Avg. Descent: -0.2\n",
            "\n",
            "ACC for 1th sub: 0.23 ---> A1: 0.18, D1: 0.18, A2: 0.12, D2: -0.44, A3: -0.58, D3: 0.19, A4: 0.44, D4: -0.29, A5: -0.07, D5: -0.67, Avg. Ascent: 0.02, Avg. Descent: -0.21\n",
            "ACC for 2th sub: 0.51 ---> A1: -0.18, D1: -0.59, A2: -0.03, D2: -0.53, A3: -0.19, D3: 0.34, A4: 0.01, D4: -0.08, A5: 0.09, D5: -0.23, Avg. Ascent: -0.06, Avg. Descent: -0.22\n",
            "ACC for 3th sub: 0.15 ---> A1: 0.38, D1: 0.6, A2: -0.63, D2: 0.84, A3: -0.32, D3: -0.52, A4: 0.22, D4: -0.28, A5: 0.59, D5: 0.4, Avg. Ascent: 0.05, Avg. Descent: 0.21\n",
            "ACC for 4th sub: 0.45 ---> A1: -0.29, D1: 0.4, A2: -0.1, D2: 0.33, A3: -0.42, D3: 0.11, A4: -0.01, D4: -0.43, A5: 0.57, D5: 0.05, Avg. Ascent: -0.05, Avg. Descent: 0.09\n",
            "ACC for 5th sub: 0.34 ---> A1: 0.22, D1: 0.63, A2: 0.54, D2: -0.77, A3: -0.64, D3: 0.73, A4: 0.62, D4: -0.26, A5: 0.62, D5: -0.65, Avg. Ascent: 0.27, Avg. Descent: -0.06\n",
            "ACC for 6th sub: 0.4 ---> A1: -0.13, D1: 0.91, A2: -0.59, D2: 0.13, A3: -0.28, D3: 0.27, A4: -0.02, D4: 0.43, A5: 0.24, D5: -0.67, Avg. Ascent: -0.16, Avg. Descent: 0.21\n",
            "ACC for 7th sub: 0.34 ---> A1: -0.16, D1: 0.49, A2: -0.48, D2: 0.01, A3: -0.77, D3: -0.18, A4: 0.46, D4: -0.47, A5: -0.27, D5: -0.48, Avg. Ascent: -0.24, Avg. Descent: -0.13\n",
            "ACC for 8th sub: 0.53 ---> A1: 0.38, D1: 0.21, A2: -0.47, D2: -0.23, A3: -0.18, D3: 0.32, A4: -0.75, D4: 0.48, A5: 0.0, D5: -0.17, Avg. Ascent: -0.2, Avg. Descent: 0.12\n",
            "ACC for 9th sub: 0.19 ---> A1: -0.3, D1: -0.65, A2: 0.72, D2: -0.5, A3: -0.19, D3: -0.37, A4: 0.78, D4: 0.54, A5: 0.2, D5: 0.01, Avg. Ascent: 0.24, Avg. Descent: -0.19\n",
            "ACC for 10th sub: 0.3 ---> A1: -0.57, D1: -0.05, A2: -0.36, D2: -0.31, A3: -0.28, D3: 0.05, A4: 0.35, D4: 0.11, A5: 0.53, D5: -0.37, Avg. Ascent: -0.07, Avg. Descent: -0.11\n",
            "\n",
            "AMY for 1th sub: 0.29 ---> A1: -0.46, D1: 0.52, A2: -0.44, D2: 0.33, A3: 0.4, D3: 0.06, A4: -0.1, D4: 0.25, A5: -0.04, D5: 0.49, Avg. Ascent: -0.13, Avg. Descent: 0.33\n",
            "AMY for 2th sub: 0.36 ---> A1: -0.44, D1: -0.39, A2: 0.44, D2: -0.93, A3: -0.26, D3: -0.09, A4: 0.24, D4: -0.48, A5: -0.03, D5: -0.19, Avg. Ascent: -0.01, Avg. Descent: -0.42\n",
            "AMY for 3th sub: 0.74 ---> A1: 0.02, D1: 0.49, A2: -0.25, D2: 0.35, A3: 0.45, D3: -0.32, A4: 0.03, D4: 0.46, A5: 0.28, D5: -0.5, Avg. Ascent: 0.11, Avg. Descent: 0.1\n",
            "AMY for 4th sub: 0.21 ---> A1: -0.35, D1: 0.13, A2: 0.13, D2: -0.71, A3: -0.31, D3: 0.38, A4: 0.24, D4: 0.38, A5: -0.63, D5: -0.43, Avg. Ascent: -0.18, Avg. Descent: -0.05\n",
            "AMY for 5th sub: 0.11 ---> A1: 0.14, D1: 0.9, A2: -0.72, D2: -0.53, A3: 0.32, D3: 0.09, A4: 0.36, D4: 0.43, A5: 0.38, D5: 0.53, Avg. Ascent: 0.1, Avg. Descent: 0.28\n",
            "AMY for 6th sub: 0.55 ---> A1: -0.03, D1: 0.65, A2: -0.36, D2: 0.07, A3: 0.26, D3: 0.13, A4: -0.39, D4: -0.42, A5: -0.48, D5: 0.21, Avg. Ascent: -0.2, Avg. Descent: 0.13\n",
            "AMY for 7th sub: 0.26 ---> A1: 0.11, D1: 0.8, A2: -0.45, D2: 0.29, A3: 0.43, D3: -0.46, A4: 0.18, D4: -0.66, A5: 0.41, D5: -0.37, Avg. Ascent: 0.14, Avg. Descent: -0.08\n",
            "AMY for 8th sub: 0.54 ---> A1: -0.62, D1: -0.29, A2: 0.11, D2: 0.68, A3: 0.25, D3: -0.25, A4: 0.07, D4: -0.44, A5: -0.74, D5: 0.66, Avg. Ascent: -0.19, Avg. Descent: 0.07\n",
            "AMY for 9th sub: 0.1 ---> A1: 0.06, D1: -0.81, A2: 0.52, D2: -0.43, A3: 0.58, D3: -0.34, A4: 0.34, D4: 0.06, A5: -0.21, D5: -0.37, Avg. Ascent: 0.26, Avg. Descent: -0.38\n",
            "AMY for 10th sub: 0.15 ---> A1: -0.19, D1: 0.22, A2: -0.08, D2: 0.11, A3: 0.21, D3: 0.19, A4: -0.01, D4: -0.87, A5: 0.43, D5: -0.29, Avg. Ascent: 0.07, Avg. Descent: -0.13\n",
            "\n",
            "Cau for 1th sub: -0.01 ---> A1: 0.13, D1: 0.15, A2: 0.69, D2: -0.84, A3: -0.07, D3: 0.24, A4: 0.04, D4: 0.01, A5: 0.49, D5: 0.51, Avg. Ascent: 0.26, Avg. Descent: 0.01\n",
            "Cau for 2th sub: 0.45 ---> A1: 0.51, D1: -0.01, A2: 0.61, D2: 0.66, A3: -0.43, D3: 0.56, A4: 0.24, D4: 0.73, A5: 0.07, D5: 0.29, Avg. Ascent: 0.2, Avg. Descent: 0.45\n",
            "Cau for 3th sub: 0.12 ---> A1: -0.36, D1: -0.84, A2: -0.24, D2: -0.4, A3: -0.76, D3: -0.16, A4: 0.34, D4: -0.58, A5: 0.79, D5: 0.72, Avg. Ascent: -0.05, Avg. Descent: -0.25\n",
            "Cau for 4th sub: 0.15 ---> A1: 0.08, D1: -0.46, A2: 0.51, D2: -0.8, A3: 0.31, D3: 0.29, A4: 0.12, D4: -0.72, A5: -0.52, D5: 0.1, Avg. Ascent: 0.1, Avg. Descent: -0.32\n",
            "Cau for 5th sub: 0.59 ---> A1: 0.29, D1: -0.52, A2: -0.15, D2: -0.74, A3: -0.03, D3: -0.14, A4: 0.21, D4: -0.58, A5: -0.16, D5: 0.55, Avg. Ascent: 0.03, Avg. Descent: -0.29\n",
            "Cau for 6th sub: 0.11 ---> A1: -0.05, D1: 0.66, A2: 0.18, D2: 0.88, A3: -0.27, D3: -0.5, A4: -0.09, D4: -0.64, A5: -0.28, D5: -0.5, Avg. Ascent: -0.1, Avg. Descent: -0.02\n",
            "Cau for 7th sub: 0.14 ---> A1: -0.7, D1: -0.01, A2: -0.01, D2: 0.85, A3: 0.63, D3: 0.07, A4: 0.13, D4: -0.59, A5: 0.74, D5: 0.06, Avg. Ascent: 0.16, Avg. Descent: 0.08\n",
            "Cau for 8th sub: 0.24 ---> A1: 0.03, D1: 0.06, A2: 0.41, D2: 0.77, A3: 0.47, D3: 0.19, A4: -0.05, D4: -0.47, A5: -0.22, D5: 0.36, Avg. Ascent: 0.13, Avg. Descent: 0.18\n",
            "Cau for 9th sub: 0.34 ---> A1: -0.21, D1: 0.84, A2: 0.73, D2: 0.52, A3: -0.09, D3: 0.68, A4: 0.2, D4: -0.4, A5: 0.38, D5: -0.53, Avg. Ascent: 0.2, Avg. Descent: 0.22\n",
            "Cau for 10th sub: -0.09 ---> A1: 0.1, D1: 0.11, A2: 0.1, D2: 0.85, A3: 0.06, D3: 0.35, A4: -0.08, D4: -0.33, A5: -0.17, D5: 0.48, Avg. Ascent: 0.0, Avg. Descent: 0.29\n",
            "\n",
            "dlPFC for 1th sub: 0.04 ---> A1: 0.2, D1: -0.27, A2: -0.83, D2: -0.63, A3: 0.0, D3: -0.56, A4: 0.09, D4: -0.63, A5: 0.65, D5: 0.47, Avg. Ascent: 0.02, Avg. Descent: -0.32\n",
            "dlPFC for 2th sub: 0.38 ---> A1: -0.18, D1: 0.36, A2: 0.2, D2: 0.94, A3: 0.01, D3: 0.6, A4: 0.26, D4: 0.21, A5: -0.32, D5: 0.26, Avg. Ascent: -0.01, Avg. Descent: 0.47\n",
            "dlPFC for 3th sub: 0.43 ---> A1: -0.31, D1: -0.01, A2: -0.36, D2: 0.67, A3: 0.32, D3: -0.39, A4: 0.35, D4: -0.48, A5: 0.9, D5: 0.51, Avg. Ascent: 0.18, Avg. Descent: 0.06\n",
            "dlPFC for 4th sub: 0.51 ---> A1: -0.8, D1: 0.12, A2: 0.43, D2: 1.0, A3: 0.21, D3: -0.11, A4: -0.03, D4: 0.05, A5: 0.08, D5: 0.44, Avg. Ascent: -0.02, Avg. Descent: 0.3\n",
            "dlPFC for 5th sub: 0.5 ---> A1: -0.18, D1: -0.98, A2: -0.17, D2: 0.76, A3: -0.23, D3: 0.24, A4: -0.43, D4: -0.66, A5: -0.51, D5: -0.26, Avg. Ascent: -0.3, Avg. Descent: -0.18\n",
            "dlPFC for 6th sub: 0.11 ---> A1: 0.2, D1: -0.05, A2: -0.29, D2: 0.44, A3: 0.35, D3: -0.3, A4: 0.2, D4: -0.62, A5: -0.02, D5: -0.27, Avg. Ascent: 0.09, Avg. Descent: -0.16\n",
            "dlPFC for 7th sub: 0.02 ---> A1: 0.04, D1: 0.05, A2: 0.62, D2: 0.73, A3: -0.23, D3: -0.2, A4: 0.24, D4: 0.66, A5: -0.79, D5: 0.15, Avg. Ascent: -0.02, Avg. Descent: 0.28\n",
            "dlPFC for 8th sub: 0.32 ---> A1: -0.55, D1: -0.48, A2: -0.4, D2: 0.8, A3: 0.43, D3: -0.25, A4: 0.36, D4: 0.18, A5: -0.27, D5: -0.32, Avg. Ascent: -0.09, Avg. Descent: -0.01\n",
            "dlPFC for 9th sub: 0.07 ---> A1: 0.09, D1: -0.04, A2: -0.23, D2: 0.97, A3: 0.09, D3: 0.35, A4: -0.29, D4: 0.14, A5: -0.87, D5: -0.72, Avg. Ascent: -0.24, Avg. Descent: 0.14\n",
            "dlPFC for 10th sub: 0.27 ---> A1: 0.59, D1: 0.7, A2: 0.17, D2: 0.86, A3: 0.38, D3: 0.33, A4: 0.42, D4: 0.4, A5: 0.11, D5: 0.46, Avg. Ascent: 0.33, Avg. Descent: 0.55\n",
            "\n",
            "INS for 1th sub: 0.08 ---> A1: 0.54, D1: -0.15, A2: -0.63, D2: 0.54, A3: 0.84, D3: 0.03, A4: -0.47, D4: 0.08, A5: -0.59, D5: 0.31, Avg. Ascent: -0.06, Avg. Descent: 0.16\n",
            "INS for 2th sub: 0.55 ---> A1: 0.35, D1: 0.44, A2: 0.58, D2: -0.91, A3: 0.77, D3: 0.01, A4: 0.65, D4: 0.45, A5: 0.67, D5: -0.01, Avg. Ascent: 0.6, Avg. Descent: -0.0\n",
            "INS for 3th sub: 0.23 ---> A1: 0.45, D1: -0.08, A2: -0.5, D2: 0.87, A3: 0.64, D3: 0.36, A4: -0.2, D4: 0.43, A5: 0.86, D5: 0.7, Avg. Ascent: 0.25, Avg. Descent: 0.46\n",
            "INS for 4th sub: 0.39 ---> A1: 0.17, D1: 0.03, A2: 0.43, D2: 0.78, A3: 0.65, D3: 0.27, A4: 0.01, D4: 0.42, A5: -0.74, D5: 0.2, Avg. Ascent: 0.1, Avg. Descent: 0.34\n",
            "INS for 5th sub: 0.42 ---> A1: 0.09, D1: -0.77, A2: 0.17, D2: -0.14, A3: 0.78, D3: 0.25, A4: -0.24, D4: 0.83, A5: 0.64, D5: 0.26, Avg. Ascent: 0.29, Avg. Descent: 0.09\n",
            "INS for 6th sub: 0.11 ---> A1: 0.32, D1: -0.23, A2: -0.09, D2: 0.18, A3: -0.28, D3: 0.02, A4: -0.0, D4: -0.81, A5: -0.19, D5: 0.67, Avg. Ascent: -0.05, Avg. Descent: -0.03\n",
            "INS for 7th sub: 0.45 ---> A1: 0.15, D1: -0.4, A2: -0.14, D2: 0.43, A3: 0.53, D3: 0.26, A4: 0.39, D4: -0.47, A5: -0.06, D5: 0.12, Avg. Ascent: 0.17, Avg. Descent: -0.01\n",
            "INS for 8th sub: 0.24 ---> A1: 0.04, D1: 0.4, A2: 0.55, D2: -0.69, A3: 0.92, D3: 0.23, A4: -0.07, D4: 0.66, A5: -0.75, D5: 0.13, Avg. Ascent: 0.14, Avg. Descent: 0.15\n",
            "INS for 9th sub: 0.24 ---> A1: -0.24, D1: 0.38, A2: -0.3, D2: -0.88, A3: 0.77, D3: -0.35, A4: -0.39, D4: 0.07, A5: 0.67, D5: -0.61, Avg. Ascent: 0.1, Avg. Descent: -0.28\n",
            "INS for 10th sub: 0.07 ---> A1: 0.67, D1: 0.33, A2: -0.35, D2: 0.07, A3: 0.76, D3: -0.29, A4: 0.33, D4: 0.83, A5: -0.81, D5: 0.4, Avg. Ascent: 0.12, Avg. Descent: 0.27\n",
            "\n",
            "IPL for 1th sub: 0.39 ---> A1: 0.23, D1: 0.68, A2: 0.18, D2: 0.9, A3: 0.37, D3: -0.08, A4: -0.21, D4: -0.06, A5: -0.06, D5: 0.0, Avg. Ascent: 0.1, Avg. Descent: 0.29\n",
            "IPL for 2th sub: -0.02 ---> A1: 0.66, D1: 0.11, A2: 0.31, D2: 0.78, A3: -0.02, D3: 0.32, A4: -0.1, D4: -0.72, A5: 0.85, D5: 0.12, Avg. Ascent: 0.34, Avg. Descent: 0.12\n",
            "IPL for 3th sub: 0.41 ---> A1: 0.57, D1: 0.05, A2: -0.54, D2: 0.81, A3: 0.39, D3: -0.05, A4: -0.61, D4: -0.26, A5: -0.45, D5: 0.22, Avg. Ascent: -0.13, Avg. Descent: 0.15\n",
            "IPL for 4th sub: 0.31 ---> A1: -0.1, D1: 0.55, A2: -0.36, D2: 0.89, A3: 0.69, D3: 0.32, A4: 0.22, D4: -0.57, A5: -0.34, D5: 0.23, Avg. Ascent: 0.02, Avg. Descent: 0.28\n",
            "IPL for 5th sub: 0.18 ---> A1: 0.49, D1: -0.63, A2: 0.41, D2: 0.78, A3: 0.17, D3: 0.55, A4: 0.53, D4: -0.1, A5: 0.73, D5: 0.13, Avg. Ascent: 0.47, Avg. Descent: 0.15\n",
            "IPL for 6th sub: 0.29 ---> A1: -0.0, D1: 0.85, A2: -0.1, D2: 0.99, A3: 0.63, D3: 0.25, A4: -0.44, D4: 0.38, A5: -0.19, D5: 0.13, Avg. Ascent: -0.02, Avg. Descent: 0.52\n",
            "IPL for 7th sub: 0.38 ---> A1: 0.67, D1: 0.7, A2: 0.1, D2: 0.98, A3: -0.75, D3: -0.03, A4: -0.24, D4: -0.59, A5: 0.92, D5: -0.23, Avg. Ascent: 0.14, Avg. Descent: 0.17\n",
            "IPL for 8th sub: 0.34 ---> A1: 0.46, D1: 0.94, A2: 0.44, D2: 1.0, A3: 0.31, D3: 0.25, A4: -0.64, D4: -0.45, A5: 0.21, D5: -0.55, Avg. Ascent: 0.16, Avg. Descent: 0.24\n",
            "IPL for 9th sub: 0.24 ---> A1: -0.1, D1: 0.22, A2: -0.1, D2: 0.87, A3: 0.24, D3: -0.02, A4: -0.42, D4: 0.01, A5: 0.37, D5: -0.78, Avg. Ascent: -0.0, Avg. Descent: 0.06\n",
            "IPL for 10th sub: 0.27 ---> A1: 0.39, D1: 0.58, A2: 0.45, D2: 0.53, A3: 0.62, D3: -0.44, A4: 0.42, D4: -0.6, A5: 0.29, D5: -0.31, Avg. Ascent: 0.43, Avg. Descent: -0.05\n",
            "\n",
            "mCC for 1th sub: 0.06 ---> A1: -0.22, D1: -0.38, A2: 0.1, D2: 0.05, A3: -0.57, D3: -0.71, A4: -0.38, D4: -0.12, A5: 0.04, D5: 0.46, Avg. Ascent: -0.21, Avg. Descent: -0.14\n",
            "mCC for 2th sub: -0.07 ---> A1: -0.03, D1: -0.32, A2: -0.19, D2: -0.67, A3: 0.13, D3: -0.07, A4: 0.72, D4: 0.47, A5: 0.09, D5: 0.23, Avg. Ascent: 0.14, Avg. Descent: -0.07\n",
            "mCC for 3th sub: 0.07 ---> A1: -0.21, D1: 0.35, A2: -0.08, D2: 0.06, A3: 0.58, D3: -0.49, A4: 0.09, D4: 0.28, A5: -0.52, D5: 0.45, Avg. Ascent: -0.03, Avg. Descent: 0.13\n",
            "mCC for 4th sub: 0.22 ---> A1: 0.24, D1: -0.64, A2: 0.16, D2: 0.81, A3: -0.2, D3: -0.49, A4: 0.32, D4: 0.16, A5: -0.23, D5: -0.19, Avg. Ascent: 0.06, Avg. Descent: -0.07\n",
            "mCC for 5th sub: 0.46 ---> A1: 0.04, D1: -0.64, A2: -0.7, D2: -0.43, A3: -0.24, D3: 0.11, A4: 0.11, D4: 0.41, A5: 0.14, D5: -0.84, Avg. Ascent: -0.13, Avg. Descent: -0.28\n",
            "mCC for 6th sub: 0.71 ---> A1: 0.03, D1: -0.33, A2: 0.16, D2: -0.58, A3: 0.55, D3: 0.08, A4: -0.04, D4: 0.69, A5: 0.33, D5: 0.51, Avg. Ascent: 0.21, Avg. Descent: 0.07\n",
            "mCC for 7th sub: 0.09 ---> A1: -0.36, D1: -0.97, A2: 0.56, D2: -0.33, A3: -0.6, D3: 0.31, A4: -0.15, D4: 0.29, A5: -0.27, D5: 0.21, Avg. Ascent: -0.16, Avg. Descent: -0.1\n",
            "mCC for 8th sub: 0.44 ---> A1: 0.1, D1: -0.74, A2: 0.15, D2: 0.94, A3: -0.35, D3: -0.02, A4: -0.2, D4: -0.17, A5: 0.19, D5: -0.16, Avg. Ascent: -0.02, Avg. Descent: -0.03\n",
            "mCC for 9th sub: 0.29 ---> A1: -0.28, D1: 0.68, A2: -0.25, D2: -0.72, A3: 0.21, D3: -0.04, A4: -0.14, D4: -0.02, A5: 0.15, D5: -0.54, Avg. Ascent: -0.06, Avg. Descent: -0.13\n",
            "mCC for 10th sub: 0.07 ---> A1: -0.11, D1: -0.84, A2: -0.17, D2: -0.62, A3: -0.78, D3: 0.05, A4: -0.17, D4: 0.37, A5: 0.06, D5: -0.11, Avg. Ascent: -0.23, Avg. Descent: -0.23\n",
            "\n",
            "Nac for 1th sub: 0.08 ---> A1: 0.1, D1: 0.42, A2: 0.66, D2: -0.87, A3: 0.37, D3: 0.1, A4: -0.03, D4: -0.12, A5: 0.38, D5: 0.29, Avg. Ascent: 0.3, Avg. Descent: -0.04\n",
            "Nac for 2th sub: 0.33 ---> A1: 0.1, D1: 0.14, A2: 0.77, D2: 0.64, A3: 0.04, D3: 0.68, A4: 0.1, D4: 0.57, A5: 0.08, D5: 0.14, Avg. Ascent: 0.22, Avg. Descent: 0.43\n",
            "Nac for 3th sub: 0.34 ---> A1: 0.27, D1: -0.55, A2: -0.02, D2: -0.64, A3: -0.48, D3: -0.03, A4: 0.53, D4: -0.59, A5: 0.14, D5: 0.49, Avg. Ascent: 0.09, Avg. Descent: -0.26\n",
            "Nac for 4th sub: 0.34 ---> A1: 0.13, D1: -0.27, A2: 0.37, D2: -0.72, A3: 0.28, D3: -0.02, A4: 0.02, D4: -0.54, A5: -0.52, D5: -0.34, Avg. Ascent: 0.06, Avg. Descent: -0.38\n",
            "Nac for 5th sub: 0.47 ---> A1: 0.46, D1: -0.5, A2: -0.56, D2: -0.36, A3: -0.01, D3: -0.13, A4: 0.09, D4: -0.44, A5: -0.01, D5: 0.33, Avg. Ascent: -0.01, Avg. Descent: -0.22\n",
            "Nac for 6th sub: 0.07 ---> A1: 0.36, D1: -0.21, A2: -0.04, D2: -0.03, A3: -0.32, D3: -0.6, A4: 0.32, D4: -0.89, A5: 0.06, D5: -0.54, Avg. Ascent: 0.08, Avg. Descent: -0.45\n",
            "Nac for 7th sub: 0.22 ---> A1: -0.65, D1: -0.29, A2: -0.06, D2: 0.46, A3: 0.32, D3: 0.01, A4: -0.02, D4: -0.63, A5: 0.54, D5: 0.16, Avg. Ascent: 0.03, Avg. Descent: -0.06\n",
            "Nac for 8th sub: 0.29 ---> A1: 0.24, D1: 0.12, A2: 0.49, D2: 0.7, A3: 0.42, D3: 0.2, A4: 0.16, D4: -0.84, A5: 0.07, D5: 0.12, Avg. Ascent: 0.28, Avg. Descent: 0.06\n",
            "Nac for 9th sub: 0.73 ---> A1: -0.12, D1: 0.87, A2: 0.84, D2: 0.18, A3: 0.26, D3: 0.77, A4: 0.26, D4: 0.06, A5: 0.3, D5: -0.16, Avg. Ascent: 0.31, Avg. Descent: 0.34\n",
            "Nac for 10th sub: 0.12 ---> A1: 0.03, D1: -0.24, A2: 0.27, D2: 0.79, A3: 0.23, D3: 0.41, A4: -0.18, D4: -0.12, A5: 0.36, D5: 0.18, Avg. Ascent: 0.14, Avg. Descent: 0.2\n",
            "\n",
            "PCC for 1th sub: 0.06 ---> A1: -0.65, D1: 0.75, A2: -0.12, D2: 0.79, A3: 0.47, D3: 0.02, A4: -0.27, D4: 0.24, A5: 0.74, D5: 0.73, Avg. Ascent: 0.03, Avg. Descent: 0.51\n",
            "PCC for 2th sub: 0.24 ---> A1: -0.7, D1: -0.85, A2: -0.41, D2: -0.22, A3: -0.58, D3: 0.28, A4: -0.23, D4: -0.48, A5: 0.33, D5: 0.13, Avg. Ascent: -0.32, Avg. Descent: -0.23\n",
            "PCC for 3th sub: 0.21 ---> A1: -0.78, D1: 0.88, A2: -0.53, D2: -0.43, A3: -0.37, D3: -0.44, A4: -0.13, D4: -0.11, A5: 0.86, D5: 0.42, Avg. Ascent: -0.19, Avg. Descent: 0.06\n",
            "PCC for 4th sub: 0.58 ---> A1: 0.56, D1: 0.63, A2: -0.28, D2: 0.78, A3: 0.15, D3: 0.47, A4: 0.29, D4: 0.82, A5: 0.87, D5: -0.77, Avg. Ascent: 0.32, Avg. Descent: 0.39\n",
            "PCC for 5th sub: 0.29 ---> A1: -0.02, D1: 0.66, A2: -0.14, D2: 0.82, A3: -0.61, D3: -0.4, A4: 0.52, D4: -0.58, A5: 0.38, D5: -0.36, Avg. Ascent: 0.03, Avg. Descent: 0.03\n",
            "PCC for 6th sub: 0.53 ---> A1: 0.29, D1: 0.86, A2: -0.1, D2: -0.99, A3: 0.19, D3: 0.11, A4: 0.44, D4: 0.39, A5: -0.1, D5: -0.77, Avg. Ascent: 0.14, Avg. Descent: -0.08\n",
            "PCC for 7th sub: 0.32 ---> A1: -0.33, D1: -0.04, A2: 0.04, D2: -0.71, A3: 0.15, D3: 0.41, A4: 0.2, D4: 0.66, A5: 0.2, D5: -0.23, Avg. Ascent: 0.05, Avg. Descent: 0.02\n",
            "PCC for 8th sub: 0.44 ---> A1: -0.78, D1: 0.87, A2: -0.77, D2: -0.7, A3: 0.56, D3: 0.42, A4: 0.49, D4: 0.02, A5: 0.12, D5: 0.0, Avg. Ascent: -0.08, Avg. Descent: 0.12\n",
            "PCC for 9th sub: 0.24 ---> A1: -0.57, D1: -0.56, A2: -0.32, D2: -0.38, A3: -0.75, D3: -0.17, A4: -0.22, D4: -0.06, A5: 0.58, D5: -0.45, Avg. Ascent: -0.26, Avg. Descent: -0.32\n",
            "PCC for 10th sub: 0.2 ---> A1: -0.28, D1: 0.68, A2: -0.13, D2: -0.75, A3: 0.64, D3: -0.36, A4: 0.57, D4: 0.06, A5: 0.83, D5: -0.07, Avg. Ascent: 0.33, Avg. Descent: -0.09\n",
            "\n",
            "PCG for 1th sub: 0.3 ---> A1: -0.34, D1: -0.57, A2: -0.36, D2: 0.4, A3: -0.4, D3: 0.19, A4: 0.73, D4: 0.0, A5: 0.89, D5: 0.76, Avg. Ascent: 0.1, Avg. Descent: 0.16\n",
            "PCG for 2th sub: 0.31 ---> A1: 0.59, D1: 0.35, A2: 0.5, D2: -0.12, A3: -0.3, D3: -0.08, A4: -0.49, D4: -0.35, A5: 0.85, D5: 0.27, Avg. Ascent: 0.23, Avg. Descent: 0.01\n",
            "PCG for 3th sub: 0.65 ---> A1: 0.46, D1: -0.49, A2: -0.1, D2: -0.23, A3: 0.88, D3: 0.19, A4: 0.03, D4: 0.34, A5: -0.84, D5: 0.59, Avg. Ascent: 0.09, Avg. Descent: 0.08\n",
            "PCG for 4th sub: 0.49 ---> A1: 0.05, D1: 0.44, A2: 0.26, D2: -0.95, A3: -0.03, D3: -0.0, A4: -0.65, D4: -0.06, A5: 0.58, D5: 0.4, Avg. Ascent: 0.04, Avg. Descent: -0.03\n",
            "PCG for 5th sub: 0.3 ---> A1: 0.44, D1: -0.62, A2: 0.51, D2: 0.47, A3: -0.33, D3: 0.69, A4: -0.44, D4: -0.66, A5: -0.96, D5: -0.5, Avg. Ascent: -0.16, Avg. Descent: -0.12\n",
            "PCG for 6th sub: 0.49 ---> A1: 0.16, D1: -0.0, A2: -0.04, D2: 0.69, A3: 0.01, D3: 0.57, A4: -0.25, D4: -0.7, A5: 0.45, D5: 0.49, Avg. Ascent: 0.07, Avg. Descent: 0.21\n",
            "PCG for 7th sub: 0.23 ---> A1: -0.04, D1: -0.03, A2: 0.28, D2: -0.01, A3: -0.7, D3: 0.08, A4: 0.07, D4: 0.28, A5: -0.21, D5: 0.43, Avg. Ascent: -0.12, Avg. Descent: 0.15\n",
            "PCG for 8th sub: 0.6 ---> A1: 0.34, D1: 0.05, A2: -0.21, D2: 0.26, A3: -0.46, D3: 0.63, A4: -0.16, D4: 0.04, A5: 0.7, D5: -0.14, Avg. Ascent: 0.04, Avg. Descent: 0.17\n",
            "PCG for 9th sub: 0.46 ---> A1: -0.48, D1: -0.05, A2: -0.13, D2: -0.01, A3: -0.45, D3: 0.56, A4: -0.38, D4: 0.74, A5: -0.12, D5: -0.21, Avg. Ascent: -0.31, Avg. Descent: 0.21\n",
            "PCG for 10th sub: 0.48 ---> A1: 0.17, D1: 0.98, A2: 0.77, D2: 0.08, A3: -0.56, D3: -0.05, A4: -0.25, D4: 0.09, A5: 0.92, D5: 0.33, Avg. Ascent: 0.21, Avg. Descent: 0.29\n",
            "\n",
            "Prec for 1th sub: 0.13 ---> A1: -0.03, D1: 0.63, A2: -0.63, D2: -0.8, A3: 0.66, D3: -0.58, A4: 0.47, D4: 0.8, A5: 0.35, D5: -0.05, Avg. Ascent: 0.16, Avg. Descent: 0.0\n",
            "Prec for 2th sub: 0.35 ---> A1: -0.46, D1: -0.85, A2: -0.23, D2: 0.85, A3: -0.54, D3: -0.74, A4: 0.2, D4: -0.3, A5: -0.45, D5: -0.12, Avg. Ascent: -0.3, Avg. Descent: -0.23\n",
            "Prec for 3th sub: 0.3 ---> A1: 0.03, D1: 0.9, A2: -0.18, D2: 0.69, A3: 0.09, D3: -0.65, A4: 0.85, D4: 0.64, A5: 0.91, D5: 0.72, Avg. Ascent: 0.34, Avg. Descent: 0.46\n",
            "Prec for 4th sub: 0.44 ---> A1: -0.65, D1: 0.1, A2: 0.0, D2: -0.99, A3: 0.72, D3: -0.67, A4: 0.4, D4: -0.3, A5: 0.78, D5: 0.58, Avg. Ascent: 0.25, Avg. Descent: -0.26\n",
            "Prec for 5th sub: 0.28 ---> A1: -0.46, D1: 0.86, A2: -0.6, D2: 0.08, A3: 0.61, D3: -0.28, A4: 0.6, D4: 0.64, A5: 0.91, D5: 0.61, Avg. Ascent: 0.21, Avg. Descent: 0.38\n",
            "Prec for 6th sub: 0.49 ---> A1: -0.2, D1: -0.04, A2: -0.66, D2: 0.49, A3: 0.33, D3: -0.61, A4: -0.04, D4: -0.51, A5: 0.27, D5: -0.5, Avg. Ascent: -0.06, Avg. Descent: -0.23\n",
            "Prec for 7th sub: 0.39 ---> A1: 0.26, D1: -0.52, A2: -0.58, D2: 0.93, A3: 0.8, D3: 0.39, A4: 0.24, D4: -0.71, A5: 0.22, D5: -0.28, Avg. Ascent: 0.19, Avg. Descent: -0.04\n",
            "Prec for 8th sub: 0.5 ---> A1: -0.32, D1: 0.86, A2: -0.46, D2: -0.17, A3: 0.75, D3: 0.43, A4: 0.3, D4: -0.61, A5: 0.58, D5: 0.63, Avg. Ascent: 0.17, Avg. Descent: 0.23\n",
            "Prec for 9th sub: 0.39 ---> A1: 0.15, D1: -0.6, A2: 0.35, D2: -0.33, A3: -0.12, D3: -0.41, A4: 0.78, D4: 0.0, A5: 0.86, D5: -0.06, Avg. Ascent: 0.4, Avg. Descent: -0.28\n",
            "Prec for 10th sub: 0.21 ---> A1: -0.31, D1: 0.57, A2: -0.41, D2: -0.28, A3: 0.55, D3: -0.33, A4: 0.32, D4: -0.89, A5: 0.55, D5: 0.59, Avg. Ascent: 0.14, Avg. Descent: -0.07\n",
            "\n",
            "TP for 1th sub: 0.48 ---> A1: 0.17, D1: 0.23, A2: 0.37, D2: -0.14, A3: -0.26, D3: -0.19, A4: -0.31, D4: -0.77, A5: 0.36, D5: -0.67, Avg. Ascent: 0.07, Avg. Descent: -0.31\n",
            "TP for 2th sub: 0.34 ---> A1: 0.24, D1: 0.38, A2: 0.43, D2: 0.82, A3: 0.15, D3: 0.06, A4: 0.27, D4: 0.45, A5: -0.08, D5: 0.73, Avg. Ascent: 0.2, Avg. Descent: 0.49\n",
            "TP for 3th sub: 0.33 ---> A1: -0.54, D1: 0.16, A2: 0.17, D2: 0.39, A3: 0.41, D3: 0.37, A4: 0.09, D4: -0.91, A5: 0.11, D5: 0.46, Avg. Ascent: 0.05, Avg. Descent: 0.09\n",
            "TP for 4th sub: 0.39 ---> A1: 0.04, D1: 0.45, A2: 0.38, D2: -0.43, A3: 0.43, D3: 0.11, A4: -0.28, D4: 0.47, A5: -0.13, D5: 0.22, Avg. Ascent: 0.09, Avg. Descent: 0.16\n",
            "TP for 5th sub: 0.6 ---> A1: 0.01, D1: -0.4, A2: 0.38, D2: -0.95, A3: 0.37, D3: -0.4, A4: -0.5, D4: -0.31, A5: -0.26, D5: -0.54, Avg. Ascent: 0.0, Avg. Descent: -0.52\n",
            "TP for 6th sub: 0.34 ---> A1: 0.03, D1: 0.14, A2: 0.15, D2: 0.7, A3: -0.38, D3: -0.55, A4: 0.43, D4: 0.46, A5: -0.24, D5: -0.28, Avg. Ascent: -0.0, Avg. Descent: 0.09\n",
            "TP for 7th sub: 0.35 ---> A1: -0.55, D1: -0.99, A2: -0.1, D2: 0.66, A3: -0.39, D3: 0.56, A4: 0.52, D4: 0.06, A5: 0.18, D5: -0.04, Avg. Ascent: -0.07, Avg. Descent: 0.05\n",
            "TP for 8th sub: 0.6 ---> A1: -0.6, D1: 0.01, A2: -0.09, D2: -0.19, A3: 0.5, D3: 0.69, A4: -0.22, D4: 0.87, A5: -0.44, D5: 0.57, Avg. Ascent: -0.17, Avg. Descent: 0.39\n",
            "TP for 9th sub: 0.71 ---> A1: -0.23, D1: 0.44, A2: 0.0, D2: -0.86, A3: 0.53, D3: 0.55, A4: -0.26, D4: -0.71, A5: -0.64, D5: -0.42, Avg. Ascent: -0.12, Avg. Descent: -0.2\n",
            "TP for 10th sub: 0.47 ---> A1: -0.41, D1: 0.43, A2: -0.55, D2: -0.28, A3: 0.21, D3: -0.04, A4: 0.2, D4: 0.69, A5: -0.05, D5: 0.48, Avg. Ascent: -0.12, Avg. Descent: 0.26\n",
            "\n",
            "Put for 1th sub: -0.08 ---> A1: -0.12, D1: 0.37, A2: -0.16, D2: -0.36, A3: -0.63, D3: 0.04, A4: -0.67, D4: -0.68, A5: -0.07, D5: 0.4, Avg. Ascent: -0.33, Avg. Descent: -0.05\n",
            "Put for 2th sub: -0.06 ---> A1: -0.32, D1: 0.35, A2: -0.24, D2: 0.57, A3: -0.5, D3: -0.29, A4: 0.03, D4: -0.31, A5: -0.69, D5: -0.0, Avg. Ascent: -0.34, Avg. Descent: 0.06\n",
            "Put for 3th sub: -0.14 ---> A1: 0.15, D1: 0.57, A2: 0.1, D2: 0.72, A3: -0.21, D3: -0.08, A4: -0.09, D4: -0.2, A5: 0.76, D5: 0.39, Avg. Ascent: 0.14, Avg. Descent: 0.28\n",
            "Put for 4th sub: 0.1 ---> A1: 0.28, D1: 0.3, A2: -0.28, D2: -0.49, A3: -0.39, D3: 0.18, A4: -0.13, D4: -0.07, A5: 0.4, D5: -0.6, Avg. Ascent: -0.02, Avg. Descent: -0.14\n",
            "Put for 5th sub: 0.38 ---> A1: -0.13, D1: -0.77, A2: 0.78, D2: 0.02, A3: -0.39, D3: 0.16, A4: -0.28, D4: 0.7, A5: -0.04, D5: -0.49, Avg. Ascent: -0.01, Avg. Descent: -0.08\n",
            "Put for 6th sub: 0.27 ---> A1: 0.38, D1: -0.45, A2: 0.09, D2: -0.35, A3: 0.0, D3: -0.32, A4: -0.33, D4: 0.82, A5: -0.8, D5: -0.47, Avg. Ascent: -0.13, Avg. Descent: -0.15\n",
            "Put for 7th sub: 0.03 ---> A1: 0.33, D1: -0.97, A2: 0.21, D2: 0.66, A3: -0.34, D3: 0.43, A4: -0.05, D4: 0.04, A5: 0.44, D5: 0.63, Avg. Ascent: 0.12, Avg. Descent: 0.16\n",
            "Put for 8th sub: 0.29 ---> A1: -0.37, D1: -0.57, A2: -0.42, D2: 0.89, A3: 0.42, D3: 0.61, A4: 0.39, D4: 0.23, A5: -0.55, D5: 0.14, Avg. Ascent: -0.11, Avg. Descent: 0.26\n",
            "Put for 9th sub: 0.1 ---> A1: -0.47, D1: 0.68, A2: -0.2, D2: 0.23, A3: -0.76, D3: 0.02, A4: -0.34, D4: -0.81, A5: 0.27, D5: -0.38, Avg. Ascent: -0.3, Avg. Descent: -0.05\n",
            "Put for 10th sub: -0.24 ---> A1: -0.61, D1: -0.14, A2: -0.33, D2: 0.96, A3: -0.29, D3: -0.18, A4: -0.05, D4: -0.43, A5: -0.22, D5: -0.39, Avg. Ascent: -0.3, Avg. Descent: -0.04\n",
            "\n",
            "pSTS for 1th sub: 0.17 ---> A1: 0.09, D1: 0.34, A2: 0.14, D2: 0.27, A3: -0.71, D3: 0.36, A4: 0.29, D4: 0.59, A5: 0.03, D5: 0.24, Avg. Ascent: -0.03, Avg. Descent: 0.36\n",
            "pSTS for 2th sub: -0.06 ---> A1: -0.2, D1: 0.61, A2: 0.04, D2: 0.57, A3: 0.01, D3: 0.16, A4: -0.45, D4: 0.39, A5: 0.52, D5: 0.04, Avg. Ascent: -0.02, Avg. Descent: 0.35\n",
            "pSTS for 3th sub: 0.4 ---> A1: 0.67, D1: -0.28, A2: -0.63, D2: 0.53, A3: 0.27, D3: 0.02, A4: 0.29, D4: -0.69, A5: -0.82, D5: 0.45, Avg. Ascent: -0.04, Avg. Descent: 0.01\n",
            "pSTS for 4th sub: 0.17 ---> A1: -0.66, D1: 0.15, A2: -0.31, D2: 0.63, A3: -0.02, D3: 0.18, A4: 0.34, D4: 0.89, A5: -0.64, D5: -0.34, Avg. Ascent: -0.26, Avg. Descent: 0.3\n",
            "pSTS for 5th sub: 0.11 ---> A1: 0.19, D1: -0.03, A2: 0.12, D2: 0.88, A3: -0.27, D3: -0.32, A4: 0.16, D4: 0.11, A5: -0.01, D5: -0.56, Avg. Ascent: 0.04, Avg. Descent: 0.02\n",
            "pSTS for 6th sub: 0.33 ---> A1: -0.51, D1: 0.16, A2: -0.05, D2: 0.99, A3: -0.18, D3: 0.08, A4: -0.11, D4: 0.47, A5: -0.76, D5: -0.6, Avg. Ascent: -0.32, Avg. Descent: 0.22\n",
            "pSTS for 7th sub: 0.45 ---> A1: 0.43, D1: 0.25, A2: 0.35, D2: 0.79, A3: -0.22, D3: 0.18, A4: 0.38, D4: 0.67, A5: 0.37, D5: -0.4, Avg. Ascent: 0.26, Avg. Descent: 0.3\n",
            "pSTS for 8th sub: 0.44 ---> A1: 0.07, D1: 0.09, A2: 0.14, D2: 0.66, A3: 0.43, D3: 0.1, A4: 0.27, D4: 0.61, A5: 0.21, D5: 0.1, Avg. Ascent: 0.22, Avg. Descent: 0.31\n",
            "pSTS for 9th sub: 0.1 ---> A1: 0.31, D1: 0.53, A2: -0.18, D2: 0.88, A3: 0.07, D3: -0.32, A4: 0.48, D4: -0.18, A5: -0.21, D5: -0.24, Avg. Ascent: 0.09, Avg. Descent: 0.13\n",
            "pSTS for 10th sub: -0.17 ---> A1: 0.55, D1: 0.83, A2: 0.94, D2: 0.69, A3: 0.72, D3: 0.14, A4: 0.6, D4: 0.73, A5: 0.6, D5: 0.11, Avg. Ascent: 0.68, Avg. Descent: 0.5\n",
            "\n",
            "VC for 1th sub: 0.36 ---> A1: -0.07, D1: 0.89, A2: -0.5, D2: -0.43, A3: 0.19, D3: 0.33, A4: 0.46, D4: -0.36, A5: -0.65, D5: 0.75, Avg. Ascent: -0.11, Avg. Descent: 0.24\n",
            "VC for 2th sub: 0.26 ---> A1: 0.12, D1: 0.86, A2: 0.86, D2: -0.33, A3: 0.13, D3: 0.77, A4: -0.49, D4: 0.1, A5: -0.33, D5: 0.01, Avg. Ascent: 0.06, Avg. Descent: 0.28\n",
            "VC for 3th sub: 0.71 ---> A1: 0.84, D1: -0.44, A2: 0.67, D2: -0.96, A3: -0.82, D3: 0.74, A4: -0.34, D4: -0.46, A5: 0.43, D5: 0.91, Avg. Ascent: 0.16, Avg. Descent: -0.04\n",
            "VC for 4th sub: 0.52 ---> A1: 0.1, D1: 0.54, A2: 0.64, D2: -0.53, A3: 0.51, D3: 0.57, A4: 0.29, D4: -0.2, A5: -0.29, D5: 0.67, Avg. Ascent: 0.25, Avg. Descent: 0.21\n",
            "VC for 5th sub: 0.31 ---> A1: 0.57, D1: -0.26, A2: -0.12, D2: 0.06, A3: 0.72, D3: 0.4, A4: 0.41, D4: -0.38, A5: 0.87, D5: 0.49, Avg. Ascent: 0.49, Avg. Descent: 0.06\n",
            "VC for 6th sub: 0.72 ---> A1: 0.61, D1: 0.7, A2: -0.38, D2: -0.6, A3: 0.59, D3: 0.35, A4: 0.31, D4: -0.52, A5: -0.19, D5: -0.11, Avg. Ascent: 0.19, Avg. Descent: -0.04\n",
            "VC for 7th sub: 0.35 ---> A1: 0.05, D1: 0.93, A2: 0.55, D2: -0.33, A3: -0.19, D3: -0.08, A4: 0.07, D4: 0.15, A5: -0.96, D5: 0.27, Avg. Ascent: -0.1, Avg. Descent: 0.19\n",
            "VC for 8th sub: 0.51 ---> A1: 0.65, D1: -0.64, A2: 0.29, D2: 0.34, A3: 0.59, D3: 0.27, A4: 0.37, D4: -0.36, A5: 0.46, D5: -0.84, Avg. Ascent: 0.47, Avg. Descent: -0.25\n",
            "VC for 9th sub: 0.35 ---> A1: -0.82, D1: 0.61, A2: 0.32, D2: -0.56, A3: 0.32, D3: 0.51, A4: -0.21, D4: 0.23, A5: 0.77, D5: -0.55, Avg. Ascent: 0.08, Avg. Descent: 0.05\n",
            "VC for 10th sub: 0.39 ---> A1: 0.48, D1: 0.96, A2: 0.79, D2: 0.42, A3: 0.47, D3: 0.72, A4: 0.62, D4: 0.05, A5: 0.27, D5: 0.47, Avg. Ascent: 0.53, Avg. Descent: 0.52\n",
            "\n",
            "vlPFC for 1th sub: 0.52 ---> A1: 0.22, D1: -0.55, A2: -0.19, D2: -0.34, A3: 0.04, D3: -0.56, A4: 0.56, D4: -0.0, A5: 0.23, D5: 0.47, Avg. Ascent: 0.17, Avg. Descent: -0.2\n",
            "vlPFC for 2th sub: 0.54 ---> A1: 0.49, D1: -0.02, A2: 0.1, D2: 0.71, A3: 0.17, D3: -0.14, A4: -0.07, D4: 0.35, A5: -0.01, D5: 0.49, Avg. Ascent: 0.14, Avg. Descent: 0.28\n",
            "vlPFC for 3th sub: 0.68 ---> A1: 0.84, D1: -0.44, A2: -0.52, D2: 0.4, A3: 0.8, D3: 0.79, A4: 0.52, D4: 0.71, A5: 0.47, D5: 0.07, Avg. Ascent: 0.42, Avg. Descent: 0.31\n",
            "vlPFC for 4th sub: 0.72 ---> A1: 0.04, D1: 0.28, A2: 0.19, D2: 0.34, A3: 0.37, D3: 0.04, A4: 0.05, D4: 0.4, A5: -0.62, D5: 0.76, Avg. Ascent: 0.01, Avg. Descent: 0.36\n",
            "vlPFC for 5th sub: 0.29 ---> A1: -0.05, D1: -0.96, A2: 0.34, D2: 0.97, A3: 0.54, D3: 0.14, A4: -0.66, D4: 0.11, A5: 0.11, D5: 0.34, Avg. Ascent: 0.06, Avg. Descent: 0.12\n",
            "vlPFC for 6th sub: 0.29 ---> A1: 0.43, D1: 0.59, A2: 0.15, D2: 0.75, A3: 0.29, D3: 0.62, A4: -0.3, D4: -0.66, A5: -0.8, D5: 0.09, Avg. Ascent: -0.05, Avg. Descent: 0.28\n",
            "vlPFC for 7th sub: 0.55 ---> A1: 0.51, D1: 0.17, A2: 0.4, D2: 0.84, A3: 0.03, D3: -0.07, A4: 0.13, D4: -0.27, A5: 0.47, D5: 0.45, Avg. Ascent: 0.31, Avg. Descent: 0.22\n",
            "vlPFC for 8th sub: 0.54 ---> A1: 0.64, D1: 0.57, A2: -0.13, D2: 0.91, A3: 0.36, D3: 0.22, A4: -0.02, D4: -0.27, A5: -0.36, D5: -0.34, Avg. Ascent: 0.1, Avg. Descent: 0.22\n",
            "vlPFC for 9th sub: 0.67 ---> A1: 0.42, D1: 0.17, A2: 0.45, D2: 1.0, A3: 0.33, D3: 0.18, A4: 0.16, D4: -0.55, A5: -0.17, D5: 0.25, Avg. Ascent: 0.24, Avg. Descent: 0.21\n",
            "vlPFC for 10th sub: 0.14 ---> A1: 0.58, D1: 0.33, A2: 0.18, D2: 0.99, A3: 0.68, D3: 0.51, A4: 0.35, D4: 0.39, A5: -0.28, D5: 0.54, Avg. Ascent: 0.3, Avg. Descent: 0.55\n",
            "\n",
            "mOFC for 1th sub: 0.53 ---> A1: 0.08, D1: 0.3, A2: -0.34, D2: 0.94, A3: 0.29, D3: -0.15, A4: -0.12, D4: -0.58, A5: 0.3, D5: 0.22, Avg. Ascent: 0.04, Avg. Descent: 0.15\n",
            "mOFC for 2th sub: 0.68 ---> A1: 0.02, D1: -0.32, A2: 0.17, D2: -0.06, A3: 0.35, D3: 0.2, A4: -0.14, D4: -0.57, A5: 0.77, D5: -0.06, Avg. Ascent: 0.23, Avg. Descent: -0.16\n",
            "mOFC for 3th sub: 0.89 ---> A1: -0.43, D1: 0.07, A2: 0.08, D2: 0.49, A3: -0.55, D3: -0.01, A4: 0.25, D4: 0.93, A5: 0.75, D5: -0.53, Avg. Ascent: 0.02, Avg. Descent: 0.19\n",
            "mOFC for 4th sub: 0.92 ---> A1: 0.11, D1: 0.66, A2: 0.4, D2: 0.86, A3: 0.64, D3: 0.17, A4: 0.31, D4: 0.13, A5: -0.69, D5: 0.11, Avg. Ascent: 0.15, Avg. Descent: 0.39\n",
            "mOFC for 5th sub: 0.74 ---> A1: 0.39, D1: 0.16, A2: 0.15, D2: 0.63, A3: -0.2, D3: -0.16, A4: 0.37, D4: 0.6, A5: 0.67, D5: 0.4, Avg. Ascent: 0.28, Avg. Descent: 0.33\n",
            "mOFC for 6th sub: 0.59 ---> A1: 0.36, D1: 0.98, A2: 0.88, D2: -0.49, A3: -0.11, D3: -0.42, A4: -0.15, D4: 0.11, A5: 0.18, D5: -0.59, Avg. Ascent: 0.23, Avg. Descent: -0.08\n",
            "mOFC for 7th sub: -0.07 ---> A1: -0.55, D1: 0.06, A2: -0.5, D2: -0.69, A3: -0.49, D3: 0.46, A4: 0.5, D4: -0.68, A5: 0.21, D5: 0.28, Avg. Ascent: -0.17, Avg. Descent: -0.11\n",
            "mOFC for 8th sub: 0.75 ---> A1: 0.08, D1: 0.99, A2: -0.31, D2: -0.07, A3: -0.66, D3: 0.76, A4: -0.28, D4: 0.43, A5: -0.51, D5: 0.12, Avg. Ascent: -0.34, Avg. Descent: 0.45\n",
            "mOFC for 9th sub: 0.85 ---> A1: -0.37, D1: -0.92, A2: 0.9, D2: 0.65, A3: -0.77, D3: 0.29, A4: -0.16, D4: 0.22, A5: 0.68, D5: 0.08, Avg. Ascent: 0.06, Avg. Descent: 0.06\n",
            "mOFC for 10th sub: 0.04 ---> A1: 0.04, D1: 0.14, A2: -0.29, D2: -0.67, A3: -0.38, D3: 0.19, A4: 0.4, D4: 0.36, A5: -0.37, D5: -0.13, Avg. Ascent: -0.12, Avg. Descent: -0.02\n",
            "\n",
            "mPFC for 1th sub: 0.14 ---> A1: 0.24, D1: 0.89, A2: -0.22, D2: 0.54, A3: 0.56, D3: 0.07, A4: -0.41, D4: -0.48, A5: -0.35, D5: -0.06, Avg. Ascent: -0.04, Avg. Descent: 0.19\n",
            "mPFC for 2th sub: 0.09 ---> A1: 0.51, D1: -0.9, A2: 0.44, D2: -0.22, A3: -0.43, D3: 0.04, A4: -0.09, D4: -0.17, A5: -0.49, D5: -0.54, Avg. Ascent: -0.01, Avg. Descent: -0.36\n",
            "mPFC for 3th sub: 0.49 ---> A1: 0.65, D1: 0.77, A2: -0.68, D2: 0.28, A3: -0.46, D3: -0.51, A4: 0.22, D4: -0.03, A5: -0.02, D5: 0.42, Avg. Ascent: -0.06, Avg. Descent: 0.19\n",
            "mPFC for 4th sub: 0.43 ---> A1: -0.28, D1: 0.93, A2: -0.18, D2: -0.56, A3: 0.39, D3: 0.27, A4: -0.09, D4: 0.3, A5: 0.39, D5: 0.66, Avg. Ascent: 0.05, Avg. Descent: 0.32\n",
            "mPFC for 5th sub: 0.22 ---> A1: -0.45, D1: 0.28, A2: -0.11, D2: 0.69, A3: 0.31, D3: 0.46, A4: 0.16, D4: 0.06, A5: 0.32, D5: -0.27, Avg. Ascent: 0.05, Avg. Descent: 0.24\n",
            "mPFC for 6th sub: 0.09 ---> A1: -0.36, D1: 0.4, A2: -0.07, D2: -0.59, A3: 0.37, D3: 0.17, A4: 0.01, D4: 0.27, A5: 0.01, D5: -0.81, Avg. Ascent: -0.01, Avg. Descent: -0.11\n",
            "mPFC for 7th sub: 0.16 ---> A1: 0.31, D1: 0.41, A2: 0.2, D2: 0.01, A3: 0.7, D3: 0.14, A4: -0.08, D4: 0.78, A5: 0.27, D5: -0.11, Avg. Ascent: 0.28, Avg. Descent: 0.25\n",
            "mPFC for 8th sub: 0.65 ---> A1: -0.14, D1: 0.95, A2: -0.06, D2: 0.43, A3: 0.7, D3: 0.75, A4: -0.18, D4: 0.67, A5: -0.2, D5: 0.31, Avg. Ascent: 0.02, Avg. Descent: 0.62\n",
            "mPFC for 9th sub: 0.07 ---> A1: 0.15, D1: -0.78, A2: -0.45, D2: -0.79, A3: 0.2, D3: -0.42, A4: -0.45, D4: -0.21, A5: -0.15, D5: -0.97, Avg. Ascent: -0.14, Avg. Descent: -0.63\n",
            "mPFC for 10th sub: -0.1 ---> A1: 0.67, D1: 0.83, A2: 0.55, D2: -0.85, A3: 0.83, D3: 0.3, A4: 0.66, D4: 0.5, A5: -0.08, D5: 0.55, Avg. Ascent: 0.53, Avg. Descent: 0.27\n",
            "\n",
            "lOFC for 1th sub: 0.46 ---> A1: 0.51, D1: 0.57, A2: -0.54, D2: 0.79, A3: -0.44, D3: 0.36, A4: -0.4, D4: -0.64, A5: -0.18, D5: -0.05, Avg. Ascent: -0.21, Avg. Descent: 0.21\n",
            "lOFC for 2th sub: 0.16 ---> A1: 0.53, D1: -0.43, A2: -0.17, D2: 0.07, A3: -0.43, D3: 0.74, A4: -0.34, D4: -0.85, A5: -0.58, D5: 0.16, Avg. Ascent: -0.2, Avg. Descent: -0.06\n",
            "lOFC for 3th sub: 0.14 ---> A1: -0.43, D1: -0.07, A2: 0.37, D2: -0.99, A3: 0.14, D3: 0.24, A4: 0.53, D4: 0.23, A5: -0.38, D5: -0.25, Avg. Ascent: 0.05, Avg. Descent: -0.17\n",
            "lOFC for 4th sub: 0.61 ---> A1: -0.41, D1: 0.22, A2: 0.16, D2: -0.16, A3: 0.42, D3: -0.01, A4: 0.39, D4: 0.3, A5: 0.31, D5: 0.02, Avg. Ascent: 0.17, Avg. Descent: 0.07\n",
            "lOFC for 5th sub: 0.17 ---> A1: -0.63, D1: -0.28, A2: -0.43, D2: -0.92, A3: -0.81, D3: -0.09, A4: 0.26, D4: 0.11, A5: 0.23, D5: 0.66, Avg. Ascent: -0.28, Avg. Descent: -0.1\n",
            "lOFC for 6th sub: -0.05 ---> A1: 0.53, D1: 0.48, A2: -0.03, D2: -0.29, A3: -0.14, D3: -0.37, A4: -0.0, D4: -0.37, A5: -0.25, D5: 0.19, Avg. Ascent: 0.02, Avg. Descent: -0.07\n",
            "lOFC for 7th sub: 0.11 ---> A1: 0.06, D1: 0.63, A2: -0.21, D2: -0.2, A3: -0.4, D3: -0.22, A4: 0.58, D4: 0.0, A5: 0.36, D5: -0.19, Avg. Ascent: 0.08, Avg. Descent: 0.0\n",
            "lOFC for 8th sub: 0.62 ---> A1: 0.03, D1: 0.53, A2: 0.35, D2: -0.06, A3: 0.29, D3: -0.05, A4: 0.3, D4: -0.22, A5: -0.61, D5: -0.31, Avg. Ascent: 0.07, Avg. Descent: -0.02\n",
            "lOFC for 9th sub: 0.44 ---> A1: 0.22, D1: 0.23, A2: 0.85, D2: 0.34, A3: -0.64, D3: -0.35, A4: -0.34, D4: 0.5, A5: 0.28, D5: -0.85, Avg. Ascent: 0.07, Avg. Descent: -0.03\n",
            "lOFC for 10th sub: -0.18 ---> A1: 0.37, D1: -0.55, A2: 0.62, D2: -0.97, A3: 0.01, D3: 0.41, A4: 0.64, D4: 0.26, A5: -0.02, D5: -0.13, Avg. Ascent: 0.32, Avg. Descent: -0.2\n",
            "\n",
            "***Average across test subjects Correlation Coefficient between predicted and actual average BOLD values of each Ascent and Descent for ROIs***\n",
            "\n",
            "dmPFC: 0.24, Ascents: [ 0.1  -0.39 -0.11  0.07 -0.19], Avg. Ascent: -0.11, Descents: [-0.02 -0.34 -0.21  0.08 -0.01], Avg. Descent: -0.1\n",
            "ACC: 0.34, Ascents: [-0.05 -0.13 -0.39  0.21  0.25], Avg. Ascent: -0.02, Descents: [ 0.21 -0.15  0.09 -0.02 -0.28], Avg. Descent: -0.03\n",
            "AMY: 0.33, Ascents: [-0.18 -0.11  0.23  0.1  -0.06], Avg. Ascent: -0.0, Descents: [ 0.22 -0.08 -0.06 -0.13 -0.03], Avg. Descent: -0.01\n",
            "Cau: 0.21, Ascents: [-0.02  0.28 -0.02  0.11  0.11], Avg. Ascent: 0.09, Descents: [-0.    0.18  0.16 -0.36  0.2 ], Avg. Descent: 0.04\n",
            "dlPFC: 0.27, Ascents: [-0.09 -0.09  0.13  0.12 -0.1 ], Avg. Ascent: -0.01, Descents: [-0.06  0.66 -0.03 -0.08  0.07], Avg. Descent: 0.11\n",
            "INS: 0.28, Ascents: [ 0.25 -0.03  0.64 -0.   -0.03], Avg. Ascent: 0.17, Descents: [-0.01  0.02  0.08  0.25  0.22], Avg. Descent: 0.11\n",
            "IPL: 0.28, Ascents: [ 0.33  0.08  0.27 -0.15  0.23], Avg. Ascent: 0.15, Descents: [ 0.41  0.85  0.11 -0.3  -0.1 ], Avg. Descent: 0.19\n",
            "mCC: 0.23, Ascents: [-0.08 -0.03 -0.13  0.02 -0.  ], Avg. Ascent: -0.04, Descents: [-0.38 -0.15 -0.13  0.23  0.  ], Avg. Descent: -0.08\n",
            "Nac: 0.3, Ascents: [0.09 0.27 0.11 0.13 0.14], Avg. Ascent: 0.15, Descents: [-0.05  0.01  0.14 -0.35  0.07], Avg. Descent: -0.04\n",
            "PCC: 0.31, Ascents: [-0.33 -0.28 -0.01  0.17  0.48], Avg. Ascent: 0.01, Descents: [ 0.39 -0.18  0.03  0.1  -0.14], Avg. Descent: 0.04\n",
            "PCG: 0.43, Ascents: [ 0.13  0.15 -0.24 -0.18  0.22], Avg. Ascent: 0.02, Descents: [ 0.01  0.06  0.28 -0.03  0.24], Avg. Descent: 0.11\n",
            "Prec: 0.35, Ascents: [-0.2  -0.34  0.39  0.41  0.5 ], Avg. Ascent: 0.15, Descents: [ 0.19  0.05 -0.35 -0.12  0.21], Avg. Descent: -0.0\n",
            "TP: 0.46, Ascents: [-0.18  0.11  0.16 -0.01 -0.12], Avg. Ascent: -0.01, Descents: [ 0.09 -0.03  0.12  0.03  0.05], Avg. Descent: 0.05\n",
            "Put: 0.07, Ascents: [-0.09 -0.05 -0.31 -0.15 -0.05], Avg. Ascent: -0.13, Descents: [-0.06  0.29  0.06 -0.07 -0.08], Avg. Descent: 0.03\n",
            "pSTS: 0.19, Ascents: [ 0.09  0.06  0.01  0.23 -0.07], Avg. Ascent: 0.06, Descents: [ 0.26  0.69  0.06  0.36 -0.12], Avg. Descent: 0.25\n",
            "VC: 0.45, Ascents: [0.25 0.31 0.25 0.15 0.04], Avg. Ascent: 0.2, Descents: [ 0.41 -0.29  0.46 -0.17  0.21], Avg. Descent: 0.12\n",
            "vlPFC: 0.49, Ascents: [ 0.41  0.1   0.36  0.07 -0.1 ], Avg. Ascent: 0.17, Descents: [0.01 0.66 0.17 0.02 0.31], Avg. Descent: 0.24\n",
            "mOFC: 0.59, Ascents: [-0.03  0.11 -0.19  0.1   0.2 ], Avg. Ascent: 0.04, Descents: [ 0.21  0.16  0.13  0.09 -0.01], Avg. Descent: 0.12\n",
            "mPFC: 0.22, Ascents: [ 0.13 -0.06  0.32 -0.02 -0.03], Avg. Ascent: 0.07, Descents: [ 0.38 -0.11  0.13  0.17 -0.08], Avg. Descent: 0.1\n",
            "lOFC: 0.25, Ascents: [ 0.08  0.1  -0.2   0.16 -0.08], Avg. Ascent: 0.01, Descents: [ 0.13 -0.24  0.07 -0.07 -0.08], Avg. Descent: -0.04\n"
          ]
        }
      ]
    },
    {
      "cell_type": "code",
      "source": [
        ""
      ],
      "metadata": {
        "id": "diXMu4Bim200"
      },
      "execution_count": 31,
      "outputs": []
    }
  ]
}