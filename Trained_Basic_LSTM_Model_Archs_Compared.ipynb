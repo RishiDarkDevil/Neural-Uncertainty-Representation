{
  "nbformat": 4,
  "nbformat_minor": 0,
  "metadata": {
    "colab": {
      "name": "Trained-Basic-LSTM-Model-Archs-Compared.ipynb",
      "provenance": [],
      "collapsed_sections": [],
      "authorship_tag": "ABX9TyOHB44KH8KXRnZO9KRc+Ubd"
    },
    "kernelspec": {
      "name": "python3",
      "display_name": "Python 3"
    },
    "language_info": {
      "name": "python"
    },
    "gpuClass": "standard",
    "accelerator": "GPU"
  },
  "cells": [
    {
      "cell_type": "markdown",
      "source": [
        "### Mounting Google Drive"
      ],
      "metadata": {
        "id": "ESNkUUOEoS8j"
      }
    },
    {
      "cell_type": "code",
      "execution_count": 1,
      "metadata": {
        "id": "GWpiHXuGn6Oy",
        "colab": {
          "base_uri": "https://localhost:8080/"
        },
        "outputId": "b6509a5e-ac41-4400-bed0-5ce93d94c54e"
      },
      "outputs": [
        {
          "output_type": "stream",
          "name": "stdout",
          "text": [
            "Drive already mounted at /content/drive; to attempt to forcibly remount, call drive.mount(\"/content/drive\", force_remount=True).\n"
          ]
        }
      ],
      "source": [
        "from google.colab import drive\n",
        "drive.mount('/content/drive')"
      ]
    },
    {
      "cell_type": "code",
      "source": [
        "cd 'drive/MyDrive/IIT J Summer Internship 2022/Code/Neural-Uncertainty-Representation/'"
      ],
      "metadata": {
        "id": "bpxEP-yeoWPX",
        "colab": {
          "base_uri": "https://localhost:8080/"
        },
        "outputId": "83520493-5e2c-4e3d-8d99-39673876affa"
      },
      "execution_count": 2,
      "outputs": [
        {
          "output_type": "stream",
          "name": "stdout",
          "text": [
            "/content/drive/.shortcut-targets-by-id/1h_oF16bG32l75GPobgHe_9HgdUduLFxT/IIT J Summer Internship 2022/Code/Neural-Uncertainty-Representation\n"
          ]
        }
      ]
    },
    {
      "cell_type": "markdown",
      "source": [
        "### Importing Necessary Libraries\n"
      ],
      "metadata": {
        "id": "Hq9mNRMMomT7"
      }
    },
    {
      "cell_type": "code",
      "source": [
        "import numpy as np\n",
        "import pandas as pd\n",
        "from openpyxl import load_workbook\n",
        "\n",
        "import tensorflow as tf\n",
        "\n",
        "from tensorflow.keras.layers import Dense, Dropout, LSTM, TimeDistributed\n",
        "from tensorflow.keras.models import Sequential\n",
        "from tensorflow.keras.optimizers import Adam\n",
        "\n",
        "from sklearn.preprocessing import MinMaxScaler\n",
        "\n",
        "import matplotlib.pyplot as plt\n",
        "import os"
      ],
      "metadata": {
        "id": "SRXBkwcIogPe"
      },
      "execution_count": 3,
      "outputs": []
    },
    {
      "cell_type": "markdown",
      "source": [
        "### Importing Data\n",
        "We import the data of a young subject's 3D-Tensor Data of dimensions (TR, Voxel, Number of Subjects) for the 5 different ROIs as follows:\n",
        "- **Prefrontal areas:** dlPFC, vlPFC, lOFC, dmPFC, mPFC, mOFC\n",
        "- **Default-mode areas:** mPFC, ACC, PCC, Precuneus, mOFC\n",
        "- **Sensory areas:** VC\n",
        "- **Multisensory area:** pSTS\n",
        "- **Some other areas:** TP, IPL, mCC, Put, PCG, Nac, INS\n",
        "\n",
        "\n",
        "\n"
      ],
      "metadata": {
        "id": "_R2-Cetmxned"
      }
    },
    {
      "cell_type": "code",
      "source": [
        "file_names = [name for name in os.listdir('/content/drive/MyDrive/IIT J Summer Internship 2022/Hitchcock/Data/YOUNG/Voxel_BOLD/Numpy') if name.endswith(\"npy\") and (\"(1)\" not in name)]\n",
        "file_names = [name for name in file_names if (\"537\" not in name)]"
      ],
      "metadata": {
        "id": "XUJPFBg1898z"
      },
      "execution_count": 4,
      "outputs": []
    },
    {
      "cell_type": "code",
      "source": [
        "ROI_names = [file_name.replace(\"data_\",\"\").replace(\".npy\",\"\") for file_name in file_names]"
      ],
      "metadata": {
        "id": "5lVnzf5N_Ufy"
      },
      "execution_count": 5,
      "outputs": []
    },
    {
      "cell_type": "code",
      "source": [
        "data_ori = list()\n",
        "for file_name in file_names:\n",
        "  data_ori.append(np.load('/content/drive/MyDrive/IIT J Summer Internship 2022/Hitchcock/Data/YOUNG/Voxel_BOLD/Numpy/'+file_name))"
      ],
      "metadata": {
        "id": "Kg22rkIGpfP2"
      },
      "execution_count": 6,
      "outputs": []
    },
    {
      "cell_type": "markdown",
      "source": [
        "### Data Preparation"
      ],
      "metadata": {
        "id": "Kcaxzm8WDjgO"
      }
    },
    {
      "cell_type": "markdown",
      "source": [
        "Now, here we prepare the data to be fed to the Neural Network Architechtures. We can't predict the time ahead upto which the subjects are predicting correctly so, we will take a bit round about way to predict the BOLD values ahead in time(for several choices of time points e.g. 1 time point ahead, 2 time point ahead, etc) and will compare the results for young and old subjects."
      ],
      "metadata": {
        "id": "K9rJ8CAb97K2"
      }
    },
    {
      "cell_type": "markdown",
      "source": [
        "Right from the starting we decide some of the data preparation parameters, so that we can use them as we require."
      ],
      "metadata": {
        "id": "im3Oqy2ueeEU"
      }
    },
    {
      "cell_type": "code",
      "source": [
        "TRAIN_BATCH_SIZE = 20\n",
        "TEST_BATCH_SIZE = 10\n",
        "LOOK_AHEAD = 1\n",
        "NUM_TEST_SUBS = 10"
      ],
      "metadata": {
        "id": "X1DoZ2Fcec20"
      },
      "execution_count": 7,
      "outputs": []
    },
    {
      "cell_type": "markdown",
      "source": [
        "We will start a basic data preparation where we will average across all the voxels for a ROI and fit the model which predicts this average BOLD value. Later we will avoid doing an average since, all voxels in a ROI is not equally important and hence we will want to predict the BOLD values of several voxels simultaneously."
      ],
      "metadata": {
        "id": "TYuu8ZM2-u9z"
      }
    },
    {
      "cell_type": "code",
      "source": [
        "data = [np.mean(dat, axis=1, keepdims=True) for dat in data_ori]"
      ],
      "metadata": {
        "id": "pFvaFL69geft"
      },
      "execution_count": 8,
      "outputs": []
    },
    {
      "cell_type": "markdown",
      "source": [
        "Let's Start the Data Preparation for lOFC later we will iterate the same procedure for the other ROIs."
      ],
      "metadata": {
        "id": "mY3usMssn3T5"
      }
    },
    {
      "cell_type": "code",
      "source": [
        "print(ROI_names[-1], \"Average BOLD Shape:\", data[-1].shape)"
      ],
      "metadata": {
        "colab": {
          "base_uri": "https://localhost:8080/"
        },
        "id": "71dv3Zkcgu3N",
        "outputId": "f302f395-5d72-4344-a9f9-3b545b1b1f6e"
      },
      "execution_count": 9,
      "outputs": [
        {
          "output_type": "stream",
          "name": "stdout",
          "text": [
            "lOFC Average BOLD Shape: (189, 1, 111)\n"
          ]
        }
      ]
    },
    {
      "cell_type": "markdown",
      "source": [
        "Below, we see the average BOLD time series plot for all the ROIs."
      ],
      "metadata": {
        "id": "jG7ofnvRczcN"
      }
    },
    {
      "cell_type": "markdown",
      "source": [
        "We have changed the data in the form (Number of Subjects, TR, Voxels) below."
      ],
      "metadata": {
        "id": "-wIOccLpE0d-"
      }
    },
    {
      "cell_type": "code",
      "source": [
        "data = [np.transpose(dat, (2,0,1)) for dat in data]"
      ],
      "metadata": {
        "id": "0pHK54KjDnah"
      },
      "execution_count": 10,
      "outputs": []
    },
    {
      "cell_type": "code",
      "source": [
        "print(ROI_names[-1], \"Average BOLD Shape:\", data[-1].shape)"
      ],
      "metadata": {
        "colab": {
          "base_uri": "https://localhost:8080/"
        },
        "id": "HRXHJ1cwgrzp",
        "outputId": "32e6c730-14aa-466d-81fd-cf59670ca4e4"
      },
      "execution_count": 11,
      "outputs": [
        {
          "output_type": "stream",
          "name": "stdout",
          "text": [
            "lOFC Average BOLD Shape: (111, 189, 1)\n"
          ]
        }
      ]
    },
    {
      "cell_type": "markdown",
      "source": [
        "We split the dataset of 111 young subjects into 101 subjects in the training data and 10 subject in the test data."
      ],
      "metadata": {
        "id": "gg50q17pp5xQ"
      }
    },
    {
      "cell_type": "code",
      "source": [
        "train_data_unscaled = [dat[:-NUM_TEST_SUBS] for dat in data]\n",
        "test_data_unscaled = [dat[-NUM_TEST_SUBS:] for dat in data]  "
      ],
      "metadata": {
        "id": "hrldyz8XnDlv"
      },
      "execution_count": 12,
      "outputs": []
    },
    {
      "cell_type": "markdown",
      "source": [
        "We scaled the BOLD values of each voxel in the train data between 0 and 1 for each voxel. We use the same MinMaxScaler fit on the train data on the test data."
      ],
      "metadata": {
        "id": "MDV7H0sYt6jd"
      }
    },
    {
      "cell_type": "code",
      "source": [
        "scalers = list()\n",
        "for i in range(len(ROI_names)):\n",
        "  scalers.append(MinMaxScaler(feature_range = (0, 1)))\n",
        "train_data = [sc.fit_transform(dat[:,:,0]) for sc, dat in zip(scalers, train_data_unscaled)] \n",
        "test_data = [sc.transform(dat[:,:,0]) for sc, dat in zip(scalers, test_data_unscaled)]"
      ],
      "metadata": {
        "id": "-xkJQLj3tORj"
      },
      "execution_count": 13,
      "outputs": []
    },
    {
      "cell_type": "code",
      "source": [
        "train_data = [np.expand_dims(dat, axis = -1) for dat in train_data]\n",
        "test_data = [np.expand_dims(dat, axis = -1) for dat in test_data]"
      ],
      "metadata": {
        "id": "Ail126iVuR6s"
      },
      "execution_count": 14,
      "outputs": []
    },
    {
      "cell_type": "code",
      "source": [
        "print(ROI_names[-1], \"Train Data Shape: \", train_data[-1].shape)\n",
        "print(ROI_names[-1], \"Test Data Shape: \", test_data[-1].shape)"
      ],
      "metadata": {
        "colab": {
          "base_uri": "https://localhost:8080/"
        },
        "id": "_cOAv_VrnbLU",
        "outputId": "301b68ff-43e9-4941-d54a-f9be04ade2cb"
      },
      "execution_count": 15,
      "outputs": [
        {
          "output_type": "stream",
          "name": "stdout",
          "text": [
            "lOFC Train Data Shape:  (101, 189, 1)\n",
            "lOFC Test Data Shape:  (10, 189, 1)\n"
          ]
        }
      ]
    },
    {
      "cell_type": "markdown",
      "source": [
        "We now build a data generator which would produce mini-batches during the training of the neural network."
      ],
      "metadata": {
        "id": "0yjlAwWeiEru"
      }
    },
    {
      "cell_type": "code",
      "source": [
        "class KerasBatchGenerator(object):\n",
        "    def __init__(self, data, num_TRs, batch_size, look_ahead=1):\n",
        "        self.data = data\n",
        "        self.num_TRs = num_TRs\n",
        "        self.batch_size = batch_size\n",
        "        self.current_idx = 0\n",
        "        self.look_ahead = look_ahead\n",
        "\n",
        "    def generate(self):\n",
        "        while True:\n",
        "            if self.current_idx + self.batch_size >= self.data.shape[0]:\n",
        "              self.current_idx = 0\n",
        "            x = self.data[self.current_idx:(self.current_idx+self.batch_size),:(-self.look_ahead),:]\n",
        "            y = self.data[self.current_idx:(self.current_idx+self.batch_size),self.look_ahead:,:]\n",
        "            self.current_idx = self.current_idx + self.batch_size\n",
        "            yield x, y "
      ],
      "metadata": {
        "id": "Blko7LXpgtwA"
      },
      "execution_count": 16,
      "outputs": []
    },
    {
      "cell_type": "code",
      "source": [
        "train_data_generator = [KerasBatchGenerator(dat, dat.shape[1], TRAIN_BATCH_SIZE, LOOK_AHEAD) for dat in train_data]\n",
        "test_data_generator = [KerasBatchGenerator(dat, dat.shape[1], TEST_BATCH_SIZE, LOOK_AHEAD) for dat in test_data]"
      ],
      "metadata": {
        "id": "lZN56Eg3mrsc"
      },
      "execution_count": 17,
      "outputs": []
    },
    {
      "cell_type": "code",
      "source": [
        "batch_x, batch_y = next(train_data_generator[-1].generate())\n",
        "print(ROI_names[-1], \"Train Batch X Shape: \", batch_x.shape)\n",
        "print(ROI_names[-1], \"Train Batch y Shape: \", batch_y.shape)"
      ],
      "metadata": {
        "colab": {
          "base_uri": "https://localhost:8080/"
        },
        "id": "5UPT6iRxpJ7c",
        "outputId": "c50e6383-81c4-4786-f793-e84c3e00f435"
      },
      "execution_count": 18,
      "outputs": [
        {
          "output_type": "stream",
          "name": "stdout",
          "text": [
            "lOFC Train Batch X Shape:  (20, 188, 1)\n",
            "lOFC Train Batch y Shape:  (20, 188, 1)\n"
          ]
        }
      ]
    },
    {
      "cell_type": "code",
      "source": [
        "batch_x, batch_y = next(test_data_generator[-1].generate())\n",
        "print(ROI_names[-1], \"Test Batch X Shape: \", batch_x.shape)\n",
        "print(ROI_names[-1], \"Test Batch y Shape: \", batch_y.shape)"
      ],
      "metadata": {
        "colab": {
          "base_uri": "https://localhost:8080/"
        },
        "id": "Clavfro-pSEV",
        "outputId": "14bc5767-6cb7-448e-b255-cd259b4fcc20"
      },
      "execution_count": 19,
      "outputs": [
        {
          "output_type": "stream",
          "name": "stdout",
          "text": [
            "lOFC Test Batch X Shape:  (10, 188, 1)\n",
            "lOFC Test Batch y Shape:  (10, 188, 1)\n"
          ]
        }
      ]
    },
    {
      "cell_type": "markdown",
      "source": [
        "#### Model-1"
      ],
      "metadata": {
        "id": "mIawKmyFfAkz"
      }
    },
    {
      "cell_type": "markdown",
      "source": [
        "We will start off by building a LSTM Model:\n",
        "- `Number of LSTM Layers = 1`\n",
        "- `Number of Dense Layers = 1`\n",
        "- `hidden units = 8`\n",
        "- `dropout = 0.3`"
      ],
      "metadata": {
        "id": "8Ry-jGmHqqx0"
      }
    },
    {
      "cell_type": "code",
      "source": [
        "HIDDEN_UNITS = 8\n",
        "DROPOUT_PROB = 0.3\n",
        "LSTM_LAYERS = 1\n",
        "DENSE_LAYERS = 1"
      ],
      "metadata": {
        "id": "AKDAJkiVgK2n"
      },
      "execution_count": 20,
      "outputs": []
    },
    {
      "cell_type": "code",
      "source": [
        "def avg_bold_model():\n",
        "  model = Sequential()\n",
        "  for _ in range(LSTM_LAYERS):\n",
        "    model.add(LSTM(HIDDEN_UNITS, return_sequences=True))\n",
        "  model.add(Dropout(0.3))\n",
        "  for _ in range(DENSE_LAYERS-1):\n",
        "    model.add(TimeDistributed(Dense(HIDDEN_UNITS)))\n",
        "  model.add(TimeDistributed(Dense(1)))\n",
        "  return model"
      ],
      "metadata": {
        "id": "fqoXwHTTqqCR"
      },
      "execution_count": 21,
      "outputs": []
    },
    {
      "cell_type": "code",
      "source": [
        "sample_model = avg_bold_model()\n",
        "sample_model.build(input_shape=batch_x.shape)\n",
        "sample_model.summary()"
      ],
      "metadata": {
        "colab": {
          "base_uri": "https://localhost:8080/"
        },
        "id": "nYHgnyz-v5nA",
        "outputId": "8b1a85b5-0f82-4303-8045-f00b5fe96878"
      },
      "execution_count": 22,
      "outputs": [
        {
          "output_type": "stream",
          "name": "stdout",
          "text": [
            "Model: \"sequential\"\n",
            "_________________________________________________________________\n",
            " Layer (type)                Output Shape              Param #   \n",
            "=================================================================\n",
            " lstm (LSTM)                 (10, 188, 8)              320       \n",
            "                                                                 \n",
            " dropout (Dropout)           (10, 188, 8)              0         \n",
            "                                                                 \n",
            " time_distributed (TimeDistr  (10, 188, 1)             9         \n",
            " ibuted)                                                         \n",
            "                                                                 \n",
            "=================================================================\n",
            "Total params: 329\n",
            "Trainable params: 329\n",
            "Non-trainable params: 0\n",
            "_________________________________________________________________\n"
          ]
        }
      ]
    },
    {
      "cell_type": "code",
      "source": [
        "models = [avg_bold_model() for _ in range(len(ROI_names))]"
      ],
      "metadata": {
        "id": "fUZSBnNft2Dl"
      },
      "execution_count": 23,
      "outputs": []
    },
    {
      "cell_type": "code",
      "source": [
        "for i in range(len(ROI_names)):\n",
        "  models[i].compile(optimizer = 'adam', loss = 'mean_squared_error')"
      ],
      "metadata": {
        "id": "kf-dFQmfzqTA"
      },
      "execution_count": 24,
      "outputs": []
    },
    {
      "cell_type": "code",
      "source": [
        "for i in range(len(ROI_names)):\n",
        "  models[i].load_weights(f\"./Models/YOUNG/LSTM/AVG-BOLD/{ROI_names[i]}/model_weights-{LSTM_LAYERS}L-{HIDDEN_UNITS}H-{DENSE_LAYERS}D-{int(DROPOUT_PROB*10)}Drop-{LOOK_AHEAD}Ahead-{ROI_names[i]}\")"
      ],
      "metadata": {
        "id": "dKvn0145hViW"
      },
      "execution_count": 25,
      "outputs": []
    },
    {
      "cell_type": "code",
      "source": [
        "preds = [models[i].predict(next(test_data_generator[i].generate())[0]) for i in range(len(ROI_names))]"
      ],
      "metadata": {
        "id": "7mpQ5Rap6kQ0"
      },
      "execution_count": null,
      "outputs": []
    },
    {
      "cell_type": "code",
      "source": [
        "a_TRs = np.array([56, 67, 73, 81, 134, 142, 155, 167, 174, 180])\n",
        "d_TRs = np.array([67, 72, 85, 89, 145, 154, 168, 174, 180, 188])\n",
        "and_TRs = np.union1d(a_TRs, d_TRs)"
      ],
      "metadata": {
        "id": "Xy_oAW9VgG9G"
      },
      "execution_count": 27,
      "outputs": []
    },
    {
      "cell_type": "code",
      "source": [
        "def generate_each_sub_n_overall_pred_corr(preds):\n",
        "  \n",
        "  print(\"***Each Test Subject's Correlation Coefficient between predicted and actual average BOLD values of each Ascent and Descent for ROIs***\")\n",
        "  print()\n",
        "  avg_r = list()\n",
        "  for i in range(len(ROI_names)):\n",
        "    df = pd.DataFrame({\"Subs\":[], \"A1\":[], \"A2\":[], \"A3\":[], \"A4\":[], \"A5\":[], \"D1\":[], \"D2\":[], \"D3\":[], \"D4\":[], \"D5\":[], \"Avg_Asc\":[], \"Avg_Des\":[], \"Overall\":[]})\n",
        "    actual_test_data_output = np.squeeze(test_data_unscaled[i])[:,LOOK_AHEAD:] \n",
        "    pred_test_data_output = scalers[i].inverse_transform(np.hstack([preds[i][:,:,0], preds[i][:,:LOOK_AHEAD,0]]))[:,:-LOOK_AHEAD]\n",
        "    for j in range(NUM_TEST_SUBS):\n",
        "      df_dict = dict()\n",
        "      df_dict['Subs'] = j+1\n",
        "      df_dict['Overall'] = np.round(np.corrcoef(actual_test_data_output[j,:], pred_test_data_output[j,:])[0,1], 2)\n",
        "      sum_as = 0 # stores the sum of each the subject's avg BOLD 5 ascents correlation between actual and preds \n",
        "      sum_des = 0 # stores the sum of each the subject's avg BOLD 5 descents correlation between actual and preds \n",
        "      for k in range(5):\n",
        "        a = np.round(np.corrcoef(actual_test_data_output[j,a_TRs[2*k]:a_TRs[2*k+1]], pred_test_data_output[j,a_TRs[2*k]:a_TRs[2*k+1]])[0,1], 2)\n",
        "        d = np.round(np.corrcoef(actual_test_data_output[j,d_TRs[2*k]:d_TRs[2*k+1]], pred_test_data_output[j,d_TRs[2*k]:d_TRs[2*k+1]])[0,1], 2)\n",
        "        df_dict['A'+str(k+1)] = a\n",
        "        df_dict['D'+str(k+1)] = d\n",
        "        sum_as += a\n",
        "        sum_des += d\n",
        "      df_dict['Avg_Asc'] = np.round(sum_as/5, 2)\n",
        "      df_dict['Avg_Des'] = np.round(sum_des/5, 2)\n",
        "      df = df.append(df_dict, ignore_index = True)\n",
        "    print()\n",
        "    print(f\"***{ROI_names[i]}***\")\n",
        "    display(df)\n",
        "    path = f\"./Model-Inference/YOUNG/LSTM/AVG-BOLD/{LSTM_LAYERS}L-{HIDDEN_UNITS}H-{DENSE_LAYERS}D-{int(DROPOUT_PROB*10)}Drop-{LOOK_AHEAD}Ahead-Each-Test-Sub-Corr.xlsx\"\n",
        "    if os.path.isfile(path):  \n",
        "      with pd.ExcelWriter(path, mode='a') as writer:\n",
        "        df.to_excel(writer, sheet_name= ROI_names[i])\n",
        "    else:\n",
        "      with pd.ExcelWriter(path) as writer:\n",
        "        df.to_excel(writer, sheet_name= ROI_names[i])\n",
        "\n",
        "\n",
        "\n",
        "  print(\"***Average across test subjects Correlation Coefficient between predicted and actual average BOLD values of each Ascent and Descent for ROIs***\")\n",
        "  print()\n",
        "  df = pd.DataFrame({\"ROIs\":[], \"A1\":[], \"A2\":[], \"A3\":[], \"A4\":[], \"A5\":[], \"D1\":[], \"D2\":[], \"D3\":[], \"D4\":[], \"D5\":[], \"Avg_Asc\":[], \"Avg_Des\":[], \"Overall\":[]})\n",
        "  for i in range(len(ROI_names)):\n",
        "    actual_test_data_output = np.squeeze(test_data_unscaled[i])[:,LOOK_AHEAD:] \n",
        "    pred_test_data_output = scalers[i].inverse_transform(np.hstack([preds[i][:,:,0], preds[i][:,:LOOK_AHEAD,0]]))[:,:-LOOK_AHEAD]\n",
        "    sum_r = 0 # stores the sum of all the subjects avg BOLD correlation between actual and preds\n",
        "    sum_a = np.zeros(5) # stores the sum of all the subjects avg BOLD 5 ascents correlation between actual and preds\n",
        "    sum_d = np.zeros(5) # stores the sum of all the subjects avg BOLD 5 descents between actual and preds\n",
        "    for j in range(NUM_TEST_SUBS):\n",
        "      sum_r += np.corrcoef(actual_test_data_output[j,:], pred_test_data_output[j,:])[0,1]\n",
        "      for k in range(5):\n",
        "        sum_a[k] += np.corrcoef(actual_test_data_output[j,a_TRs[2*k]:a_TRs[2*k+1]], pred_test_data_output[j,a_TRs[2*k]:a_TRs[2*k+1]])[0,1]\n",
        "        sum_d[k] += np.corrcoef(actual_test_data_output[j,d_TRs[2*k]:d_TRs[2*k+1]], pred_test_data_output[j,d_TRs[2*k]:d_TRs[2*k+1]])[0,1]\n",
        "    df.loc[len(df.index)] = [ROI_names[i], *np.round(sum_a / NUM_TEST_SUBS, 2), *np.round(sum_d / NUM_TEST_SUBS, 2), np.round(np.mean(sum_a / NUM_TEST_SUBS), 2), np.round(np.mean(sum_d / NUM_TEST_SUBS), 2), np.round(sum_r / NUM_TEST_SUBS, 2)]\n",
        "  display(df)\n",
        "  path = f\"./Model-Inference/YOUNG/LSTM/AVG-BOLD/{LSTM_LAYERS}L-{HIDDEN_UNITS}H-{DENSE_LAYERS}D-{int(DROPOUT_PROB*10)}Drop-{LOOK_AHEAD}Ahead-All-ROI-Corr-Avg-Across-Test-Subs.xlsx\"\n",
        "  if os.path.isfile(path):  \n",
        "    with pd.ExcelWriter(path, mode='a') as writer:\n",
        "      df.to_excel(writer, sheet_name= ROI_names[i])\n",
        "  else:\n",
        "    with pd.ExcelWriter(path) as writer:\n",
        "      df.to_excel(writer, sheet_name= ROI_names[i])"
      ],
      "metadata": {
        "id": "TIPdaKgJhrMm"
      },
      "execution_count": 28,
      "outputs": []
    },
    {
      "cell_type": "code",
      "source": [
        "generate_each_sub_n_overall_pred_corr(preds)"
      ],
      "metadata": {
        "id": "J8hiJzxcKFuz"
      },
      "execution_count": null,
      "outputs": []
    },
    {
      "cell_type": "markdown",
      "source": [
        "#### Model-2"
      ],
      "metadata": {
        "id": "yXlhY4RNt4Xy"
      }
    },
    {
      "cell_type": "markdown",
      "source": [
        "We will start off by building a LSTM Model:\n",
        "- `Number of LSTM Layers = 1`\n",
        "- `Number of Dense Layers = 1`\n",
        "- `hidden units = 16`\n",
        "- `dropout = 0.3`"
      ],
      "metadata": {
        "id": "lrMKDWDft4X1"
      }
    },
    {
      "cell_type": "code",
      "source": [
        "HIDDEN_UNITS = 16\n",
        "DROPOUT_PROB = 0.3\n",
        "LSTM_LAYERS = 1\n",
        "DENSE_LAYERS = 1"
      ],
      "metadata": {
        "id": "VPsjdv_Jt4X1"
      },
      "execution_count": 30,
      "outputs": []
    },
    {
      "cell_type": "code",
      "source": [
        "sample_model = avg_bold_model()\n",
        "sample_model.build(input_shape=batch_x.shape)\n",
        "sample_model.summary()"
      ],
      "metadata": {
        "colab": {
          "base_uri": "https://localhost:8080/"
        },
        "outputId": "715287e0-067b-42b7-dfdf-e83e51026a91",
        "id": "F8f7i97Ut4X2"
      },
      "execution_count": 31,
      "outputs": [
        {
          "output_type": "stream",
          "name": "stdout",
          "text": [
            "Model: \"sequential_21\"\n",
            "_________________________________________________________________\n",
            " Layer (type)                Output Shape              Param #   \n",
            "=================================================================\n",
            " lstm_21 (LSTM)              (10, 188, 16)             1152      \n",
            "                                                                 \n",
            " dropout_21 (Dropout)        (10, 188, 16)             0         \n",
            "                                                                 \n",
            " time_distributed_21 (TimeDi  (10, 188, 1)             17        \n",
            " stributed)                                                      \n",
            "                                                                 \n",
            "=================================================================\n",
            "Total params: 1,169\n",
            "Trainable params: 1,169\n",
            "Non-trainable params: 0\n",
            "_________________________________________________________________\n"
          ]
        }
      ]
    },
    {
      "cell_type": "code",
      "source": [
        "models = [avg_bold_model() for _ in range(len(ROI_names))]"
      ],
      "metadata": {
        "id": "icg9-3uFt4X3"
      },
      "execution_count": 32,
      "outputs": []
    },
    {
      "cell_type": "code",
      "source": [
        "for i in range(len(ROI_names)):\n",
        "  models[i].compile(optimizer = 'adam', loss = 'mean_squared_error')"
      ],
      "metadata": {
        "id": "p59CvqZJt4X4"
      },
      "execution_count": null,
      "outputs": []
    },
    {
      "cell_type": "code",
      "source": [
        "for i in range(len(ROI_names)):\n",
        "  models[i].load_weights(f\"./Models/YOUNG/LSTM/AVG-BOLD/{ROI_names[i]}/model_weights-{LSTM_LAYERS}L-{HIDDEN_UNITS}H-{DENSE_LAYERS}D-0{int(DROPOUT_PROB*10)}Drop-{LOOK_AHEAD}Ahead-{ROI_names[i]}\")"
      ],
      "metadata": {
        "id": "QqfMaFbUt4X4"
      },
      "execution_count": 34,
      "outputs": []
    },
    {
      "cell_type": "code",
      "source": [
        "preds = [models[i].predict(next(test_data_generator[i].generate())[0]) for i in range(len(ROI_names))]"
      ],
      "metadata": {
        "id": "3PKZEwLKt4X5"
      },
      "execution_count": 35,
      "outputs": []
    },
    {
      "cell_type": "code",
      "source": [
        "generate_each_sub_n_overall_pred_corr(preds)"
      ],
      "metadata": {
        "id": "GKtQXNRXt4X6"
      },
      "execution_count": null,
      "outputs": []
    },
    {
      "cell_type": "markdown",
      "source": [
        "#### Model-3"
      ],
      "metadata": {
        "id": "lVCajllmvLP9"
      }
    },
    {
      "cell_type": "markdown",
      "source": [
        "We will start off by building a LSTM Model:\n",
        "- `Number of LSTM Layers = 1`\n",
        "- `Number of Dense Layers = 1`\n",
        "- `hidden units = 32`\n",
        "- `dropout = 0.3`"
      ],
      "metadata": {
        "id": "2SrSIdOWvLP-"
      }
    },
    {
      "cell_type": "code",
      "source": [
        "HIDDEN_UNITS = 32\n",
        "DROPOUT_PROB = 0.3\n",
        "LSTM_LAYERS = 1\n",
        "DENSE_LAYERS = 1"
      ],
      "metadata": {
        "id": "IqOMTMZgvLP_"
      },
      "execution_count": 37,
      "outputs": []
    },
    {
      "cell_type": "code",
      "source": [
        "sample_model = avg_bold_model()\n",
        "sample_model.build(input_shape=batch_x.shape)\n",
        "sample_model.summary()"
      ],
      "metadata": {
        "colab": {
          "base_uri": "https://localhost:8080/"
        },
        "outputId": "67c5cb5d-4302-4bbd-9ded-56610867221e",
        "id": "8TvH9GNcvLQA"
      },
      "execution_count": 38,
      "outputs": [
        {
          "output_type": "stream",
          "name": "stdout",
          "text": [
            "Model: \"sequential_42\"\n",
            "_________________________________________________________________\n",
            " Layer (type)                Output Shape              Param #   \n",
            "=================================================================\n",
            " lstm_42 (LSTM)              (10, 188, 32)             4352      \n",
            "                                                                 \n",
            " dropout_42 (Dropout)        (10, 188, 32)             0         \n",
            "                                                                 \n",
            " time_distributed_42 (TimeDi  (10, 188, 1)             33        \n",
            " stributed)                                                      \n",
            "                                                                 \n",
            "=================================================================\n",
            "Total params: 4,385\n",
            "Trainable params: 4,385\n",
            "Non-trainable params: 0\n",
            "_________________________________________________________________\n"
          ]
        }
      ]
    },
    {
      "cell_type": "code",
      "source": [
        "models = [avg_bold_model() for _ in range(len(ROI_names))]"
      ],
      "metadata": {
        "id": "hKOYYjtrvLQA"
      },
      "execution_count": 39,
      "outputs": []
    },
    {
      "cell_type": "code",
      "source": [
        "for i in range(len(ROI_names)):\n",
        "  models[i].compile(optimizer = 'adam', loss = 'mean_squared_error')"
      ],
      "metadata": {
        "id": "zpEot-AwvLQA"
      },
      "execution_count": 40,
      "outputs": []
    },
    {
      "cell_type": "code",
      "source": [
        "for i in range(len(ROI_names)):\n",
        "  models[i].load_weights(f\"./Models/YOUNG/LSTM/AVG-BOLD/{ROI_names[i]}/model_weights-{LSTM_LAYERS}L-{HIDDEN_UNITS}H-{DENSE_LAYERS}D-{int(DROPOUT_PROB*10)}Drop-{LOOK_AHEAD}Ahead-{ROI_names[i]}\")"
      ],
      "metadata": {
        "id": "-eC0ace6vLQB"
      },
      "execution_count": 41,
      "outputs": []
    },
    {
      "cell_type": "code",
      "source": [
        "preds = [models[i].predict(next(test_data_generator[i].generate())[0]) for i in range(len(ROI_names))]"
      ],
      "metadata": {
        "id": "vm7aOItavLQC"
      },
      "execution_count": null,
      "outputs": []
    },
    {
      "cell_type": "code",
      "source": [
        "generate_each_sub_n_overall_pred_corr(preds)"
      ],
      "metadata": {
        "id": "u5bQ0itXvLQD"
      },
      "execution_count": null,
      "outputs": []
    },
    {
      "cell_type": "markdown",
      "source": [
        "#### Model-4"
      ],
      "metadata": {
        "id": "M2ThT9tDwPEU"
      }
    },
    {
      "cell_type": "markdown",
      "source": [
        "We will start off by building a LSTM Model:\n",
        "- `Number of LSTM Layers = 2`\n",
        "- `Number of Dense Layers = 1`\n",
        "- `hidden units = 16`\n",
        "- `dropout = 0.3`"
      ],
      "metadata": {
        "id": "gaS9IP43wPEX"
      }
    },
    {
      "cell_type": "code",
      "source": [
        "HIDDEN_UNITS = 16\n",
        "DROPOUT_PROB = 0.3\n",
        "LSTM_LAYERS = 2\n",
        "DENSE_LAYERS = 1"
      ],
      "metadata": {
        "id": "OCkD9soXwPEY"
      },
      "execution_count": 44,
      "outputs": []
    },
    {
      "cell_type": "code",
      "source": [
        "sample_model = avg_bold_model()\n",
        "sample_model.build(input_shape=batch_x.shape)\n",
        "sample_model.summary()"
      ],
      "metadata": {
        "colab": {
          "base_uri": "https://localhost:8080/"
        },
        "outputId": "4b64944a-58f5-45bf-9c9b-c3b975ce3238",
        "id": "McrWQxRWwPEZ"
      },
      "execution_count": 45,
      "outputs": [
        {
          "output_type": "stream",
          "name": "stdout",
          "text": [
            "Model: \"sequential_63\"\n",
            "_________________________________________________________________\n",
            " Layer (type)                Output Shape              Param #   \n",
            "=================================================================\n",
            " lstm_63 (LSTM)              (10, 188, 16)             1152      \n",
            "                                                                 \n",
            " lstm_64 (LSTM)              (10, 188, 16)             2112      \n",
            "                                                                 \n",
            " dropout_63 (Dropout)        (10, 188, 16)             0         \n",
            "                                                                 \n",
            " time_distributed_63 (TimeDi  (10, 188, 1)             17        \n",
            " stributed)                                                      \n",
            "                                                                 \n",
            "=================================================================\n",
            "Total params: 3,281\n",
            "Trainable params: 3,281\n",
            "Non-trainable params: 0\n",
            "_________________________________________________________________\n"
          ]
        }
      ]
    },
    {
      "cell_type": "code",
      "source": [
        "models = [avg_bold_model() for _ in range(len(ROI_names))]"
      ],
      "metadata": {
        "id": "wLYCAETkwPEa"
      },
      "execution_count": 46,
      "outputs": []
    },
    {
      "cell_type": "code",
      "source": [
        "for i in range(len(ROI_names)):\n",
        "  models[i].compile(optimizer = 'adam', loss = 'mean_squared_error')"
      ],
      "metadata": {
        "id": "qx7M2l8IwPEa"
      },
      "execution_count": 47,
      "outputs": []
    },
    {
      "cell_type": "code",
      "source": [
        "for i in range(len(ROI_names)):\n",
        "  models[i].load_weights(f\"./Models/YOUNG/LSTM/AVG-BOLD/{ROI_names[i]}/model_weights-{LSTM_LAYERS}L-{HIDDEN_UNITS}H-{DENSE_LAYERS}D-{int(DROPOUT_PROB*10)}Drop-{LOOK_AHEAD}Ahead-{ROI_names[i]}\")"
      ],
      "metadata": {
        "id": "hSN_Aim0wPEa"
      },
      "execution_count": 48,
      "outputs": []
    },
    {
      "cell_type": "code",
      "source": [
        "preds = [models[i].predict(next(test_data_generator[i].generate())[0]) for i in range(len(ROI_names))]"
      ],
      "metadata": {
        "id": "RIOLSWV3wPEb"
      },
      "execution_count": null,
      "outputs": []
    },
    {
      "cell_type": "code",
      "source": [
        "generate_each_sub_n_overall_pred_corr(preds)"
      ],
      "metadata": {
        "id": "A8tCEGZqwPEc"
      },
      "execution_count": null,
      "outputs": []
    },
    {
      "cell_type": "markdown",
      "source": [
        "#### Model-5"
      ],
      "metadata": {
        "id": "mmuGPmbHwfci"
      }
    },
    {
      "cell_type": "markdown",
      "source": [
        "We will start off by building a LSTM Model:\n",
        "- `Number of LSTM Layers = 2`\n",
        "- `Number of Dense Layers = 2`\n",
        "- `hidden units = 32`\n",
        "- `dropout = 0.3`"
      ],
      "metadata": {
        "id": "of-AN5iuwfcl"
      }
    },
    {
      "cell_type": "code",
      "source": [
        "HIDDEN_UNITS = 32\n",
        "DROPOUT_PROB = 0.3\n",
        "LSTM_LAYERS = 2\n",
        "DENSE_LAYERS = 2"
      ],
      "metadata": {
        "id": "SVNWkbXMwfcm"
      },
      "execution_count": 51,
      "outputs": []
    },
    {
      "cell_type": "code",
      "source": [
        "sample_model = avg_bold_model()\n",
        "sample_model.build(input_shape=batch_x.shape)\n",
        "sample_model.summary()"
      ],
      "metadata": {
        "colab": {
          "base_uri": "https://localhost:8080/"
        },
        "outputId": "77a0495c-35b6-48e3-fcec-0eab523330f1",
        "id": "6HkyXPR5wfcn"
      },
      "execution_count": 52,
      "outputs": [
        {
          "output_type": "stream",
          "name": "stdout",
          "text": [
            "Model: \"sequential_84\"\n",
            "_________________________________________________________________\n",
            " Layer (type)                Output Shape              Param #   \n",
            "=================================================================\n",
            " lstm_105 (LSTM)             (10, 188, 32)             4352      \n",
            "                                                                 \n",
            " lstm_106 (LSTM)             (10, 188, 32)             8320      \n",
            "                                                                 \n",
            " dropout_84 (Dropout)        (10, 188, 32)             0         \n",
            "                                                                 \n",
            " time_distributed_84 (TimeDi  (10, 188, 32)            1056      \n",
            " stributed)                                                      \n",
            "                                                                 \n",
            " time_distributed_85 (TimeDi  (10, 188, 1)             33        \n",
            " stributed)                                                      \n",
            "                                                                 \n",
            "=================================================================\n",
            "Total params: 13,761\n",
            "Trainable params: 13,761\n",
            "Non-trainable params: 0\n",
            "_________________________________________________________________\n"
          ]
        }
      ]
    },
    {
      "cell_type": "code",
      "source": [
        "models = [avg_bold_model() for _ in range(len(ROI_names))]"
      ],
      "metadata": {
        "id": "MTLEtOiUwfco"
      },
      "execution_count": 53,
      "outputs": []
    },
    {
      "cell_type": "code",
      "source": [
        "for i in range(len(ROI_names)):\n",
        "  models[i].compile(optimizer = 'adam', loss = 'mean_squared_error')"
      ],
      "metadata": {
        "id": "-L1y5POKwfcp"
      },
      "execution_count": 54,
      "outputs": []
    },
    {
      "cell_type": "code",
      "source": [
        "for i in range(len(ROI_names)):\n",
        "  models[i].load_weights(f\"./Models/YOUNG/LSTM/AVG-BOLD/{ROI_names[i]}/model_weights-{LSTM_LAYERS}L-{HIDDEN_UNITS}H-{DENSE_LAYERS}D-{int(DROPOUT_PROB*10)}Drop-{LOOK_AHEAD}Ahead-{ROI_names[i]}\")"
      ],
      "metadata": {
        "id": "IVqZIlHTwfcq"
      },
      "execution_count": 55,
      "outputs": []
    },
    {
      "cell_type": "code",
      "source": [
        "preds = [models[i].predict(next(test_data_generator[i].generate())[0]) for i in range(len(ROI_names))]"
      ],
      "metadata": {
        "id": "XuCQkxJcwfcq"
      },
      "execution_count": null,
      "outputs": []
    },
    {
      "cell_type": "code",
      "source": [
        "generate_each_sub_n_overall_pred_corr(preds)"
      ],
      "metadata": {
        "id": "ky7WHAFuwfcs"
      },
      "execution_count": null,
      "outputs": []
    },
    {
      "cell_type": "markdown",
      "source": [
        "#### Model-6"
      ],
      "metadata": {
        "id": "0HYnGfoOwuOS"
      }
    },
    {
      "cell_type": "markdown",
      "source": [
        "We will start off by building a LSTM Model:\n",
        "- `Number of LSTM Layers = 1`\n",
        "- `Number of Dense Layers = 2`\n",
        "- `hidden units = 32`\n",
        "- `dropout = 0.3`"
      ],
      "metadata": {
        "id": "_E2-aEvVwuOU"
      }
    },
    {
      "cell_type": "code",
      "source": [
        "HIDDEN_UNITS = 32\n",
        "DROPOUT_PROB = 0.3\n",
        "LSTM_LAYERS = 1\n",
        "DENSE_LAYERS = 2"
      ],
      "metadata": {
        "id": "kiz2aTD2wuOV"
      },
      "execution_count": 58,
      "outputs": []
    },
    {
      "cell_type": "code",
      "source": [
        "sample_model = avg_bold_model()\n",
        "sample_model.build(input_shape=batch_x.shape)\n",
        "sample_model.summary()"
      ],
      "metadata": {
        "colab": {
          "base_uri": "https://localhost:8080/"
        },
        "outputId": "ccc7941a-b14e-42eb-86a1-55b7f70a4366",
        "id": "Oi7pMqzDwuOX"
      },
      "execution_count": 59,
      "outputs": [
        {
          "output_type": "stream",
          "name": "stdout",
          "text": [
            "Model: \"sequential_105\"\n",
            "_________________________________________________________________\n",
            " Layer (type)                Output Shape              Param #   \n",
            "=================================================================\n",
            " lstm_147 (LSTM)             (10, 188, 32)             4352      \n",
            "                                                                 \n",
            " dropout_105 (Dropout)       (10, 188, 32)             0         \n",
            "                                                                 \n",
            " time_distributed_126 (TimeD  (10, 188, 32)            1056      \n",
            " istributed)                                                     \n",
            "                                                                 \n",
            " time_distributed_127 (TimeD  (10, 188, 1)             33        \n",
            " istributed)                                                     \n",
            "                                                                 \n",
            "=================================================================\n",
            "Total params: 5,441\n",
            "Trainable params: 5,441\n",
            "Non-trainable params: 0\n",
            "_________________________________________________________________\n"
          ]
        }
      ]
    },
    {
      "cell_type": "code",
      "source": [
        "models = [avg_bold_model() for _ in range(len(ROI_names))]"
      ],
      "metadata": {
        "id": "OIRQWwwQwuOY"
      },
      "execution_count": 60,
      "outputs": []
    },
    {
      "cell_type": "code",
      "source": [
        "for i in range(len(ROI_names)):\n",
        "  models[i].compile(optimizer = 'adam', loss = 'mean_squared_error')"
      ],
      "metadata": {
        "id": "4vLk9AawwuOa"
      },
      "execution_count": 61,
      "outputs": []
    },
    {
      "cell_type": "code",
      "source": [
        "for i in range(len(ROI_names)):\n",
        "  models[i].load_weights(f\"./Models/YOUNG/LSTM/AVG-BOLD/{ROI_names[i]}/model_weights-{LSTM_LAYERS}L-{HIDDEN_UNITS}H-{DENSE_LAYERS}D-{int(DROPOUT_PROB*10)}Drop-{LOOK_AHEAD}Ahead-{ROI_names[i]}\")"
      ],
      "metadata": {
        "id": "GGtgDCSFwuOa"
      },
      "execution_count": 62,
      "outputs": []
    },
    {
      "cell_type": "code",
      "source": [
        "preds = [models[i].predict(next(test_data_generator[i].generate())[0]) for i in range(len(ROI_names))]"
      ],
      "metadata": {
        "id": "7Y-dDr8GwuOa"
      },
      "execution_count": null,
      "outputs": []
    },
    {
      "cell_type": "code",
      "source": [
        "generate_each_sub_n_overall_pred_corr(preds)"
      ],
      "metadata": {
        "id": "9ZM00UhgwuOc"
      },
      "execution_count": null,
      "outputs": []
    },
    {
      "cell_type": "markdown",
      "source": [
        "#### Model-7"
      ],
      "metadata": {
        "id": "U0R6AoDnxMW2"
      }
    },
    {
      "cell_type": "markdown",
      "source": [
        "We will start off by building a LSTM Model:\n",
        "- `Number of LSTM Layers = 1`\n",
        "- `Number of Dense Layers = 4`\n",
        "- `hidden units = 16`\n",
        "- `dropout = 0.3`"
      ],
      "metadata": {
        "id": "bJsDTf6lxMW4"
      }
    },
    {
      "cell_type": "code",
      "source": [
        "HIDDEN_UNITS = 16\n",
        "DROPOUT_PROB = 0.3\n",
        "LSTM_LAYERS = 1\n",
        "DENSE_LAYERS = 4"
      ],
      "metadata": {
        "id": "feDrV6iHxMW5"
      },
      "execution_count": 65,
      "outputs": []
    },
    {
      "cell_type": "code",
      "source": [
        "sample_model = avg_bold_model()\n",
        "sample_model.build(input_shape=batch_x.shape)\n",
        "sample_model.summary()"
      ],
      "metadata": {
        "colab": {
          "base_uri": "https://localhost:8080/"
        },
        "outputId": "0cd12f35-ef10-4b05-b03a-3470b738b37a",
        "id": "ao7WA3PxxMW6"
      },
      "execution_count": 66,
      "outputs": [
        {
          "output_type": "stream",
          "name": "stdout",
          "text": [
            "Model: \"sequential_126\"\n",
            "_________________________________________________________________\n",
            " Layer (type)                Output Shape              Param #   \n",
            "=================================================================\n",
            " lstm_168 (LSTM)             (10, 188, 16)             1152      \n",
            "                                                                 \n",
            " dropout_126 (Dropout)       (10, 188, 16)             0         \n",
            "                                                                 \n",
            " time_distributed_168 (TimeD  (10, 188, 16)            272       \n",
            " istributed)                                                     \n",
            "                                                                 \n",
            " time_distributed_169 (TimeD  (10, 188, 16)            272       \n",
            " istributed)                                                     \n",
            "                                                                 \n",
            " time_distributed_170 (TimeD  (10, 188, 16)            272       \n",
            " istributed)                                                     \n",
            "                                                                 \n",
            " time_distributed_171 (TimeD  (10, 188, 1)             17        \n",
            " istributed)                                                     \n",
            "                                                                 \n",
            "=================================================================\n",
            "Total params: 1,985\n",
            "Trainable params: 1,985\n",
            "Non-trainable params: 0\n",
            "_________________________________________________________________\n"
          ]
        }
      ]
    },
    {
      "cell_type": "code",
      "source": [
        "models = [avg_bold_model() for _ in range(len(ROI_names))]"
      ],
      "metadata": {
        "id": "uD6oO5eZxMW7"
      },
      "execution_count": 67,
      "outputs": []
    },
    {
      "cell_type": "code",
      "source": [
        "for i in range(len(ROI_names)):\n",
        "  models[i].compile(optimizer = 'adam', loss = 'mean_squared_error')"
      ],
      "metadata": {
        "id": "2kq_LUZAxMW7"
      },
      "execution_count": 68,
      "outputs": []
    },
    {
      "cell_type": "code",
      "source": [
        "for i in range(len(ROI_names)):\n",
        "  models[i].load_weights(f\"./Models/YOUNG/LSTM/AVG-BOLD/{ROI_names[i]}/model_weights-{LSTM_LAYERS}L-{HIDDEN_UNITS}H-{DENSE_LAYERS}D-{int(DROPOUT_PROB*10)}Drop-{LOOK_AHEAD}Ahead-{ROI_names[i]}\")"
      ],
      "metadata": {
        "id": "uOdyIZBZxMW8"
      },
      "execution_count": 69,
      "outputs": []
    },
    {
      "cell_type": "code",
      "source": [
        "preds = [models[i].predict(next(test_data_generator[i].generate())[0]) for i in range(len(ROI_names))]"
      ],
      "metadata": {
        "id": "NzWsBAhwxMW8"
      },
      "execution_count": null,
      "outputs": []
    },
    {
      "cell_type": "code",
      "source": [
        "generate_each_sub_n_overall_pred_corr(preds)"
      ],
      "metadata": {
        "id": "4FXy9LekxMW9"
      },
      "execution_count": null,
      "outputs": []
    },
    {
      "cell_type": "markdown",
      "source": [
        "#### Model-8"
      ],
      "metadata": {
        "id": "IijOx-SdxdkK"
      }
    },
    {
      "cell_type": "markdown",
      "source": [
        "We will start off by building a LSTM Model:\n",
        "- `Number of LSTM Layers = 1`\n",
        "- `Number of Dense Layers = 3`\n",
        "- `hidden units = 16`\n",
        "- `dropout = 0.3`"
      ],
      "metadata": {
        "id": "ZL9HDjE3xdkM"
      }
    },
    {
      "cell_type": "code",
      "source": [
        "HIDDEN_UNITS = 16\n",
        "DROPOUT_PROB = 0.3\n",
        "LSTM_LAYERS = 1\n",
        "DENSE_LAYERS = 3"
      ],
      "metadata": {
        "id": "N0YrkaOixdkN"
      },
      "execution_count": 72,
      "outputs": []
    },
    {
      "cell_type": "code",
      "source": [
        "sample_model = avg_bold_model()\n",
        "sample_model.build(input_shape=batch_x.shape)\n",
        "sample_model.summary()"
      ],
      "metadata": {
        "colab": {
          "base_uri": "https://localhost:8080/"
        },
        "outputId": "1b41c8af-595d-4492-c59b-dfae318e5645",
        "id": "i1CM1Gd_xdkP"
      },
      "execution_count": 73,
      "outputs": [
        {
          "output_type": "stream",
          "name": "stdout",
          "text": [
            "Model: \"sequential_147\"\n",
            "_________________________________________________________________\n",
            " Layer (type)                Output Shape              Param #   \n",
            "=================================================================\n",
            " lstm_189 (LSTM)             (10, 188, 16)             1152      \n",
            "                                                                 \n",
            " dropout_147 (Dropout)       (10, 188, 16)             0         \n",
            "                                                                 \n",
            " time_distributed_252 (TimeD  (10, 188, 16)            272       \n",
            " istributed)                                                     \n",
            "                                                                 \n",
            " time_distributed_253 (TimeD  (10, 188, 16)            272       \n",
            " istributed)                                                     \n",
            "                                                                 \n",
            " time_distributed_254 (TimeD  (10, 188, 1)             17        \n",
            " istributed)                                                     \n",
            "                                                                 \n",
            "=================================================================\n",
            "Total params: 1,713\n",
            "Trainable params: 1,713\n",
            "Non-trainable params: 0\n",
            "_________________________________________________________________\n"
          ]
        }
      ]
    },
    {
      "cell_type": "code",
      "source": [
        "models = [avg_bold_model() for _ in range(len(ROI_names))]"
      ],
      "metadata": {
        "id": "HduW8v3MxdkP"
      },
      "execution_count": 74,
      "outputs": []
    },
    {
      "cell_type": "code",
      "source": [
        "for i in range(len(ROI_names)):\n",
        "  models[i].compile(optimizer = 'adam', loss = 'mean_squared_error')"
      ],
      "metadata": {
        "id": "79sD-ijwxdkQ"
      },
      "execution_count": 75,
      "outputs": []
    },
    {
      "cell_type": "code",
      "source": [
        "for i in range(len(ROI_names)):\n",
        "  models[i].load_weights(f\"./Models/YOUNG/LSTM/AVG-BOLD/{ROI_names[i]}/model_weights-{LSTM_LAYERS}L-{HIDDEN_UNITS}H-{DENSE_LAYERS}D-{int(DROPOUT_PROB*10)}Drop-{LOOK_AHEAD}Ahead-{ROI_names[i]}\")"
      ],
      "metadata": {
        "id": "TbvlsYi7xdkQ"
      },
      "execution_count": 76,
      "outputs": []
    },
    {
      "cell_type": "code",
      "source": [
        "preds = [models[i].predict(next(test_data_generator[i].generate())[0]) for i in range(len(ROI_names))]"
      ],
      "metadata": {
        "id": "vTij8I_AxdkR"
      },
      "execution_count": null,
      "outputs": []
    },
    {
      "cell_type": "code",
      "source": [
        "generate_each_sub_n_overall_pred_corr(preds)"
      ],
      "metadata": {
        "id": "SrX8gtvAxdkS"
      },
      "execution_count": null,
      "outputs": []
    },
    {
      "cell_type": "markdown",
      "source": [
        "#### Model-9"
      ],
      "metadata": {
        "id": "F4MiTpARx9rz"
      }
    },
    {
      "cell_type": "markdown",
      "source": [
        "We will start off by building a LSTM Model:\n",
        "- `Number of LSTM Layers = 1`\n",
        "- `Number of Dense Layers = 2`\n",
        "- `hidden units = 16`\n",
        "- `dropout = 0.3`"
      ],
      "metadata": {
        "id": "ypB00mdQx9r1"
      }
    },
    {
      "cell_type": "code",
      "source": [
        "HIDDEN_UNITS = 16\n",
        "DROPOUT_PROB = 0.3\n",
        "LSTM_LAYERS = 1\n",
        "DENSE_LAYERS = 2"
      ],
      "metadata": {
        "id": "BQzkMybtx9r2"
      },
      "execution_count": 79,
      "outputs": []
    },
    {
      "cell_type": "code",
      "source": [
        "sample_model = avg_bold_model()\n",
        "sample_model.build(input_shape=batch_x.shape)\n",
        "sample_model.summary()"
      ],
      "metadata": {
        "colab": {
          "base_uri": "https://localhost:8080/"
        },
        "outputId": "272731ed-00c9-44df-80fa-3968b2407327",
        "id": "t1RmMaGrx9r4"
      },
      "execution_count": 80,
      "outputs": [
        {
          "output_type": "stream",
          "name": "stdout",
          "text": [
            "Model: \"sequential_168\"\n",
            "_________________________________________________________________\n",
            " Layer (type)                Output Shape              Param #   \n",
            "=================================================================\n",
            " lstm_210 (LSTM)             (10, 188, 16)             1152      \n",
            "                                                                 \n",
            " dropout_168 (Dropout)       (10, 188, 16)             0         \n",
            "                                                                 \n",
            " time_distributed_315 (TimeD  (10, 188, 16)            272       \n",
            " istributed)                                                     \n",
            "                                                                 \n",
            " time_distributed_316 (TimeD  (10, 188, 1)             17        \n",
            " istributed)                                                     \n",
            "                                                                 \n",
            "=================================================================\n",
            "Total params: 1,441\n",
            "Trainable params: 1,441\n",
            "Non-trainable params: 0\n",
            "_________________________________________________________________\n"
          ]
        }
      ]
    },
    {
      "cell_type": "code",
      "source": [
        "models = [avg_bold_model() for _ in range(len(ROI_names))]"
      ],
      "metadata": {
        "id": "m8L4WBzKx9r4"
      },
      "execution_count": 81,
      "outputs": []
    },
    {
      "cell_type": "code",
      "source": [
        "for i in range(len(ROI_names)):\n",
        "  models[i].compile(optimizer = 'adam', loss = 'mean_squared_error')"
      ],
      "metadata": {
        "id": "OAGvBAxKx9r5"
      },
      "execution_count": 82,
      "outputs": []
    },
    {
      "cell_type": "code",
      "source": [
        "for i in range(len(ROI_names)):\n",
        "  models[i].load_weights(f\"./Models/YOUNG/LSTM/AVG-BOLD/{ROI_names[i]}/model_weights-{LSTM_LAYERS}L-{HIDDEN_UNITS}H-{DENSE_LAYERS}D-{int(DROPOUT_PROB*10)}Drop-{LOOK_AHEAD}Ahead-{ROI_names[i]}\")"
      ],
      "metadata": {
        "id": "ZmcK48i3x9r5"
      },
      "execution_count": 83,
      "outputs": []
    },
    {
      "cell_type": "code",
      "source": [
        "preds = [models[i].predict(next(test_data_generator[i].generate())[0]) for i in range(len(ROI_names))]"
      ],
      "metadata": {
        "id": "PGnHWj_Ax9r5"
      },
      "execution_count": null,
      "outputs": []
    },
    {
      "cell_type": "code",
      "source": [
        "generate_each_sub_n_overall_pred_corr(preds)"
      ],
      "metadata": {
        "id": "ienvWgMix9r6"
      },
      "execution_count": null,
      "outputs": []
    }
  ]
}