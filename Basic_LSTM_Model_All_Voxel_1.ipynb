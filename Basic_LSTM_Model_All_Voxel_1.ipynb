{
  "nbformat": 4,
  "nbformat_minor": 0,
  "metadata": {
    "colab": {
      "name": "Basic-LSTM-Model-All-Voxel-1.ipynb",
      "provenance": [],
      "collapsed_sections": [],
      "authorship_tag": "ABX9TyNtF/X0sC8YXYycg2bbLyx4"
    },
    "kernelspec": {
      "name": "python3",
      "display_name": "Python 3"
    },
    "language_info": {
      "name": "python"
    },
    "gpuClass": "standard"
  },
  "cells": [
    {
      "cell_type": "markdown",
      "source": [
        "Set Colab to GPU Mode if you are training the models!"
      ],
      "metadata": {
        "id": "rN8VtTibW_kL"
      }
    },
    {
      "cell_type": "markdown",
      "source": [
        "### Mounting Google Drive"
      ],
      "metadata": {
        "id": "ESNkUUOEoS8j"
      }
    },
    {
      "cell_type": "code",
      "execution_count": 1,
      "metadata": {
        "id": "GWpiHXuGn6Oy",
        "colab": {
          "base_uri": "https://localhost:8080/"
        },
        "outputId": "72fca487-b992-4611-cba9-2fdd35eb7412"
      },
      "outputs": [
        {
          "output_type": "stream",
          "name": "stdout",
          "text": [
            "Mounted at /content/drive\n"
          ]
        }
      ],
      "source": [
        "from google.colab import drive\n",
        "drive.mount('/content/drive')"
      ]
    },
    {
      "cell_type": "code",
      "source": [
        "cd 'drive/MyDrive/IIT J Summer Internship 2022/Code/Neural-Uncertainty-Representation/'"
      ],
      "metadata": {
        "id": "bpxEP-yeoWPX",
        "colab": {
          "base_uri": "https://localhost:8080/"
        },
        "outputId": "cfeff362-8f35-4011-dbb6-2def877f7bc2"
      },
      "execution_count": 2,
      "outputs": [
        {
          "output_type": "stream",
          "name": "stdout",
          "text": [
            "/content/drive/.shortcut-targets-by-id/1h_oF16bG32l75GPobgHe_9HgdUduLFxT/IIT J Summer Internship 2022/Code/Neural-Uncertainty-Representation\n"
          ]
        }
      ]
    },
    {
      "cell_type": "markdown",
      "source": [
        "### Importing Necessary Libraries\n"
      ],
      "metadata": {
        "id": "Hq9mNRMMomT7"
      }
    },
    {
      "cell_type": "code",
      "source": [
        "import numpy as np\n",
        "import pandas as pd\n",
        "\n",
        "import tensorflow as tf\n",
        "\n",
        "from tensorflow.keras.layers import Dense, Dropout, LSTM, TimeDistributed\n",
        "from tensorflow.keras.models import Sequential\n",
        "from tensorflow.keras.optimizers import Adam\n",
        "\n",
        "from sklearn.preprocessing import MinMaxScaler\n",
        "\n",
        "import matplotlib.pyplot as plt\n",
        "import os"
      ],
      "metadata": {
        "id": "SRXBkwcIogPe"
      },
      "execution_count": 3,
      "outputs": []
    },
    {
      "cell_type": "markdown",
      "source": [
        "### Importing Data\n",
        "We import the data of a young subject's 3D-Tensor Data of dimensions (TR, Voxel, Number of Subjects) for the 5 different ROIs as follows:\n",
        "- **Prefrontal areas:** dlPFC, vlPFC, lOFC, dmPFC, mPFC, mOFC\n",
        "- **Default-mode areas:** mPFC, ACC, PCC, Precuneus, mOFC\n",
        "- **Sensory areas:** VC\n",
        "- **Multisensory area:** pSTS\n",
        "- **Some other areas:** TP, IPL, mCC, Put, PCG, Nac, INS\n",
        "\n",
        "\n",
        "\n"
      ],
      "metadata": {
        "id": "_R2-Cetmxned"
      }
    },
    {
      "cell_type": "code",
      "source": [
        "file_names = [name for name in os.listdir('/content/drive/MyDrive/IIT J Summer Internship 2022/Hitchcock/Data/YOUNG/Voxel_BOLD/Numpy') if name.endswith(\"npy\") and (\"(1)\" not in name)]\n",
        "file_names = [name for name in file_names if (\"537\" not in name)]"
      ],
      "metadata": {
        "id": "XUJPFBg1898z"
      },
      "execution_count": 4,
      "outputs": []
    },
    {
      "cell_type": "code",
      "source": [
        "ROI_names = [file_name.replace(\"data_\",\"\").replace(\".npy\",\"\") for file_name in file_names]"
      ],
      "metadata": {
        "id": "5lVnzf5N_Ufy"
      },
      "execution_count": 5,
      "outputs": []
    },
    {
      "cell_type": "code",
      "source": [
        "data_ori = list()\n",
        "for file_name in file_names:\n",
        "  data_ori.append(np.load('/content/drive/MyDrive/IIT J Summer Internship 2022/Hitchcock/Data/YOUNG/Voxel_BOLD/Numpy/'+file_name))"
      ],
      "metadata": {
        "id": "Kg22rkIGpfP2"
      },
      "execution_count": 6,
      "outputs": []
    },
    {
      "cell_type": "markdown",
      "source": [
        "### Data Preparation"
      ],
      "metadata": {
        "id": "Kcaxzm8WDjgO"
      }
    },
    {
      "cell_type": "markdown",
      "source": [
        "Now, here we prepare the data to be fed to the Neural Network Architechtures. We can't predict the time ahead upto which the subjects are predicting correctly so, we will take a bit round about way to predict the BOLD values ahead in time(for several choices of time points e.g. 1 time point ahead, 2 time point ahead, etc) and will compare the results for young and old subjects."
      ],
      "metadata": {
        "id": "K9rJ8CAb97K2"
      }
    },
    {
      "cell_type": "markdown",
      "source": [
        "Right from the starting we decide some of the data preparation parameters, so that we can use them as we require."
      ],
      "metadata": {
        "id": "im3Oqy2ueeEU"
      }
    },
    {
      "cell_type": "code",
      "source": [
        "TRAIN_BATCH_SIZE = 20\n",
        "TEST_BATCH_SIZE = 10\n",
        "LOOK_AHEAD = 1\n",
        "NUM_TEST_SUBS = 10"
      ],
      "metadata": {
        "id": "X1DoZ2Fcec20"
      },
      "execution_count": 7,
      "outputs": []
    },
    {
      "cell_type": "markdown",
      "source": [
        "We will avoid doing an average since, all voxels in a ROI is not equally important and hence we will want to predict the BOLD values of several voxels simultaneously."
      ],
      "metadata": {
        "id": "TYuu8ZM2-u9z"
      }
    },
    {
      "cell_type": "code",
      "source": [
        "data = data_ori"
      ],
      "metadata": {
        "id": "pFvaFL69geft"
      },
      "execution_count": 8,
      "outputs": []
    },
    {
      "cell_type": "markdown",
      "source": [
        "Let's Start the Data Preparation for lOFC later we will iterate the same procedure for the other ROIs."
      ],
      "metadata": {
        "id": "mY3usMssn3T5"
      }
    },
    {
      "cell_type": "code",
      "source": [
        "print(ROI_names[-1], \"BOLD Shape:\", data[-1].shape)"
      ],
      "metadata": {
        "id": "71dv3Zkcgu3N",
        "colab": {
          "base_uri": "https://localhost:8080/"
        },
        "outputId": "961ed825-243a-445b-f350-f078c63ea2dc"
      },
      "execution_count": 9,
      "outputs": [
        {
          "output_type": "stream",
          "name": "stdout",
          "text": [
            "lOFC BOLD Shape: (189, 537, 111)\n"
          ]
        }
      ]
    },
    {
      "cell_type": "markdown",
      "source": [
        "Below, we see the BOLD time series plot for all the ROIs."
      ],
      "metadata": {
        "id": "jG7ofnvRczcN"
      }
    },
    {
      "cell_type": "markdown",
      "source": [
        "We have changed the data in the form (Number of Subjects, TR, Voxels) below."
      ],
      "metadata": {
        "id": "-wIOccLpE0d-"
      }
    },
    {
      "cell_type": "code",
      "source": [
        "data = [np.transpose(dat, (2,0,1)) for dat in data]"
      ],
      "metadata": {
        "id": "0pHK54KjDnah"
      },
      "execution_count": 10,
      "outputs": []
    },
    {
      "cell_type": "code",
      "source": [
        "print(ROI_names[-1], \"BOLD Shape:\", data[-1].shape)"
      ],
      "metadata": {
        "id": "HRXHJ1cwgrzp",
        "colab": {
          "base_uri": "https://localhost:8080/"
        },
        "outputId": "f54fc9a8-7de8-43a3-dbf8-3ac3aeef5cf8"
      },
      "execution_count": 11,
      "outputs": [
        {
          "output_type": "stream",
          "name": "stdout",
          "text": [
            "lOFC BOLD Shape: (111, 189, 537)\n"
          ]
        }
      ]
    },
    {
      "cell_type": "code",
      "source": [
        "# for i in range(len(data)):  \n",
        "#   plt.figure(figsize=(10, 8))\n",
        "#   plt.plot(data[i][0,:,:])\n",
        "#   plt.title(\"BOLD of 1st Subject for \"+ROI_names[i]+\"'s Voxels\")\n",
        "#   plt.xlabel(\"TRs\")\n",
        "#   plt.ylabel(\"BOLD\")\n",
        "#   plt.savefig(\"./Plots/YOUNG/ALL-BOLD/ALL-BOLD-\"+ROI_names[i]+\".png\")"
      ],
      "metadata": {
        "id": "AseI4ZNeg26E"
      },
      "execution_count": 12,
      "outputs": []
    },
    {
      "cell_type": "markdown",
      "source": [
        "We split the dataset of 111 young subjects into 101 subjects in the training data and 10 subject in the test data."
      ],
      "metadata": {
        "id": "gg50q17pp5xQ"
      }
    },
    {
      "cell_type": "code",
      "source": [
        "train_data_unscaled = [dat[:-NUM_TEST_SUBS] for dat in data]\n",
        "test_data_unscaled = [dat[-NUM_TEST_SUBS:] for dat in data]  "
      ],
      "metadata": {
        "id": "hrldyz8XnDlv"
      },
      "execution_count": 13,
      "outputs": []
    },
    {
      "cell_type": "markdown",
      "source": [
        "We scaled the BOLD values of each voxel in the train data between 0 and 1 for each voxel. We use the same MinMaxScaler fit on the train data on the test data."
      ],
      "metadata": {
        "id": "MDV7H0sYt6jd"
      }
    },
    {
      "cell_type": "code",
      "source": [
        "scalers = dict() # Stores a list of MinMaxScalers for each ROI, where number of MinMaxScalers is equal to the number of voxels in that ROI\n",
        "for i in range(len(ROI_names)):\n",
        "  scalers[ROI_names[i]] = [MinMaxScaler(feature_range = (0, 1)) for _ in range(data[i].shape[-1])]\n",
        "\n",
        "train_data = [[scalers[ROI_names[j]][i].fit_transform(train_data_unscaled[j][:,:,i]) for i in range(len(scalers[ROI_names[j]]))] for j in range(len(ROI_names))]\n",
        "test_data = [[scalers[ROI_names[j]][i].transform(test_data_unscaled[j][:,:,i]) for i in range(len(scalers[ROI_names[j]]))] for j in range(len(ROI_names))]"
      ],
      "metadata": {
        "id": "-xkJQLj3tORj"
      },
      "execution_count": 14,
      "outputs": []
    },
    {
      "cell_type": "code",
      "source": [
        "train_data = [np.transpose(np.array(dat), (1,2,0)) for dat in train_data]\n",
        "test_data = [np.transpose(np.array(dat), (1,2,0)) for dat in test_data]"
      ],
      "metadata": {
        "id": "Ail126iVuR6s"
      },
      "execution_count": 15,
      "outputs": []
    },
    {
      "cell_type": "code",
      "source": [
        "print(ROI_names[-1], \"Train Data Shape: \", train_data[-1].shape)\n",
        "print(ROI_names[-1], \"Test Data Shape: \", test_data[-1].shape)"
      ],
      "metadata": {
        "id": "_cOAv_VrnbLU",
        "colab": {
          "base_uri": "https://localhost:8080/"
        },
        "outputId": "12af1b20-ed95-47c0-a808-3f70f2ddfb4f"
      },
      "execution_count": 16,
      "outputs": [
        {
          "output_type": "stream",
          "name": "stdout",
          "text": [
            "lOFC Train Data Shape:  (101, 189, 537)\n",
            "lOFC Test Data Shape:  (10, 189, 537)\n"
          ]
        }
      ]
    },
    {
      "cell_type": "code",
      "source": [
        "# for i in range(len(data)):  \n",
        "#   plt.figure(figsize=(10, 8))\n",
        "#   plt.plot(train_data[i][0,:,:])\n",
        "#   plt.title(\"BOLD of 1st Subject for \"+ROI_names[i]+\"'s Voxels\")\n",
        "#   plt.xlabel(\"TRs\")\n",
        "#   plt.ylabel(\"BOLD[Scaled between 0 and 1]\")\n",
        "#   plt.savefig(\"./Plots/YOUNG/ALL-BOLD/ALL-BOLD-SCALED-\"+ROI_names[i]+\".png\")"
      ],
      "metadata": {
        "id": "YIlJSRX92txN"
      },
      "execution_count": 17,
      "outputs": []
    },
    {
      "cell_type": "markdown",
      "source": [
        "We now build a data generator which would produce mini-batches during the training of the neural network."
      ],
      "metadata": {
        "id": "0yjlAwWeiEru"
      }
    },
    {
      "cell_type": "code",
      "source": [
        "class KerasBatchGenerator(object):\n",
        "    def __init__(self, data, num_TRs, batch_size, look_ahead=1):\n",
        "        self.data = data\n",
        "        self.num_TRs = num_TRs\n",
        "        self.batch_size = batch_size\n",
        "        self.current_idx = 0\n",
        "        self.look_ahead = look_ahead\n",
        "\n",
        "    def generate(self):\n",
        "        while True:\n",
        "            if self.current_idx + self.batch_size >= self.data.shape[0]:\n",
        "              self.current_idx = 0\n",
        "            x = self.data[self.current_idx:(self.current_idx+self.batch_size),:(-self.look_ahead),:]\n",
        "            y = self.data[self.current_idx:(self.current_idx+self.batch_size),self.look_ahead:,:]\n",
        "            self.current_idx = self.current_idx + self.batch_size\n",
        "            yield x, y "
      ],
      "metadata": {
        "id": "Blko7LXpgtwA"
      },
      "execution_count": 18,
      "outputs": []
    },
    {
      "cell_type": "code",
      "source": [
        "train_data_generator = [KerasBatchGenerator(dat, dat.shape[1], TRAIN_BATCH_SIZE, LOOK_AHEAD) for dat in train_data]\n",
        "test_data_generator = [KerasBatchGenerator(dat, dat.shape[1], TEST_BATCH_SIZE, LOOK_AHEAD) for dat in test_data]"
      ],
      "metadata": {
        "id": "lZN56Eg3mrsc"
      },
      "execution_count": 19,
      "outputs": []
    },
    {
      "cell_type": "code",
      "source": [
        "batch_x, batch_y = next(train_data_generator[-1].generate())\n",
        "print(ROI_names[-1], \"Train Batch X Shape: \", batch_x.shape)\n",
        "print(ROI_names[-1], \"Train Batch y Shape: \", batch_y.shape)"
      ],
      "metadata": {
        "colab": {
          "base_uri": "https://localhost:8080/"
        },
        "id": "5UPT6iRxpJ7c",
        "outputId": "d0df1b85-fe71-49aa-a927-c817f7a744a7"
      },
      "execution_count": 20,
      "outputs": [
        {
          "output_type": "stream",
          "name": "stdout",
          "text": [
            "lOFC Train Batch X Shape:  (20, 188, 537)\n",
            "lOFC Train Batch y Shape:  (20, 188, 537)\n"
          ]
        }
      ]
    },
    {
      "cell_type": "code",
      "source": [
        "batch_x, batch_y = next(test_data_generator[-1].generate())\n",
        "print(ROI_names[-1], \"Test Batch X Shape: \", batch_x.shape)\n",
        "print(ROI_names[-1], \"Test Batch y Shape: \", batch_y.shape)"
      ],
      "metadata": {
        "colab": {
          "base_uri": "https://localhost:8080/"
        },
        "id": "Clavfro-pSEV",
        "outputId": "e7f3f92c-8e95-493d-849d-decf277e7fd2"
      },
      "execution_count": 21,
      "outputs": [
        {
          "output_type": "stream",
          "name": "stdout",
          "text": [
            "lOFC Test Batch X Shape:  (10, 188, 537)\n",
            "lOFC Test Batch y Shape:  (10, 188, 537)\n"
          ]
        }
      ]
    },
    {
      "cell_type": "markdown",
      "source": [
        "### Building Model"
      ],
      "metadata": {
        "id": "31NRewZjqoi1"
      }
    },
    {
      "cell_type": "markdown",
      "source": [
        "We will start off by building a LSTM Model:\n",
        "- `Number of LSTM Layers = 2`\n",
        "- `Number of Dense Layers = 4`\n",
        "- `hidden units = 32`\n",
        "- `dropout = 0.3`"
      ],
      "metadata": {
        "id": "8Ry-jGmHqqx0"
      }
    },
    {
      "cell_type": "code",
      "source": [
        "HIDDEN_UNITS = 32\n",
        "DROPOUT_PROB = 0.3\n",
        "LSTM_LAYERS = 2\n",
        "DENSE_LAYERS = 4"
      ],
      "metadata": {
        "id": "AKDAJkiVgK2n"
      },
      "execution_count": 22,
      "outputs": []
    },
    {
      "cell_type": "code",
      "source": [
        "def avg_bold_model(num_voxs):\n",
        "  model = Sequential()\n",
        "  for _ in range(LSTM_LAYERS):\n",
        "    model.add(LSTM(HIDDEN_UNITS, return_sequences=True))\n",
        "  model.add(Dropout(0.3))\n",
        "  for _ in range(DENSE_LAYERS-1):\n",
        "    model.add(TimeDistributed(Dense(HIDDEN_UNITS)))\n",
        "  model.add(TimeDistributed(Dense(num_voxs)))\n",
        "  return model"
      ],
      "metadata": {
        "id": "fqoXwHTTqqCR"
      },
      "execution_count": 23,
      "outputs": []
    },
    {
      "cell_type": "code",
      "source": [
        "sample_model = avg_bold_model(batch_x.shape[-1])\n",
        "sample_model.build(input_shape=batch_x.shape)\n",
        "sample_model.summary()"
      ],
      "metadata": {
        "colab": {
          "base_uri": "https://localhost:8080/"
        },
        "id": "nYHgnyz-v5nA",
        "outputId": "0ace55f9-8186-4bde-be50-fb3f30c5295e"
      },
      "execution_count": 24,
      "outputs": [
        {
          "output_type": "stream",
          "name": "stdout",
          "text": [
            "Model: \"sequential\"\n",
            "_________________________________________________________________\n",
            " Layer (type)                Output Shape              Param #   \n",
            "=================================================================\n",
            " lstm (LSTM)                 (10, 188, 32)             72960     \n",
            "                                                                 \n",
            " lstm_1 (LSTM)               (10, 188, 32)             8320      \n",
            "                                                                 \n",
            " dropout (Dropout)           (10, 188, 32)             0         \n",
            "                                                                 \n",
            " time_distributed (TimeDistr  (10, 188, 32)            1056      \n",
            " ibuted)                                                         \n",
            "                                                                 \n",
            " time_distributed_1 (TimeDis  (10, 188, 32)            1056      \n",
            " tributed)                                                       \n",
            "                                                                 \n",
            " time_distributed_2 (TimeDis  (10, 188, 32)            1056      \n",
            " tributed)                                                       \n",
            "                                                                 \n",
            " time_distributed_3 (TimeDis  (10, 188, 537)           17721     \n",
            " tributed)                                                       \n",
            "                                                                 \n",
            "=================================================================\n",
            "Total params: 102,169\n",
            "Trainable params: 102,169\n",
            "Non-trainable params: 0\n",
            "_________________________________________________________________\n"
          ]
        }
      ]
    },
    {
      "cell_type": "code",
      "source": [
        "models = [avg_bold_model(train_data[i].shape[-1]) for i in range(len(ROI_names))]"
      ],
      "metadata": {
        "id": "fUZSBnNft2Dl"
      },
      "execution_count": 25,
      "outputs": []
    },
    {
      "cell_type": "markdown",
      "source": [
        "#### Training Model"
      ],
      "metadata": {
        "id": "3PRKFwUahAKG"
      }
    },
    {
      "cell_type": "markdown",
      "source": [
        "If you haven't already trained the models then uncomment and train your models which will be saved and will be loaded for inference later."
      ],
      "metadata": {
        "id": "LsHnfCSrhC0g"
      }
    },
    {
      "cell_type": "code",
      "source": [
        "for i in range(len(ROI_names)):\n",
        "  models[i].compile(optimizer = 'adam', loss = 'mean_squared_error')"
      ],
      "metadata": {
        "id": "kf-dFQmfzqTA"
      },
      "execution_count": 26,
      "outputs": []
    },
    {
      "cell_type": "code",
      "source": [
        "# EPOCHS = 100\n",
        "# checkpoint_filepaths = [f\"./Models/YOUNG/LSTM/ALL-BOLD/{name}/model_weights-best-val-loss-{LSTM_LAYERS}L-{HIDDEN_UNITS}H-{DENSE_LAYERS}D-{int(DROPOUT_PROB*10)}Drop-{LOOK_AHEAD}Ahead-{name}\" for name in ROI_names]\n",
        "# model_checkpoint_callbacks = [tf.keras.callbacks.ModelCheckpoint(\n",
        "#     filepath=checkpoint_filepath,\n",
        "#     save_weights_only=True,\n",
        "#     monitor = \"val_loss\",\n",
        "#     mode='min',\n",
        "#     save_best_only=True) for checkpoint_filepath in checkpoint_filepaths]"
      ],
      "metadata": {
        "id": "vcZsfhkz3lCH"
      },
      "execution_count": 27,
      "outputs": []
    },
    {
      "cell_type": "code",
      "source": [
        "# def plot_train_test_loss(history, model_name, i):  \n",
        "#   plt.figure(figsize=(10,10))\n",
        "#   plt.plot(history.history['loss'])\n",
        "#   plt.plot(history.history['val_loss'])\n",
        "#   plt.title(model_name+' loss')\n",
        "#   plt.ylabel('loss')\n",
        "#   plt.xlabel('epochs')\n",
        "#   plt.legend(['train', 'val'], loc='upper left')\n",
        "#   plt.savefig(\"./Plots/YOUNG/LSTM/ALL-BOLD/\"+ROI_names[i]+\"/\"+model_name+\"-loss.png\")"
      ],
      "metadata": {
        "id": "wECZbf2i_AH7"
      },
      "execution_count": 28,
      "outputs": []
    },
    {
      "cell_type": "code",
      "source": [
        "# histories = list()\n",
        "# with tf.device('/device:GPU:0'):\n",
        "#   for i in range(len(ROI_names)):\n",
        "#     history = models[i].fit(\n",
        "#                     train_data_generator[i].generate(),\n",
        "#                     steps_per_epoch=train_data[i].shape[0]//TRAIN_BATCH_SIZE,\n",
        "#                     epochs=EPOCHS,\n",
        "#                     validation_data=test_data_generator[i].generate(),\n",
        "#                     validation_steps=test_data[i].shape[0]//TEST_BATCH_SIZE,\n",
        "#                     callbacks=[model_checkpoint_callbacks[i]]\n",
        "#                     )\n",
        "#     models[i].save_weights(f\"./Models/YOUNG/LSTM/ALL-BOLD/{ROI_names[i]}/model_weights-{LSTM_LAYERS}L-{HIDDEN_UNITS}H-{DENSE_LAYERS}D-{int(DROPOUT_PROB*10)}Drop-{LOOK_AHEAD}Ahead-{ROI_names[i]}\")\n",
        "#     plot_train_test_loss(history, f\"{LSTM_LAYERS}L-{HIDDEN_UNITS}H-{DENSE_LAYERS}D-{int(DROPOUT_PROB*10)}Drop-{LOOK_AHEAD}Ahead-{ROI_names[i]}\", i)\n",
        "#     histories.append(history)"
      ],
      "metadata": {
        "id": "AFb-kTLR21hl"
      },
      "execution_count": null,
      "outputs": []
    },
    {
      "cell_type": "code",
      "source": [
        "for i in range(len(ROI_names)):\n",
        "  models[i].load_weights(f\"./Models/YOUNG/LSTM/ALL-BOLD/{ROI_names[i]}/model_weights-{LSTM_LAYERS}L-{HIDDEN_UNITS}H-{DENSE_LAYERS}D-{int(DROPOUT_PROB*10)}Drop-{LOOK_AHEAD}Ahead-{ROI_names[i]}\")"
      ],
      "metadata": {
        "id": "dKvn0145hViW"
      },
      "execution_count": 27,
      "outputs": []
    },
    {
      "cell_type": "code",
      "source": [
        "preds = [models[i].predict(next(test_data_generator[i].generate())[0]) for i in range(len(ROI_names))]"
      ],
      "metadata": {
        "id": "7mpQ5Rap6kQ0",
        "colab": {
          "base_uri": "https://localhost:8080/"
        },
        "outputId": "6da70249-0ac3-4203-92aa-01e5a4c540d9"
      },
      "execution_count": 28,
      "outputs": [
        {
          "output_type": "stream",
          "name": "stdout",
          "text": [
            "WARNING:tensorflow:5 out of the last 5 calls to <function Model.make_predict_function.<locals>.predict_function at 0x7f6bd68e3d40> triggered tf.function retracing. Tracing is expensive and the excessive number of tracings could be due to (1) creating @tf.function repeatedly in a loop, (2) passing tensors with different shapes, (3) passing Python objects instead of tensors. For (1), please define your @tf.function outside of the loop. For (2), @tf.function has experimental_relax_shapes=True option that relaxes argument shapes that can avoid unnecessary retracing. For (3), please refer to https://www.tensorflow.org/guide/function#controlling_retracing and https://www.tensorflow.org/api_docs/python/tf/function for  more details.\n",
            "WARNING:tensorflow:6 out of the last 6 calls to <function Model.make_predict_function.<locals>.predict_function at 0x7f6bd7048560> triggered tf.function retracing. Tracing is expensive and the excessive number of tracings could be due to (1) creating @tf.function repeatedly in a loop, (2) passing tensors with different shapes, (3) passing Python objects instead of tensors. For (1), please define your @tf.function outside of the loop. For (2), @tf.function has experimental_relax_shapes=True option that relaxes argument shapes that can avoid unnecessary retracing. For (3), please refer to https://www.tensorflow.org/guide/function#controlling_retracing and https://www.tensorflow.org/api_docs/python/tf/function for  more details.\n"
          ]
        }
      ]
    },
    {
      "cell_type": "code",
      "source": [
        "a_TRs = np.array([56, 67, 73, 81, 134, 142, 155, 167, 174, 180])\n",
        "d_TRs = np.array([67, 72, 85, 89, 145, 154, 168, 174, 180, 188])\n",
        "and_TRs = np.union1d(a_TRs, d_TRs)\n",
        "\n",
        "def highlight_and(act, pred):\n",
        "  min_y_list = list()\n",
        "  max_y_list = list()\n",
        "  for i in range(5):\n",
        "    min_y_list.append(np.min(np.concatenate([act[a_TRs[2*i]:d_TRs[2*i+1]], pred[a_TRs[2*i]:d_TRs[2*i+1]]])))\n",
        "    max_y_list.append(np.max(np.concatenate([act[a_TRs[2*i]:d_TRs[2*i+1]], pred[a_TRs[2*i]:d_TRs[2*i+1]]])))\n",
        "    # plt.fill_betweenx(y=[min_y_list[i], max_y_list[i]], x1=a_TRs[2*i], x2=d_TRs[2*i+1], color='gray', alpha=0.1)\n",
        "    plt.fill_betweenx(y=[min_y_list[i], max_y_list[i]], x1=a_TRs[2*i], x2=a_TRs[2*i+1], color='violet', alpha=0.4)\n",
        "    plt.fill_betweenx(y=[min_y_list[i], max_y_list[i]], x1=d_TRs[2*i], x2=d_TRs[2*i+1], color='greenyellow', alpha=0.4)"
      ],
      "metadata": {
        "id": "HeE2zhmXxOge"
      },
      "execution_count": 29,
      "outputs": []
    },
    {
      "cell_type": "code",
      "source": [
        "np.random.seed(43)\n",
        "for i in range(len(ROI_names)):\n",
        "  \n",
        "  actual_test_data_output = test_data_unscaled[i][:,LOOK_AHEAD:,:]\n",
        "  pred_test_data_output = np.transpose(np.array([scalers[ROI_names[i]][j].inverse_transform(np.hstack([preds[i][:,:,j], preds[i][:,:LOOK_AHEAD,j]])) for j in range(len(scalers[ROI_names[i]]))]), (1,2,0))[:,:-LOOK_AHEAD,:]\n",
        "  plt.figure(figsize=(24, 18))\n",
        "\n",
        "  for j in range(NUM_TEST_SUBS-1):\n",
        "  \n",
        "    ax = plt.subplot(3, 3, j + 1)\n",
        "    vox_choice = np.random.randint(0, len(scalers[ROI_names[i]]), 5)\n",
        "    plt.plot(np.transpose(actual_test_data_output[j,:, vox_choice]), c='b', label='actual')\n",
        "    plt.plot(np.transpose(pred_test_data_output[j,:, vox_choice]), c='r', ls='--', label='pred')\n",
        "    # highlight_and(actual_test_data_output[j,:], pred_test_data_output[j,:])\n",
        "    plt.xticks(np.concatenate([np.array([0]), and_TRs - LOOK_AHEAD]), np.concatenate([np.array([LOOK_AHEAD]), and_TRs]))\n",
        "    plt.ylabel(\"BOLD\")\n",
        "    plt.xlabel(\"TRs\")\n",
        "    plt.title(f\"All BOLD Preds of {LSTM_LAYERS}L-{HIDDEN_UNITS}H-{DENSE_LAYERS}D-{int(DROPOUT_PROB*10)}Drop-{LOOK_AHEAD}Ahead for {j+1}th Test Sub's {ROI_names[i]}\")\n",
        "    plt.legend()\n",
        "    plt.savefig(f\"./Plots/YOUNG/LSTM/ALL-BOLD/{ROI_names[i]}/{LSTM_LAYERS}L-{HIDDEN_UNITS}H-{DENSE_LAYERS}D-{int(DROPOUT_PROB*10)}Drop-{LOOK_AHEAD}Ahead-Preds.png\")"
      ],
      "metadata": {
        "id": "WBLOHLixAWnk"
      },
      "execution_count": null,
      "outputs": []
    },
    {
      "cell_type": "code",
      "source": [
        "print(\"***Each Test Subject's Correlation Coefficient between predicted and actual BOLD averaged across each Voxel Prediction values for ROIs***\")\n",
        "print()\n",
        "avg_r = list()\n",
        "for i in range(len(ROI_names)):\n",
        "  actual_test_data_output = test_data_unscaled[i][:,LOOK_AHEAD:,:]\n",
        "  pred_test_data_output = np.transpose(np.array([scalers[ROI_names[i]][j].inverse_transform(np.hstack([preds[i][:,:,j], preds[i][:,:LOOK_AHEAD,j]])) for j in range(len(scalers[ROI_names[i]]))]), (1,2,0))[:,:-LOOK_AHEAD,:] \n",
        "  for j in range(NUM_TEST_SUBS):\n",
        "    print(f\"{ROI_names[i]} for {j+1}th sub: {np.round(np.trace(np.corrcoef(actual_test_data_output[j,:,:], pred_test_data_output[j,:,:], rowvar=False)[:actual_test_data_output.shape[-1], actual_test_data_output.shape[-1]:])/actual_test_data_output.shape[-1], 2)}\")\n",
        "  print()\n",
        "\n",
        "print(\"***Average across test subjects Correlation Coefficient between predicted and actual BOLD averaged across each Voxel Prediction values for ROIs***\")\n",
        "print()\n",
        "for i in range(len(ROI_names)):\n",
        "  actual_test_data_output = test_data_unscaled[i][:,LOOK_AHEAD:,:]\n",
        "  pred_test_data_output = np.transpose(np.array([scalers[ROI_names[i]][j].inverse_transform(np.hstack([preds[i][:,:,j], preds[i][:,:LOOK_AHEAD,j]])) for j in range(len(scalers[ROI_names[i]]))]), (1,2,0))[:,:-LOOK_AHEAD,:]\n",
        "  sum_r = 0\n",
        "  for j in range(NUM_TEST_SUBS):\n",
        "    sum_r += np.trace(np.corrcoef(actual_test_data_output[j,:,:], pred_test_data_output[j,:,:], rowvar=False)[:actual_test_data_output.shape[-1], actual_test_data_output.shape[-1]:]/actual_test_data_output.shape[-1])\n",
        "  print(f\"{ROI_names[i]}: {np.round(sum_r / NUM_TEST_SUBS, 2)}\")"
      ],
      "metadata": {
        "colab": {
          "base_uri": "https://localhost:8080/"
        },
        "id": "J8hiJzxcKFuz",
        "outputId": "2fb1a535-4660-40fd-8e78-d1640b111f5c"
      },
      "execution_count": 34,
      "outputs": [
        {
          "output_type": "stream",
          "name": "stdout",
          "text": [
            "***Each Test Subject's Correlation Coefficient between predicted and actual BOLD averaged across each Voxel Prediction values for ROIs***\n",
            "\n",
            "dmPFC for 1th sub: 0.39\n",
            "dmPFC for 2th sub: 0.52\n",
            "dmPFC for 3th sub: 0.37\n",
            "dmPFC for 4th sub: 0.24\n",
            "dmPFC for 5th sub: 0.23\n",
            "dmPFC for 6th sub: 0.41\n",
            "dmPFC for 7th sub: 0.2\n",
            "dmPFC for 8th sub: 0.37\n",
            "dmPFC for 9th sub: 0.46\n",
            "dmPFC for 10th sub: 0.21\n",
            "\n",
            "ACC for 1th sub: 0.25\n",
            "ACC for 2th sub: 0.34\n",
            "ACC for 3th sub: 0.13\n",
            "ACC for 4th sub: 0.22\n",
            "ACC for 5th sub: 0.16\n",
            "ACC for 6th sub: 0.27\n",
            "ACC for 7th sub: 0.19\n",
            "ACC for 8th sub: 0.5\n",
            "ACC for 9th sub: 0.29\n",
            "ACC for 10th sub: 0.31\n",
            "\n",
            "AMY for 1th sub: 0.27\n",
            "AMY for 2th sub: 0.29\n",
            "AMY for 3th sub: 0.55\n",
            "AMY for 4th sub: 0.21\n",
            "AMY for 5th sub: 0.13\n",
            "AMY for 6th sub: 0.42\n",
            "AMY for 7th sub: 0.17\n",
            "AMY for 8th sub: 0.57\n",
            "AMY for 9th sub: 0.22\n",
            "AMY for 10th sub: 0.04\n",
            "\n",
            "Cau for 1th sub: 0.15\n",
            "Cau for 2th sub: 0.58\n",
            "Cau for 3th sub: 0.27\n",
            "Cau for 4th sub: 0.11\n",
            "Cau for 5th sub: 0.32\n",
            "Cau for 6th sub: 0.11\n",
            "Cau for 7th sub: 0.07\n",
            "Cau for 8th sub: 0.28\n",
            "Cau for 9th sub: 0.51\n",
            "Cau for 10th sub: 0.35\n",
            "\n",
            "dlPFC for 1th sub: 0.33\n",
            "dlPFC for 2th sub: 0.24\n",
            "dlPFC for 3th sub: 0.37\n",
            "dlPFC for 4th sub: 0.31\n",
            "dlPFC for 5th sub: 0.19\n",
            "dlPFC for 6th sub: 0.12\n",
            "dlPFC for 7th sub: 0.22\n",
            "dlPFC for 8th sub: 0.21\n",
            "dlPFC for 9th sub: 0.33\n",
            "dlPFC for 10th sub: 0.28\n",
            "\n",
            "INS for 1th sub: 0.31\n",
            "INS for 2th sub: 0.74\n",
            "INS for 3th sub: 0.55\n",
            "INS for 4th sub: 0.5\n",
            "INS for 5th sub: 0.07\n",
            "INS for 6th sub: 0.46\n",
            "INS for 7th sub: 0.12\n",
            "INS for 8th sub: 0.48\n",
            "INS for 9th sub: 0.14\n",
            "INS for 10th sub: 0.35\n",
            "\n",
            "IPL for 1th sub: 0.38\n",
            "IPL for 2th sub: 0.34\n",
            "IPL for 3th sub: 0.47\n",
            "IPL for 4th sub: 0.47\n",
            "IPL for 5th sub: 0.39\n",
            "IPL for 6th sub: 0.22\n",
            "IPL for 7th sub: 0.44\n",
            "IPL for 8th sub: 0.56\n",
            "IPL for 9th sub: 0.33\n",
            "IPL for 10th sub: 0.35\n",
            "\n",
            "mCC for 1th sub: 0.19\n",
            "mCC for 2th sub: 0.07\n",
            "mCC for 3th sub: 0.36\n",
            "mCC for 4th sub: 0.13\n",
            "mCC for 5th sub: 0.3\n",
            "mCC for 6th sub: 0.71\n",
            "mCC for 7th sub: 0.13\n",
            "mCC for 8th sub: 0.35\n",
            "mCC for 9th sub: 0.21\n",
            "mCC for 10th sub: 0.24\n",
            "\n",
            "Nac for 1th sub: 0.18\n",
            "Nac for 2th sub: 0.4\n",
            "Nac for 3th sub: 0.25\n",
            "Nac for 4th sub: 0.35\n",
            "Nac for 5th sub: 0.25\n",
            "Nac for 6th sub: 0.17\n",
            "Nac for 7th sub: 0.11\n",
            "Nac for 8th sub: 0.34\n",
            "Nac for 9th sub: 0.72\n",
            "Nac for 10th sub: 0.26\n",
            "\n",
            "PCC for 1th sub: 0.3\n",
            "PCC for 2th sub: 0.39\n",
            "PCC for 3th sub: 0.5\n",
            "PCC for 4th sub: 0.37\n",
            "PCC for 5th sub: 0.18\n",
            "PCC for 6th sub: 0.56\n",
            "PCC for 7th sub: 0.29\n",
            "PCC for 8th sub: 0.46\n",
            "PCC for 9th sub: 0.24\n",
            "PCC for 10th sub: 0.32\n",
            "\n",
            "PCG for 1th sub: 0.23\n",
            "PCG for 2th sub: 0.23\n",
            "PCG for 3th sub: 0.31\n",
            "PCG for 4th sub: 0.21\n",
            "PCG for 5th sub: 0.14\n",
            "PCG for 6th sub: 0.33\n",
            "PCG for 7th sub: 0.25\n",
            "PCG for 8th sub: 0.27\n",
            "PCG for 9th sub: 0.31\n",
            "PCG for 10th sub: 0.45\n",
            "\n",
            "Prec for 1th sub: 0.38\n",
            "Prec for 2th sub: 0.44\n",
            "Prec for 3th sub: 0.5\n",
            "Prec for 4th sub: 0.41\n",
            "Prec for 5th sub: 0.26\n",
            "Prec for 6th sub: 0.53\n",
            "Prec for 7th sub: 0.4\n",
            "Prec for 8th sub: 0.57\n",
            "Prec for 9th sub: 0.31\n",
            "Prec for 10th sub: 0.48\n",
            "\n",
            "TP for 1th sub: 0.57\n",
            "TP for 2th sub: 0.45\n",
            "TP for 3th sub: 0.59\n",
            "TP for 4th sub: 0.46\n",
            "TP for 5th sub: 0.69\n",
            "TP for 6th sub: 0.35\n",
            "TP for 7th sub: 0.41\n",
            "TP for 8th sub: 0.74\n",
            "TP for 9th sub: 0.67\n",
            "TP for 10th sub: 0.62\n",
            "\n",
            "Put for 1th sub: 0.27\n",
            "Put for 2th sub: 0.13\n",
            "Put for 3th sub: 0.6\n",
            "Put for 4th sub: 0.05\n",
            "Put for 5th sub: 0.28\n",
            "Put for 6th sub: 0.25\n",
            "Put for 7th sub: 0.1\n",
            "Put for 8th sub: 0.48\n",
            "Put for 9th sub: 0.34\n",
            "Put for 10th sub: 0.04\n",
            "\n",
            "pSTS for 1th sub: 0.52\n",
            "pSTS for 2th sub: 0.44\n",
            "pSTS for 3th sub: 0.67\n",
            "pSTS for 4th sub: 0.45\n",
            "pSTS for 5th sub: 0.4\n",
            "pSTS for 6th sub: 0.62\n",
            "pSTS for 7th sub: 0.31\n",
            "pSTS for 8th sub: 0.67\n",
            "pSTS for 9th sub: 0.3\n",
            "pSTS for 10th sub: 0.31\n",
            "\n",
            "VC for 1th sub: 0.36\n",
            "VC for 2th sub: 0.24\n",
            "VC for 3th sub: 0.39\n",
            "VC for 4th sub: 0.34\n",
            "VC for 5th sub: 0.32\n",
            "VC for 6th sub: 0.3\n",
            "VC for 7th sub: 0.23\n",
            "VC for 8th sub: 0.47\n",
            "VC for 9th sub: 0.34\n",
            "VC for 10th sub: 0.4\n",
            "\n",
            "vlPFC for 1th sub: 0.38\n",
            "vlPFC for 2th sub: 0.33\n",
            "vlPFC for 3th sub: 0.52\n",
            "vlPFC for 4th sub: 0.45\n",
            "vlPFC for 5th sub: 0.28\n",
            "vlPFC for 6th sub: 0.26\n",
            "vlPFC for 7th sub: 0.36\n",
            "vlPFC for 8th sub: 0.41\n",
            "vlPFC for 9th sub: 0.46\n",
            "vlPFC for 10th sub: 0.27\n",
            "\n",
            "mOFC for 1th sub: 0.28\n",
            "mOFC for 2th sub: 0.28\n",
            "mOFC for 3th sub: 0.62\n",
            "mOFC for 4th sub: 0.76\n",
            "mOFC for 5th sub: 0.55\n",
            "mOFC for 6th sub: 0.47\n",
            "mOFC for 7th sub: 0.07\n",
            "mOFC for 8th sub: 0.73\n",
            "mOFC for 9th sub: 0.78\n",
            "mOFC for 10th sub: 0.34\n",
            "\n",
            "mPFC for 1th sub: 0.38\n",
            "mPFC for 2th sub: 0.09\n",
            "mPFC for 3th sub: 0.24\n",
            "mPFC for 4th sub: 0.41\n",
            "mPFC for 5th sub: 0.23\n",
            "mPFC for 6th sub: 0.18\n",
            "mPFC for 7th sub: 0.2\n",
            "mPFC for 8th sub: 0.78\n",
            "mPFC for 9th sub: 0.33\n",
            "mPFC for 10th sub: 0.27\n",
            "\n",
            "lOFC for 1th sub: 0.36\n",
            "lOFC for 2th sub: 0.26\n",
            "lOFC for 3th sub: 0.4\n",
            "lOFC for 4th sub: 0.68\n",
            "lOFC for 5th sub: 0.33\n",
            "lOFC for 6th sub: 0.13\n",
            "lOFC for 7th sub: 0.19\n",
            "lOFC for 8th sub: 0.58\n",
            "lOFC for 9th sub: 0.74\n",
            "lOFC for 10th sub: 0.16\n",
            "\n",
            "***Average across test subjects Correlation Coefficient between predicted and actual BOLD averaged across each Voxel Prediction values for ROIs***\n",
            "\n",
            "dmPFC: 0.34\n",
            "ACC: 0.26\n",
            "AMY: 0.29\n",
            "Cau: 0.28\n",
            "dlPFC: 0.26\n",
            "INS: 0.37\n",
            "IPL: 0.39\n",
            "mCC: 0.27\n",
            "Nac: 0.3\n",
            "PCC: 0.36\n",
            "PCG: 0.27\n",
            "Prec: 0.43\n",
            "TP: 0.56\n",
            "Put: 0.25\n",
            "pSTS: 0.47\n",
            "VC: 0.34\n",
            "vlPFC: 0.37\n",
            "mOFC: 0.49\n",
            "mPFC: 0.31\n",
            "lOFC: 0.38\n"
          ]
        }
      ]
    },
    {
      "cell_type": "code",
      "source": [
        "print(\"***Model's Final MSE(Train) Loss between predicted and actual all voxel BOLD values for ROIs for the Train Subjects***\")\n",
        "print()\n",
        "for i in range(len(ROI_names)):\n",
        "  print(ROI_names[i]+\":\", np.round(histories[i].history['loss'][-1], 5))\n",
        "print()\n",
        "print(\"***Model's Final MSE(Validation) Loss between predicted and actual all voxel BOLD values for ROIs for the Test Subjects***\")\n",
        "print()\n",
        "for i in range(len(ROI_names)):\n",
        "  print(ROI_names[i]+\":\", np.round(histories[i].history['val_loss'][-1], 5))"
      ],
      "metadata": {
        "id": "f8gPew9YMI2B"
      },
      "execution_count": null,
      "outputs": []
    }
  ]
}