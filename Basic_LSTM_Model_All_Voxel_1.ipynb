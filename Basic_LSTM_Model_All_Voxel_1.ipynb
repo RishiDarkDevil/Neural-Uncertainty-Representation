{
  "nbformat": 4,
  "nbformat_minor": 0,
  "metadata": {
    "colab": {
      "name": "Basic-LSTM-Model-All-Voxel-1.ipynb",
      "provenance": [],
      "collapsed_sections": [],
      "authorship_tag": "ABX9TyPNYHkoHaFBGmoTLMmVpEXH"
    },
    "kernelspec": {
      "name": "python3",
      "display_name": "Python 3"
    },
    "language_info": {
      "name": "python"
    },
    "gpuClass": "standard",
    "accelerator": "GPU"
  },
  "cells": [
    {
      "cell_type": "markdown",
      "source": [
        "Set Colab to GPU Mode if you are training the models!"
      ],
      "metadata": {
        "id": "rN8VtTibW_kL"
      }
    },
    {
      "cell_type": "markdown",
      "source": [
        "### Mounting Google Drive"
      ],
      "metadata": {
        "id": "ESNkUUOEoS8j"
      }
    },
    {
      "cell_type": "code",
      "execution_count": 1,
      "metadata": {
        "id": "GWpiHXuGn6Oy",
        "colab": {
          "base_uri": "https://localhost:8080/"
        },
        "outputId": "611011b2-8cac-4e24-a563-a1aa924a4232"
      },
      "outputs": [
        {
          "output_type": "stream",
          "name": "stdout",
          "text": [
            "Drive already mounted at /content/drive; to attempt to forcibly remount, call drive.mount(\"/content/drive\", force_remount=True).\n"
          ]
        }
      ],
      "source": [
        "from google.colab import drive\n",
        "drive.mount('/content/drive')"
      ]
    },
    {
      "cell_type": "code",
      "source": [
        "cd 'drive/MyDrive/IIT J Summer Internship 2022/Code/Neural-Uncertainty-Representation/'"
      ],
      "metadata": {
        "id": "bpxEP-yeoWPX",
        "colab": {
          "base_uri": "https://localhost:8080/"
        },
        "outputId": "86221262-a415-4c72-f6cc-515fc8c347fc"
      },
      "execution_count": 2,
      "outputs": [
        {
          "output_type": "stream",
          "name": "stdout",
          "text": [
            "/content/drive/.shortcut-targets-by-id/1h_oF16bG32l75GPobgHe_9HgdUduLFxT/IIT J Summer Internship 2022/Code/Neural-Uncertainty-Representation\n"
          ]
        }
      ]
    },
    {
      "cell_type": "markdown",
      "source": [
        "### Importing Necessary Libraries\n"
      ],
      "metadata": {
        "id": "Hq9mNRMMomT7"
      }
    },
    {
      "cell_type": "code",
      "source": [
        "import numpy as np\n",
        "import pandas as pd\n",
        "\n",
        "import tensorflow as tf\n",
        "\n",
        "from tensorflow.keras.layers import Dense, Dropout, LSTM, TimeDistributed\n",
        "from tensorflow.keras.models import Sequential\n",
        "from tensorflow.keras.optimizers import Adam\n",
        "\n",
        "from sklearn.preprocessing import MinMaxScaler\n",
        "\n",
        "import matplotlib.pyplot as plt\n",
        "import os"
      ],
      "metadata": {
        "id": "SRXBkwcIogPe"
      },
      "execution_count": 3,
      "outputs": []
    },
    {
      "cell_type": "markdown",
      "source": [
        "### Importing Data\n",
        "We import the data of a young subject's 3D-Tensor Data of dimensions (TR, Voxel, Number of Subjects) for the 5 different ROIs as follows:\n",
        "- **Prefrontal areas:** dlPFC, vlPFC, lOFC, dmPFC, mPFC, mOFC\n",
        "- **Default-mode areas:** mPFC, ACC, PCC, Precuneus, mOFC\n",
        "- **Sensory areas:** VC\n",
        "- **Multisensory area:** pSTS\n",
        "- **Some other areas:** TP, IPL, mCC, Put, PCG, Nac, INS\n",
        "\n",
        "\n",
        "\n"
      ],
      "metadata": {
        "id": "_R2-Cetmxned"
      }
    },
    {
      "cell_type": "code",
      "source": [
        "file_names = [name for name in os.listdir('/content/drive/MyDrive/IIT J Summer Internship 2022/Hitchcock/Data/YOUNG/Voxel_BOLD/Numpy') if name.endswith(\"npy\") and (\"(1)\" not in name)]\n",
        "file_names = [name for name in file_names if (\"537\" not in name)]"
      ],
      "metadata": {
        "id": "XUJPFBg1898z"
      },
      "execution_count": 4,
      "outputs": []
    },
    {
      "cell_type": "code",
      "source": [
        "ROI_names = [file_name.replace(\"data_\",\"\").replace(\".npy\",\"\") for file_name in file_names]"
      ],
      "metadata": {
        "id": "5lVnzf5N_Ufy"
      },
      "execution_count": 5,
      "outputs": []
    },
    {
      "cell_type": "code",
      "source": [
        "data_ori = list()\n",
        "for file_name in file_names:\n",
        "  data_ori.append(np.load('/content/drive/MyDrive/IIT J Summer Internship 2022/Hitchcock/Data/YOUNG/Voxel_BOLD/Numpy/'+file_name))"
      ],
      "metadata": {
        "id": "Kg22rkIGpfP2"
      },
      "execution_count": 6,
      "outputs": []
    },
    {
      "cell_type": "markdown",
      "source": [
        "### Data Preparation"
      ],
      "metadata": {
        "id": "Kcaxzm8WDjgO"
      }
    },
    {
      "cell_type": "markdown",
      "source": [
        "Now, here we prepare the data to be fed to the Neural Network Architechtures. We can't predict the time ahead upto which the subjects are predicting correctly so, we will take a bit round about way to predict the BOLD values ahead in time(for several choices of time points e.g. 1 time point ahead, 2 time point ahead, etc) and will compare the results for young and old subjects."
      ],
      "metadata": {
        "id": "K9rJ8CAb97K2"
      }
    },
    {
      "cell_type": "markdown",
      "source": [
        "Right from the starting we decide some of the data preparation parameters, so that we can use them as we require."
      ],
      "metadata": {
        "id": "im3Oqy2ueeEU"
      }
    },
    {
      "cell_type": "code",
      "source": [
        "TRAIN_BATCH_SIZE = 20\n",
        "TEST_BATCH_SIZE = 10\n",
        "LOOK_AHEAD = 1\n",
        "NUM_TEST_SUBS = 10"
      ],
      "metadata": {
        "id": "X1DoZ2Fcec20"
      },
      "execution_count": 7,
      "outputs": []
    },
    {
      "cell_type": "markdown",
      "source": [
        "We will avoid doing an average since, all voxels in a ROI is not equally important and hence we will want to predict the BOLD values of several voxels simultaneously."
      ],
      "metadata": {
        "id": "TYuu8ZM2-u9z"
      }
    },
    {
      "cell_type": "code",
      "source": [
        "data = data_ori"
      ],
      "metadata": {
        "id": "pFvaFL69geft"
      },
      "execution_count": 8,
      "outputs": []
    },
    {
      "cell_type": "markdown",
      "source": [
        "Let's Start the Data Preparation for lOFC later we will iterate the same procedure for the other ROIs."
      ],
      "metadata": {
        "id": "mY3usMssn3T5"
      }
    },
    {
      "cell_type": "code",
      "source": [
        "print(ROI_names[-1], \"BOLD Shape:\", data[-1].shape)"
      ],
      "metadata": {
        "id": "71dv3Zkcgu3N",
        "colab": {
          "base_uri": "https://localhost:8080/"
        },
        "outputId": "ebb0e59f-455b-491c-c1cc-537c032a8666"
      },
      "execution_count": 9,
      "outputs": [
        {
          "output_type": "stream",
          "name": "stdout",
          "text": [
            "lOFC BOLD Shape: (189, 537, 111)\n"
          ]
        }
      ]
    },
    {
      "cell_type": "markdown",
      "source": [
        "Below, we see the BOLD time series plot for all the ROIs."
      ],
      "metadata": {
        "id": "jG7ofnvRczcN"
      }
    },
    {
      "cell_type": "markdown",
      "source": [
        "We have changed the data in the form (Number of Subjects, TR, Voxels) below."
      ],
      "metadata": {
        "id": "-wIOccLpE0d-"
      }
    },
    {
      "cell_type": "code",
      "source": [
        "data = [np.transpose(dat, (2,0,1)) for dat in data]"
      ],
      "metadata": {
        "id": "0pHK54KjDnah"
      },
      "execution_count": 10,
      "outputs": []
    },
    {
      "cell_type": "code",
      "source": [
        "print(ROI_names[-1], \"BOLD Shape:\", data[-1].shape)"
      ],
      "metadata": {
        "id": "HRXHJ1cwgrzp",
        "colab": {
          "base_uri": "https://localhost:8080/"
        },
        "outputId": "9d1436e6-f3b6-455b-c1a6-01dbeccca54e"
      },
      "execution_count": 11,
      "outputs": [
        {
          "output_type": "stream",
          "name": "stdout",
          "text": [
            "lOFC BOLD Shape: (111, 189, 537)\n"
          ]
        }
      ]
    },
    {
      "cell_type": "code",
      "source": [
        "# for i in range(len(data)):  \n",
        "#   plt.figure(figsize=(10, 8))\n",
        "#   plt.plot(data[i][0,:,:])\n",
        "#   plt.title(\"BOLD of 1st Subject for \"+ROI_names[i]+\"'s Voxels\")\n",
        "#   plt.xlabel(\"TRs\")\n",
        "#   plt.ylabel(\"BOLD\")\n",
        "#   plt.savefig(\"./Plots/YOUNG/ALL-BOLD/ALL-BOLD-\"+ROI_names[i]+\".png\")"
      ],
      "metadata": {
        "id": "AseI4ZNeg26E"
      },
      "execution_count": 12,
      "outputs": []
    },
    {
      "cell_type": "markdown",
      "source": [
        "We split the dataset of 111 young subjects into 101 subjects in the training data and 10 subject in the test data."
      ],
      "metadata": {
        "id": "gg50q17pp5xQ"
      }
    },
    {
      "cell_type": "code",
      "source": [
        "train_data_unscaled = [dat[:-NUM_TEST_SUBS] for dat in data]\n",
        "test_data_unscaled = [dat[-NUM_TEST_SUBS:] for dat in data]  "
      ],
      "metadata": {
        "id": "hrldyz8XnDlv"
      },
      "execution_count": 13,
      "outputs": []
    },
    {
      "cell_type": "markdown",
      "source": [
        "We scaled the BOLD values of each voxel in the train data between 0 and 1 for each voxel. We use the same MinMaxScaler fit on the train data on the test data."
      ],
      "metadata": {
        "id": "MDV7H0sYt6jd"
      }
    },
    {
      "cell_type": "code",
      "source": [
        "scalers = dict() # Stores a list of MinMaxScalers for each ROI, where number of MinMaxScalers is equal to the number of voxels in that ROI\n",
        "for i in range(len(ROI_names)):\n",
        "  scalers[ROI_names[i]] = [MinMaxScaler(feature_range = (0, 1)) for _ in range(data[i].shape[-1])]\n",
        "\n",
        "train_data = [[scalers[ROI_names[j]][i].fit_transform(train_data_unscaled[j][:,:,i]) for i in range(len(scalers[ROI_names[j]]))] for j in range(len(ROI_names))]\n",
        "test_data = [[scalers[ROI_names[j]][i].transform(test_data_unscaled[j][:,:,i]) for i in range(len(scalers[ROI_names[j]]))] for j in range(len(ROI_names))]"
      ],
      "metadata": {
        "id": "-xkJQLj3tORj"
      },
      "execution_count": 14,
      "outputs": []
    },
    {
      "cell_type": "code",
      "source": [
        "train_data = [np.transpose(np.array(dat), (1,2,0)) for dat in train_data]\n",
        "test_data = [np.transpose(np.array(dat), (1,2,0)) for dat in test_data]"
      ],
      "metadata": {
        "id": "Ail126iVuR6s"
      },
      "execution_count": 15,
      "outputs": []
    },
    {
      "cell_type": "code",
      "source": [
        "print(ROI_names[-1], \"Train Data Shape: \", train_data[-1].shape)\n",
        "print(ROI_names[-1], \"Test Data Shape: \", test_data[-1].shape)"
      ],
      "metadata": {
        "id": "_cOAv_VrnbLU",
        "colab": {
          "base_uri": "https://localhost:8080/"
        },
        "outputId": "3662bf95-0def-4841-fc70-6bc14869d933"
      },
      "execution_count": 16,
      "outputs": [
        {
          "output_type": "stream",
          "name": "stdout",
          "text": [
            "lOFC Train Data Shape:  (101, 189, 537)\n",
            "lOFC Test Data Shape:  (10, 189, 537)\n"
          ]
        }
      ]
    },
    {
      "cell_type": "code",
      "source": [
        "# for i in range(len(data)):  \n",
        "#   plt.figure(figsize=(10, 8))\n",
        "#   plt.plot(train_data[i][0,:,:])\n",
        "#   plt.title(\"BOLD of 1st Subject for \"+ROI_names[i]+\"'s Voxels\")\n",
        "#   plt.xlabel(\"TRs\")\n",
        "#   plt.ylabel(\"BOLD[Scaled between 0 and 1]\")\n",
        "#   plt.savefig(\"./Plots/YOUNG/ALL-BOLD/ALL-BOLD-SCALED-\"+ROI_names[i]+\".png\")"
      ],
      "metadata": {
        "id": "YIlJSRX92txN"
      },
      "execution_count": 17,
      "outputs": []
    },
    {
      "cell_type": "markdown",
      "source": [
        "We now build a data generator which would produce mini-batches during the training of the neural network."
      ],
      "metadata": {
        "id": "0yjlAwWeiEru"
      }
    },
    {
      "cell_type": "code",
      "source": [
        "class KerasBatchGenerator(object):\n",
        "    def __init__(self, data, num_TRs, batch_size, look_ahead=1):\n",
        "        self.data = data\n",
        "        self.num_TRs = num_TRs\n",
        "        self.batch_size = batch_size\n",
        "        self.current_idx = 0\n",
        "        self.look_ahead = look_ahead\n",
        "\n",
        "    def generate(self):\n",
        "        while True:\n",
        "            if self.current_idx + self.batch_size >= self.data.shape[0]:\n",
        "              self.current_idx = 0\n",
        "            x = self.data[self.current_idx:(self.current_idx+self.batch_size),:(-self.look_ahead),:]\n",
        "            y = self.data[self.current_idx:(self.current_idx+self.batch_size),self.look_ahead:,:]\n",
        "            self.current_idx = self.current_idx + self.batch_size\n",
        "            yield x, y "
      ],
      "metadata": {
        "id": "Blko7LXpgtwA"
      },
      "execution_count": 18,
      "outputs": []
    },
    {
      "cell_type": "code",
      "source": [
        "train_data_generator = [KerasBatchGenerator(dat, dat.shape[1], TRAIN_BATCH_SIZE, LOOK_AHEAD) for dat in train_data]\n",
        "test_data_generator = [KerasBatchGenerator(dat, dat.shape[1], TEST_BATCH_SIZE, LOOK_AHEAD) for dat in test_data]"
      ],
      "metadata": {
        "id": "lZN56Eg3mrsc"
      },
      "execution_count": 19,
      "outputs": []
    },
    {
      "cell_type": "code",
      "source": [
        "batch_x, batch_y = next(train_data_generator[-1].generate())\n",
        "print(ROI_names[-1], \"Train Batch X Shape: \", batch_x.shape)\n",
        "print(ROI_names[-1], \"Train Batch y Shape: \", batch_y.shape)"
      ],
      "metadata": {
        "colab": {
          "base_uri": "https://localhost:8080/"
        },
        "id": "5UPT6iRxpJ7c",
        "outputId": "286ad719-caaf-49ed-be7e-27f67c6fd19c"
      },
      "execution_count": 20,
      "outputs": [
        {
          "output_type": "stream",
          "name": "stdout",
          "text": [
            "lOFC Train Batch X Shape:  (20, 188, 537)\n",
            "lOFC Train Batch y Shape:  (20, 188, 537)\n"
          ]
        }
      ]
    },
    {
      "cell_type": "code",
      "source": [
        "batch_x, batch_y = next(test_data_generator[-1].generate())\n",
        "print(ROI_names[-1], \"Test Batch X Shape: \", batch_x.shape)\n",
        "print(ROI_names[-1], \"Test Batch y Shape: \", batch_y.shape)"
      ],
      "metadata": {
        "colab": {
          "base_uri": "https://localhost:8080/"
        },
        "id": "Clavfro-pSEV",
        "outputId": "d40eeb7c-439d-4d04-d44d-d79307d620e7"
      },
      "execution_count": 21,
      "outputs": [
        {
          "output_type": "stream",
          "name": "stdout",
          "text": [
            "lOFC Test Batch X Shape:  (10, 188, 537)\n",
            "lOFC Test Batch y Shape:  (10, 188, 537)\n"
          ]
        }
      ]
    },
    {
      "cell_type": "markdown",
      "source": [
        "### Building Model"
      ],
      "metadata": {
        "id": "31NRewZjqoi1"
      }
    },
    {
      "cell_type": "markdown",
      "source": [
        "We will start off by building a LSTM Model:\n",
        "- `Number of LSTM Layers = 2`\n",
        "- `Number of Dense Layers = 4`\n",
        "- `hidden units = 32`\n",
        "- `dropout = 0.3`"
      ],
      "metadata": {
        "id": "8Ry-jGmHqqx0"
      }
    },
    {
      "cell_type": "code",
      "source": [
        "HIDDEN_UNITS = 32\n",
        "DROPOUT_PROB = 0.3\n",
        "LSTM_LAYERS = 2\n",
        "DENSE_LAYERS = 4"
      ],
      "metadata": {
        "id": "AKDAJkiVgK2n"
      },
      "execution_count": 22,
      "outputs": []
    },
    {
      "cell_type": "code",
      "source": [
        "def avg_bold_model(num_voxs):\n",
        "  model = Sequential()\n",
        "  for _ in range(LSTM_LAYERS):\n",
        "    model.add(LSTM(HIDDEN_UNITS, return_sequences=True))\n",
        "  model.add(Dropout(0.3))\n",
        "  for _ in range(DENSE_LAYERS-1):\n",
        "    model.add(TimeDistributed(Dense(HIDDEN_UNITS, activation='relu')))\n",
        "  model.add(TimeDistributed(Dense(num_voxs)))\n",
        "  return model"
      ],
      "metadata": {
        "id": "fqoXwHTTqqCR"
      },
      "execution_count": 23,
      "outputs": []
    },
    {
      "cell_type": "code",
      "source": [
        "sample_model = avg_bold_model(batch_x.shape[-1])\n",
        "sample_model.build(input_shape=batch_x.shape)\n",
        "sample_model.summary()"
      ],
      "metadata": {
        "colab": {
          "base_uri": "https://localhost:8080/"
        },
        "id": "nYHgnyz-v5nA",
        "outputId": "b98493b8-89db-45ca-9ff4-10fe13ad72c0"
      },
      "execution_count": 24,
      "outputs": [
        {
          "output_type": "stream",
          "name": "stdout",
          "text": [
            "Model: \"sequential\"\n",
            "_________________________________________________________________\n",
            " Layer (type)                Output Shape              Param #   \n",
            "=================================================================\n",
            " lstm (LSTM)                 (10, 188, 32)             72960     \n",
            "                                                                 \n",
            " lstm_1 (LSTM)               (10, 188, 32)             8320      \n",
            "                                                                 \n",
            " dropout (Dropout)           (10, 188, 32)             0         \n",
            "                                                                 \n",
            " time_distributed (TimeDistr  (10, 188, 32)            1056      \n",
            " ibuted)                                                         \n",
            "                                                                 \n",
            " time_distributed_1 (TimeDis  (10, 188, 32)            1056      \n",
            " tributed)                                                       \n",
            "                                                                 \n",
            " time_distributed_2 (TimeDis  (10, 188, 32)            1056      \n",
            " tributed)                                                       \n",
            "                                                                 \n",
            " time_distributed_3 (TimeDis  (10, 188, 537)           17721     \n",
            " tributed)                                                       \n",
            "                                                                 \n",
            "=================================================================\n",
            "Total params: 102,169\n",
            "Trainable params: 102,169\n",
            "Non-trainable params: 0\n",
            "_________________________________________________________________\n"
          ]
        }
      ]
    },
    {
      "cell_type": "code",
      "source": [
        "models = [avg_bold_model(train_data[i].shape[-1]) for i in range(len(ROI_names))]"
      ],
      "metadata": {
        "id": "fUZSBnNft2Dl"
      },
      "execution_count": 25,
      "outputs": []
    },
    {
      "cell_type": "markdown",
      "source": [
        "#### Training Model"
      ],
      "metadata": {
        "id": "3PRKFwUahAKG"
      }
    },
    {
      "cell_type": "markdown",
      "source": [
        "If you haven't already trained the models then uncomment and train your models which will be saved and will be loaded for inference later."
      ],
      "metadata": {
        "id": "LsHnfCSrhC0g"
      }
    },
    {
      "cell_type": "code",
      "source": [
        "for i in range(len(ROI_names)):\n",
        "  models[i].compile(optimizer = 'adam', loss = 'mean_squared_error')"
      ],
      "metadata": {
        "id": "kf-dFQmfzqTA"
      },
      "execution_count": 26,
      "outputs": []
    },
    {
      "cell_type": "code",
      "source": [
        "EPOCHS = 100\n",
        "checkpoint_filepaths = [f\"./Models/YOUNG/LSTM/ALL-BOLD/{name}/model_weights-best-val-loss-{LSTM_LAYERS}L-{HIDDEN_UNITS}H-{DENSE_LAYERS}D-{int(DROPOUT_PROB*10)}Drop-{LOOK_AHEAD}Ahead-{name}\" for name in ROI_names]\n",
        "model_checkpoint_callbacks = [tf.keras.callbacks.ModelCheckpoint(\n",
        "    filepath=checkpoint_filepath,\n",
        "    save_weights_only=True,\n",
        "    monitor = \"val_loss\",\n",
        "    mode='min',\n",
        "    save_best_only=True) for checkpoint_filepath in checkpoint_filepaths]"
      ],
      "metadata": {
        "id": "vcZsfhkz3lCH"
      },
      "execution_count": 27,
      "outputs": []
    },
    {
      "cell_type": "code",
      "source": [
        "def plot_train_test_loss(history, model_name, i):  \n",
        "  plt.figure(figsize=(10,10))\n",
        "  plt.plot(history.history['loss'])\n",
        "  plt.plot(history.history['val_loss'])\n",
        "  plt.title(model_name+' loss')\n",
        "  plt.ylabel('loss')\n",
        "  plt.xlabel('epochs')\n",
        "  plt.legend(['train', 'val'], loc='upper left')\n",
        "  plt.savefig(\"./Plots/YOUNG/LSTM/ALL-BOLD/\"+ROI_names[i]+\"/\"+model_name+\"-loss.png\")"
      ],
      "metadata": {
        "id": "wECZbf2i_AH7"
      },
      "execution_count": 28,
      "outputs": []
    },
    {
      "cell_type": "code",
      "source": [
        "histories = list()\n",
        "with tf.device('/device:GPU:0'):\n",
        "  for i in range(len(ROI_names)):\n",
        "    history = models[i].fit(\n",
        "                    train_data_generator[i].generate(),\n",
        "                    steps_per_epoch=train_data[i].shape[0]//TRAIN_BATCH_SIZE,\n",
        "                    epochs=EPOCHS,\n",
        "                    validation_data=test_data_generator[i].generate(),\n",
        "                    validation_steps=test_data[i].shape[0]//TEST_BATCH_SIZE,\n",
        "                    callbacks=[model_checkpoint_callbacks[i]]\n",
        "                    )\n",
        "    models[i].save_weights(f\"./Models/YOUNG/LSTM/ALL-BOLD/{ROI_names[i]}/model_weights-{LSTM_LAYERS}L-{HIDDEN_UNITS}H-{DENSE_LAYERS}D-{int(DROPOUT_PROB*10)}Drop-{LOOK_AHEAD}Ahead-{ROI_names[i]}\")\n",
        "    plot_train_test_loss(history, f\"{LSTM_LAYERS}L-{HIDDEN_UNITS}H-{DENSE_LAYERS}D-{int(DROPOUT_PROB*10)}Drop-{LOOK_AHEAD}Ahead-{ROI_names[i]}\", i)\n",
        "    histories.append(history)"
      ],
      "metadata": {
        "id": "AFb-kTLR21hl"
      },
      "execution_count": null,
      "outputs": []
    },
    {
      "cell_type": "code",
      "source": [
        "for i in range(len(ROI_names)):\n",
        "  models[i].load_weights(f\"./Models/YOUNG/LSTM/ALL-BOLD/{ROI_names[i]}/model_weights-{LSTM_LAYERS}L-{HIDDEN_UNITS}H-{DENSE_LAYERS}D-{int(DROPOUT_PROB*10)}Drop-{LOOK_AHEAD}Ahead-{ROI_names[i]}\")"
      ],
      "metadata": {
        "id": "dKvn0145hViW"
      },
      "execution_count": 30,
      "outputs": []
    },
    {
      "cell_type": "code",
      "source": [
        "preds = [models[i].predict(next(test_data_generator[i].generate())[0]) for i in range(len(ROI_names))]"
      ],
      "metadata": {
        "id": "7mpQ5Rap6kQ0"
      },
      "execution_count": null,
      "outputs": []
    },
    {
      "cell_type": "code",
      "source": [
        "a_TRs = np.array([56, 67, 73, 81, 134, 142, 155, 167, 174, 180])\n",
        "d_TRs = np.array([67, 72, 85, 89, 145, 154, 168, 174, 180, 188])\n",
        "and_TRs = np.union1d(a_TRs, d_TRs)\n",
        "\n",
        "def highlight_and(act, pred):\n",
        "  min_y_list = list()\n",
        "  max_y_list = list()\n",
        "  for i in range(5):\n",
        "    min_y_list.append(np.min(np.concatenate([act[a_TRs[2*i]:d_TRs[2*i+1]], pred[a_TRs[2*i]:d_TRs[2*i+1]]])))\n",
        "    max_y_list.append(np.max(np.concatenate([act[a_TRs[2*i]:d_TRs[2*i+1]], pred[a_TRs[2*i]:d_TRs[2*i+1]]])))\n",
        "    # plt.fill_betweenx(y=[min_y_list[i], max_y_list[i]], x1=a_TRs[2*i], x2=d_TRs[2*i+1], color='gray', alpha=0.1)\n",
        "    plt.fill_betweenx(y=[min_y_list[i], max_y_list[i]], x1=a_TRs[2*i], x2=a_TRs[2*i+1], color='violet', alpha=0.4)\n",
        "    plt.fill_betweenx(y=[min_y_list[i], max_y_list[i]], x1=d_TRs[2*i], x2=d_TRs[2*i+1], color='greenyellow', alpha=0.4)"
      ],
      "metadata": {
        "id": "HeE2zhmXxOge"
      },
      "execution_count": 32,
      "outputs": []
    },
    {
      "cell_type": "code",
      "source": [
        "np.random.seed(43)\n",
        "for i in range(len(ROI_names)):\n",
        "  \n",
        "  actual_test_data_output = test_data_unscaled[i][:,LOOK_AHEAD:,:]\n",
        "  pred_test_data_output = np.transpose(np.array([scalers[ROI_names[i]][j].inverse_transform(np.hstack([preds[i][:,:,j], preds[i][:,:LOOK_AHEAD,j]])) for j in range(len(scalers[ROI_names[i]]))]), (1,2,0))[:,:-LOOK_AHEAD,:]\n",
        "  plt.figure(figsize=(24, 18))\n",
        "\n",
        "  for j in range(NUM_TEST_SUBS-1):\n",
        "  \n",
        "    ax = plt.subplot(3, 3, j + 1)\n",
        "    vox_choice = np.random.randint(0, len(scalers[ROI_names[i]]), 5)\n",
        "    plt.plot(np.transpose(actual_test_data_output[j,:, vox_choice]), c='b', label='actual')\n",
        "    plt.plot(np.transpose(pred_test_data_output[j,:, vox_choice]), c='r', ls='--', label='pred')\n",
        "    # highlight_and(actual_test_data_output[j,:], pred_test_data_output[j,:])\n",
        "    plt.xticks(np.concatenate([np.array([0]), and_TRs - LOOK_AHEAD]), np.concatenate([np.array([LOOK_AHEAD]), and_TRs]))\n",
        "    plt.ylabel(\"BOLD\")\n",
        "    plt.xlabel(\"TRs\")\n",
        "    plt.title(f\"All BOLD Preds of {LSTM_LAYERS}L-{HIDDEN_UNITS}H-{DENSE_LAYERS}D-{int(DROPOUT_PROB*10)}Drop-{LOOK_AHEAD}Ahead for {j+1}th Test Sub's {ROI_names[i]}\")\n",
        "    plt.legend()\n",
        "    plt.savefig(f\"./Plots/YOUNG/LSTM/ALL-BOLD/{ROI_names[i]}/{LSTM_LAYERS}L-{HIDDEN_UNITS}H-{DENSE_LAYERS}D-{int(DROPOUT_PROB*10)}Drop-{LOOK_AHEAD}Ahead-Preds.png\")"
      ],
      "metadata": {
        "id": "WBLOHLixAWnk"
      },
      "execution_count": null,
      "outputs": []
    },
    {
      "cell_type": "code",
      "source": [
        "print(\"***Each Test Subject's Correlation Coefficient between predicted and actual BOLD averaged across each Voxel Prediction values for ROIs***\")\n",
        "print()\n",
        "avg_r = list()\n",
        "for i in range(len(ROI_names)):\n",
        "  actual_test_data_output = test_data_unscaled[i][:,LOOK_AHEAD:,:]\n",
        "  pred_test_data_output = np.transpose(np.array([scalers[ROI_names[i]][j].inverse_transform(np.hstack([preds[i][:,:,j], preds[i][:,:LOOK_AHEAD,j]])) for j in range(len(scalers[ROI_names[i]]))]), (1,2,0))[:,:-LOOK_AHEAD,:] \n",
        "  for j in range(NUM_TEST_SUBS):\n",
        "    print(f\"{ROI_names[i]} for {j+1}th sub: {np.round(np.trace(np.corrcoef(actual_test_data_output[j,:,:], pred_test_data_output[j,:,:], rowvar=False)[:actual_test_data_output.shape[-1], actual_test_data_output.shape[-1]:])/actual_test_data_output.shape[-1], 2)}\")\n",
        "  print()\n",
        "\n",
        "print(\"***Average across test subjects Correlation Coefficient between predicted and actual BOLD averaged across each Voxel Prediction values for ROIs***\")\n",
        "print()\n",
        "for i in range(len(ROI_names)):\n",
        "  actual_test_data_output = test_data_unscaled[i][:,LOOK_AHEAD:,:]\n",
        "  pred_test_data_output = np.transpose(np.array([scalers[ROI_names[i]][j].inverse_transform(np.hstack([preds[i][:,:,j], preds[i][:,:LOOK_AHEAD,j]])) for j in range(len(scalers[ROI_names[i]]))]), (1,2,0))[:,:-LOOK_AHEAD,:]\n",
        "  sum_r = 0\n",
        "  for j in range(NUM_TEST_SUBS):\n",
        "    sum_r += np.trace(np.corrcoef(actual_test_data_output[j,:,:], pred_test_data_output[j,:,:], rowvar=False)[:actual_test_data_output.shape[-1], actual_test_data_output.shape[-1]:]/actual_test_data_output.shape[-1])\n",
        "  print(f\"{ROI_names[i]}: {np.round(sum_r / NUM_TEST_SUBS, 2)}\")"
      ],
      "metadata": {
        "colab": {
          "base_uri": "https://localhost:8080/"
        },
        "id": "J8hiJzxcKFuz",
        "outputId": "50672787-8dbe-478d-9b8c-a0c4684104b4"
      },
      "execution_count": 34,
      "outputs": [
        {
          "output_type": "stream",
          "name": "stdout",
          "text": [
            "***Each Test Subject's Correlation Coefficient between predicted and actual BOLD averaged across each Voxel Prediction values for ROIs***\n",
            "\n",
            "dmPFC for 1th sub: 0.3\n",
            "dmPFC for 2th sub: 0.44\n",
            "dmPFC for 3th sub: 0.32\n",
            "dmPFC for 4th sub: 0.19\n",
            "dmPFC for 5th sub: 0.13\n",
            "dmPFC for 6th sub: 0.37\n",
            "dmPFC for 7th sub: 0.16\n",
            "dmPFC for 8th sub: 0.35\n",
            "dmPFC for 9th sub: 0.41\n",
            "dmPFC for 10th sub: 0.22\n",
            "\n",
            "ACC for 1th sub: 0.23\n",
            "ACC for 2th sub: 0.23\n",
            "ACC for 3th sub: 0.14\n",
            "ACC for 4th sub: 0.22\n",
            "ACC for 5th sub: 0.23\n",
            "ACC for 6th sub: 0.22\n",
            "ACC for 7th sub: 0.2\n",
            "ACC for 8th sub: 0.44\n",
            "ACC for 9th sub: 0.25\n",
            "ACC for 10th sub: 0.27\n",
            "\n",
            "AMY for 1th sub: 0.22\n",
            "AMY for 2th sub: 0.32\n",
            "AMY for 3th sub: 0.56\n",
            "AMY for 4th sub: 0.25\n",
            "AMY for 5th sub: 0.2\n",
            "AMY for 6th sub: 0.42\n",
            "AMY for 7th sub: 0.18\n",
            "AMY for 8th sub: 0.55\n",
            "AMY for 9th sub: 0.26\n",
            "AMY for 10th sub: 0.06\n",
            "\n",
            "Cau for 1th sub: 0.18\n",
            "Cau for 2th sub: 0.55\n",
            "Cau for 3th sub: 0.28\n",
            "Cau for 4th sub: 0.08\n",
            "Cau for 5th sub: 0.4\n",
            "Cau for 6th sub: 0.08\n",
            "Cau for 7th sub: 0.12\n",
            "Cau for 8th sub: 0.24\n",
            "Cau for 9th sub: 0.49\n",
            "Cau for 10th sub: 0.4\n",
            "\n",
            "dlPFC for 1th sub: 0.29\n",
            "dlPFC for 2th sub: 0.21\n",
            "dlPFC for 3th sub: 0.37\n",
            "dlPFC for 4th sub: 0.22\n",
            "dlPFC for 5th sub: 0.24\n",
            "dlPFC for 6th sub: 0.12\n",
            "dlPFC for 7th sub: 0.24\n",
            "dlPFC for 8th sub: 0.14\n",
            "dlPFC for 9th sub: 0.3\n",
            "dlPFC for 10th sub: 0.28\n",
            "\n",
            "INS for 1th sub: 0.36\n",
            "INS for 2th sub: 0.69\n",
            "INS for 3th sub: 0.58\n",
            "INS for 4th sub: 0.5\n",
            "INS for 5th sub: 0.23\n",
            "INS for 6th sub: 0.53\n",
            "INS for 7th sub: 0.26\n",
            "INS for 8th sub: 0.45\n",
            "INS for 9th sub: 0.23\n",
            "INS for 10th sub: 0.45\n",
            "\n",
            "IPL for 1th sub: 0.4\n",
            "IPL for 2th sub: 0.32\n",
            "IPL for 3th sub: 0.46\n",
            "IPL for 4th sub: 0.44\n",
            "IPL for 5th sub: 0.34\n",
            "IPL for 6th sub: 0.27\n",
            "IPL for 7th sub: 0.4\n",
            "IPL for 8th sub: 0.58\n",
            "IPL for 9th sub: 0.3\n",
            "IPL for 10th sub: 0.38\n",
            "\n",
            "mCC for 1th sub: 0.18\n",
            "mCC for 2th sub: 0.08\n",
            "mCC for 3th sub: 0.31\n",
            "mCC for 4th sub: 0.12\n",
            "mCC for 5th sub: 0.29\n",
            "mCC for 6th sub: 0.69\n",
            "mCC for 7th sub: 0.1\n",
            "mCC for 8th sub: 0.3\n",
            "mCC for 9th sub: 0.19\n",
            "mCC for 10th sub: 0.23\n",
            "\n",
            "Nac for 1th sub: 0.22\n",
            "Nac for 2th sub: 0.38\n",
            "Nac for 3th sub: 0.23\n",
            "Nac for 4th sub: 0.26\n",
            "Nac for 5th sub: 0.29\n",
            "Nac for 6th sub: 0.16\n",
            "Nac for 7th sub: 0.21\n",
            "Nac for 8th sub: 0.3\n",
            "Nac for 9th sub: 0.69\n",
            "Nac for 10th sub: 0.26\n",
            "\n",
            "PCC for 1th sub: 0.31\n",
            "PCC for 2th sub: 0.33\n",
            "PCC for 3th sub: 0.54\n",
            "PCC for 4th sub: 0.45\n",
            "PCC for 5th sub: 0.18\n",
            "PCC for 6th sub: 0.58\n",
            "PCC for 7th sub: 0.26\n",
            "PCC for 8th sub: 0.53\n",
            "PCC for 9th sub: 0.25\n",
            "PCC for 10th sub: 0.29\n",
            "\n",
            "PCG for 1th sub: 0.21\n",
            "PCG for 2th sub: 0.26\n",
            "PCG for 3th sub: 0.2\n",
            "PCG for 4th sub: 0.17\n",
            "PCG for 5th sub: 0.11\n",
            "PCG for 6th sub: 0.35\n",
            "PCG for 7th sub: 0.25\n",
            "PCG for 8th sub: 0.25\n",
            "PCG for 9th sub: 0.36\n",
            "PCG for 10th sub: 0.45\n",
            "\n",
            "Prec for 1th sub: 0.31\n",
            "Prec for 2th sub: 0.4\n",
            "Prec for 3th sub: 0.47\n",
            "Prec for 4th sub: 0.34\n",
            "Prec for 5th sub: 0.18\n",
            "Prec for 6th sub: 0.55\n",
            "Prec for 7th sub: 0.37\n",
            "Prec for 8th sub: 0.59\n",
            "Prec for 9th sub: 0.33\n",
            "Prec for 10th sub: 0.43\n",
            "\n",
            "TP for 1th sub: 0.58\n",
            "TP for 2th sub: 0.36\n",
            "TP for 3th sub: 0.58\n",
            "TP for 4th sub: 0.41\n",
            "TP for 5th sub: 0.66\n",
            "TP for 6th sub: 0.28\n",
            "TP for 7th sub: 0.32\n",
            "TP for 8th sub: 0.74\n",
            "TP for 9th sub: 0.62\n",
            "TP for 10th sub: 0.61\n",
            "\n",
            "Put for 1th sub: 0.24\n",
            "Put for 2th sub: 0.11\n",
            "Put for 3th sub: 0.55\n",
            "Put for 4th sub: 0.01\n",
            "Put for 5th sub: 0.28\n",
            "Put for 6th sub: 0.19\n",
            "Put for 7th sub: 0.11\n",
            "Put for 8th sub: 0.42\n",
            "Put for 9th sub: 0.27\n",
            "Put for 10th sub: 0.11\n",
            "\n",
            "pSTS for 1th sub: 0.53\n",
            "pSTS for 2th sub: 0.43\n",
            "pSTS for 3th sub: 0.68\n",
            "pSTS for 4th sub: 0.46\n",
            "pSTS for 5th sub: 0.37\n",
            "pSTS for 6th sub: 0.61\n",
            "pSTS for 7th sub: 0.35\n",
            "pSTS for 8th sub: 0.66\n",
            "pSTS for 9th sub: 0.28\n",
            "pSTS for 10th sub: 0.43\n",
            "\n",
            "VC for 1th sub: 0.28\n",
            "VC for 2th sub: 0.21\n",
            "VC for 3th sub: 0.29\n",
            "VC for 4th sub: 0.39\n",
            "VC for 5th sub: 0.22\n",
            "VC for 6th sub: 0.38\n",
            "VC for 7th sub: 0.23\n",
            "VC for 8th sub: 0.45\n",
            "VC for 9th sub: 0.28\n",
            "VC for 10th sub: 0.36\n",
            "\n",
            "vlPFC for 1th sub: 0.34\n",
            "vlPFC for 2th sub: 0.33\n",
            "vlPFC for 3th sub: 0.52\n",
            "vlPFC for 4th sub: 0.44\n",
            "vlPFC for 5th sub: 0.31\n",
            "vlPFC for 6th sub: 0.23\n",
            "vlPFC for 7th sub: 0.34\n",
            "vlPFC for 8th sub: 0.38\n",
            "vlPFC for 9th sub: 0.42\n",
            "vlPFC for 10th sub: 0.26\n",
            "\n",
            "mOFC for 1th sub: 0.19\n",
            "mOFC for 2th sub: 0.3\n",
            "mOFC for 3th sub: 0.4\n",
            "mOFC for 4th sub: 0.67\n",
            "mOFC for 5th sub: 0.27\n",
            "mOFC for 6th sub: 0.54\n",
            "mOFC for 7th sub: 0.05\n",
            "mOFC for 8th sub: 0.7\n",
            "mOFC for 9th sub: 0.74\n",
            "mOFC for 10th sub: 0.35\n",
            "\n",
            "mPFC for 1th sub: 0.32\n",
            "mPFC for 2th sub: 0.07\n",
            "mPFC for 3th sub: 0.15\n",
            "mPFC for 4th sub: 0.34\n",
            "mPFC for 5th sub: 0.17\n",
            "mPFC for 6th sub: 0.15\n",
            "mPFC for 7th sub: 0.14\n",
            "mPFC for 8th sub: 0.71\n",
            "mPFC for 9th sub: 0.31\n",
            "mPFC for 10th sub: 0.25\n",
            "\n",
            "lOFC for 1th sub: 0.36\n",
            "lOFC for 2th sub: 0.24\n",
            "lOFC for 3th sub: 0.42\n",
            "lOFC for 4th sub: 0.69\n",
            "lOFC for 5th sub: 0.32\n",
            "lOFC for 6th sub: 0.13\n",
            "lOFC for 7th sub: 0.17\n",
            "lOFC for 8th sub: 0.51\n",
            "lOFC for 9th sub: 0.74\n",
            "lOFC for 10th sub: 0.24\n",
            "\n",
            "***Average across test subjects Correlation Coefficient between predicted and actual BOLD averaged across each Voxel Prediction values for ROIs***\n",
            "\n",
            "dmPFC: 0.29\n",
            "ACC: 0.24\n",
            "AMY: 0.3\n",
            "Cau: 0.28\n",
            "dlPFC: 0.24\n",
            "INS: 0.43\n",
            "IPL: 0.39\n",
            "mCC: 0.25\n",
            "Nac: 0.3\n",
            "PCC: 0.37\n",
            "PCG: 0.26\n",
            "Prec: 0.4\n",
            "TP: 0.52\n",
            "Put: 0.23\n",
            "pSTS: 0.48\n",
            "VC: 0.31\n",
            "vlPFC: 0.36\n",
            "mOFC: 0.42\n",
            "mPFC: 0.26\n",
            "lOFC: 0.38\n"
          ]
        }
      ]
    },
    {
      "cell_type": "code",
      "source": [
        "print(\"***Model's Final Scaled MSE(Train) Loss between predicted and actual all voxel BOLD values for ROIs for the Train Subjects***\")\n",
        "print()\n",
        "for i in range(len(ROI_names)):\n",
        "  print(ROI_names[i]+\":\", np.round(histories[i].history['loss'][-1], 5))\n",
        "print()\n",
        "print(\"***Model's Final MSE(Validation) Loss between predicted and actual all voxel BOLD values for ROIs for the Test Subjects***\")\n",
        "print()\n",
        "for i in range(len(ROI_names)):\n",
        "  print(ROI_names[i]+\":\", np.round(histories[i].history['val_loss'][-1], 5))"
      ],
      "metadata": {
        "id": "f8gPew9YMI2B",
        "outputId": "62a08a24-0cbb-4948-9abd-24cb1a76a1d2",
        "colab": {
          "base_uri": "https://localhost:8080/"
        }
      },
      "execution_count": 35,
      "outputs": [
        {
          "output_type": "stream",
          "name": "stdout",
          "text": [
            "***Model's Final Scaled MSE(Train) Loss between predicted and actual all voxel BOLD values for ROIs for the Train Subjects***\n",
            "\n",
            "dmPFC: 0.00812\n",
            "ACC: 0.01035\n",
            "AMY: 0.00472\n",
            "Cau: 0.00458\n",
            "dlPFC: 0.0127\n",
            "INS: 0.00244\n",
            "IPL: 0.01452\n",
            "mCC: 0.00565\n",
            "Nac: 0.00362\n",
            "PCC: 0.00669\n",
            "PCG: 0.01784\n",
            "Prec: 0.00916\n",
            "TP: 0.00781\n",
            "Put: 0.00134\n",
            "pSTS: 0.00368\n",
            "VC: 0.02064\n",
            "vlPFC: 0.00772\n",
            "mOFC: 0.00969\n",
            "mPFC: 0.0068\n",
            "lOFC: 0.00958\n",
            "\n",
            "***Model's Final MSE(Validation) Loss between predicted and actual all voxel BOLD values for ROIs for the Test Subjects***\n",
            "\n",
            "dmPFC: 0.0097\n",
            "ACC: 0.01776\n",
            "AMY: 0.00494\n",
            "Cau: 0.00629\n",
            "dlPFC: 0.01192\n",
            "INS: 0.00364\n",
            "IPL: 0.02477\n",
            "mCC: 0.00674\n",
            "Nac: 0.00645\n",
            "PCC: 0.01074\n",
            "PCG: 0.02641\n",
            "Prec: 0.01114\n",
            "TP: 0.00751\n",
            "Put: 0.00258\n",
            "pSTS: 0.00541\n",
            "VC: 0.02159\n",
            "vlPFC: 0.00819\n",
            "mOFC: 0.01031\n",
            "mPFC: 0.01387\n",
            "lOFC: 0.01397\n"
          ]
        }
      ]
    },
    {
      "cell_type": "code",
      "source": [
        "print(\"***Model's Final MSE(Validation) Loss between predicted and actual all voxel BOLD values for ROIs for the Test Subjects***\")\n",
        "print()\n",
        "for i in range(len(ROI_names)):\n",
        "  actual_test_data_output = test_data_unscaled[i][:,LOOK_AHEAD:,:]\n",
        "  pred_test_data_output = np.transpose(np.array([scalers[ROI_names[i]][j].inverse_transform(np.hstack([preds[i][:,:,j], preds[i][:,:LOOK_AHEAD,j]])) for j in range(len(scalers[ROI_names[i]]))]), (1,2,0))[:,:-LOOK_AHEAD,:]\n",
        "  print(ROI_names[i]+\" for Each Validation Subject:\", np.mean(tf.keras.losses.mean_squared_error(actual_test_data_output, pred_test_data_output), axis=-1))\n",
        "  print(ROI_names[i]+\" :\", np.mean(np.mean(tf.keras.losses.mean_squared_error(actual_test_data_output, pred_test_data_output), axis=-1)))"
      ],
      "metadata": {
        "id": "EQ3FUO9eY5gO",
        "outputId": "57725a71-ebf3-4d8b-b170-d68d5bc3577c",
        "colab": {
          "base_uri": "https://localhost:8080/"
        }
      },
      "execution_count": 36,
      "outputs": [
        {
          "output_type": "stream",
          "name": "stdout",
          "text": [
            "***Model's Final MSE(Validation) Loss between predicted and actual all voxel BOLD values for ROIs for the Test Subjects***\n",
            "\n",
            "dmPFC for Each Validation Subject: [ 74.481514  61.391373  34.54569   28.606144  29.46221  157.05685\n",
            "  27.95164   18.276804  85.34093   67.66767 ]\n",
            "dmPFC : 58.47808\n",
            "ACC for Each Validation Subject: [ 63.588394  68.414604  33.118484  26.133415  15.275253 137.50575\n",
            "  42.058487 133.21649   43.260853  43.48957 ]\n",
            "ACC : 60.60613\n",
            "AMY for Each Validation Subject: [24.210615 29.725616 34.202374 16.840786 15.081815 48.97616  19.519236\n",
            " 61.20565  57.941    25.756441]\n",
            "AMY : 33.34597\n",
            "Cau for Each Validation Subject: [22.795868 12.942806 25.326696 30.116066 32.915733 69.17274   9.520827\n",
            " 41.333847 22.955875 16.63609 ]\n",
            "Cau : 28.371655\n",
            "dlPFC for Each Validation Subject: [31.89051  25.752188 22.145607 20.076271 45.372074 43.96062  32.651627\n",
            " 31.406357 32.803463 34.07746 ]\n",
            "dlPFC : 32.01362\n",
            "INS for Each Validation Subject: [ 9.845774   5.7675185  8.54993   10.575321   5.4645133 12.970965\n",
            " 10.348562  14.460511  11.039031  17.841682 ]\n",
            "INS : 10.68638\n",
            "IPL for Each Validation Subject: [ 54.153713  49.8402    54.58253  101.2684    62.850887 136.56808\n",
            "  59.8162    70.56674   30.840254  72.66618 ]\n",
            "IPL : 69.31532\n",
            "mCC for Each Validation Subject: [25.209637 14.857541 12.224372 16.268475 21.758242 49.55345  20.694098\n",
            " 44.73156  21.020485 31.952528]\n",
            "mCC : 25.827038\n",
            "Nac for Each Validation Subject: [10.905244 14.219385 10.356804 48.629177 10.808935 43.356335  4.0923\n",
            " 33.816704 11.719022 15.941355]\n",
            "Nac : 20.384525\n",
            "PCC for Each Validation Subject: [60.90912  20.182438 17.243608 11.829717 20.781557 89.62982  25.197386\n",
            " 19.867958 21.833057 21.975096]\n",
            "PCC : 30.944977\n",
            "PCG for Each Validation Subject: [ 89.79535  124.74339   38.429695  94.695404  78.610954 205.72697\n",
            " 111.819374  75.82644  145.70705   95.76269 ]\n",
            "PCG : 106.11173\n",
            "Prec for Each Validation Subject: [ 49.993954  63.06226   22.017792  39.539352  23.687452 125.08787\n",
            "  60.736713  34.10627   31.004095  43.244286]\n",
            "Prec : 49.248005\n",
            "TP for Each Validation Subject: [18.425955 24.00402  23.501984 13.440617 54.066734 38.59463  39.948647\n",
            " 42.6607   33.252174 54.90713 ]\n",
            "TP : 34.28026\n",
            "Put for Each Validation Subject: [ 5.6751275 11.274798   5.373241   7.5423985  4.175982  16.58677\n",
            "  7.555798  31.78526    6.2323413 17.153475 ]\n",
            "Put : 11.335519\n",
            "pSTS for Each Validation Subject: [12.630608  9.97251  23.412964 29.126934 14.413089 14.816295 10.989226\n",
            " 26.654406  9.681972 55.97304 ]\n",
            "pSTS : 20.767105\n",
            "VC for Each Validation Subject: [157.22635   85.702484  61.827366  78.17444   63.572857 160.16005\n",
            "  63.72365   89.673515  85.720924  66.85279 ]\n",
            "VC : 91.26344\n",
            "vlPFC for Each Validation Subject: [34.283936  15.895472   7.4945483 13.8342    41.4912    34.006668\n",
            " 31.19077   22.761927  21.701939   9.540617 ]\n",
            "vlPFC : 23.220127\n",
            "mOFC for Each Validation Subject: [22.80325  31.064293 36.25756  23.305109 53.06787  91.5733   38.929237\n",
            " 31.302277 28.182066 34.65041 ]\n",
            "mOFC : 39.113537\n",
            "mPFC for Each Validation Subject: [ 73.489265  67.23328   75.58004   98.977936  60.959442 360.60547\n",
            "  66.50419   70.96714   89.83993   58.25586 ]\n",
            "mPFC : 102.24126\n",
            "lOFC for Each Validation Subject: [55.024254 67.60412  46.526985 46.070934 35.598755 31.062115 43.369186\n",
            " 23.248487 31.216038 54.34264 ]\n",
            "lOFC : 43.40635\n"
          ]
        }
      ]
    }
  ]
}