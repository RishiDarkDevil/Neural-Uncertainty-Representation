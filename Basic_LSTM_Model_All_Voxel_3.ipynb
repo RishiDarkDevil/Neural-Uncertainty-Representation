{
  "cells": [
    {
      "cell_type": "markdown",
      "metadata": {
        "id": "rN8VtTibW_kL"
      },
      "source": [
        "Set Colab to GPU Mode if you are training the models!"
      ]
    },
    {
      "cell_type": "markdown",
      "metadata": {
        "id": "ESNkUUOEoS8j"
      },
      "source": [
        "### Mounting Google Drive"
      ]
    },
    {
      "cell_type": "code",
      "execution_count": 2,
      "metadata": {
        "colab": {
          "base_uri": "https://localhost:8080/"
        },
        "id": "GWpiHXuGn6Oy",
        "outputId": "26091252-4084-4a98-879a-90a54b8300da"
      },
      "outputs": [
        {
          "output_type": "stream",
          "name": "stdout",
          "text": [
            "Mounted at /content/drive\n"
          ]
        }
      ],
      "source": [
        "from google.colab import drive\n",
        "drive.mount('/content/drive')"
      ]
    },
    {
      "cell_type": "code",
      "execution_count": 3,
      "metadata": {
        "colab": {
          "base_uri": "https://localhost:8080/"
        },
        "id": "bpxEP-yeoWPX",
        "outputId": "5dbe41cf-478a-4aa2-e5d3-d9828b8c5245"
      },
      "outputs": [
        {
          "output_type": "stream",
          "name": "stdout",
          "text": [
            "/content/drive/.shortcut-targets-by-id/1h_oF16bG32l75GPobgHe_9HgdUduLFxT/IIT J Summer Internship 2022/Code/Neural-Uncertainty-Representation\n"
          ]
        }
      ],
      "source": [
        "cd 'drive/MyDrive/IIT J Summer Internship 2022/Code/Neural-Uncertainty-Representation/'"
      ]
    },
    {
      "cell_type": "markdown",
      "metadata": {
        "id": "Hq9mNRMMomT7"
      },
      "source": [
        "### Importing Necessary Libraries\n"
      ]
    },
    {
      "cell_type": "code",
      "execution_count": 4,
      "metadata": {
        "id": "SRXBkwcIogPe"
      },
      "outputs": [],
      "source": [
        "import numpy as np\n",
        "import pandas as pd\n",
        "\n",
        "import tensorflow as tf\n",
        "\n",
        "from tensorflow.keras.layers import Dense, Dropout, LSTM, TimeDistributed\n",
        "from tensorflow.keras.models import Sequential\n",
        "from tensorflow.keras.optimizers import Adam\n",
        "\n",
        "from sklearn.preprocessing import MinMaxScaler\n",
        "\n",
        "import matplotlib.pyplot as plt\n",
        "import os"
      ]
    },
    {
      "cell_type": "markdown",
      "metadata": {
        "id": "_R2-Cetmxned"
      },
      "source": [
        "### Importing Data\n",
        "We import the data of a young subject's 3D-Tensor Data of dimensions (TR, Voxel, Number of Subjects) for the 5 different ROIs as follows:\n",
        "- **Prefrontal areas:** dlPFC, vlPFC, lOFC, dmPFC, mPFC, mOFC\n",
        "- **Default-mode areas:** mPFC, ACC, PCC, Precuneus, mOFC\n",
        "- **Sensory areas:** VC\n",
        "- **Multisensory area:** pSTS\n",
        "- **Some other areas:** TP, IPL, mCC, Put, PCG, Nac, INS\n",
        "\n",
        "\n",
        "\n"
      ]
    },
    {
      "cell_type": "code",
      "execution_count": 5,
      "metadata": {
        "id": "XUJPFBg1898z"
      },
      "outputs": [],
      "source": [
        "file_names = [name for name in os.listdir('/content/drive/MyDrive/IIT J Summer Internship 2022/Hitchcock/Data/YOUNG/Voxel_BOLD/Numpy') if name.endswith(\"npy\") and (\"(1)\" not in name)]\n",
        "file_names = [name for name in file_names if (\"537\" not in name)]"
      ]
    },
    {
      "cell_type": "code",
      "execution_count": 6,
      "metadata": {
        "id": "5lVnzf5N_Ufy"
      },
      "outputs": [],
      "source": [
        "ROI_names = [file_name.replace(\"data_\",\"\").replace(\".npy\",\"\") for file_name in file_names]"
      ]
    },
    {
      "cell_type": "code",
      "execution_count": 7,
      "metadata": {
        "id": "Kg22rkIGpfP2"
      },
      "outputs": [],
      "source": [
        "data_ori = list()\n",
        "for file_name in file_names:\n",
        "  data_ori.append(np.load('/content/drive/MyDrive/IIT J Summer Internship 2022/Hitchcock/Data/YOUNG/Voxel_BOLD/Numpy/'+file_name))"
      ]
    },
    {
      "cell_type": "markdown",
      "metadata": {
        "id": "Kcaxzm8WDjgO"
      },
      "source": [
        "### Data Preparation"
      ]
    },
    {
      "cell_type": "markdown",
      "metadata": {
        "id": "K9rJ8CAb97K2"
      },
      "source": [
        "Now, here we prepare the data to be fed to the Neural Network Architechtures. We can't predict the time ahead upto which the subjects are predicting correctly so, we will take a bit round about way to predict the BOLD values ahead in time(for several choices of time points e.g. 1 time point ahead, 2 time point ahead, etc) and will compare the results for young and old subjects."
      ]
    },
    {
      "cell_type": "markdown",
      "metadata": {
        "id": "im3Oqy2ueeEU"
      },
      "source": [
        "Right from the starting we decide some of the data preparation parameters, so that we can use them as we require."
      ]
    },
    {
      "cell_type": "code",
      "execution_count": 8,
      "metadata": {
        "id": "X1DoZ2Fcec20"
      },
      "outputs": [],
      "source": [
        "TRAIN_BATCH_SIZE = 20\n",
        "TEST_BATCH_SIZE = 10\n",
        "LOOK_AHEAD = 1\n",
        "NUM_TEST_SUBS = 10"
      ]
    },
    {
      "cell_type": "markdown",
      "metadata": {
        "id": "TYuu8ZM2-u9z"
      },
      "source": [
        "We will avoid doing an average since, all voxels in a ROI is not equally important and hence we will want to predict the BOLD values of several voxels simultaneously."
      ]
    },
    {
      "cell_type": "code",
      "execution_count": 9,
      "metadata": {
        "id": "pFvaFL69geft"
      },
      "outputs": [],
      "source": [
        "data = data_ori"
      ]
    },
    {
      "cell_type": "markdown",
      "metadata": {
        "id": "mY3usMssn3T5"
      },
      "source": [
        "Let's Start the Data Preparation for lOFC later we will iterate the same procedure for the other ROIs."
      ]
    },
    {
      "cell_type": "code",
      "execution_count": 10,
      "metadata": {
        "colab": {
          "base_uri": "https://localhost:8080/"
        },
        "id": "71dv3Zkcgu3N",
        "outputId": "8ca26a09-88c7-483b-8dc9-7ad70f5b4633"
      },
      "outputs": [
        {
          "output_type": "stream",
          "name": "stdout",
          "text": [
            "lOFC BOLD Shape: (189, 537, 111)\n"
          ]
        }
      ],
      "source": [
        "print(ROI_names[-1], \"BOLD Shape:\", data[-1].shape)"
      ]
    },
    {
      "cell_type": "markdown",
      "metadata": {
        "id": "jG7ofnvRczcN"
      },
      "source": [
        "Below, we see the BOLD time series plot for all the ROIs."
      ]
    },
    {
      "cell_type": "markdown",
      "metadata": {
        "id": "-wIOccLpE0d-"
      },
      "source": [
        "We have changed the data in the form (Number of Subjects, TR, Voxels) below."
      ]
    },
    {
      "cell_type": "code",
      "execution_count": 11,
      "metadata": {
        "id": "0pHK54KjDnah"
      },
      "outputs": [],
      "source": [
        "data = [np.transpose(dat, (2,0,1)) for dat in data]"
      ]
    },
    {
      "cell_type": "code",
      "execution_count": 12,
      "metadata": {
        "colab": {
          "base_uri": "https://localhost:8080/"
        },
        "id": "HRXHJ1cwgrzp",
        "outputId": "f8ca1e46-78c8-463c-c5e1-959931fea904"
      },
      "outputs": [
        {
          "output_type": "stream",
          "name": "stdout",
          "text": [
            "lOFC BOLD Shape: (111, 189, 537)\n"
          ]
        }
      ],
      "source": [
        "print(ROI_names[-1], \"BOLD Shape:\", data[-1].shape)"
      ]
    },
    {
      "cell_type": "code",
      "execution_count": 13,
      "metadata": {
        "id": "AseI4ZNeg26E"
      },
      "outputs": [],
      "source": [
        "# for i in range(len(data)):  \n",
        "#   plt.figure(figsize=(10, 8))\n",
        "#   plt.plot(data[i][0,:,:])\n",
        "#   plt.title(\"BOLD of 1st Subject for \"+ROI_names[i]+\"'s Voxels\")\n",
        "#   plt.xlabel(\"TRs\")\n",
        "#   plt.ylabel(\"BOLD\")\n",
        "#   plt.savefig(\"./Plots/YOUNG/ALL-BOLD/ALL-BOLD-\"+ROI_names[i]+\".png\")"
      ]
    },
    {
      "cell_type": "markdown",
      "metadata": {
        "id": "gg50q17pp5xQ"
      },
      "source": [
        "We split the dataset of 111 young subjects into 101 subjects in the training data and 10 subject in the test data."
      ]
    },
    {
      "cell_type": "code",
      "execution_count": 14,
      "metadata": {
        "id": "hrldyz8XnDlv"
      },
      "outputs": [],
      "source": [
        "train_data_unscaled = [dat[:-NUM_TEST_SUBS] for dat in data]\n",
        "test_data_unscaled = [dat[-NUM_TEST_SUBS:] for dat in data]  "
      ]
    },
    {
      "cell_type": "markdown",
      "metadata": {
        "id": "MDV7H0sYt6jd"
      },
      "source": [
        "We scaled the BOLD values of each voxel in the train data between 0 and 1 for each voxel. We use the same MinMaxScaler fit on the train data on the test data."
      ]
    },
    {
      "cell_type": "code",
      "execution_count": 15,
      "metadata": {
        "id": "-xkJQLj3tORj"
      },
      "outputs": [],
      "source": [
        "scalers = dict() # Stores a list of MinMaxScalers for each ROI, where number of MinMaxScalers is equal to the number of voxels in that ROI\n",
        "for i in range(len(ROI_names)):\n",
        "  scalers[ROI_names[i]] = [MinMaxScaler(feature_range = (0, 1)) for _ in range(data[i].shape[-1])]\n",
        "\n",
        "train_data = [[scalers[ROI_names[j]][i].fit_transform(train_data_unscaled[j][:,:,i]) for i in range(len(scalers[ROI_names[j]]))] for j in range(len(ROI_names))]\n",
        "test_data = [[scalers[ROI_names[j]][i].transform(test_data_unscaled[j][:,:,i]) for i in range(len(scalers[ROI_names[j]]))] for j in range(len(ROI_names))]"
      ]
    },
    {
      "cell_type": "code",
      "execution_count": 16,
      "metadata": {
        "id": "Ail126iVuR6s"
      },
      "outputs": [],
      "source": [
        "train_data = [np.transpose(np.array(dat), (1,2,0)) for dat in train_data]\n",
        "test_data = [np.transpose(np.array(dat), (1,2,0)) for dat in test_data]"
      ]
    },
    {
      "cell_type": "code",
      "execution_count": 17,
      "metadata": {
        "colab": {
          "base_uri": "https://localhost:8080/"
        },
        "id": "_cOAv_VrnbLU",
        "outputId": "34868384-8c8e-4c80-824f-68ff3336a7b3"
      },
      "outputs": [
        {
          "output_type": "stream",
          "name": "stdout",
          "text": [
            "lOFC Train Data Shape:  (101, 189, 537)\n",
            "lOFC Test Data Shape:  (10, 189, 537)\n"
          ]
        }
      ],
      "source": [
        "print(ROI_names[-1], \"Train Data Shape: \", train_data[-1].shape)\n",
        "print(ROI_names[-1], \"Test Data Shape: \", test_data[-1].shape)"
      ]
    },
    {
      "cell_type": "code",
      "execution_count": 18,
      "metadata": {
        "id": "YIlJSRX92txN"
      },
      "outputs": [],
      "source": [
        "# for i in range(len(data)):  \n",
        "#   plt.figure(figsize=(10, 8))\n",
        "#   plt.plot(train_data[i][0,:,:])\n",
        "#   plt.title(\"BOLD of 1st Subject for \"+ROI_names[i]+\"'s Voxels\")\n",
        "#   plt.xlabel(\"TRs\")\n",
        "#   plt.ylabel(\"BOLD[Scaled between 0 and 1]\")\n",
        "#   plt.savefig(\"./Plots/YOUNG/ALL-BOLD/ALL-BOLD-SCALED-\"+ROI_names[i]+\".png\")"
      ]
    },
    {
      "cell_type": "markdown",
      "metadata": {
        "id": "0yjlAwWeiEru"
      },
      "source": [
        "We now build a data generator which would produce mini-batches during the training of the neural network."
      ]
    },
    {
      "cell_type": "code",
      "execution_count": 19,
      "metadata": {
        "id": "Blko7LXpgtwA"
      },
      "outputs": [],
      "source": [
        "class KerasBatchGenerator(object):\n",
        "    def __init__(self, data, num_TRs, batch_size, look_ahead=1):\n",
        "        self.data = data\n",
        "        self.num_TRs = num_TRs\n",
        "        self.batch_size = batch_size\n",
        "        self.current_idx = 0\n",
        "        self.look_ahead = look_ahead\n",
        "\n",
        "    def generate(self):\n",
        "        while True:\n",
        "            if self.current_idx + self.batch_size >= self.data.shape[0]:\n",
        "              self.current_idx = 0\n",
        "            x = self.data[self.current_idx:(self.current_idx+self.batch_size),:(-self.look_ahead),:]\n",
        "            y = self.data[self.current_idx:(self.current_idx+self.batch_size),self.look_ahead:,:]\n",
        "            self.current_idx = self.current_idx + self.batch_size\n",
        "            yield x, y "
      ]
    },
    {
      "cell_type": "code",
      "execution_count": 20,
      "metadata": {
        "id": "lZN56Eg3mrsc"
      },
      "outputs": [],
      "source": [
        "train_data_generator = [KerasBatchGenerator(dat, dat.shape[1], TRAIN_BATCH_SIZE, LOOK_AHEAD) for dat in train_data]\n",
        "test_data_generator = [KerasBatchGenerator(dat, dat.shape[1], TEST_BATCH_SIZE, LOOK_AHEAD) for dat in test_data]"
      ]
    },
    {
      "cell_type": "code",
      "execution_count": 21,
      "metadata": {
        "colab": {
          "base_uri": "https://localhost:8080/"
        },
        "id": "5UPT6iRxpJ7c",
        "outputId": "11b17386-62ce-4863-f68a-2f55ad8886ec"
      },
      "outputs": [
        {
          "output_type": "stream",
          "name": "stdout",
          "text": [
            "lOFC Train Batch X Shape:  (20, 188, 537)\n",
            "lOFC Train Batch y Shape:  (20, 188, 537)\n"
          ]
        }
      ],
      "source": [
        "batch_x, batch_y = next(train_data_generator[-1].generate())\n",
        "print(ROI_names[-1], \"Train Batch X Shape: \", batch_x.shape)\n",
        "print(ROI_names[-1], \"Train Batch y Shape: \", batch_y.shape)"
      ]
    },
    {
      "cell_type": "code",
      "execution_count": 22,
      "metadata": {
        "colab": {
          "base_uri": "https://localhost:8080/"
        },
        "id": "Clavfro-pSEV",
        "outputId": "ad99de03-ac45-4e29-c3ea-03c730d47b7c"
      },
      "outputs": [
        {
          "output_type": "stream",
          "name": "stdout",
          "text": [
            "lOFC Test Batch X Shape:  (10, 188, 537)\n",
            "lOFC Test Batch y Shape:  (10, 188, 537)\n"
          ]
        }
      ],
      "source": [
        "batch_x, batch_y = next(test_data_generator[-1].generate())\n",
        "print(ROI_names[-1], \"Test Batch X Shape: \", batch_x.shape)\n",
        "print(ROI_names[-1], \"Test Batch y Shape: \", batch_y.shape)"
      ]
    },
    {
      "cell_type": "markdown",
      "metadata": {
        "id": "31NRewZjqoi1"
      },
      "source": [
        "### Building Model"
      ]
    },
    {
      "cell_type": "markdown",
      "metadata": {
        "id": "8Ry-jGmHqqx0"
      },
      "source": [
        "We will start off by building a LSTM Model:\n",
        "- `Number of LSTM Layers = 2`\n",
        "- `Number of Dense Layers = 2`\n",
        "- `hidden units = 32`\n",
        "- `dropout = 0.3`"
      ]
    },
    {
      "cell_type": "code",
      "execution_count": 23,
      "metadata": {
        "id": "AKDAJkiVgK2n"
      },
      "outputs": [],
      "source": [
        "HIDDEN_UNITS = 32\n",
        "DROPOUT_PROB = 0.3\n",
        "LSTM_LAYERS = 2\n",
        "DENSE_LAYERS = 2"
      ]
    },
    {
      "cell_type": "code",
      "execution_count": 24,
      "metadata": {
        "id": "fqoXwHTTqqCR"
      },
      "outputs": [],
      "source": [
        "def avg_bold_model(num_voxs):\n",
        "  model = Sequential()\n",
        "  for _ in range(LSTM_LAYERS):\n",
        "    model.add(LSTM(HIDDEN_UNITS, return_sequences=True))\n",
        "  model.add(Dropout(0.3))\n",
        "  for _ in range(DENSE_LAYERS-1):\n",
        "    model.add(TimeDistributed(Dense(HIDDEN_UNITS, activation='relu')))\n",
        "  model.add(TimeDistributed(Dense(num_voxs)))\n",
        "  return model"
      ]
    },
    {
      "cell_type": "code",
      "execution_count": 25,
      "metadata": {
        "colab": {
          "base_uri": "https://localhost:8080/"
        },
        "id": "nYHgnyz-v5nA",
        "outputId": "3c975a63-6d7d-4575-e2cc-172318c82984"
      },
      "outputs": [
        {
          "output_type": "stream",
          "name": "stdout",
          "text": [
            "Model: \"sequential\"\n",
            "_________________________________________________________________\n",
            " Layer (type)                Output Shape              Param #   \n",
            "=================================================================\n",
            " lstm (LSTM)                 (10, 188, 32)             72960     \n",
            "                                                                 \n",
            " lstm_1 (LSTM)               (10, 188, 32)             8320      \n",
            "                                                                 \n",
            " dropout (Dropout)           (10, 188, 32)             0         \n",
            "                                                                 \n",
            " time_distributed (TimeDistr  (10, 188, 32)            1056      \n",
            " ibuted)                                                         \n",
            "                                                                 \n",
            " time_distributed_1 (TimeDis  (10, 188, 537)           17721     \n",
            " tributed)                                                       \n",
            "                                                                 \n",
            "=================================================================\n",
            "Total params: 100,057\n",
            "Trainable params: 100,057\n",
            "Non-trainable params: 0\n",
            "_________________________________________________________________\n"
          ]
        }
      ],
      "source": [
        "sample_model = avg_bold_model(batch_x.shape[-1])\n",
        "sample_model.build(input_shape=batch_x.shape)\n",
        "sample_model.summary()"
      ]
    },
    {
      "cell_type": "code",
      "execution_count": 26,
      "metadata": {
        "id": "fUZSBnNft2Dl"
      },
      "outputs": [],
      "source": [
        "models = [avg_bold_model(train_data[i].shape[-1]) for i in range(len(ROI_names))]"
      ]
    },
    {
      "cell_type": "markdown",
      "metadata": {
        "id": "3PRKFwUahAKG"
      },
      "source": [
        "#### Training Model"
      ]
    },
    {
      "cell_type": "markdown",
      "metadata": {
        "id": "LsHnfCSrhC0g"
      },
      "source": [
        "If you haven't already trained the models then uncomment and train your models which will be saved and will be loaded for inference later."
      ]
    },
    {
      "cell_type": "code",
      "execution_count": 27,
      "metadata": {
        "id": "kf-dFQmfzqTA"
      },
      "outputs": [],
      "source": [
        "for i in range(len(ROI_names)):\n",
        "  models[i].compile(optimizer = 'adam', loss = 'mean_squared_error')"
      ]
    },
    {
      "cell_type": "code",
      "execution_count": 28,
      "metadata": {
        "id": "vcZsfhkz3lCH"
      },
      "outputs": [],
      "source": [
        "# EPOCHS = 100\n",
        "# checkpoint_filepaths = [f\"./Models/YOUNG/LSTM/ALL-BOLD/{name}/model_weights-best-val-loss-{LSTM_LAYERS}L-{HIDDEN_UNITS}H-{DENSE_LAYERS}D-{int(DROPOUT_PROB*10)}Drop-{LOOK_AHEAD}Ahead-{name}\" for name in ROI_names]\n",
        "# model_checkpoint_callbacks = [tf.keras.callbacks.ModelCheckpoint(\n",
        "#     filepath=checkpoint_filepath,\n",
        "#     save_weights_only=True,\n",
        "#     monitor = \"val_loss\",\n",
        "#     mode='min',\n",
        "#     save_best_only=True) for checkpoint_filepath in checkpoint_filepaths]"
      ]
    },
    {
      "cell_type": "code",
      "execution_count": 29,
      "metadata": {
        "id": "wECZbf2i_AH7"
      },
      "outputs": [],
      "source": [
        "# def plot_train_test_loss(history, model_name, i):  \n",
        "#   plt.figure(figsize=(10,10))\n",
        "#   plt.plot(history.history['loss'])\n",
        "#   plt.plot(history.history['val_loss'])\n",
        "#   plt.title(model_name+' loss')\n",
        "#   plt.ylabel('loss')\n",
        "#   plt.xlabel('epochs')\n",
        "#   plt.legend(['train', 'val'], loc='upper left')\n",
        "#   plt.savefig(\"./Plots/YOUNG/LSTM/ALL-BOLD/\"+ROI_names[i]+\"/\"+model_name+\"-loss.png\")"
      ]
    },
    {
      "cell_type": "code",
      "execution_count": 30,
      "metadata": {
        "id": "AFb-kTLR21hl"
      },
      "outputs": [],
      "source": [
        "# histories = list()\n",
        "# with tf.device('/device:GPU:0'):\n",
        "#   for i in range(len(ROI_names)):\n",
        "#     history = models[i].fit(\n",
        "#                     train_data_generator[i].generate(),\n",
        "#                     steps_per_epoch=train_data[i].shape[0]//TRAIN_BATCH_SIZE,\n",
        "#                     epochs=EPOCHS,\n",
        "#                     validation_data=test_data_generator[i].generate(),\n",
        "#                     validation_steps=test_data[i].shape[0]//TEST_BATCH_SIZE,\n",
        "#                     callbacks=[model_checkpoint_callbacks[i]]\n",
        "#                     )\n",
        "#     models[i].save_weights(f\"./Models/YOUNG/LSTM/ALL-BOLD/{ROI_names[i]}/model_weights-{LSTM_LAYERS}L-{HIDDEN_UNITS}H-{DENSE_LAYERS}D-{int(DROPOUT_PROB*10)}Drop-{LOOK_AHEAD}Ahead-{ROI_names[i]}\")\n",
        "#     plot_train_test_loss(history, f\"{LSTM_LAYERS}L-{HIDDEN_UNITS}H-{DENSE_LAYERS}D-{int(DROPOUT_PROB*10)}Drop-{LOOK_AHEAD}Ahead-{ROI_names[i]}\", i)\n",
        "#     histories.append(history)"
      ]
    },
    {
      "cell_type": "code",
      "execution_count": 31,
      "metadata": {
        "id": "dKvn0145hViW"
      },
      "outputs": [],
      "source": [
        "for i in range(len(ROI_names)):\n",
        "  models[i].load_weights(f\"./Models/YOUNG/LSTM/ALL-BOLD/{ROI_names[i]}/model_weights-{LSTM_LAYERS}L-{HIDDEN_UNITS}H-{DENSE_LAYERS}D-{int(DROPOUT_PROB*10)}Drop-{LOOK_AHEAD}Ahead-{ROI_names[i]}\")"
      ]
    },
    {
      "cell_type": "code",
      "execution_count": 32,
      "metadata": {
        "id": "7mpQ5Rap6kQ0"
      },
      "outputs": [],
      "source": [
        "preds = [models[i].predict(next(test_data_generator[i].generate())[0]) for i in range(len(ROI_names))]"
      ]
    },
    {
      "cell_type": "code",
      "execution_count": null,
      "metadata": {
        "id": "HeE2zhmXxOge"
      },
      "outputs": [],
      "source": [
        "a_TRs = np.array([56, 67, 73, 81, 134, 142, 155, 167, 174, 180])\n",
        "d_TRs = np.array([67, 72, 85, 89, 145, 154, 168, 174, 180, 188])\n",
        "and_TRs = np.union1d(a_TRs, d_TRs)\n",
        "\n",
        "def highlight_and(act, pred):\n",
        "  min_y_list = list()\n",
        "  max_y_list = list()\n",
        "  for i in range(5):\n",
        "    min_y_list.append(np.min(np.concatenate([act[a_TRs[2*i]:d_TRs[2*i+1]], pred[a_TRs[2*i]:d_TRs[2*i+1]]])))\n",
        "    max_y_list.append(np.max(np.concatenate([act[a_TRs[2*i]:d_TRs[2*i+1]], pred[a_TRs[2*i]:d_TRs[2*i+1]]])))\n",
        "    # plt.fill_betweenx(y=[min_y_list[i], max_y_list[i]], x1=a_TRs[2*i], x2=d_TRs[2*i+1], color='gray', alpha=0.1)\n",
        "    plt.fill_betweenx(y=[min_y_list[i], max_y_list[i]], x1=a_TRs[2*i], x2=a_TRs[2*i+1], color='violet', alpha=0.4)\n",
        "    plt.fill_betweenx(y=[min_y_list[i], max_y_list[i]], x1=d_TRs[2*i], x2=d_TRs[2*i+1], color='greenyellow', alpha=0.4)"
      ]
    },
    {
      "cell_type": "code",
      "execution_count": null,
      "metadata": {
        "colab": {
          "background_save": true
        },
        "id": "WBLOHLixAWnk"
      },
      "outputs": [],
      "source": [
        "np.random.seed(43)\n",
        "for i in range(len(ROI_names)):\n",
        "  \n",
        "  actual_test_data_output = test_data_unscaled[i][:,LOOK_AHEAD:,:]\n",
        "  pred_test_data_output = np.transpose(np.array([scalers[ROI_names[i]][j].inverse_transform(np.hstack([preds[i][:,:,j], preds[i][:,:LOOK_AHEAD,j]])) for j in range(len(scalers[ROI_names[i]]))]), (1,2,0))[:,:-LOOK_AHEAD,:]\n",
        "  plt.figure(figsize=(24, 18))\n",
        "\n",
        "  for j in range(NUM_TEST_SUBS-1):\n",
        "  \n",
        "    ax = plt.subplot(3, 3, j + 1)\n",
        "    vox_choice = np.random.randint(0, len(scalers[ROI_names[i]]), 5)\n",
        "    plt.plot(np.transpose(actual_test_data_output[j,:, vox_choice]), c='b', label='actual')\n",
        "    plt.plot(np.transpose(pred_test_data_output[j,:, vox_choice]), c='r', ls='--', label='pred')\n",
        "    # highlight_and(actual_test_data_output[j,:], pred_test_data_output[j,:])\n",
        "    plt.xticks(np.concatenate([np.array([0]), and_TRs - LOOK_AHEAD]), np.concatenate([np.array([LOOK_AHEAD]), and_TRs]))\n",
        "    plt.ylabel(\"BOLD\")\n",
        "    plt.xlabel(\"TRs\")\n",
        "    plt.title(f\"All BOLD Preds of {LSTM_LAYERS}L-{HIDDEN_UNITS}H-{DENSE_LAYERS}D-{int(DROPOUT_PROB*10)}Drop-{LOOK_AHEAD}Ahead for {j+1}th Test Sub's {ROI_names[i]}\")\n",
        "    plt.legend()\n",
        "    plt.savefig(f\"./Plots/YOUNG/LSTM/ALL-BOLD/{ROI_names[i]}/{LSTM_LAYERS}L-{HIDDEN_UNITS}H-{DENSE_LAYERS}D-{int(DROPOUT_PROB*10)}Drop-{LOOK_AHEAD}Ahead-Preds.png\")"
      ]
    },
    {
      "cell_type": "code",
      "execution_count": 33,
      "metadata": {
        "id": "J8hiJzxcKFuz",
        "colab": {
          "base_uri": "https://localhost:8080/"
        },
        "outputId": "d8784fce-23bb-4793-8621-edf094e48cb3"
      },
      "outputs": [
        {
          "output_type": "stream",
          "name": "stdout",
          "text": [
            "***Each Test Subject's Correlation Coefficient between predicted and actual BOLD averaged across each Voxel Prediction values for ROIs***\n",
            "\n",
            "dmPFC for 1th sub: 0.39\n",
            "dmPFC for 2th sub: 0.48\n",
            "dmPFC for 3th sub: 0.22\n",
            "dmPFC for 4th sub: 0.24\n",
            "dmPFC for 5th sub: 0.25\n",
            "dmPFC for 6th sub: 0.41\n",
            "dmPFC for 7th sub: 0.21\n",
            "dmPFC for 8th sub: 0.32\n",
            "dmPFC for 9th sub: 0.44\n",
            "dmPFC for 10th sub: 0.24\n",
            "\n",
            "ACC for 1th sub: 0.22\n",
            "ACC for 2th sub: 0.37\n",
            "ACC for 3th sub: 0.22\n",
            "ACC for 4th sub: 0.31\n",
            "ACC for 5th sub: 0.22\n",
            "ACC for 6th sub: 0.31\n",
            "ACC for 7th sub: 0.21\n",
            "ACC for 8th sub: 0.52\n",
            "ACC for 9th sub: 0.39\n",
            "ACC for 10th sub: 0.34\n",
            "\n",
            "AMY for 1th sub: 0.28\n",
            "AMY for 2th sub: 0.33\n",
            "AMY for 3th sub: 0.48\n",
            "AMY for 4th sub: 0.22\n",
            "AMY for 5th sub: 0.17\n",
            "AMY for 6th sub: 0.45\n",
            "AMY for 7th sub: 0.17\n",
            "AMY for 8th sub: 0.58\n",
            "AMY for 9th sub: 0.25\n",
            "AMY for 10th sub: 0.15\n",
            "\n",
            "Cau for 1th sub: 0.16\n",
            "Cau for 2th sub: 0.59\n",
            "Cau for 3th sub: 0.24\n",
            "Cau for 4th sub: 0.11\n",
            "Cau for 5th sub: 0.32\n",
            "Cau for 6th sub: 0.1\n",
            "Cau for 7th sub: 0.1\n",
            "Cau for 8th sub: 0.26\n",
            "Cau for 9th sub: 0.52\n",
            "Cau for 10th sub: 0.39\n",
            "\n",
            "dlPFC for 1th sub: 0.3\n",
            "dlPFC for 2th sub: 0.23\n",
            "dlPFC for 3th sub: 0.37\n",
            "dlPFC for 4th sub: 0.24\n",
            "dlPFC for 5th sub: 0.3\n",
            "dlPFC for 6th sub: 0.11\n",
            "dlPFC for 7th sub: 0.24\n",
            "dlPFC for 8th sub: 0.17\n",
            "dlPFC for 9th sub: 0.32\n",
            "dlPFC for 10th sub: 0.25\n",
            "\n",
            "INS for 1th sub: 0.32\n",
            "INS for 2th sub: 0.74\n",
            "INS for 3th sub: 0.51\n",
            "INS for 4th sub: 0.52\n",
            "INS for 5th sub: 0.18\n",
            "INS for 6th sub: 0.52\n",
            "INS for 7th sub: 0.18\n",
            "INS for 8th sub: 0.48\n",
            "INS for 9th sub: 0.21\n",
            "INS for 10th sub: 0.45\n",
            "\n",
            "IPL for 1th sub: 0.45\n",
            "IPL for 2th sub: 0.28\n",
            "IPL for 3th sub: 0.5\n",
            "IPL for 4th sub: 0.47\n",
            "IPL for 5th sub: 0.35\n",
            "IPL for 6th sub: 0.26\n",
            "IPL for 7th sub: 0.44\n",
            "IPL for 8th sub: 0.54\n",
            "IPL for 9th sub: 0.36\n",
            "IPL for 10th sub: 0.33\n",
            "\n",
            "mCC for 1th sub: 0.18\n",
            "mCC for 2th sub: 0.08\n",
            "mCC for 3th sub: 0.33\n",
            "mCC for 4th sub: 0.12\n",
            "mCC for 5th sub: 0.3\n",
            "mCC for 6th sub: 0.68\n",
            "mCC for 7th sub: 0.1\n",
            "mCC for 8th sub: 0.35\n",
            "mCC for 9th sub: 0.19\n",
            "mCC for 10th sub: 0.25\n",
            "\n",
            "Nac for 1th sub: 0.21\n",
            "Nac for 2th sub: 0.42\n",
            "Nac for 3th sub: 0.3\n",
            "Nac for 4th sub: 0.31\n",
            "Nac for 5th sub: 0.26\n",
            "Nac for 6th sub: 0.17\n",
            "Nac for 7th sub: 0.15\n",
            "Nac for 8th sub: 0.35\n",
            "Nac for 9th sub: 0.73\n",
            "Nac for 10th sub: 0.18\n",
            "\n",
            "PCC for 1th sub: 0.33\n",
            "PCC for 2th sub: 0.33\n",
            "PCC for 3th sub: 0.55\n",
            "PCC for 4th sub: 0.38\n",
            "PCC for 5th sub: 0.22\n",
            "PCC for 6th sub: 0.57\n",
            "PCC for 7th sub: 0.22\n",
            "PCC for 8th sub: 0.48\n",
            "PCC for 9th sub: 0.26\n",
            "PCC for 10th sub: 0.3\n",
            "\n",
            "PCG for 1th sub: 0.22\n",
            "PCG for 2th sub: 0.14\n",
            "PCG for 3th sub: 0.32\n",
            "PCG for 4th sub: 0.23\n",
            "PCG for 5th sub: 0.12\n",
            "PCG for 6th sub: 0.31\n",
            "PCG for 7th sub: 0.25\n",
            "PCG for 8th sub: 0.28\n",
            "PCG for 9th sub: 0.35\n",
            "PCG for 10th sub: 0.42\n",
            "\n",
            "Prec for 1th sub: 0.41\n",
            "Prec for 2th sub: 0.34\n",
            "Prec for 3th sub: 0.55\n",
            "Prec for 4th sub: 0.41\n",
            "Prec for 5th sub: 0.26\n",
            "Prec for 6th sub: 0.49\n",
            "Prec for 7th sub: 0.38\n",
            "Prec for 8th sub: 0.58\n",
            "Prec for 9th sub: 0.35\n",
            "Prec for 10th sub: 0.42\n",
            "\n",
            "TP for 1th sub: 0.58\n",
            "TP for 2th sub: 0.43\n",
            "TP for 3th sub: 0.65\n",
            "TP for 4th sub: 0.42\n",
            "TP for 5th sub: 0.69\n",
            "TP for 6th sub: 0.33\n",
            "TP for 7th sub: 0.39\n",
            "TP for 8th sub: 0.76\n",
            "TP for 9th sub: 0.64\n",
            "TP for 10th sub: 0.63\n",
            "\n",
            "Put for 1th sub: 0.32\n",
            "Put for 2th sub: 0.12\n",
            "Put for 3th sub: 0.58\n",
            "Put for 4th sub: 0.05\n",
            "Put for 5th sub: 0.26\n",
            "Put for 6th sub: 0.26\n",
            "Put for 7th sub: 0.12\n",
            "Put for 8th sub: 0.52\n",
            "Put for 9th sub: 0.33\n",
            "Put for 10th sub: 0.06\n",
            "\n",
            "pSTS for 1th sub: 0.52\n",
            "pSTS for 2th sub: 0.43\n",
            "pSTS for 3th sub: 0.69\n",
            "pSTS for 4th sub: 0.46\n",
            "pSTS for 5th sub: 0.38\n",
            "pSTS for 6th sub: 0.62\n",
            "pSTS for 7th sub: 0.3\n",
            "pSTS for 8th sub: 0.68\n",
            "pSTS for 9th sub: 0.33\n",
            "pSTS for 10th sub: 0.33\n",
            "\n",
            "VC for 1th sub: 0.33\n",
            "VC for 2th sub: 0.21\n",
            "VC for 3th sub: 0.31\n",
            "VC for 4th sub: 0.38\n",
            "VC for 5th sub: 0.21\n",
            "VC for 6th sub: 0.4\n",
            "VC for 7th sub: 0.25\n",
            "VC for 8th sub: 0.36\n",
            "VC for 9th sub: 0.32\n",
            "VC for 10th sub: 0.26\n",
            "\n",
            "vlPFC for 1th sub: 0.41\n",
            "vlPFC for 2th sub: 0.32\n",
            "vlPFC for 3th sub: 0.54\n",
            "vlPFC for 4th sub: 0.46\n",
            "vlPFC for 5th sub: 0.26\n",
            "vlPFC for 6th sub: 0.26\n",
            "vlPFC for 7th sub: 0.39\n",
            "vlPFC for 8th sub: 0.41\n",
            "vlPFC for 9th sub: 0.48\n",
            "vlPFC for 10th sub: 0.27\n",
            "\n",
            "mOFC for 1th sub: 0.23\n",
            "mOFC for 2th sub: 0.26\n",
            "mOFC for 3th sub: 0.49\n",
            "mOFC for 4th sub: 0.58\n",
            "mOFC for 5th sub: 0.31\n",
            "mOFC for 6th sub: 0.48\n",
            "mOFC for 7th sub: 0.03\n",
            "mOFC for 8th sub: 0.71\n",
            "mOFC for 9th sub: 0.77\n",
            "mOFC for 10th sub: 0.29\n",
            "\n",
            "mPFC for 1th sub: 0.37\n",
            "mPFC for 2th sub: 0.07\n",
            "mPFC for 3th sub: 0.19\n",
            "mPFC for 4th sub: 0.42\n",
            "mPFC for 5th sub: 0.26\n",
            "mPFC for 6th sub: 0.15\n",
            "mPFC for 7th sub: 0.18\n",
            "mPFC for 8th sub: 0.75\n",
            "mPFC for 9th sub: 0.28\n",
            "mPFC for 10th sub: 0.24\n",
            "\n",
            "lOFC for 1th sub: 0.38\n",
            "lOFC for 2th sub: 0.22\n",
            "lOFC for 3th sub: 0.39\n",
            "lOFC for 4th sub: 0.54\n",
            "lOFC for 5th sub: 0.31\n",
            "lOFC for 6th sub: 0.11\n",
            "lOFC for 7th sub: 0.2\n",
            "lOFC for 8th sub: 0.63\n",
            "lOFC for 9th sub: 0.74\n",
            "lOFC for 10th sub: 0.14\n",
            "\n",
            "***Average across test subjects Correlation Coefficient between predicted and actual BOLD averaged across each Voxel Prediction values for ROIs***\n",
            "\n",
            "dmPFC: 0.32\n",
            "ACC: 0.31\n",
            "AMY: 0.31\n",
            "Cau: 0.28\n",
            "dlPFC: 0.25\n",
            "INS: 0.41\n",
            "IPL: 0.4\n",
            "mCC: 0.26\n",
            "Nac: 0.31\n",
            "PCC: 0.37\n",
            "PCG: 0.26\n",
            "Prec: 0.42\n",
            "TP: 0.55\n",
            "Put: 0.26\n",
            "pSTS: 0.47\n",
            "VC: 0.3\n",
            "vlPFC: 0.38\n",
            "mOFC: 0.42\n",
            "mPFC: 0.29\n",
            "lOFC: 0.36\n"
          ]
        }
      ],
      "source": [
        "print(\"***Each Test Subject's Correlation Coefficient between predicted and actual BOLD averaged across each Voxel Prediction values for ROIs***\")\n",
        "print()\n",
        "avg_r = list()\n",
        "for i in range(len(ROI_names)):\n",
        "  actual_test_data_output = test_data_unscaled[i][:,LOOK_AHEAD:,:]\n",
        "  pred_test_data_output = np.transpose(np.array([scalers[ROI_names[i]][j].inverse_transform(np.hstack([preds[i][:,:,j], preds[i][:,:LOOK_AHEAD,j]])) for j in range(len(scalers[ROI_names[i]]))]), (1,2,0))[:,:-LOOK_AHEAD,:] \n",
        "  for j in range(NUM_TEST_SUBS):\n",
        "    print(f\"{ROI_names[i]} for {j+1}th sub: {np.round(np.trace(np.corrcoef(actual_test_data_output[j,:,:], pred_test_data_output[j,:,:], rowvar=False)[:actual_test_data_output.shape[-1], actual_test_data_output.shape[-1]:])/actual_test_data_output.shape[-1], 2)}\")\n",
        "  print()\n",
        "\n",
        "print(\"***Average across test subjects Correlation Coefficient between predicted and actual BOLD averaged across each Voxel Prediction values for ROIs***\")\n",
        "print()\n",
        "for i in range(len(ROI_names)):\n",
        "  actual_test_data_output = test_data_unscaled[i][:,LOOK_AHEAD:,:]\n",
        "  pred_test_data_output = np.transpose(np.array([scalers[ROI_names[i]][j].inverse_transform(np.hstack([preds[i][:,:,j], preds[i][:,:LOOK_AHEAD,j]])) for j in range(len(scalers[ROI_names[i]]))]), (1,2,0))[:,:-LOOK_AHEAD,:]\n",
        "  sum_r = 0\n",
        "  for j in range(NUM_TEST_SUBS):\n",
        "    sum_r += np.trace(np.corrcoef(actual_test_data_output[j,:,:], pred_test_data_output[j,:,:], rowvar=False)[:actual_test_data_output.shape[-1], actual_test_data_output.shape[-1]:]/actual_test_data_output.shape[-1])\n",
        "  print(f\"{ROI_names[i]}: {np.round(sum_r / NUM_TEST_SUBS, 2)}\")"
      ]
    },
    {
      "cell_type": "code",
      "execution_count": null,
      "metadata": {
        "id": "f8gPew9YMI2B"
      },
      "outputs": [],
      "source": [
        "print(\"***Model's Final Scaled MSE(Train) Loss between predicted and actual all voxel BOLD values for ROIs for the Train Subjects***\")\n",
        "print()\n",
        "for i in range(len(ROI_names)):\n",
        "  print(ROI_names[i]+\":\", np.round(histories[i].history['loss'][-1], 5))\n",
        "print()\n",
        "print(\"***Model's Final MSE(Validation) Loss between predicted and actual all voxel BOLD values for ROIs for the Test Subjects***\")\n",
        "print()\n",
        "for i in range(len(ROI_names)):\n",
        "  print(ROI_names[i]+\":\", np.round(histories[i].history['val_loss'][-1], 5))"
      ]
    },
    {
      "cell_type": "code",
      "execution_count": 35,
      "metadata": {
        "id": "EQ3FUO9eY5gO",
        "colab": {
          "base_uri": "https://localhost:8080/"
        },
        "outputId": "b1713681-50d3-4ecf-9787-0c87109178d8"
      },
      "outputs": [
        {
          "output_type": "stream",
          "name": "stdout",
          "text": [
            "***Model's Final MSE(Validation) Loss between predicted and actual all voxel BOLD values for ROIs for the Test Subjects***\n",
            "\n",
            "dmPFC for Each Validation Subject: [38.421772 39.107758 21.196344 14.488474 24.658289 43.123844 24.43376\n",
            " 15.775523 21.180855 42.88747 ]\n",
            "dmPFC : 28.527409\n",
            "ACC for Each Validation Subject: [15.479848 15.024063 24.806936 16.176514 15.896649 35.17214  24.853615\n",
            " 24.53598  15.572291 16.574657]\n",
            "ACC : 20.40927\n",
            "AMY for Each Validation Subject: [25.399736 26.438814 42.38606  18.472486 16.502386 46.397045 18.28092\n",
            " 32.67083  60.88646  24.328629]\n",
            "AMY : 31.176336\n",
            "Cau for Each Validation Subject: [19.127716 10.41112  24.05878  23.552053 30.667824 56.080265  8.870169\n",
            " 20.562094 22.076712 10.941608]\n",
            "Cau : 22.634834\n",
            "dlPFC for Each Validation Subject: [33.64238  24.732977 22.030207 21.013786 44.727333 45.72922  32.06662\n",
            " 31.305922 29.965359 34.042202]\n",
            "dlPFC : 31.925602\n",
            "INS for Each Validation Subject: [10.18972    5.817379   8.3872795  8.922527   4.820632   3.2295604\n",
            "  8.106666  14.210792   9.968092   4.8648067]\n",
            "INS : 7.8517456\n",
            "IPL for Each Validation Subject: [38.542538 22.192421 40.35482  75.841034 50.784855 84.553474 42.913063\n",
            " 36.0627   20.905972 29.22171 ]\n",
            "IPL : 44.13726\n",
            "mCC for Each Validation Subject: [14.370824 15.516035  8.984624 15.427028 18.704165 25.09824  17.107351\n",
            " 32.64178  15.821433 16.542976]\n",
            "mCC : 18.021444\n",
            "Nac for Each Validation Subject: [ 8.274071   6.0402055 10.688268  23.799135  10.778259  24.32895\n",
            "  3.430781   9.201563  11.072759   5.2773376]\n",
            "Nac : 11.289133\n",
            "PCC for Each Validation Subject: [61.557087 15.406958 16.763662 11.731693 21.449133 77.0515   23.960752\n",
            " 13.51708  22.021858 21.433239]\n",
            "PCC : 28.489294\n",
            "PCG for Each Validation Subject: [ 81.853264 121.12578   43.50356   88.05406   72.26069  176.7377\n",
            " 102.269264  72.693886 143.93382   77.41858 ]\n",
            "PCG : 97.98506\n",
            "Prec for Each Validation Subject: [ 54.64189   70.71935   20.047972  38.74908   21.079006 137.47162\n",
            "  61.798912  32.591946  32.765182  44.69961 ]\n",
            "Prec : 51.45646\n",
            "TP for Each Validation Subject: [13.778917  20.316122  17.449081  13.1237135 37.188263  24.116907\n",
            " 22.756655  28.558743  28.304054  43.800594 ]\n",
            "TP : 24.939304\n",
            "Put for Each Validation Subject: [ 2.6624506  3.9628613  4.9257097  4.1634235  3.8673544 12.349529\n",
            "  4.159451   2.576488   2.907649   7.4750133]\n",
            "Put : 4.904993\n",
            "pSTS for Each Validation Subject: [ 9.0337305  4.3584642 14.2667885  6.393656   9.179773   5.9025345\n",
            "  8.186642   9.411834   3.9679084 17.882559 ]\n",
            "pSTS : 8.85839\n",
            "VC for Each Validation Subject: [143.53474   95.53061   58.526367  86.5342   181.57536  225.15317\n",
            "  62.355022  81.57703   81.13362   55.716393]\n",
            "VC : 107.16365\n",
            "vlPFC for Each Validation Subject: [25.946987  15.127244   6.352039  11.323785  45.207703  26.06808\n",
            " 20.61747   16.577013  24.914207   6.9381843]\n",
            "vlPFC : 19.90727\n",
            "mOFC for Each Validation Subject: [14.551423 22.239569 39.466763 23.086473 50.967503 68.87021  23.33221\n",
            " 24.714027 17.365307 22.255299]\n",
            "mOFC : 30.68488\n",
            "mPFC for Each Validation Subject: [ 35.67284   51.584316  53.766052  78.25017   37.120674 221.65273\n",
            "  42.33905   19.992748  41.662025  18.321325]\n",
            "mPFC : 60.036194\n",
            "lOFC for Each Validation Subject: [25.218214 23.755606 29.903967 30.2088   16.790728 25.441456 32.10755\n",
            " 15.080226 24.045954 18.902855]\n",
            "lOFC : 24.145538\n"
          ]
        }
      ],
      "source": [
        "print(\"***Model's Final MSE(Validation) Loss between predicted and actual all voxel BOLD values for ROIs for the Test Subjects***\")\n",
        "print()\n",
        "for i in range(len(ROI_names)):\n",
        "  actual_test_data_output = test_data_unscaled[i][:,LOOK_AHEAD:,:]\n",
        "  pred_test_data_output = np.transpose(np.array([scalers[ROI_names[i]][j].inverse_transform(np.hstack([preds[i][:,:,j], preds[i][:,:LOOK_AHEAD,j]])) for j in range(len(scalers[ROI_names[i]]))]), (1,2,0))[:,:-LOOK_AHEAD,:]\n",
        "  print(ROI_names[i]+\" for Each Validation Subject:\", np.mean(tf.keras.losses.mean_squared_error(actual_test_data_output, pred_test_data_output), axis=-1))\n",
        "  print(ROI_names[i]+\" :\", np.mean(np.mean(tf.keras.losses.mean_squared_error(actual_test_data_output, pred_test_data_output), axis=-1)))"
      ]
    },
    {
      "cell_type": "code",
      "source": [
        ""
      ],
      "metadata": {
        "id": "vj_dqg--4sG6"
      },
      "execution_count": null,
      "outputs": []
    }
  ],
  "metadata": {
    "accelerator": "GPU",
    "colab": {
      "collapsed_sections": [],
      "name": "Basic-LSTM-Model-All-Voxel-3.ipynb",
      "provenance": [],
      "authorship_tag": "ABX9TyNzp1a92bPLq48GTUBCFBX2"
    },
    "gpuClass": "standard",
    "kernelspec": {
      "display_name": "Python 3",
      "name": "python3"
    },
    "language_info": {
      "name": "python"
    }
  },
  "nbformat": 4,
  "nbformat_minor": 0
}