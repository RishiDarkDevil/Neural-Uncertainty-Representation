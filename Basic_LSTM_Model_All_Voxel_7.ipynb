{
  "cells": [
    {
      "cell_type": "markdown",
      "metadata": {
        "id": "rN8VtTibW_kL"
      },
      "source": [
        "Set Colab to GPU Mode if you are training the models!"
      ]
    },
    {
      "cell_type": "markdown",
      "metadata": {
        "id": "ESNkUUOEoS8j"
      },
      "source": [
        "### Mounting Google Drive"
      ]
    },
    {
      "cell_type": "code",
      "execution_count": null,
      "metadata": {
        "colab": {
          "base_uri": "https://localhost:8080/"
        },
        "id": "GWpiHXuGn6Oy",
        "outputId": "84d30639-d2a2-4ca6-c00e-a47685e15915"
      },
      "outputs": [
        {
          "name": "stdout",
          "output_type": "stream",
          "text": [
            "Mounted at /content/drive\n"
          ]
        }
      ],
      "source": [
        "from google.colab import drive\n",
        "drive.mount('/content/drive')"
      ]
    },
    {
      "cell_type": "code",
      "execution_count": null,
      "metadata": {
        "colab": {
          "base_uri": "https://localhost:8080/"
        },
        "id": "bpxEP-yeoWPX",
        "outputId": "5a41cd12-3222-427f-ffbf-6ab5e8f2481e"
      },
      "outputs": [
        {
          "name": "stdout",
          "output_type": "stream",
          "text": [
            "/content/drive/.shortcut-targets-by-id/1h_oF16bG32l75GPobgHe_9HgdUduLFxT/IIT J Summer Internship 2022/Code/Neural-Uncertainty-Representation\n"
          ]
        }
      ],
      "source": [
        "cd 'drive/MyDrive/IIT J Summer Internship 2022/Code/Neural-Uncertainty-Representation/'"
      ]
    },
    {
      "cell_type": "markdown",
      "metadata": {
        "id": "Hq9mNRMMomT7"
      },
      "source": [
        "### Importing Necessary Libraries\n"
      ]
    },
    {
      "cell_type": "code",
      "execution_count": null,
      "metadata": {
        "id": "SRXBkwcIogPe"
      },
      "outputs": [],
      "source": [
        "import numpy as np\n",
        "import pandas as pd\n",
        "\n",
        "import tensorflow as tf\n",
        "\n",
        "from tensorflow.keras.layers import Dense, Dropout, LSTM, TimeDistributed\n",
        "from tensorflow.keras.models import Sequential\n",
        "from tensorflow.keras.optimizers import Adam\n",
        "\n",
        "from sklearn.preprocessing import MinMaxScaler\n",
        "\n",
        "import matplotlib.pyplot as plt\n",
        "import os"
      ]
    },
    {
      "cell_type": "markdown",
      "metadata": {
        "id": "_R2-Cetmxned"
      },
      "source": [
        "### Importing Data\n",
        "We import the data of a young subject's 3D-Tensor Data of dimensions (TR, Voxel, Number of Subjects) for the 5 different ROIs as follows:\n",
        "- **Prefrontal areas:** dlPFC, vlPFC, lOFC, dmPFC, mPFC, mOFC\n",
        "- **Default-mode areas:** mPFC, ACC, PCC, Precuneus, mOFC\n",
        "- **Sensory areas:** VC\n",
        "- **Multisensory area:** pSTS\n",
        "- **Some other areas:** TP, IPL, mCC, Put, PCG, Nac, INS\n",
        "\n",
        "\n",
        "\n"
      ]
    },
    {
      "cell_type": "code",
      "execution_count": null,
      "metadata": {
        "id": "XUJPFBg1898z"
      },
      "outputs": [],
      "source": [
        "file_names = [name for name in os.listdir('/content/drive/MyDrive/IIT J Summer Internship 2022/Hitchcock/Data/YOUNG/Voxel_BOLD/Numpy') if name.endswith(\"npy\") and (\"(1)\" not in name)]\n",
        "file_names = [name for name in file_names if (\"537\" not in name)]"
      ]
    },
    {
      "cell_type": "code",
      "execution_count": null,
      "metadata": {
        "id": "5lVnzf5N_Ufy"
      },
      "outputs": [],
      "source": [
        "ROI_names = [file_name.replace(\"data_\",\"\").replace(\".npy\",\"\") for file_name in file_names]"
      ]
    },
    {
      "cell_type": "code",
      "execution_count": null,
      "metadata": {
        "id": "Kg22rkIGpfP2"
      },
      "outputs": [],
      "source": [
        "data_ori = list()\n",
        "for file_name in file_names:\n",
        "  data_ori.append(np.load('/content/drive/MyDrive/IIT J Summer Internship 2022/Hitchcock/Data/YOUNG/Voxel_BOLD/Numpy/'+file_name))"
      ]
    },
    {
      "cell_type": "markdown",
      "metadata": {
        "id": "Kcaxzm8WDjgO"
      },
      "source": [
        "### Data Preparation"
      ]
    },
    {
      "cell_type": "markdown",
      "metadata": {
        "id": "K9rJ8CAb97K2"
      },
      "source": [
        "Now, here we prepare the data to be fed to the Neural Network Architechtures. We can't predict the time ahead upto which the subjects are predicting correctly so, we will take a bit round about way to predict the BOLD values ahead in time(for several choices of time points e.g. 1 time point ahead, 2 time point ahead, etc) and will compare the results for young and old subjects."
      ]
    },
    {
      "cell_type": "markdown",
      "metadata": {
        "id": "im3Oqy2ueeEU"
      },
      "source": [
        "Right from the starting we decide some of the data preparation parameters, so that we can use them as we require."
      ]
    },
    {
      "cell_type": "code",
      "execution_count": null,
      "metadata": {
        "id": "X1DoZ2Fcec20"
      },
      "outputs": [],
      "source": [
        "TRAIN_BATCH_SIZE = 20\n",
        "TEST_BATCH_SIZE = 10\n",
        "LOOK_AHEAD = 1\n",
        "NUM_TEST_SUBS = 10"
      ]
    },
    {
      "cell_type": "markdown",
      "metadata": {
        "id": "TYuu8ZM2-u9z"
      },
      "source": [
        "We will avoid doing an average since, all voxels in a ROI is not equally important and hence we will want to predict the BOLD values of several voxels simultaneously."
      ]
    },
    {
      "cell_type": "code",
      "execution_count": null,
      "metadata": {
        "id": "pFvaFL69geft"
      },
      "outputs": [],
      "source": [
        "data = data_ori"
      ]
    },
    {
      "cell_type": "markdown",
      "metadata": {
        "id": "mY3usMssn3T5"
      },
      "source": [
        "Let's Start the Data Preparation for lOFC later we will iterate the same procedure for the other ROIs."
      ]
    },
    {
      "cell_type": "code",
      "execution_count": null,
      "metadata": {
        "colab": {
          "base_uri": "https://localhost:8080/"
        },
        "id": "71dv3Zkcgu3N",
        "outputId": "777a52e1-ecdc-4baa-a235-3763b15fba7d"
      },
      "outputs": [
        {
          "name": "stdout",
          "output_type": "stream",
          "text": [
            "lOFC BOLD Shape: (189, 537, 111)\n"
          ]
        }
      ],
      "source": [
        "print(ROI_names[-1], \"BOLD Shape:\", data[-1].shape)"
      ]
    },
    {
      "cell_type": "markdown",
      "metadata": {
        "id": "jG7ofnvRczcN"
      },
      "source": [
        "Below, we see the BOLD time series plot for all the ROIs."
      ]
    },
    {
      "cell_type": "markdown",
      "metadata": {
        "id": "-wIOccLpE0d-"
      },
      "source": [
        "We have changed the data in the form (Number of Subjects, TR, Voxels) below."
      ]
    },
    {
      "cell_type": "code",
      "execution_count": null,
      "metadata": {
        "id": "0pHK54KjDnah"
      },
      "outputs": [],
      "source": [
        "data = [np.transpose(dat, (2,0,1)) for dat in data]"
      ]
    },
    {
      "cell_type": "code",
      "execution_count": null,
      "metadata": {
        "colab": {
          "base_uri": "https://localhost:8080/"
        },
        "id": "HRXHJ1cwgrzp",
        "outputId": "7187d765-1206-40cd-cf21-3e3301676933"
      },
      "outputs": [
        {
          "name": "stdout",
          "output_type": "stream",
          "text": [
            "lOFC BOLD Shape: (111, 189, 537)\n"
          ]
        }
      ],
      "source": [
        "print(ROI_names[-1], \"BOLD Shape:\", data[-1].shape)"
      ]
    },
    {
      "cell_type": "code",
      "execution_count": null,
      "metadata": {
        "id": "AseI4ZNeg26E"
      },
      "outputs": [],
      "source": [
        "# for i in range(len(data)):  \n",
        "#   plt.figure(figsize=(10, 8))\n",
        "#   plt.plot(data[i][0,:,:])\n",
        "#   plt.title(\"BOLD of 1st Subject for \"+ROI_names[i]+\"'s Voxels\")\n",
        "#   plt.xlabel(\"TRs\")\n",
        "#   plt.ylabel(\"BOLD\")\n",
        "#   plt.savefig(\"./Plots/YOUNG/ALL-BOLD/ALL-BOLD-\"+ROI_names[i]+\".png\")"
      ]
    },
    {
      "cell_type": "markdown",
      "metadata": {
        "id": "gg50q17pp5xQ"
      },
      "source": [
        "We split the dataset of 111 young subjects into 101 subjects in the training data and 10 subject in the test data."
      ]
    },
    {
      "cell_type": "code",
      "execution_count": null,
      "metadata": {
        "id": "hrldyz8XnDlv"
      },
      "outputs": [],
      "source": [
        "train_data_unscaled = [dat[:-NUM_TEST_SUBS] for dat in data]\n",
        "test_data_unscaled = [dat[-NUM_TEST_SUBS:] for dat in data]  "
      ]
    },
    {
      "cell_type": "markdown",
      "metadata": {
        "id": "MDV7H0sYt6jd"
      },
      "source": [
        "We scaled the BOLD values of each voxel in the train data between 0 and 1 for each voxel. We use the same MinMaxScaler fit on the train data on the test data."
      ]
    },
    {
      "cell_type": "code",
      "execution_count": null,
      "metadata": {
        "id": "-xkJQLj3tORj"
      },
      "outputs": [],
      "source": [
        "scalers = dict() # Stores a list of MinMaxScalers for each ROI, where number of MinMaxScalers is equal to the number of voxels in that ROI\n",
        "for i in range(len(ROI_names)):\n",
        "  scalers[ROI_names[i]] = [MinMaxScaler(feature_range = (0, 1)) for _ in range(data[i].shape[-1])]\n",
        "\n",
        "train_data = [[scalers[ROI_names[j]][i].fit_transform(train_data_unscaled[j][:,:,i]) for i in range(len(scalers[ROI_names[j]]))] for j in range(len(ROI_names))]\n",
        "test_data = [[scalers[ROI_names[j]][i].transform(test_data_unscaled[j][:,:,i]) for i in range(len(scalers[ROI_names[j]]))] for j in range(len(ROI_names))]"
      ]
    },
    {
      "cell_type": "code",
      "execution_count": null,
      "metadata": {
        "id": "Ail126iVuR6s"
      },
      "outputs": [],
      "source": [
        "train_data = [np.transpose(np.array(dat), (1,2,0)) for dat in train_data]\n",
        "test_data = [np.transpose(np.array(dat), (1,2,0)) for dat in test_data]"
      ]
    },
    {
      "cell_type": "code",
      "execution_count": null,
      "metadata": {
        "colab": {
          "base_uri": "https://localhost:8080/"
        },
        "id": "_cOAv_VrnbLU",
        "outputId": "4cb36cd6-77b0-4152-dbe1-0592d23e679e"
      },
      "outputs": [
        {
          "name": "stdout",
          "output_type": "stream",
          "text": [
            "lOFC Train Data Shape:  (101, 189, 537)\n",
            "lOFC Test Data Shape:  (10, 189, 537)\n"
          ]
        }
      ],
      "source": [
        "print(ROI_names[-1], \"Train Data Shape: \", train_data[-1].shape)\n",
        "print(ROI_names[-1], \"Test Data Shape: \", test_data[-1].shape)"
      ]
    },
    {
      "cell_type": "code",
      "execution_count": null,
      "metadata": {
        "id": "YIlJSRX92txN"
      },
      "outputs": [],
      "source": [
        "# for i in range(len(data)):  \n",
        "#   plt.figure(figsize=(10, 8))\n",
        "#   plt.plot(train_data[i][0,:,:])\n",
        "#   plt.title(\"BOLD of 1st Subject for \"+ROI_names[i]+\"'s Voxels\")\n",
        "#   plt.xlabel(\"TRs\")\n",
        "#   plt.ylabel(\"BOLD[Scaled between 0 and 1]\")\n",
        "#   plt.savefig(\"./Plots/YOUNG/ALL-BOLD/ALL-BOLD-SCALED-\"+ROI_names[i]+\".png\")"
      ]
    },
    {
      "cell_type": "markdown",
      "metadata": {
        "id": "0yjlAwWeiEru"
      },
      "source": [
        "We now build a data generator which would produce mini-batches during the training of the neural network."
      ]
    },
    {
      "cell_type": "code",
      "execution_count": null,
      "metadata": {
        "id": "Blko7LXpgtwA"
      },
      "outputs": [],
      "source": [
        "class KerasBatchGenerator(object):\n",
        "    def __init__(self, data, num_TRs, batch_size, look_ahead=1):\n",
        "        self.data = data\n",
        "        self.num_TRs = num_TRs\n",
        "        self.batch_size = batch_size\n",
        "        self.current_idx = 0\n",
        "        self.look_ahead = look_ahead\n",
        "\n",
        "    def generate(self):\n",
        "        while True:\n",
        "            if self.current_idx + self.batch_size >= self.data.shape[0]:\n",
        "              self.current_idx = 0\n",
        "            x = self.data[self.current_idx:(self.current_idx+self.batch_size),:(-self.look_ahead),:]\n",
        "            y = self.data[self.current_idx:(self.current_idx+self.batch_size),self.look_ahead:,:]\n",
        "            self.current_idx = self.current_idx + self.batch_size\n",
        "            yield x, y "
      ]
    },
    {
      "cell_type": "code",
      "execution_count": null,
      "metadata": {
        "id": "lZN56Eg3mrsc"
      },
      "outputs": [],
      "source": [
        "train_data_generator = [KerasBatchGenerator(dat, dat.shape[1], TRAIN_BATCH_SIZE, LOOK_AHEAD) for dat in train_data]\n",
        "test_data_generator = [KerasBatchGenerator(dat, dat.shape[1], TEST_BATCH_SIZE, LOOK_AHEAD) for dat in test_data]"
      ]
    },
    {
      "cell_type": "code",
      "execution_count": null,
      "metadata": {
        "colab": {
          "base_uri": "https://localhost:8080/"
        },
        "id": "5UPT6iRxpJ7c",
        "outputId": "d4fc2ea2-0d57-4950-f214-aadfb9b0309e"
      },
      "outputs": [
        {
          "name": "stdout",
          "output_type": "stream",
          "text": [
            "lOFC Train Batch X Shape:  (20, 188, 537)\n",
            "lOFC Train Batch y Shape:  (20, 188, 537)\n"
          ]
        }
      ],
      "source": [
        "batch_x, batch_y = next(train_data_generator[-1].generate())\n",
        "print(ROI_names[-1], \"Train Batch X Shape: \", batch_x.shape)\n",
        "print(ROI_names[-1], \"Train Batch y Shape: \", batch_y.shape)"
      ]
    },
    {
      "cell_type": "code",
      "execution_count": null,
      "metadata": {
        "colab": {
          "base_uri": "https://localhost:8080/"
        },
        "id": "Clavfro-pSEV",
        "outputId": "fd410754-51b8-4e93-b502-f6a7a3ae19ff"
      },
      "outputs": [
        {
          "name": "stdout",
          "output_type": "stream",
          "text": [
            "lOFC Test Batch X Shape:  (10, 188, 537)\n",
            "lOFC Test Batch y Shape:  (10, 188, 537)\n"
          ]
        }
      ],
      "source": [
        "batch_x, batch_y = next(test_data_generator[-1].generate())\n",
        "print(ROI_names[-1], \"Test Batch X Shape: \", batch_x.shape)\n",
        "print(ROI_names[-1], \"Test Batch y Shape: \", batch_y.shape)"
      ]
    },
    {
      "cell_type": "markdown",
      "metadata": {
        "id": "31NRewZjqoi1"
      },
      "source": [
        "### Building Model"
      ]
    },
    {
      "cell_type": "markdown",
      "metadata": {
        "id": "8Ry-jGmHqqx0"
      },
      "source": [
        "We will start off by building a LSTM Model:\n",
        "- `Number of LSTM Layers = 1`\n",
        "- `Number of Dense Layers = 1`\n",
        "- `hidden units = 64`\n",
        "- `dropout = 0.3`"
      ]
    },
    {
      "cell_type": "code",
      "execution_count": null,
      "metadata": {
        "id": "AKDAJkiVgK2n"
      },
      "outputs": [],
      "source": [
        "HIDDEN_UNITS = 64\n",
        "DROPOUT_PROB = 0.3\n",
        "LSTM_LAYERS = 1\n",
        "DENSE_LAYERS = 1"
      ]
    },
    {
      "cell_type": "code",
      "execution_count": null,
      "metadata": {
        "id": "fqoXwHTTqqCR"
      },
      "outputs": [],
      "source": [
        "def avg_bold_model(num_voxs):\n",
        "  model = Sequential()\n",
        "  for _ in range(LSTM_LAYERS):\n",
        "    model.add(LSTM(HIDDEN_UNITS, return_sequences=True))\n",
        "  model.add(Dropout(0.3))\n",
        "  for _ in range(DENSE_LAYERS-1):\n",
        "    model.add(TimeDistributed(Dense(HIDDEN_UNITS, activation='relu')))\n",
        "  model.add(TimeDistributed(Dense(num_voxs)))\n",
        "  return model"
      ]
    },
    {
      "cell_type": "code",
      "execution_count": null,
      "metadata": {
        "colab": {
          "base_uri": "https://localhost:8080/"
        },
        "id": "nYHgnyz-v5nA",
        "outputId": "113d4820-52bf-41db-a445-c99089e2c1b3"
      },
      "outputs": [
        {
          "name": "stdout",
          "output_type": "stream",
          "text": [
            "Model: \"sequential\"\n",
            "_________________________________________________________________\n",
            " Layer (type)                Output Shape              Param #   \n",
            "=================================================================\n",
            " lstm (LSTM)                 (10, 188, 64)             154112    \n",
            "                                                                 \n",
            " dropout (Dropout)           (10, 188, 64)             0         \n",
            "                                                                 \n",
            " time_distributed (TimeDistr  (10, 188, 537)           34905     \n",
            " ibuted)                                                         \n",
            "                                                                 \n",
            "=================================================================\n",
            "Total params: 189,017\n",
            "Trainable params: 189,017\n",
            "Non-trainable params: 0\n",
            "_________________________________________________________________\n"
          ]
        }
      ],
      "source": [
        "sample_model = avg_bold_model(batch_x.shape[-1])\n",
        "sample_model.build(input_shape=batch_x.shape)\n",
        "sample_model.summary()"
      ]
    },
    {
      "cell_type": "code",
      "execution_count": null,
      "metadata": {
        "id": "fUZSBnNft2Dl"
      },
      "outputs": [],
      "source": [
        "models = [avg_bold_model(train_data[i].shape[-1]) for i in range(len(ROI_names))]"
      ]
    },
    {
      "cell_type": "markdown",
      "metadata": {
        "id": "3PRKFwUahAKG"
      },
      "source": [
        "#### Training Model"
      ]
    },
    {
      "cell_type": "markdown",
      "metadata": {
        "id": "LsHnfCSrhC0g"
      },
      "source": [
        "If you haven't already trained the models then uncomment and train your models which will be saved and will be loaded for inference later."
      ]
    },
    {
      "cell_type": "code",
      "execution_count": null,
      "metadata": {
        "id": "kf-dFQmfzqTA"
      },
      "outputs": [],
      "source": [
        "for i in range(len(ROI_names)):\n",
        "  models[i].compile(optimizer = 'adam', loss = 'mean_squared_error')"
      ]
    },
    {
      "cell_type": "code",
      "execution_count": null,
      "metadata": {
        "id": "vcZsfhkz3lCH"
      },
      "outputs": [],
      "source": [
        "EPOCHS = 100\n",
        "checkpoint_filepaths = [f\"./Models/YOUNG/LSTM/ALL-BOLD/{name}/model_weights-best-val-loss-{LSTM_LAYERS}L-{HIDDEN_UNITS}H-{DENSE_LAYERS}D-{int(DROPOUT_PROB*10)}Drop-{LOOK_AHEAD}Ahead-{name}\" for name in ROI_names]\n",
        "model_checkpoint_callbacks = [tf.keras.callbacks.ModelCheckpoint(\n",
        "    filepath=checkpoint_filepath,\n",
        "    save_weights_only=True,\n",
        "    monitor = \"val_loss\",\n",
        "    mode='min',\n",
        "    save_best_only=True) for checkpoint_filepath in checkpoint_filepaths]"
      ]
    },
    {
      "cell_type": "code",
      "execution_count": null,
      "metadata": {
        "id": "wECZbf2i_AH7"
      },
      "outputs": [],
      "source": [
        "def plot_train_test_loss(history, model_name, i):  \n",
        "  plt.figure(figsize=(10,10))\n",
        "  plt.plot(history.history['loss'])\n",
        "  plt.plot(history.history['val_loss'])\n",
        "  plt.title(model_name+' loss')\n",
        "  plt.ylabel('loss')\n",
        "  plt.xlabel('epochs')\n",
        "  plt.legend(['train', 'val'], loc='upper left')\n",
        "  plt.savefig(\"./Plots/YOUNG/LSTM/ALL-BOLD/\"+ROI_names[i]+\"/\"+model_name+\"-loss.png\")"
      ]
    },
    {
      "cell_type": "code",
      "execution_count": null,
      "metadata": {
        "id": "AFb-kTLR21hl"
      },
      "outputs": [],
      "source": [
        "histories = list()\n",
        "with tf.device('/device:GPU:0'):\n",
        "  for i in range(len(ROI_names)):\n",
        "    history = models[i].fit(\n",
        "                    train_data_generator[i].generate(),\n",
        "                    steps_per_epoch=train_data[i].shape[0]//TRAIN_BATCH_SIZE,\n",
        "                    epochs=EPOCHS,\n",
        "                    validation_data=test_data_generator[i].generate(),\n",
        "                    validation_steps=test_data[i].shape[0]//TEST_BATCH_SIZE,\n",
        "                    callbacks=[model_checkpoint_callbacks[i]]\n",
        "                    )\n",
        "    models[i].save_weights(f\"./Models/YOUNG/LSTM/ALL-BOLD/{ROI_names[i]}/model_weights-{LSTM_LAYERS}L-{HIDDEN_UNITS}H-{DENSE_LAYERS}D-{int(DROPOUT_PROB*10)}Drop-{LOOK_AHEAD}Ahead-{ROI_names[i]}\")\n",
        "    plot_train_test_loss(history, f\"{LSTM_LAYERS}L-{HIDDEN_UNITS}H-{DENSE_LAYERS}D-{int(DROPOUT_PROB*10)}Drop-{LOOK_AHEAD}Ahead-{ROI_names[i]}\", i)\n",
        "    histories.append(history)"
      ]
    },
    {
      "cell_type": "code",
      "execution_count": null,
      "metadata": {
        "id": "dKvn0145hViW"
      },
      "outputs": [],
      "source": [
        "for i in range(len(ROI_names)):\n",
        "  models[i].load_weights(f\"./Models/YOUNG/LSTM/ALL-BOLD/{ROI_names[i]}/model_weights-{LSTM_LAYERS}L-{HIDDEN_UNITS}H-{DENSE_LAYERS}D-{int(DROPOUT_PROB*10)}Drop-{LOOK_AHEAD}Ahead-{ROI_names[i]}\")"
      ]
    },
    {
      "cell_type": "code",
      "execution_count": null,
      "metadata": {
        "id": "7mpQ5Rap6kQ0"
      },
      "outputs": [],
      "source": [
        "preds = [models[i].predict(next(test_data_generator[i].generate())[0]) for i in range(len(ROI_names))]"
      ]
    },
    {
      "cell_type": "code",
      "execution_count": null,
      "metadata": {
        "id": "HeE2zhmXxOge"
      },
      "outputs": [],
      "source": [
        "a_TRs = np.array([56, 67, 73, 81, 134, 142, 155, 167, 174, 180])\n",
        "d_TRs = np.array([67, 72, 85, 89, 145, 154, 168, 174, 180, 188])\n",
        "and_TRs = np.union1d(a_TRs, d_TRs)\n",
        "\n",
        "def highlight_and(act, pred):\n",
        "  min_y_list = list()\n",
        "  max_y_list = list()\n",
        "  for i in range(5):\n",
        "    min_y_list.append(np.min(np.concatenate([act[a_TRs[2*i]:d_TRs[2*i+1]], pred[a_TRs[2*i]:d_TRs[2*i+1]]])))\n",
        "    max_y_list.append(np.max(np.concatenate([act[a_TRs[2*i]:d_TRs[2*i+1]], pred[a_TRs[2*i]:d_TRs[2*i+1]]])))\n",
        "    # plt.fill_betweenx(y=[min_y_list[i], max_y_list[i]], x1=a_TRs[2*i], x2=d_TRs[2*i+1], color='gray', alpha=0.1)\n",
        "    plt.fill_betweenx(y=[min_y_list[i], max_y_list[i]], x1=a_TRs[2*i], x2=a_TRs[2*i+1], color='violet', alpha=0.4)\n",
        "    plt.fill_betweenx(y=[min_y_list[i], max_y_list[i]], x1=d_TRs[2*i], x2=d_TRs[2*i+1], color='greenyellow', alpha=0.4)"
      ]
    },
    {
      "cell_type": "code",
      "execution_count": null,
      "metadata": {
        "colab": {
          "background_save": true
        },
        "id": "WBLOHLixAWnk"
      },
      "outputs": [],
      "source": [
        "np.random.seed(43)\n",
        "for i in range(len(ROI_names)):\n",
        "  \n",
        "  actual_test_data_output = test_data_unscaled[i][:,LOOK_AHEAD:,:]\n",
        "  pred_test_data_output = np.transpose(np.array([scalers[ROI_names[i]][j].inverse_transform(np.hstack([preds[i][:,:,j], preds[i][:,:LOOK_AHEAD,j]])) for j in range(len(scalers[ROI_names[i]]))]), (1,2,0))[:,:-LOOK_AHEAD,:]\n",
        "  plt.figure(figsize=(24, 18))\n",
        "\n",
        "  for j in range(NUM_TEST_SUBS-1):\n",
        "  \n",
        "    ax = plt.subplot(3, 3, j + 1)\n",
        "    vox_choice = np.random.randint(0, len(scalers[ROI_names[i]]), 5)\n",
        "    plt.plot(np.transpose(actual_test_data_output[j,:, vox_choice]), c='b', label='actual')\n",
        "    plt.plot(np.transpose(pred_test_data_output[j,:, vox_choice]), c='r', ls='--', label='pred')\n",
        "    # highlight_and(actual_test_data_output[j,:], pred_test_data_output[j,:])\n",
        "    plt.xticks(np.concatenate([np.array([0]), and_TRs - LOOK_AHEAD]), np.concatenate([np.array([LOOK_AHEAD]), and_TRs]))\n",
        "    plt.ylabel(\"BOLD\")\n",
        "    plt.xlabel(\"TRs\")\n",
        "    plt.title(f\"All BOLD Preds of {LSTM_LAYERS}L-{HIDDEN_UNITS}H-{DENSE_LAYERS}D-{int(DROPOUT_PROB*10)}Drop-{LOOK_AHEAD}Ahead for {j+1}th Test Sub's {ROI_names[i]}\")\n",
        "    plt.legend()\n",
        "    plt.savefig(f\"./Plots/YOUNG/LSTM/ALL-BOLD/{ROI_names[i]}/{LSTM_LAYERS}L-{HIDDEN_UNITS}H-{DENSE_LAYERS}D-{int(DROPOUT_PROB*10)}Drop-{LOOK_AHEAD}Ahead-Preds.png\")"
      ]
    },
    {
      "cell_type": "code",
      "execution_count": null,
      "metadata": {
        "colab": {
          "base_uri": "https://localhost:8080/"
        },
        "id": "J8hiJzxcKFuz",
        "outputId": "774b96a9-e3ee-4035-8e7d-914afda68953"
      },
      "outputs": [
        {
          "name": "stdout",
          "output_type": "stream",
          "text": [
            "***Each Test Subject's Correlation Coefficient between predicted and actual BOLD averaged across each Voxel Prediction values for ROIs***\n",
            "\n",
            "dmPFC for 1th sub: 0.39\n",
            "dmPFC for 2th sub: 0.5\n",
            "dmPFC for 3th sub: 0.71\n",
            "dmPFC for 4th sub: 0.34\n",
            "dmPFC for 5th sub: 0.4\n",
            "dmPFC for 6th sub: 0.38\n",
            "dmPFC for 7th sub: 0.29\n",
            "dmPFC for 8th sub: 0.55\n",
            "dmPFC for 9th sub: 0.53\n",
            "dmPFC for 10th sub: 0.35\n",
            "\n",
            "ACC for 1th sub: 0.27\n",
            "ACC for 2th sub: 0.41\n",
            "ACC for 3th sub: 0.42\n",
            "ACC for 4th sub: 0.4\n",
            "ACC for 5th sub: 0.45\n",
            "ACC for 6th sub: 0.36\n",
            "ACC for 7th sub: 0.29\n",
            "ACC for 8th sub: 0.6\n",
            "ACC for 9th sub: 0.51\n",
            "ACC for 10th sub: 0.41\n",
            "\n",
            "AMY for 1th sub: 0.35\n",
            "AMY for 2th sub: 0.42\n",
            "AMY for 3th sub: 0.62\n",
            "AMY for 4th sub: 0.28\n",
            "AMY for 5th sub: 0.29\n",
            "AMY for 6th sub: 0.45\n",
            "AMY for 7th sub: 0.24\n",
            "AMY for 8th sub: 0.62\n",
            "AMY for 9th sub: 0.44\n",
            "AMY for 10th sub: 0.25\n",
            "\n",
            "Cau for 1th sub: 0.21\n",
            "Cau for 2th sub: 0.64\n",
            "Cau for 3th sub: 0.45\n",
            "Cau for 4th sub: 0.19\n",
            "Cau for 5th sub: 0.55\n",
            "Cau for 6th sub: 0.16\n",
            "Cau for 7th sub: 0.28\n",
            "Cau for 8th sub: 0.39\n",
            "Cau for 9th sub: 0.63\n",
            "Cau for 10th sub: 0.48\n",
            "\n",
            "dlPFC for 1th sub: 0.49\n",
            "dlPFC for 2th sub: 0.29\n",
            "dlPFC for 3th sub: 0.68\n",
            "dlPFC for 4th sub: 0.46\n",
            "dlPFC for 5th sub: 0.3\n",
            "dlPFC for 6th sub: 0.3\n",
            "dlPFC for 7th sub: 0.39\n",
            "dlPFC for 8th sub: 0.47\n",
            "dlPFC for 9th sub: 0.52\n",
            "dlPFC for 10th sub: 0.4\n",
            "\n",
            "INS for 1th sub: 0.44\n",
            "INS for 2th sub: 0.76\n",
            "INS for 3th sub: 0.66\n",
            "INS for 4th sub: 0.56\n",
            "INS for 5th sub: 0.44\n",
            "INS for 6th sub: 0.6\n",
            "INS for 7th sub: 0.44\n",
            "INS for 8th sub: 0.58\n",
            "INS for 9th sub: 0.45\n",
            "INS for 10th sub: 0.5\n",
            "\n",
            "IPL for 1th sub: 0.54\n",
            "IPL for 2th sub: 0.46\n",
            "IPL for 3th sub: 0.65\n",
            "IPL for 4th sub: 0.56\n",
            "IPL for 5th sub: 0.48\n",
            "IPL for 6th sub: 0.36\n",
            "IPL for 7th sub: 0.51\n",
            "IPL for 8th sub: 0.67\n",
            "IPL for 9th sub: 0.5\n",
            "IPL for 10th sub: 0.44\n",
            "\n",
            "mCC for 1th sub: 0.27\n",
            "mCC for 2th sub: 0.13\n",
            "mCC for 3th sub: 0.43\n",
            "mCC for 4th sub: 0.19\n",
            "mCC for 5th sub: 0.37\n",
            "mCC for 6th sub: 0.69\n",
            "mCC for 7th sub: 0.22\n",
            "mCC for 8th sub: 0.42\n",
            "mCC for 9th sub: 0.35\n",
            "mCC for 10th sub: 0.32\n",
            "\n",
            "Nac for 1th sub: 0.26\n",
            "Nac for 2th sub: 0.51\n",
            "Nac for 3th sub: 0.48\n",
            "Nac for 4th sub: 0.37\n",
            "Nac for 5th sub: 0.54\n",
            "Nac for 6th sub: 0.26\n",
            "Nac for 7th sub: 0.33\n",
            "Nac for 8th sub: 0.44\n",
            "Nac for 9th sub: 0.79\n",
            "Nac for 10th sub: 0.39\n",
            "\n",
            "PCC for 1th sub: 0.43\n",
            "PCC for 2th sub: 0.43\n",
            "PCC for 3th sub: 0.63\n",
            "PCC for 4th sub: 0.51\n",
            "PCC for 5th sub: 0.43\n",
            "PCC for 6th sub: 0.58\n",
            "PCC for 7th sub: 0.37\n",
            "PCC for 8th sub: 0.6\n",
            "PCC for 9th sub: 0.44\n",
            "PCC for 10th sub: 0.45\n",
            "\n",
            "PCG for 1th sub: 0.37\n",
            "PCG for 2th sub: 0.37\n",
            "PCG for 3th sub: 0.44\n",
            "PCG for 4th sub: 0.32\n",
            "PCG for 5th sub: 0.27\n",
            "PCG for 6th sub: 0.37\n",
            "PCG for 7th sub: 0.34\n",
            "PCG for 8th sub: 0.44\n",
            "PCG for 9th sub: 0.48\n",
            "PCG for 10th sub: 0.49\n",
            "\n",
            "Prec for 1th sub: 0.54\n",
            "Prec for 2th sub: 0.47\n",
            "Prec for 3th sub: 0.65\n",
            "Prec for 4th sub: 0.53\n",
            "Prec for 5th sub: 0.43\n",
            "Prec for 6th sub: 0.63\n",
            "Prec for 7th sub: 0.51\n",
            "Prec for 8th sub: 0.68\n",
            "Prec for 9th sub: 0.53\n",
            "Prec for 10th sub: 0.57\n",
            "\n",
            "TP for 1th sub: 0.68\n",
            "TP for 2th sub: 0.52\n",
            "TP for 3th sub: 0.71\n",
            "TP for 4th sub: 0.53\n",
            "TP for 5th sub: 0.74\n",
            "TP for 6th sub: 0.32\n",
            "TP for 7th sub: 0.58\n",
            "TP for 8th sub: 0.79\n",
            "TP for 9th sub: 0.73\n",
            "TP for 10th sub: 0.71\n",
            "\n",
            "Put for 1th sub: 0.35\n",
            "Put for 2th sub: 0.26\n",
            "Put for 3th sub: 0.66\n",
            "Put for 4th sub: 0.23\n",
            "Put for 5th sub: 0.42\n",
            "Put for 6th sub: 0.35\n",
            "Put for 7th sub: 0.23\n",
            "Put for 8th sub: 0.64\n",
            "Put for 9th sub: 0.49\n",
            "Put for 10th sub: 0.2\n",
            "\n",
            "pSTS for 1th sub: 0.54\n",
            "pSTS for 2th sub: 0.44\n",
            "pSTS for 3th sub: 0.78\n",
            "pSTS for 4th sub: 0.55\n",
            "pSTS for 5th sub: 0.56\n",
            "pSTS for 6th sub: 0.72\n",
            "pSTS for 7th sub: 0.54\n",
            "pSTS for 8th sub: 0.75\n",
            "pSTS for 9th sub: 0.52\n",
            "pSTS for 10th sub: 0.57\n",
            "\n",
            "VC for 1th sub: 0.41\n",
            "VC for 2th sub: 0.27\n",
            "VC for 3th sub: 0.3\n",
            "VC for 4th sub: 0.42\n",
            "VC for 5th sub: 0.22\n",
            "VC for 6th sub: 0.36\n",
            "VC for 7th sub: 0.3\n",
            "VC for 8th sub: 0.42\n",
            "VC for 9th sub: 0.39\n",
            "VC for 10th sub: 0.39\n",
            "\n",
            "vlPFC for 1th sub: 0.51\n",
            "vlPFC for 2th sub: 0.47\n",
            "vlPFC for 3th sub: 0.7\n",
            "vlPFC for 4th sub: 0.61\n",
            "vlPFC for 5th sub: 0.4\n",
            "vlPFC for 6th sub: 0.33\n",
            "vlPFC for 7th sub: 0.47\n",
            "vlPFC for 8th sub: 0.56\n",
            "vlPFC for 9th sub: 0.66\n",
            "vlPFC for 10th sub: 0.4\n",
            "\n",
            "mOFC for 1th sub: 0.41\n",
            "mOFC for 2th sub: 0.43\n",
            "mOFC for 3th sub: 0.72\n",
            "mOFC for 4th sub: 0.82\n",
            "mOFC for 5th sub: 0.62\n",
            "mOFC for 6th sub: 0.5\n",
            "mOFC for 7th sub: 0.18\n",
            "mOFC for 8th sub: 0.75\n",
            "mOFC for 9th sub: 0.83\n",
            "mOFC for 10th sub: 0.45\n",
            "\n",
            "mPFC for 1th sub: 0.48\n",
            "mPFC for 2th sub: 0.32\n",
            "mPFC for 3th sub: 0.59\n",
            "mPFC for 4th sub: 0.54\n",
            "mPFC for 5th sub: 0.4\n",
            "mPFC for 6th sub: 0.26\n",
            "mPFC for 7th sub: 0.3\n",
            "mPFC for 8th sub: 0.82\n",
            "mPFC for 9th sub: 0.49\n",
            "mPFC for 10th sub: 0.46\n",
            "\n",
            "lOFC for 1th sub: 0.45\n",
            "lOFC for 2th sub: 0.41\n",
            "lOFC for 3th sub: 0.61\n",
            "lOFC for 4th sub: 0.77\n",
            "lOFC for 5th sub: 0.46\n",
            "lOFC for 6th sub: 0.14\n",
            "lOFC for 7th sub: 0.18\n",
            "lOFC for 8th sub: 0.7\n",
            "lOFC for 9th sub: 0.77\n",
            "lOFC for 10th sub: 0.34\n",
            "\n",
            "***Average across test subjects Correlation Coefficient between predicted and actual BOLD averaged across each Voxel Prediction values for ROIs***\n",
            "\n",
            "dmPFC: 0.44\n",
            "ACC: 0.41\n",
            "AMY: 0.4\n",
            "Cau: 0.4\n",
            "dlPFC: 0.43\n",
            "INS: 0.54\n",
            "IPL: 0.52\n",
            "mCC: 0.34\n",
            "Nac: 0.44\n",
            "PCC: 0.49\n",
            "PCG: 0.39\n",
            "Prec: 0.55\n",
            "TP: 0.63\n",
            "Put: 0.38\n",
            "pSTS: 0.6\n",
            "VC: 0.35\n",
            "vlPFC: 0.51\n",
            "mOFC: 0.57\n",
            "mPFC: 0.47\n",
            "lOFC: 0.48\n"
          ]
        }
      ],
      "source": [
        "print(\"***Each Test Subject's Correlation Coefficient between predicted and actual BOLD averaged across each Voxel Prediction values for ROIs***\")\n",
        "print()\n",
        "avg_r = list()\n",
        "for i in range(len(ROI_names)):\n",
        "  actual_test_data_output = test_data_unscaled[i][:,LOOK_AHEAD:,:]\n",
        "  pred_test_data_output = np.transpose(np.array([scalers[ROI_names[i]][j].inverse_transform(np.hstack([preds[i][:,:,j], preds[i][:,:LOOK_AHEAD,j]])) for j in range(len(scalers[ROI_names[i]]))]), (1,2,0))[:,:-LOOK_AHEAD,:] \n",
        "  for j in range(NUM_TEST_SUBS):\n",
        "    print(f\"{ROI_names[i]} for {j+1}th sub: {np.round(np.trace(np.corrcoef(actual_test_data_output[j,:,:], pred_test_data_output[j,:,:], rowvar=False)[:actual_test_data_output.shape[-1], actual_test_data_output.shape[-1]:])/actual_test_data_output.shape[-1], 2)}\")\n",
        "  print()\n",
        "\n",
        "print(\"***Average across test subjects Correlation Coefficient between predicted and actual BOLD averaged across each Voxel Prediction values for ROIs***\")\n",
        "print()\n",
        "for i in range(len(ROI_names)):\n",
        "  actual_test_data_output = test_data_unscaled[i][:,LOOK_AHEAD:,:]\n",
        "  pred_test_data_output = np.transpose(np.array([scalers[ROI_names[i]][j].inverse_transform(np.hstack([preds[i][:,:,j], preds[i][:,:LOOK_AHEAD,j]])) for j in range(len(scalers[ROI_names[i]]))]), (1,2,0))[:,:-LOOK_AHEAD,:]\n",
        "  sum_r = 0\n",
        "  for j in range(NUM_TEST_SUBS):\n",
        "    sum_r += np.trace(np.corrcoef(actual_test_data_output[j,:,:], pred_test_data_output[j,:,:], rowvar=False)[:actual_test_data_output.shape[-1], actual_test_data_output.shape[-1]:]/actual_test_data_output.shape[-1])\n",
        "  print(f\"{ROI_names[i]}: {np.round(sum_r / NUM_TEST_SUBS, 2)}\")"
      ]
    },
    {
      "cell_type": "code",
      "execution_count": null,
      "metadata": {
        "colab": {
          "base_uri": "https://localhost:8080/"
        },
        "id": "f8gPew9YMI2B",
        "outputId": "ed668c8e-a763-436e-fa94-50e7e50a29ed"
      },
      "outputs": [
        {
          "name": "stdout",
          "output_type": "stream",
          "text": [
            "***Model's Final Scaled MSE(Train) Loss between predicted and actual all voxel BOLD values for ROIs for the Train Subjects***\n",
            "\n",
            "dmPFC: 0.00803\n",
            "ACC: 0.00743\n",
            "AMY: 0.00525\n",
            "Cau: 0.00558\n",
            "dlPFC: 0.00988\n",
            "INS: 0.0046\n",
            "IPL: 0.01429\n",
            "mCC: 0.00636\n",
            "Nac: 0.00544\n",
            "PCC: 0.00881\n",
            "PCG: 0.02225\n",
            "Prec: 0.01035\n",
            "TP: 0.00795\n",
            "Put: 0.0027\n",
            "pSTS: 0.00535\n",
            "VC: 0.03285\n",
            "vlPFC: 0.00747\n",
            "mOFC: 0.00944\n",
            "mPFC: 0.00767\n",
            "lOFC: 0.00956\n",
            "\n",
            "***Model's Final MSE(Validation) Loss between predicted and actual all voxel BOLD values for ROIs for the Test Subjects***\n",
            "\n",
            "dmPFC: 0.00438\n",
            "ACC: 0.00526\n",
            "AMY: 0.00262\n",
            "Cau: 0.00281\n",
            "dlPFC: 0.00731\n",
            "INS: 0.00156\n",
            "IPL: 0.00934\n",
            "mCC: 0.0033\n",
            "Nac: 0.00211\n",
            "PCC: 0.00662\n",
            "PCG: 0.02163\n",
            "Prec: 0.00916\n",
            "TP: 0.00313\n",
            "Put: 0.00065\n",
            "pSTS: 0.00153\n",
            "VC: 0.02864\n",
            "vlPFC: 0.00353\n",
            "mOFC: 0.00387\n",
            "mPFC: 0.00425\n",
            "lOFC: 0.00563\n"
          ]
        }
      ],
      "source": [
        "print(\"***Model's Final Scaled MSE(Train) Loss between predicted and actual all voxel BOLD values for ROIs for the Train Subjects***\")\n",
        "print()\n",
        "for i in range(len(ROI_names)):\n",
        "  print(ROI_names[i]+\":\", np.round(histories[i].history['loss'][-1], 5))\n",
        "print()\n",
        "print(\"***Model's Final MSE(Validation) Loss between predicted and actual all voxel BOLD values for ROIs for the Test Subjects***\")\n",
        "print()\n",
        "for i in range(len(ROI_names)):\n",
        "  print(ROI_names[i]+\":\", np.round(histories[i].history['val_loss'][-1], 5))"
      ]
    },
    {
      "cell_type": "code",
      "execution_count": null,
      "metadata": {
        "colab": {
          "base_uri": "https://localhost:8080/"
        },
        "id": "EQ3FUO9eY5gO",
        "outputId": "346f9334-9d0f-460e-e3f9-2a9e7cbc93ae"
      },
      "outputs": [
        {
          "name": "stdout",
          "output_type": "stream",
          "text": [
            "***Model's Final MSE(Validation) Loss between predicted and actual all voxel BOLD values for ROIs for the Test Subjects***\n",
            "\n",
            "dmPFC for Each Validation Subject: [38.67202  19.626513 14.413945 13.181711 21.040705 34.278595 28.486027\n",
            " 14.213685 20.38468  27.82414 ]\n",
            "dmPFC : 23.212202\n",
            "ACC for Each Validation Subject: [15.166166  10.378719  15.133298  15.1772175 13.745344  31.122679\n",
            " 15.121392  24.17935   11.195589  14.545913 ]\n",
            "ACC : 16.576567\n",
            "AMY for Each Validation Subject: [14.484289 15.094059 16.63252  16.266798 11.974594 28.232443 11.64895\n",
            " 18.270506 26.881664 18.6091  ]\n",
            "AMY : 17.809492\n",
            "Cau for Each Validation Subject: [10.680037  11.0265875 14.034593  16.094404  11.3097925 21.46555\n",
            "  5.9956446 17.08008    8.248771   8.451611 ]\n",
            "Cau : 12.438707\n",
            "dlPFC for Each Validation Subject: [22.261469 11.568936 12.827109 11.952856 28.50007  31.185452 26.718325\n",
            " 21.165272 15.944286 19.944538]\n",
            "dlPFC : 20.206831\n",
            "INS for Each Validation Subject: [6.893205  2.773479  4.1899786 5.3150144 3.1829002 2.516837  4.455776\n",
            " 6.6750817 5.8964534 3.3709643]\n",
            "INS : 4.526969\n",
            "IPL for Each Validation Subject: [30.28156  14.988335 19.801716 39.430458 26.147755 36.83008  35.999447\n",
            " 21.13533  18.042229 22.392487]\n",
            "IPL : 26.50494\n",
            "mCC for Each Validation Subject: [ 8.698673 10.225877  6.637103 10.060395 11.712169 22.190084 14.666968\n",
            " 17.03838   6.954638 12.688347]\n",
            "mCC : 12.087263\n",
            "Nac for Each Validation Subject: [ 4.4289837  3.7255547  7.6706295 16.33392    6.800636  10.952526\n",
            "  2.1345038  6.406886   4.591896   2.917206 ]\n",
            "Nac : 6.5962744\n",
            "PCC for Each Validation Subject: [38.298138  14.0173855 12.123922   9.275164  11.876051  43.25876\n",
            " 13.953871  11.794158  16.33473   16.542381 ]\n",
            "PCC : 18.747456\n",
            "PCG for Each Validation Subject: [ 80.96455  125.584274  35.89958   85.07503   54.759747 160.56453\n",
            "  94.72162   71.733986 127.31615   69.402756]\n",
            "PCG : 90.60223\n",
            "Prec for Each Validation Subject: [72.74152  56.2922   20.371008 29.74839  19.292349 98.44993  46.339584\n",
            " 19.859068 28.379889 28.236057]\n",
            "Prec : 41.971\n",
            "TP for Each Validation Subject: [ 9.018282  8.883763 13.927124  8.383982 15.664607 17.342329 13.332917\n",
            " 21.862543 13.25653  19.855482]\n",
            "TP : 14.152756\n",
            "Put for Each Validation Subject: [2.1851177 2.0457416 2.2399712 3.0211835 1.5149266 6.1520076 2.6686661\n",
            " 1.600195  2.3289454 3.614396 ]\n",
            "Put : 2.7371151\n",
            "pSTS for Each Validation Subject: [6.1620398 4.1986604 6.207256  5.569598  7.1335993 4.3930945 6.0249424\n",
            " 5.930992  3.1427917 8.277211 ]\n",
            "pSTS : 5.7040186\n",
            "VC for Each Validation Subject: [218.71164   78.881485  88.88674   61.31625  201.77032  379.54633\n",
            "  76.57155   72.228455 112.76858   78.09893 ]\n",
            "VC : 136.87802\n",
            "vlPFC for Each Validation Subject: [12.22323    7.801628   5.662816   4.42568   19.400051  15.320216\n",
            "  9.442146   9.248025  13.334265   5.8699713]\n",
            "vlPFC : 10.272802\n",
            "mOFC for Each Validation Subject: [ 8.02842  11.233292 15.781426 14.992878 21.295755 17.709257  8.126855\n",
            " 17.059748 10.992192 12.949442]\n",
            "mOFC : 13.816927\n",
            "mPFC for Each Validation Subject: [26.599306 25.532774 31.177153 41.56636  15.44588  95.13773  36.27689\n",
            " 12.311922 24.876513 11.710906]\n",
            "mPFC : 32.063545\n",
            "lOFC for Each Validation Subject: [14.413343 19.978558 16.61239  17.015959 14.043246 19.16303  26.857492\n",
            " 11.730926 19.533777 17.418316]\n",
            "lOFC : 17.676704\n"
          ]
        }
      ],
      "source": [
        "print(\"***Model's Final MSE(Validation) Loss between predicted and actual all voxel BOLD values for ROIs for the Test Subjects***\")\n",
        "print()\n",
        "for i in range(len(ROI_names)):\n",
        "  actual_test_data_output = test_data_unscaled[i][:,LOOK_AHEAD:,:]\n",
        "  pred_test_data_output = np.transpose(np.array([scalers[ROI_names[i]][j].inverse_transform(np.hstack([preds[i][:,:,j], preds[i][:,:LOOK_AHEAD,j]])) for j in range(len(scalers[ROI_names[i]]))]), (1,2,0))[:,:-LOOK_AHEAD,:]\n",
        "  print(ROI_names[i]+\" for Each Validation Subject:\", np.mean(tf.keras.losses.mean_squared_error(actual_test_data_output, pred_test_data_output), axis=-1))\n",
        "  print(ROI_names[i]+\" :\", np.mean(np.mean(tf.keras.losses.mean_squared_error(actual_test_data_output, pred_test_data_output), axis=-1)))"
      ]
    },
    {
      "cell_type": "code",
      "execution_count": null,
      "metadata": {
        "id": "vj_dqg--4sG6"
      },
      "outputs": [],
      "source": [
        ""
      ]
    }
  ],
  "metadata": {
    "accelerator": "GPU",
    "colab": {
      "collapsed_sections": [],
      "name": "Basic-LSTM-Model-All-Voxel-7.ipynb",
      "provenance": [],
      "authorship_tag": "ABX9TyPiuTb6QweDCk5eGxrr2cLO"
    },
    "gpuClass": "standard",
    "kernelspec": {
      "display_name": "Python 3",
      "name": "python3"
    },
    "language_info": {
      "name": "python"
    }
  },
  "nbformat": 4,
  "nbformat_minor": 0
}