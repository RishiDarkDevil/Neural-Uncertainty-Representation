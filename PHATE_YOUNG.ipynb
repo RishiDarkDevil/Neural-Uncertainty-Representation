{
  "nbformat": 4,
  "nbformat_minor": 0,
  "metadata": {
    "colab": {
      "name": "PHATE-YOUNG.ipynb",
      "provenance": []
    },
    "kernelspec": {
      "name": "python3",
      "display_name": "Python 3"
    },
    "language_info": {
      "name": "python"
    }
  },
  "cells": [
    {
      "cell_type": "markdown",
      "source": [
        "### Mounting Google Drive"
      ],
      "metadata": {
        "id": "Qc99ePeBu2IB"
      }
    },
    {
      "cell_type": "code",
      "execution_count": null,
      "metadata": {
        "colab": {
          "base_uri": "https://localhost:8080/"
        },
        "id": "ZOAMst2asVRT",
        "outputId": "cfc0e050-9cd2-4e96-88b1-20abe1d3cbad"
      },
      "outputs": [
        {
          "output_type": "stream",
          "name": "stdout",
          "text": [
            "Drive already mounted at /content/drive; to attempt to forcibly remount, call drive.mount(\"/content/drive\", force_remount=True).\n"
          ]
        }
      ],
      "source": [
        "from google.colab import drive\n",
        "drive.mount('/content/drive')"
      ]
    },
    {
      "cell_type": "code",
      "source": [
        "cd 'drive/Othercomputers/My Laptop (1)/MY COLLEGE/ISI KOLKATA/PROJECTS/IIT J Summer Internship 2022/Code/Neural-Uncertainty-Representation/'"
      ],
      "metadata": {
        "colab": {
          "base_uri": "https://localhost:8080/"
        },
        "id": "cxrEiSiGu6VV",
        "outputId": "97e559c2-0f75-432f-d903-fb3714ddb067"
      },
      "execution_count": null,
      "outputs": [
        {
          "output_type": "stream",
          "name": "stdout",
          "text": [
            "[Errno 2] No such file or directory: 'drive/Othercomputers/My Laptop (1)/MY COLLEGE/ISI KOLKATA/PROJECTS/IIT J Summer Internship 2022/Code/Neural-Uncertainty-Representation/'\n",
            "/content/drive/Othercomputers/My Laptop (1)/MY COLLEGE/ISI KOLKATA/PROJECTS/IIT J Summer Internship 2022/Code/Neural-Uncertainty-Representation\n"
          ]
        }
      ]
    },
    {
      "cell_type": "markdown",
      "source": [
        "### Importing Necessary Packages"
      ],
      "metadata": {
        "id": "Dn_77CZtvYov"
      }
    },
    {
      "cell_type": "code",
      "source": [
        "!pip install phate\n",
        "!pip install scprep"
      ],
      "metadata": {
        "id": "2fW_9IbLvMbh",
        "colab": {
          "base_uri": "https://localhost:8080/"
        },
        "outputId": "c0529f3d-d2e1-415f-ec1f-28066ea86a4b"
      },
      "execution_count": null,
      "outputs": [
        {
          "output_type": "stream",
          "name": "stdout",
          "text": [
            "Looking in indexes: https://pypi.org/simple, https://us-python.pkg.dev/colab-wheels/public/simple/\n",
            "Requirement already satisfied: phate in /usr/local/lib/python3.7/dist-packages (1.0.8)\n",
            "Requirement already satisfied: scprep>=0.11.1 in /usr/local/lib/python3.7/dist-packages (from phate) (1.2.0)\n",
            "Requirement already satisfied: matplotlib>=3.0 in /usr/local/lib/python3.7/dist-packages (from phate) (3.2.2)\n",
            "Requirement already satisfied: future in /usr/local/lib/python3.7/dist-packages (from phate) (0.16.0)\n",
            "Requirement already satisfied: tasklogger>=1.0 in /usr/local/lib/python3.7/dist-packages (from phate) (1.1.2)\n",
            "Requirement already satisfied: s-gd2>=1.5 in /usr/local/lib/python3.7/dist-packages (from phate) (1.8)\n",
            "Requirement already satisfied: scikit-learn>=0.20.0 in /usr/local/lib/python3.7/dist-packages (from phate) (1.0.2)\n",
            "Requirement already satisfied: scipy>=1.1.0 in /usr/local/lib/python3.7/dist-packages (from phate) (1.4.1)\n",
            "Requirement already satisfied: graphtools>=1.3.1 in /usr/local/lib/python3.7/dist-packages (from phate) (1.5.2)\n",
            "Requirement already satisfied: numpy>=1.16.0 in /usr/local/lib/python3.7/dist-packages (from phate) (1.21.6)\n",
            "Requirement already satisfied: Deprecated in /usr/local/lib/python3.7/dist-packages (from phate) (1.2.13)\n",
            "Requirement already satisfied: pygsp>=0.5.1 in /usr/local/lib/python3.7/dist-packages (from graphtools>=1.3.1->phate) (0.5.1)\n",
            "Requirement already satisfied: python-dateutil>=2.1 in /usr/local/lib/python3.7/dist-packages (from matplotlib>=3.0->phate) (2.8.2)\n",
            "Requirement already satisfied: kiwisolver>=1.0.1 in /usr/local/lib/python3.7/dist-packages (from matplotlib>=3.0->phate) (1.4.3)\n",
            "Requirement already satisfied: pyparsing!=2.0.4,!=2.1.2,!=2.1.6,>=2.0.1 in /usr/local/lib/python3.7/dist-packages (from matplotlib>=3.0->phate) (3.0.9)\n",
            "Requirement already satisfied: cycler>=0.10 in /usr/local/lib/python3.7/dist-packages (from matplotlib>=3.0->phate) (0.11.0)\n",
            "Requirement already satisfied: typing-extensions in /usr/local/lib/python3.7/dist-packages (from kiwisolver>=1.0.1->matplotlib>=3.0->phate) (4.1.1)\n",
            "Requirement already satisfied: six>=1.5 in /usr/local/lib/python3.7/dist-packages (from python-dateutil>=2.1->matplotlib>=3.0->phate) (1.15.0)\n",
            "Requirement already satisfied: joblib>=0.11 in /usr/local/lib/python3.7/dist-packages (from scikit-learn>=0.20.0->phate) (1.1.0)\n",
            "Requirement already satisfied: threadpoolctl>=2.0.0 in /usr/local/lib/python3.7/dist-packages (from scikit-learn>=0.20.0->phate) (3.1.0)\n",
            "Requirement already satisfied: decorator>=4.3.0 in /usr/local/lib/python3.7/dist-packages (from scprep>=0.11.1->phate) (4.4.2)\n",
            "Requirement already satisfied: packaging in /usr/local/lib/python3.7/dist-packages (from scprep>=0.11.1->phate) (21.3)\n",
            "Requirement already satisfied: pandas<1.4,>=0.25 in /usr/local/lib/python3.7/dist-packages (from scprep>=0.11.1->phate) (1.3.5)\n",
            "Requirement already satisfied: pytz>=2017.3 in /usr/local/lib/python3.7/dist-packages (from pandas<1.4,>=0.25->scprep>=0.11.1->phate) (2022.1)\n",
            "Requirement already satisfied: wrapt<2,>=1.10 in /usr/local/lib/python3.7/dist-packages (from Deprecated->phate) (1.14.1)\n",
            "Looking in indexes: https://pypi.org/simple, https://us-python.pkg.dev/colab-wheels/public/simple/\n",
            "Requirement already satisfied: scprep in /usr/local/lib/python3.7/dist-packages (1.2.0)\n",
            "Requirement already satisfied: scipy>=0.18.1 in /usr/local/lib/python3.7/dist-packages (from scprep) (1.4.1)\n",
            "Requirement already satisfied: packaging in /usr/local/lib/python3.7/dist-packages (from scprep) (21.3)\n",
            "Requirement already satisfied: numpy>=1.12.0 in /usr/local/lib/python3.7/dist-packages (from scprep) (1.21.6)\n",
            "Requirement already satisfied: decorator>=4.3.0 in /usr/local/lib/python3.7/dist-packages (from scprep) (4.4.2)\n",
            "Requirement already satisfied: scikit-learn>=0.19.1 in /usr/local/lib/python3.7/dist-packages (from scprep) (1.0.2)\n",
            "Requirement already satisfied: pandas<1.4,>=0.25 in /usr/local/lib/python3.7/dist-packages (from scprep) (1.3.5)\n",
            "Requirement already satisfied: pytz>=2017.3 in /usr/local/lib/python3.7/dist-packages (from pandas<1.4,>=0.25->scprep) (2022.1)\n",
            "Requirement already satisfied: python-dateutil>=2.7.3 in /usr/local/lib/python3.7/dist-packages (from pandas<1.4,>=0.25->scprep) (2.8.2)\n",
            "Requirement already satisfied: six>=1.5 in /usr/local/lib/python3.7/dist-packages (from python-dateutil>=2.7.3->pandas<1.4,>=0.25->scprep) (1.15.0)\n",
            "Requirement already satisfied: joblib>=0.11 in /usr/local/lib/python3.7/dist-packages (from scikit-learn>=0.19.1->scprep) (1.1.0)\n",
            "Requirement already satisfied: threadpoolctl>=2.0.0 in /usr/local/lib/python3.7/dist-packages (from scikit-learn>=0.19.1->scprep) (3.1.0)\n",
            "Requirement already satisfied: pyparsing!=3.0.5,>=2.0.2 in /usr/local/lib/python3.7/dist-packages (from packaging->scprep) (3.0.9)\n"
          ]
        }
      ]
    },
    {
      "cell_type": "code",
      "source": [
        "import numpy as np\n",
        "import phate as ph\n",
        "import pandas as pd\n",
        "import scprep as scp\n",
        "import matplotlib.pyplot as plt"
      ],
      "metadata": {
        "id": "K5EagBEGvQVp"
      },
      "execution_count": null,
      "outputs": []
    },
    {
      "cell_type": "markdown",
      "source": [
        "## Loading the Data o Young Subjects"
      ],
      "metadata": {
        "id": "Svo3LanNvlYw"
      }
    },
    {
      "cell_type": "markdown",
      "source": [
        "I have already prepared the BOLD Data of the following ROIs for young subjects in 3D-Tensor of dimenension (TR, Voxel, Number of Subjects):\n",
        "- lOFC\n",
        "- mOFC\n",
        "- mPFC\n",
        "- dmPFC\n",
        "- vlPFC"
      ],
      "metadata": {
        "id": "gC_GqAfavrxA"
      }
    },
    {
      "cell_type": "code",
      "source": [
        "data_lOFC = np.load('YOUNG/data_lOFC.npy')\n",
        "data_mOFC = np.load('YOUNG/data_mOFC.npy')\n",
        "data_mPFC = np.load('YOUNG/data_mPFC.npy')\n",
        "data_dmPFC = np.load('YOUNG/data_dmPFC.npy')\n",
        "data_vlPFC = np.load('YOUNG/data_vlPFC.npy')"
      ],
      "metadata": {
        "id": "Ko_ecUYJvd0l"
      },
      "execution_count": 30,
      "outputs": []
    },
    {
      "cell_type": "markdown",
      "source": [
        "We now find the BOLD data for all voxel and all the TRs averaged over the subjects."
      ],
      "metadata": {
        "id": "rCNbLnhEXr8F"
      }
    },
    {
      "cell_type": "code",
      "source": [
        "data_lOFC_avg = np.mean(data_lOFC, axis=2)\n",
        "data_mOFC_avg = np.mean(data_mOFC, axis=2)\n",
        "data_mPFC_avg = np.mean(data_mPFC, axis=2)\n",
        "data_dmPFC_avg = np.mean(data_dmPFC, axis=2)\n",
        "data_vlPFC_avg = np.mean(data_vlPFC, axis=2)"
      ],
      "metadata": {
        "id": "SmQGvSoHWyBX"
      },
      "execution_count": 31,
      "outputs": []
    },
    {
      "cell_type": "code",
      "source": [
        "data_lOFC_avg.shape"
      ],
      "metadata": {
        "colab": {
          "base_uri": "https://localhost:8080/"
        },
        "id": "dnkAzO5kmQE2",
        "outputId": "910f09ea-2ed0-4227-92ba-7c7858f9384a"
      },
      "execution_count": 32,
      "outputs": [
        {
          "output_type": "execute_result",
          "data": {
            "text/plain": [
              "(189, 1700)"
            ]
          },
          "metadata": {},
          "execution_count": 32
        }
      ]
    },
    {
      "cell_type": "markdown",
      "source": [
        "### PHATE Representation"
      ],
      "metadata": {
        "id": "SmBIPHR7mcL1"
      }
    },
    {
      "cell_type": "code",
      "source": [
        "\n",
        "# We now instantiate the PHATE operator(matrix)/object of the PHATE class\n",
        "phate_op = ph.PHATE()\n",
        "# PHATE requires Voxel x TR Data\n",
        "phate_embd_mOFC =  phate_op.fit_transform(data_mOFC.T)\n"
      ],
      "metadata": {
        "id": "EOaOIt3umT_z"
      },
      "execution_count": 28,
      "outputs": []
    },
    {
      "cell_type": "code",
      "source": [
        "def plot_phate_rep(data, title=\"\"):\n",
        "  # We now instantiate the PHATE operator(matrix)/object of the PHATE class\n",
        "  phate_op = ph.PHATE()\n",
        "  # PHATE requires Voxel x TR Data\n",
        "  phate_embd =  phate_op.fit_transform(data)\n",
        "  scp.plot.scatter2d(phate_embd_young, ticks=None, c = list(range(data.shape[0])), label_prefix='PHATE ', title=title)"
      ],
      "metadata": {
        "id": "A8e23q6Mm44R"
      },
      "execution_count": 29,
      "outputs": []
    },
    {
      "cell_type": "code",
      "source": [
        ""
      ],
      "metadata": {
        "id": "j-UsBrUsrwsl"
      },
      "execution_count": null,
      "outputs": []
    }
  ]
}