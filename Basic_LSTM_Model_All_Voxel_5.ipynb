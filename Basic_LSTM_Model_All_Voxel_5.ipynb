{
  "cells": [
    {
      "cell_type": "markdown",
      "metadata": {
        "id": "rN8VtTibW_kL"
      },
      "source": [
        "Set Colab to GPU Mode if you are training the models!"
      ]
    },
    {
      "cell_type": "markdown",
      "metadata": {
        "id": "ESNkUUOEoS8j"
      },
      "source": [
        "### Mounting Google Drive"
      ]
    },
    {
      "cell_type": "code",
      "execution_count": null,
      "metadata": {
        "colab": {
          "base_uri": "https://localhost:8080/"
        },
        "id": "GWpiHXuGn6Oy",
        "outputId": "87cce171-f8ef-41bb-b10e-35314964cb3d"
      },
      "outputs": [
        {
          "name": "stdout",
          "output_type": "stream",
          "text": [
            "Mounted at /content/drive\n"
          ]
        }
      ],
      "source": [
        "from google.colab import drive\n",
        "drive.mount('/content/drive')"
      ]
    },
    {
      "cell_type": "code",
      "execution_count": null,
      "metadata": {
        "colab": {
          "base_uri": "https://localhost:8080/"
        },
        "id": "bpxEP-yeoWPX",
        "outputId": "be6293b7-71ae-4a40-f832-fd42f099e322"
      },
      "outputs": [
        {
          "name": "stdout",
          "output_type": "stream",
          "text": [
            "/content/drive/.shortcut-targets-by-id/1h_oF16bG32l75GPobgHe_9HgdUduLFxT/IIT J Summer Internship 2022/Code/Neural-Uncertainty-Representation\n"
          ]
        }
      ],
      "source": [
        "cd 'drive/MyDrive/IIT J Summer Internship 2022/Code/Neural-Uncertainty-Representation/'"
      ]
    },
    {
      "cell_type": "markdown",
      "metadata": {
        "id": "Hq9mNRMMomT7"
      },
      "source": [
        "### Importing Necessary Libraries\n"
      ]
    },
    {
      "cell_type": "code",
      "execution_count": null,
      "metadata": {
        "id": "SRXBkwcIogPe"
      },
      "outputs": [],
      "source": [
        "import numpy as np\n",
        "import pandas as pd\n",
        "\n",
        "import tensorflow as tf\n",
        "\n",
        "from tensorflow.keras.layers import Dense, Dropout, LSTM, TimeDistributed\n",
        "from tensorflow.keras.models import Sequential\n",
        "from tensorflow.keras.optimizers import Adam\n",
        "\n",
        "from sklearn.preprocessing import MinMaxScaler\n",
        "\n",
        "import matplotlib.pyplot as plt\n",
        "import os"
      ]
    },
    {
      "cell_type": "markdown",
      "metadata": {
        "id": "_R2-Cetmxned"
      },
      "source": [
        "### Importing Data\n",
        "We import the data of a young subject's 3D-Tensor Data of dimensions (TR, Voxel, Number of Subjects) for the 5 different ROIs as follows:\n",
        "- **Prefrontal areas:** dlPFC, vlPFC, lOFC, dmPFC, mPFC, mOFC\n",
        "- **Default-mode areas:** mPFC, ACC, PCC, Precuneus, mOFC\n",
        "- **Sensory areas:** VC\n",
        "- **Multisensory area:** pSTS\n",
        "- **Some other areas:** TP, IPL, mCC, Put, PCG, Nac, INS\n",
        "\n",
        "\n",
        "\n"
      ]
    },
    {
      "cell_type": "code",
      "execution_count": null,
      "metadata": {
        "id": "XUJPFBg1898z"
      },
      "outputs": [],
      "source": [
        "file_names = [name for name in os.listdir('/content/drive/MyDrive/IIT J Summer Internship 2022/Hitchcock/Data/YOUNG/Voxel_BOLD/Numpy') if name.endswith(\"npy\") and (\"(1)\" not in name)]\n",
        "file_names = [name for name in file_names if (\"537\" not in name)]"
      ]
    },
    {
      "cell_type": "code",
      "execution_count": null,
      "metadata": {
        "id": "5lVnzf5N_Ufy"
      },
      "outputs": [],
      "source": [
        "ROI_names = [file_name.replace(\"data_\",\"\").replace(\".npy\",\"\") for file_name in file_names]"
      ]
    },
    {
      "cell_type": "code",
      "execution_count": null,
      "metadata": {
        "id": "Kg22rkIGpfP2"
      },
      "outputs": [],
      "source": [
        "data_ori = list()\n",
        "for file_name in file_names:\n",
        "  data_ori.append(np.load('/content/drive/MyDrive/IIT J Summer Internship 2022/Hitchcock/Data/YOUNG/Voxel_BOLD/Numpy/'+file_name))"
      ]
    },
    {
      "cell_type": "markdown",
      "metadata": {
        "id": "Kcaxzm8WDjgO"
      },
      "source": [
        "### Data Preparation"
      ]
    },
    {
      "cell_type": "markdown",
      "metadata": {
        "id": "K9rJ8CAb97K2"
      },
      "source": [
        "Now, here we prepare the data to be fed to the Neural Network Architechtures. We can't predict the time ahead upto which the subjects are predicting correctly so, we will take a bit round about way to predict the BOLD values ahead in time(for several choices of time points e.g. 1 time point ahead, 2 time point ahead, etc) and will compare the results for young and old subjects."
      ]
    },
    {
      "cell_type": "markdown",
      "metadata": {
        "id": "im3Oqy2ueeEU"
      },
      "source": [
        "Right from the starting we decide some of the data preparation parameters, so that we can use them as we require."
      ]
    },
    {
      "cell_type": "code",
      "execution_count": null,
      "metadata": {
        "id": "X1DoZ2Fcec20"
      },
      "outputs": [],
      "source": [
        "TRAIN_BATCH_SIZE = 20\n",
        "TEST_BATCH_SIZE = 10\n",
        "LOOK_AHEAD = 1\n",
        "NUM_TEST_SUBS = 10"
      ]
    },
    {
      "cell_type": "markdown",
      "metadata": {
        "id": "TYuu8ZM2-u9z"
      },
      "source": [
        "We will avoid doing an average since, all voxels in a ROI is not equally important and hence we will want to predict the BOLD values of several voxels simultaneously."
      ]
    },
    {
      "cell_type": "code",
      "execution_count": null,
      "metadata": {
        "id": "pFvaFL69geft"
      },
      "outputs": [],
      "source": [
        "data = data_ori"
      ]
    },
    {
      "cell_type": "markdown",
      "metadata": {
        "id": "mY3usMssn3T5"
      },
      "source": [
        "Let's Start the Data Preparation for lOFC later we will iterate the same procedure for the other ROIs."
      ]
    },
    {
      "cell_type": "code",
      "execution_count": null,
      "metadata": {
        "colab": {
          "base_uri": "https://localhost:8080/"
        },
        "id": "71dv3Zkcgu3N",
        "outputId": "9d8d57a1-eb30-4b53-c7ce-0216e26faae9"
      },
      "outputs": [
        {
          "name": "stdout",
          "output_type": "stream",
          "text": [
            "lOFC BOLD Shape: (189, 537, 111)\n"
          ]
        }
      ],
      "source": [
        "print(ROI_names[-1], \"BOLD Shape:\", data[-1].shape)"
      ]
    },
    {
      "cell_type": "markdown",
      "metadata": {
        "id": "jG7ofnvRczcN"
      },
      "source": [
        "Below, we see the BOLD time series plot for all the ROIs."
      ]
    },
    {
      "cell_type": "markdown",
      "metadata": {
        "id": "-wIOccLpE0d-"
      },
      "source": [
        "We have changed the data in the form (Number of Subjects, TR, Voxels) below."
      ]
    },
    {
      "cell_type": "code",
      "execution_count": null,
      "metadata": {
        "id": "0pHK54KjDnah"
      },
      "outputs": [],
      "source": [
        "data = [np.transpose(dat, (2,0,1)) for dat in data]"
      ]
    },
    {
      "cell_type": "code",
      "execution_count": null,
      "metadata": {
        "colab": {
          "base_uri": "https://localhost:8080/"
        },
        "id": "HRXHJ1cwgrzp",
        "outputId": "70e37ded-5650-4139-cf50-e38351eb685b"
      },
      "outputs": [
        {
          "name": "stdout",
          "output_type": "stream",
          "text": [
            "lOFC BOLD Shape: (111, 189, 537)\n"
          ]
        }
      ],
      "source": [
        "print(ROI_names[-1], \"BOLD Shape:\", data[-1].shape)"
      ]
    },
    {
      "cell_type": "code",
      "execution_count": null,
      "metadata": {
        "id": "AseI4ZNeg26E"
      },
      "outputs": [],
      "source": [
        "# for i in range(len(data)):  \n",
        "#   plt.figure(figsize=(10, 8))\n",
        "#   plt.plot(data[i][0,:,:])\n",
        "#   plt.title(\"BOLD of 1st Subject for \"+ROI_names[i]+\"'s Voxels\")\n",
        "#   plt.xlabel(\"TRs\")\n",
        "#   plt.ylabel(\"BOLD\")\n",
        "#   plt.savefig(\"./Plots/YOUNG/ALL-BOLD/ALL-BOLD-\"+ROI_names[i]+\".png\")"
      ]
    },
    {
      "cell_type": "markdown",
      "metadata": {
        "id": "gg50q17pp5xQ"
      },
      "source": [
        "We split the dataset of 111 young subjects into 101 subjects in the training data and 10 subject in the test data."
      ]
    },
    {
      "cell_type": "code",
      "execution_count": null,
      "metadata": {
        "id": "hrldyz8XnDlv"
      },
      "outputs": [],
      "source": [
        "train_data_unscaled = [dat[:-NUM_TEST_SUBS] for dat in data]\n",
        "test_data_unscaled = [dat[-NUM_TEST_SUBS:] for dat in data]  "
      ]
    },
    {
      "cell_type": "markdown",
      "metadata": {
        "id": "MDV7H0sYt6jd"
      },
      "source": [
        "We scaled the BOLD values of each voxel in the train data between 0 and 1 for each voxel. We use the same MinMaxScaler fit on the train data on the test data."
      ]
    },
    {
      "cell_type": "code",
      "execution_count": null,
      "metadata": {
        "id": "-xkJQLj3tORj"
      },
      "outputs": [],
      "source": [
        "scalers = dict() # Stores a list of MinMaxScalers for each ROI, where number of MinMaxScalers is equal to the number of voxels in that ROI\n",
        "for i in range(len(ROI_names)):\n",
        "  scalers[ROI_names[i]] = [MinMaxScaler(feature_range = (0, 1)) for _ in range(data[i].shape[-1])]\n",
        "\n",
        "train_data = [[scalers[ROI_names[j]][i].fit_transform(train_data_unscaled[j][:,:,i]) for i in range(len(scalers[ROI_names[j]]))] for j in range(len(ROI_names))]\n",
        "test_data = [[scalers[ROI_names[j]][i].transform(test_data_unscaled[j][:,:,i]) for i in range(len(scalers[ROI_names[j]]))] for j in range(len(ROI_names))]"
      ]
    },
    {
      "cell_type": "code",
      "execution_count": null,
      "metadata": {
        "id": "Ail126iVuR6s"
      },
      "outputs": [],
      "source": [
        "train_data = [np.transpose(np.array(dat), (1,2,0)) for dat in train_data]\n",
        "test_data = [np.transpose(np.array(dat), (1,2,0)) for dat in test_data]"
      ]
    },
    {
      "cell_type": "code",
      "execution_count": null,
      "metadata": {
        "colab": {
          "base_uri": "https://localhost:8080/"
        },
        "id": "_cOAv_VrnbLU",
        "outputId": "28e6c2a8-7f89-4e18-d137-075a43041a5d"
      },
      "outputs": [
        {
          "name": "stdout",
          "output_type": "stream",
          "text": [
            "lOFC Train Data Shape:  (101, 189, 537)\n",
            "lOFC Test Data Shape:  (10, 189, 537)\n"
          ]
        }
      ],
      "source": [
        "print(ROI_names[-1], \"Train Data Shape: \", train_data[-1].shape)\n",
        "print(ROI_names[-1], \"Test Data Shape: \", test_data[-1].shape)"
      ]
    },
    {
      "cell_type": "code",
      "execution_count": null,
      "metadata": {
        "id": "YIlJSRX92txN"
      },
      "outputs": [],
      "source": [
        "# for i in range(len(data)):  \n",
        "#   plt.figure(figsize=(10, 8))\n",
        "#   plt.plot(train_data[i][0,:,:])\n",
        "#   plt.title(\"BOLD of 1st Subject for \"+ROI_names[i]+\"'s Voxels\")\n",
        "#   plt.xlabel(\"TRs\")\n",
        "#   plt.ylabel(\"BOLD[Scaled between 0 and 1]\")\n",
        "#   plt.savefig(\"./Plots/YOUNG/ALL-BOLD/ALL-BOLD-SCALED-\"+ROI_names[i]+\".png\")"
      ]
    },
    {
      "cell_type": "markdown",
      "metadata": {
        "id": "0yjlAwWeiEru"
      },
      "source": [
        "We now build a data generator which would produce mini-batches during the training of the neural network."
      ]
    },
    {
      "cell_type": "code",
      "execution_count": null,
      "metadata": {
        "id": "Blko7LXpgtwA"
      },
      "outputs": [],
      "source": [
        "class KerasBatchGenerator(object):\n",
        "    def __init__(self, data, num_TRs, batch_size, look_ahead=1):\n",
        "        self.data = data\n",
        "        self.num_TRs = num_TRs\n",
        "        self.batch_size = batch_size\n",
        "        self.current_idx = 0\n",
        "        self.look_ahead = look_ahead\n",
        "\n",
        "    def generate(self):\n",
        "        while True:\n",
        "            if self.current_idx + self.batch_size >= self.data.shape[0]:\n",
        "              self.current_idx = 0\n",
        "            x = self.data[self.current_idx:(self.current_idx+self.batch_size),:(-self.look_ahead),:]\n",
        "            y = self.data[self.current_idx:(self.current_idx+self.batch_size),self.look_ahead:,:]\n",
        "            self.current_idx = self.current_idx + self.batch_size\n",
        "            yield x, y "
      ]
    },
    {
      "cell_type": "code",
      "execution_count": null,
      "metadata": {
        "id": "lZN56Eg3mrsc"
      },
      "outputs": [],
      "source": [
        "train_data_generator = [KerasBatchGenerator(dat, dat.shape[1], TRAIN_BATCH_SIZE, LOOK_AHEAD) for dat in train_data]\n",
        "test_data_generator = [KerasBatchGenerator(dat, dat.shape[1], TEST_BATCH_SIZE, LOOK_AHEAD) for dat in test_data]"
      ]
    },
    {
      "cell_type": "code",
      "execution_count": null,
      "metadata": {
        "colab": {
          "base_uri": "https://localhost:8080/"
        },
        "id": "5UPT6iRxpJ7c",
        "outputId": "7aca8f11-623b-4d5c-bdfc-baa81fc6abb8"
      },
      "outputs": [
        {
          "name": "stdout",
          "output_type": "stream",
          "text": [
            "lOFC Train Batch X Shape:  (20, 188, 537)\n",
            "lOFC Train Batch y Shape:  (20, 188, 537)\n"
          ]
        }
      ],
      "source": [
        "batch_x, batch_y = next(train_data_generator[-1].generate())\n",
        "print(ROI_names[-1], \"Train Batch X Shape: \", batch_x.shape)\n",
        "print(ROI_names[-1], \"Train Batch y Shape: \", batch_y.shape)"
      ]
    },
    {
      "cell_type": "code",
      "execution_count": null,
      "metadata": {
        "colab": {
          "base_uri": "https://localhost:8080/"
        },
        "id": "Clavfro-pSEV",
        "outputId": "e996931e-63bc-4b22-d848-453a0076acfe"
      },
      "outputs": [
        {
          "name": "stdout",
          "output_type": "stream",
          "text": [
            "lOFC Test Batch X Shape:  (10, 188, 537)\n",
            "lOFC Test Batch y Shape:  (10, 188, 537)\n"
          ]
        }
      ],
      "source": [
        "batch_x, batch_y = next(test_data_generator[-1].generate())\n",
        "print(ROI_names[-1], \"Test Batch X Shape: \", batch_x.shape)\n",
        "print(ROI_names[-1], \"Test Batch y Shape: \", batch_y.shape)"
      ]
    },
    {
      "cell_type": "markdown",
      "metadata": {
        "id": "31NRewZjqoi1"
      },
      "source": [
        "### Building Model"
      ]
    },
    {
      "cell_type": "markdown",
      "metadata": {
        "id": "8Ry-jGmHqqx0"
      },
      "source": [
        "We will start off by building a LSTM Model:\n",
        "- `Number of LSTM Layers = 2`\n",
        "- `Number of Dense Layers = 1`\n",
        "- `hidden units = 32`\n",
        "- `dropout = 0.3`"
      ]
    },
    {
      "cell_type": "code",
      "execution_count": null,
      "metadata": {
        "id": "AKDAJkiVgK2n"
      },
      "outputs": [],
      "source": [
        "HIDDEN_UNITS = 32\n",
        "DROPOUT_PROB = 0.3\n",
        "LSTM_LAYERS = 2\n",
        "DENSE_LAYERS = 1"
      ]
    },
    {
      "cell_type": "code",
      "execution_count": null,
      "metadata": {
        "id": "fqoXwHTTqqCR"
      },
      "outputs": [],
      "source": [
        "def avg_bold_model(num_voxs):\n",
        "  model = Sequential()\n",
        "  for _ in range(LSTM_LAYERS):\n",
        "    model.add(LSTM(HIDDEN_UNITS, return_sequences=True))\n",
        "  model.add(Dropout(0.3))\n",
        "  for _ in range(DENSE_LAYERS-1):\n",
        "    model.add(TimeDistributed(Dense(HIDDEN_UNITS, activation='relu')))\n",
        "  model.add(TimeDistributed(Dense(num_voxs)))\n",
        "  return model"
      ]
    },
    {
      "cell_type": "code",
      "execution_count": null,
      "metadata": {
        "colab": {
          "base_uri": "https://localhost:8080/"
        },
        "id": "nYHgnyz-v5nA",
        "outputId": "87d97b94-6244-4554-d2ca-d5b2998e3950"
      },
      "outputs": [
        {
          "name": "stdout",
          "output_type": "stream",
          "text": [
            "Model: \"sequential\"\n",
            "_________________________________________________________________\n",
            " Layer (type)                Output Shape              Param #   \n",
            "=================================================================\n",
            " lstm (LSTM)                 (10, 188, 32)             72960     \n",
            "                                                                 \n",
            " lstm_1 (LSTM)               (10, 188, 32)             8320      \n",
            "                                                                 \n",
            " dropout (Dropout)           (10, 188, 32)             0         \n",
            "                                                                 \n",
            " time_distributed (TimeDistr  (10, 188, 537)           17721     \n",
            " ibuted)                                                         \n",
            "                                                                 \n",
            "=================================================================\n",
            "Total params: 99,001\n",
            "Trainable params: 99,001\n",
            "Non-trainable params: 0\n",
            "_________________________________________________________________\n"
          ]
        }
      ],
      "source": [
        "sample_model = avg_bold_model(batch_x.shape[-1])\n",
        "sample_model.build(input_shape=batch_x.shape)\n",
        "sample_model.summary()"
      ]
    },
    {
      "cell_type": "code",
      "execution_count": null,
      "metadata": {
        "id": "fUZSBnNft2Dl"
      },
      "outputs": [],
      "source": [
        "models = [avg_bold_model(train_data[i].shape[-1]) for i in range(len(ROI_names))]"
      ]
    },
    {
      "cell_type": "markdown",
      "metadata": {
        "id": "3PRKFwUahAKG"
      },
      "source": [
        "#### Training Model"
      ]
    },
    {
      "cell_type": "markdown",
      "metadata": {
        "id": "LsHnfCSrhC0g"
      },
      "source": [
        "If you haven't already trained the models then uncomment and train your models which will be saved and will be loaded for inference later."
      ]
    },
    {
      "cell_type": "code",
      "execution_count": null,
      "metadata": {
        "id": "kf-dFQmfzqTA"
      },
      "outputs": [],
      "source": [
        "for i in range(len(ROI_names)):\n",
        "  models[i].compile(optimizer = 'adam', loss = 'mean_squared_error')"
      ]
    },
    {
      "cell_type": "code",
      "execution_count": null,
      "metadata": {
        "id": "vcZsfhkz3lCH"
      },
      "outputs": [],
      "source": [
        "EPOCHS = 100\n",
        "checkpoint_filepaths = [f\"./Models/YOUNG/LSTM/ALL-BOLD/{name}/model_weights-best-val-loss-{LSTM_LAYERS}L-{HIDDEN_UNITS}H-{DENSE_LAYERS}D-{int(DROPOUT_PROB*10)}Drop-{LOOK_AHEAD}Ahead-{name}\" for name in ROI_names]\n",
        "model_checkpoint_callbacks = [tf.keras.callbacks.ModelCheckpoint(\n",
        "    filepath=checkpoint_filepath,\n",
        "    save_weights_only=True,\n",
        "    monitor = \"val_loss\",\n",
        "    mode='min',\n",
        "    save_best_only=True) for checkpoint_filepath in checkpoint_filepaths]"
      ]
    },
    {
      "cell_type": "code",
      "execution_count": null,
      "metadata": {
        "id": "wECZbf2i_AH7"
      },
      "outputs": [],
      "source": [
        "def plot_train_test_loss(history, model_name, i):  \n",
        "  plt.figure(figsize=(10,10))\n",
        "  plt.plot(history.history['loss'])\n",
        "  plt.plot(history.history['val_loss'])\n",
        "  plt.title(model_name+' loss')\n",
        "  plt.ylabel('loss')\n",
        "  plt.xlabel('epochs')\n",
        "  plt.legend(['train', 'val'], loc='upper left')\n",
        "  plt.savefig(\"./Plots/YOUNG/LSTM/ALL-BOLD/\"+ROI_names[i]+\"/\"+model_name+\"-loss.png\")"
      ]
    },
    {
      "cell_type": "code",
      "execution_count": null,
      "metadata": {
        "colab": {
          "background_save": true
        },
        "id": "AFb-kTLR21hl"
      },
      "outputs": [],
      "source": [
        "histories = list()\n",
        "with tf.device('/device:GPU:0'):\n",
        "  for i in range(len(ROI_names)):\n",
        "    history = models[i].fit(\n",
        "                    train_data_generator[i].generate(),\n",
        "                    steps_per_epoch=train_data[i].shape[0]//TRAIN_BATCH_SIZE,\n",
        "                    epochs=EPOCHS,\n",
        "                    validation_data=test_data_generator[i].generate(),\n",
        "                    validation_steps=test_data[i].shape[0]//TEST_BATCH_SIZE,\n",
        "                    callbacks=[model_checkpoint_callbacks[i]]\n",
        "                    )\n",
        "    models[i].save_weights(f\"./Models/YOUNG/LSTM/ALL-BOLD/{ROI_names[i]}/model_weights-{LSTM_LAYERS}L-{HIDDEN_UNITS}H-{DENSE_LAYERS}D-{int(DROPOUT_PROB*10)}Drop-{LOOK_AHEAD}Ahead-{ROI_names[i]}\")\n",
        "    plot_train_test_loss(history, f\"{LSTM_LAYERS}L-{HIDDEN_UNITS}H-{DENSE_LAYERS}D-{int(DROPOUT_PROB*10)}Drop-{LOOK_AHEAD}Ahead-{ROI_names[i]}\", i)\n",
        "    histories.append(history)"
      ]
    },
    {
      "cell_type": "code",
      "execution_count": null,
      "metadata": {
        "colab": {
          "background_save": true
        },
        "id": "dKvn0145hViW"
      },
      "outputs": [],
      "source": [
        "for i in range(len(ROI_names)):\n",
        "  models[i].load_weights(f\"./Models/YOUNG/LSTM/ALL-BOLD/{ROI_names[i]}/model_weights-{LSTM_LAYERS}L-{HIDDEN_UNITS}H-{DENSE_LAYERS}D-{int(DROPOUT_PROB*10)}Drop-{LOOK_AHEAD}Ahead-{ROI_names[i]}\")"
      ]
    },
    {
      "cell_type": "code",
      "execution_count": null,
      "metadata": {
        "colab": {
          "background_save": true
        },
        "id": "7mpQ5Rap6kQ0"
      },
      "outputs": [],
      "source": [
        "preds = [models[i].predict(next(test_data_generator[i].generate())[0]) for i in range(len(ROI_names))]"
      ]
    },
    {
      "cell_type": "code",
      "execution_count": null,
      "metadata": {
        "colab": {
          "background_save": true
        },
        "id": "HeE2zhmXxOge"
      },
      "outputs": [],
      "source": [
        "a_TRs = np.array([56, 67, 73, 81, 134, 142, 155, 167, 174, 180])\n",
        "d_TRs = np.array([67, 72, 85, 89, 145, 154, 168, 174, 180, 188])\n",
        "and_TRs = np.union1d(a_TRs, d_TRs)\n",
        "\n",
        "def highlight_and(act, pred):\n",
        "  min_y_list = list()\n",
        "  max_y_list = list()\n",
        "  for i in range(5):\n",
        "    min_y_list.append(np.min(np.concatenate([act[a_TRs[2*i]:d_TRs[2*i+1]], pred[a_TRs[2*i]:d_TRs[2*i+1]]])))\n",
        "    max_y_list.append(np.max(np.concatenate([act[a_TRs[2*i]:d_TRs[2*i+1]], pred[a_TRs[2*i]:d_TRs[2*i+1]]])))\n",
        "    # plt.fill_betweenx(y=[min_y_list[i], max_y_list[i]], x1=a_TRs[2*i], x2=d_TRs[2*i+1], color='gray', alpha=0.1)\n",
        "    plt.fill_betweenx(y=[min_y_list[i], max_y_list[i]], x1=a_TRs[2*i], x2=a_TRs[2*i+1], color='violet', alpha=0.4)\n",
        "    plt.fill_betweenx(y=[min_y_list[i], max_y_list[i]], x1=d_TRs[2*i], x2=d_TRs[2*i+1], color='greenyellow', alpha=0.4)"
      ]
    },
    {
      "cell_type": "code",
      "execution_count": null,
      "metadata": {
        "colab": {
          "background_save": true
        },
        "id": "WBLOHLixAWnk"
      },
      "outputs": [],
      "source": [
        "np.random.seed(43)\n",
        "for i in range(len(ROI_names)):\n",
        "  \n",
        "  actual_test_data_output = test_data_unscaled[i][:,LOOK_AHEAD:,:]\n",
        "  pred_test_data_output = np.transpose(np.array([scalers[ROI_names[i]][j].inverse_transform(np.hstack([preds[i][:,:,j], preds[i][:,:LOOK_AHEAD,j]])) for j in range(len(scalers[ROI_names[i]]))]), (1,2,0))[:,:-LOOK_AHEAD,:]\n",
        "  plt.figure(figsize=(24, 18))\n",
        "\n",
        "  for j in range(NUM_TEST_SUBS-1):\n",
        "  \n",
        "    ax = plt.subplot(3, 3, j + 1)\n",
        "    vox_choice = np.random.randint(0, len(scalers[ROI_names[i]]), 5)\n",
        "    plt.plot(np.transpose(actual_test_data_output[j,:, vox_choice]), c='b', label='actual')\n",
        "    plt.plot(np.transpose(pred_test_data_output[j,:, vox_choice]), c='r', ls='--', label='pred')\n",
        "    # highlight_and(actual_test_data_output[j,:], pred_test_data_output[j,:])\n",
        "    plt.xticks(np.concatenate([np.array([0]), and_TRs - LOOK_AHEAD]), np.concatenate([np.array([LOOK_AHEAD]), and_TRs]))\n",
        "    plt.ylabel(\"BOLD\")\n",
        "    plt.xlabel(\"TRs\")\n",
        "    plt.title(f\"All BOLD Preds of {LSTM_LAYERS}L-{HIDDEN_UNITS}H-{DENSE_LAYERS}D-{int(DROPOUT_PROB*10)}Drop-{LOOK_AHEAD}Ahead for {j+1}th Test Sub's {ROI_names[i]}\")\n",
        "    plt.legend()\n",
        "    plt.savefig(f\"./Plots/YOUNG/LSTM/ALL-BOLD/{ROI_names[i]}/{LSTM_LAYERS}L-{HIDDEN_UNITS}H-{DENSE_LAYERS}D-{int(DROPOUT_PROB*10)}Drop-{LOOK_AHEAD}Ahead-Preds.png\")"
      ]
    },
    {
      "cell_type": "code",
      "execution_count": null,
      "metadata": {
        "colab": {
          "background_save": true
        },
        "id": "J8hiJzxcKFuz",
        "outputId": "82d16b10-2a24-4066-f76b-ec001a614256"
      },
      "outputs": [
        {
          "name": "stdout",
          "output_type": "stream",
          "text": [
            "***Each Test Subject's Correlation Coefficient between predicted and actual BOLD averaged across each Voxel Prediction values for ROIs***\n",
            "\n",
            "dmPFC for 1th sub: 0.27\n",
            "dmPFC for 2th sub: 0.42\n",
            "dmPFC for 3th sub: 0.54\n",
            "dmPFC for 4th sub: 0.25\n",
            "dmPFC for 5th sub: 0.21\n",
            "dmPFC for 6th sub: 0.28\n",
            "dmPFC for 7th sub: 0.15\n",
            "dmPFC for 8th sub: 0.37\n",
            "dmPFC for 9th sub: 0.37\n",
            "dmPFC for 10th sub: 0.13\n",
            "\n",
            "ACC for 1th sub: 0.23\n",
            "ACC for 2th sub: 0.33\n",
            "ACC for 3th sub: 0.3\n",
            "ACC for 4th sub: 0.23\n",
            "ACC for 5th sub: 0.17\n",
            "ACC for 6th sub: 0.22\n",
            "ACC for 7th sub: 0.17\n",
            "ACC for 8th sub: 0.42\n",
            "ACC for 9th sub: 0.28\n",
            "ACC for 10th sub: 0.28\n",
            "\n",
            "AMY for 1th sub: 0.32\n",
            "AMY for 2th sub: 0.31\n",
            "AMY for 3th sub: 0.59\n",
            "AMY for 4th sub: 0.25\n",
            "AMY for 5th sub: 0.17\n",
            "AMY for 6th sub: 0.41\n",
            "AMY for 7th sub: 0.2\n",
            "AMY for 8th sub: 0.61\n",
            "AMY for 9th sub: 0.33\n",
            "AMY for 10th sub: 0.13\n",
            "\n",
            "Cau for 1th sub: 0.14\n",
            "Cau for 2th sub: 0.59\n",
            "Cau for 3th sub: 0.36\n",
            "Cau for 4th sub: 0.1\n",
            "Cau for 5th sub: 0.47\n",
            "Cau for 6th sub: 0.09\n",
            "Cau for 7th sub: 0.17\n",
            "Cau for 8th sub: 0.27\n",
            "Cau for 9th sub: 0.57\n",
            "Cau for 10th sub: 0.34\n",
            "\n",
            "dlPFC for 1th sub: 0.36\n",
            "dlPFC for 2th sub: 0.26\n",
            "dlPFC for 3th sub: 0.56\n",
            "dlPFC for 4th sub: 0.35\n",
            "dlPFC for 5th sub: 0.2\n",
            "dlPFC for 6th sub: 0.16\n",
            "dlPFC for 7th sub: 0.24\n",
            "dlPFC for 8th sub: 0.3\n",
            "dlPFC for 9th sub: 0.37\n",
            "dlPFC for 10th sub: 0.27\n",
            "\n",
            "INS for 1th sub: 0.35\n",
            "INS for 2th sub: 0.71\n",
            "INS for 3th sub: 0.59\n",
            "INS for 4th sub: 0.49\n",
            "INS for 5th sub: 0.28\n",
            "INS for 6th sub: 0.42\n",
            "INS for 7th sub: 0.32\n",
            "INS for 8th sub: 0.44\n",
            "INS for 9th sub: 0.3\n",
            "INS for 10th sub: 0.36\n",
            "\n",
            "IPL for 1th sub: 0.45\n",
            "IPL for 2th sub: 0.23\n",
            "IPL for 3th sub: 0.55\n",
            "IPL for 4th sub: 0.46\n",
            "IPL for 5th sub: 0.33\n",
            "IPL for 6th sub: 0.26\n",
            "IPL for 7th sub: 0.42\n",
            "IPL for 8th sub: 0.53\n",
            "IPL for 9th sub: 0.4\n",
            "IPL for 10th sub: 0.29\n",
            "\n",
            "mCC for 1th sub: 0.2\n",
            "mCC for 2th sub: 0.05\n",
            "mCC for 3th sub: 0.33\n",
            "mCC for 4th sub: 0.16\n",
            "mCC for 5th sub: 0.3\n",
            "mCC for 6th sub: 0.71\n",
            "mCC for 7th sub: 0.08\n",
            "mCC for 8th sub: 0.38\n",
            "mCC for 9th sub: 0.26\n",
            "mCC for 10th sub: 0.19\n",
            "\n",
            "Nac for 1th sub: 0.18\n",
            "Nac for 2th sub: 0.42\n",
            "Nac for 3th sub: 0.39\n",
            "Nac for 4th sub: 0.3\n",
            "Nac for 5th sub: 0.41\n",
            "Nac for 6th sub: 0.16\n",
            "Nac for 7th sub: 0.25\n",
            "Nac for 8th sub: 0.36\n",
            "Nac for 9th sub: 0.74\n",
            "Nac for 10th sub: 0.23\n",
            "\n",
            "PCC for 1th sub: 0.3\n",
            "PCC for 2th sub: 0.33\n",
            "PCC for 3th sub: 0.52\n",
            "PCC for 4th sub: 0.42\n",
            "PCC for 5th sub: 0.25\n",
            "PCC for 6th sub: 0.46\n",
            "PCC for 7th sub: 0.26\n",
            "PCC for 8th sub: 0.48\n",
            "PCC for 9th sub: 0.27\n",
            "PCC for 10th sub: 0.28\n",
            "\n",
            "PCG for 1th sub: 0.17\n",
            "PCG for 2th sub: 0.18\n",
            "PCG for 3th sub: 0.35\n",
            "PCG for 4th sub: 0.29\n",
            "PCG for 5th sub: 0.15\n",
            "PCG for 6th sub: 0.29\n",
            "PCG for 7th sub: 0.2\n",
            "PCG for 8th sub: 0.29\n",
            "PCG for 9th sub: 0.31\n",
            "PCG for 10th sub: 0.35\n",
            "\n",
            "Prec for 1th sub: 0.38\n",
            "Prec for 2th sub: 0.35\n",
            "Prec for 3th sub: 0.55\n",
            "Prec for 4th sub: 0.46\n",
            "Prec for 5th sub: 0.37\n",
            "Prec for 6th sub: 0.4\n",
            "Prec for 7th sub: 0.41\n",
            "Prec for 8th sub: 0.57\n",
            "Prec for 9th sub: 0.45\n",
            "Prec for 10th sub: 0.39\n",
            "\n",
            "TP for 1th sub: 0.54\n",
            "TP for 2th sub: 0.35\n",
            "TP for 3th sub: 0.48\n",
            "TP for 4th sub: 0.46\n",
            "TP for 5th sub: 0.66\n",
            "TP for 6th sub: 0.31\n",
            "TP for 7th sub: 0.45\n",
            "TP for 8th sub: 0.68\n",
            "TP for 9th sub: 0.68\n",
            "TP for 10th sub: 0.56\n",
            "\n",
            "Put for 1th sub: 0.29\n",
            "Put for 2th sub: 0.13\n",
            "Put for 3th sub: 0.59\n",
            "Put for 4th sub: 0.12\n",
            "Put for 5th sub: 0.34\n",
            "Put for 6th sub: 0.28\n",
            "Put for 7th sub: 0.13\n",
            "Put for 8th sub: 0.48\n",
            "Put for 9th sub: 0.35\n",
            "Put for 10th sub: 0.07\n",
            "\n",
            "pSTS for 1th sub: 0.52\n",
            "pSTS for 2th sub: 0.37\n",
            "pSTS for 3th sub: 0.69\n",
            "pSTS for 4th sub: 0.45\n",
            "pSTS for 5th sub: 0.39\n",
            "pSTS for 6th sub: 0.61\n",
            "pSTS for 7th sub: 0.39\n",
            "pSTS for 8th sub: 0.64\n",
            "pSTS for 9th sub: 0.37\n",
            "pSTS for 10th sub: 0.28\n",
            "\n",
            "VC for 1th sub: 0.06\n",
            "VC for 2th sub: 0.1\n",
            "VC for 3th sub: 0.35\n",
            "VC for 4th sub: 0.35\n",
            "VC for 5th sub: 0.22\n",
            "VC for 6th sub: 0.35\n",
            "VC for 7th sub: 0.22\n",
            "VC for 8th sub: -0.05\n",
            "VC for 9th sub: 0.13\n",
            "VC for 10th sub: -0.09\n",
            "\n",
            "vlPFC for 1th sub: 0.41\n",
            "vlPFC for 2th sub: 0.36\n",
            "vlPFC for 3th sub: 0.57\n",
            "vlPFC for 4th sub: 0.52\n",
            "vlPFC for 5th sub: 0.24\n",
            "vlPFC for 6th sub: 0.27\n",
            "vlPFC for 7th sub: 0.36\n",
            "vlPFC for 8th sub: 0.38\n",
            "vlPFC for 9th sub: 0.55\n",
            "vlPFC for 10th sub: 0.18\n",
            "\n",
            "mOFC for 1th sub: 0.28\n",
            "mOFC for 2th sub: 0.34\n",
            "mOFC for 3th sub: 0.63\n",
            "mOFC for 4th sub: 0.8\n",
            "mOFC for 5th sub: 0.45\n",
            "mOFC for 6th sub: 0.46\n",
            "mOFC for 7th sub: 0.07\n",
            "mOFC for 8th sub: 0.66\n",
            "mOFC for 9th sub: 0.79\n",
            "mOFC for 10th sub: 0.24\n",
            "\n",
            "mPFC for 1th sub: 0.33\n",
            "mPFC for 2th sub: 0.1\n",
            "mPFC for 3th sub: 0.38\n",
            "mPFC for 4th sub: 0.41\n",
            "mPFC for 5th sub: 0.16\n",
            "mPFC for 6th sub: 0.14\n",
            "mPFC for 7th sub: 0.15\n",
            "mPFC for 8th sub: 0.72\n",
            "mPFC for 9th sub: 0.32\n",
            "mPFC for 10th sub: 0.15\n",
            "\n",
            "lOFC for 1th sub: 0.39\n",
            "lOFC for 2th sub: 0.26\n",
            "lOFC for 3th sub: 0.45\n",
            "lOFC for 4th sub: 0.69\n",
            "lOFC for 5th sub: 0.31\n",
            "lOFC for 6th sub: 0.07\n",
            "lOFC for 7th sub: 0.18\n",
            "lOFC for 8th sub: 0.64\n",
            "lOFC for 9th sub: 0.73\n",
            "lOFC for 10th sub: 0.11\n",
            "\n",
            "***Average across test subjects Correlation Coefficient between predicted and actual BOLD averaged across each Voxel Prediction values for ROIs***\n",
            "\n",
            "dmPFC: 0.3\n",
            "ACC: 0.26\n",
            "AMY: 0.33\n",
            "Cau: 0.31\n",
            "dlPFC: 0.31\n",
            "INS: 0.43\n",
            "IPL: 0.39\n",
            "mCC: 0.27\n",
            "Nac: 0.34\n",
            "PCC: 0.36\n",
            "PCG: 0.26\n",
            "Prec: 0.43\n",
            "TP: 0.52\n",
            "Put: 0.28\n",
            "pSTS: 0.47\n",
            "VC: 0.16\n",
            "vlPFC: 0.38\n",
            "mOFC: 0.47\n",
            "mPFC: 0.29\n",
            "lOFC: 0.38\n"
          ]
        }
      ],
      "source": [
        "print(\"***Each Test Subject's Correlation Coefficient between predicted and actual BOLD averaged across each Voxel Prediction values for ROIs***\")\n",
        "print()\n",
        "avg_r = list()\n",
        "for i in range(len(ROI_names)):\n",
        "  actual_test_data_output = test_data_unscaled[i][:,LOOK_AHEAD:,:]\n",
        "  pred_test_data_output = np.transpose(np.array([scalers[ROI_names[i]][j].inverse_transform(np.hstack([preds[i][:,:,j], preds[i][:,:LOOK_AHEAD,j]])) for j in range(len(scalers[ROI_names[i]]))]), (1,2,0))[:,:-LOOK_AHEAD,:] \n",
        "  for j in range(NUM_TEST_SUBS):\n",
        "    print(f\"{ROI_names[i]} for {j+1}th sub: {np.round(np.trace(np.corrcoef(actual_test_data_output[j,:,:], pred_test_data_output[j,:,:], rowvar=False)[:actual_test_data_output.shape[-1], actual_test_data_output.shape[-1]:])/actual_test_data_output.shape[-1], 2)}\")\n",
        "  print()\n",
        "\n",
        "print(\"***Average across test subjects Correlation Coefficient between predicted and actual BOLD averaged across each Voxel Prediction values for ROIs***\")\n",
        "print()\n",
        "for i in range(len(ROI_names)):\n",
        "  actual_test_data_output = test_data_unscaled[i][:,LOOK_AHEAD:,:]\n",
        "  pred_test_data_output = np.transpose(np.array([scalers[ROI_names[i]][j].inverse_transform(np.hstack([preds[i][:,:,j], preds[i][:,:LOOK_AHEAD,j]])) for j in range(len(scalers[ROI_names[i]]))]), (1,2,0))[:,:-LOOK_AHEAD,:]\n",
        "  sum_r = 0\n",
        "  for j in range(NUM_TEST_SUBS):\n",
        "    sum_r += np.trace(np.corrcoef(actual_test_data_output[j,:,:], pred_test_data_output[j,:,:], rowvar=False)[:actual_test_data_output.shape[-1], actual_test_data_output.shape[-1]:]/actual_test_data_output.shape[-1])\n",
        "  print(f\"{ROI_names[i]}: {np.round(sum_r / NUM_TEST_SUBS, 2)}\")"
      ]
    },
    {
      "cell_type": "code",
      "execution_count": null,
      "metadata": {
        "colab": {
          "background_save": true
        },
        "id": "f8gPew9YMI2B",
        "outputId": "341bec81-38ed-4b28-ddaf-5c09cd65288d"
      },
      "outputs": [
        {
          "name": "stdout",
          "output_type": "stream",
          "text": [
            "***Model's Final Scaled MSE(Train) Loss between predicted and actual all voxel BOLD values for ROIs for the Train Subjects***\n",
            "\n",
            "dmPFC: 0.01146\n",
            "ACC: 0.01033\n",
            "AMY: 0.00705\n",
            "Cau: 0.00781\n",
            "dlPFC: 0.01476\n",
            "INS: 0.006\n",
            "IPL: 0.01733\n",
            "mCC: 0.00895\n",
            "Nac: 0.0073\n",
            "PCC: 0.01111\n",
            "PCG: 0.02016\n",
            "Prec: 0.01122\n",
            "TP: 0.01171\n",
            "Put: 0.00337\n",
            "pSTS: 0.00716\n",
            "VC: 0.02375\n",
            "vlPFC: 0.01064\n",
            "mOFC: 0.01348\n",
            "mPFC: 0.01135\n",
            "lOFC: 0.01297\n",
            "\n",
            "***Model's Final MSE(Validation) Loss between predicted and actual all voxel BOLD values for ROIs for the Test Subjects***\n",
            "\n",
            "dmPFC: 0.00687\n",
            "ACC: 0.00865\n",
            "AMY: 0.00437\n",
            "Cau: 0.0048\n",
            "dlPFC: 0.01199\n",
            "INS: 0.00261\n",
            "IPL: 0.01675\n",
            "mCC: 0.00503\n",
            "Nac: 0.00357\n",
            "PCC: 0.01204\n",
            "PCG: 0.02248\n",
            "Prec: 0.01043\n",
            "TP: 0.00575\n",
            "Put: 0.00114\n",
            "pSTS: 0.00253\n",
            "VC: 0.01935\n",
            "vlPFC: 0.00703\n",
            "mOFC: 0.00753\n",
            "mPFC: 0.00917\n",
            "lOFC: 0.00862\n"
          ]
        }
      ],
      "source": [
        "print(\"***Model's Final Scaled MSE(Train) Loss between predicted and actual all voxel BOLD values for ROIs for the Train Subjects***\")\n",
        "print()\n",
        "for i in range(len(ROI_names)):\n",
        "  print(ROI_names[i]+\":\", np.round(histories[i].history['loss'][-1], 5))\n",
        "print()\n",
        "print(\"***Model's Final MSE(Validation) Loss between predicted and actual all voxel BOLD values for ROIs for the Test Subjects***\")\n",
        "print()\n",
        "for i in range(len(ROI_names)):\n",
        "  print(ROI_names[i]+\":\", np.round(histories[i].history['val_loss'][-1], 5))"
      ]
    },
    {
      "cell_type": "code",
      "execution_count": null,
      "metadata": {
        "colab": {
          "background_save": true
        },
        "id": "EQ3FUO9eY5gO",
        "outputId": "b0764a72-c607-4099-c71c-e8c1fb9c019a"
      },
      "outputs": [
        {
          "name": "stdout",
          "output_type": "stream",
          "text": [
            "***Model's Final MSE(Validation) Loss between predicted and actual all voxel BOLD values for ROIs for the Test Subjects***\n",
            "\n",
            "dmPFC for Each Validation Subject: [49.893085 52.17742  18.104345 18.061422 31.97324  60.675552 28.028637\n",
            " 17.08349  29.624615 53.938736]\n",
            "dmPFC : 35.956055\n",
            "ACC for Each Validation Subject: [38.953804 17.018028 34.32145  17.69365  15.552739 45.76549  33.208725\n",
            " 31.017414 30.076185 16.58875 ]\n",
            "ACC : 28.019623\n",
            "AMY for Each Validation Subject: [26.796818 26.323416 27.937452 20.171064 19.871588 46.350605 18.853071\n",
            " 41.955566 52.616055 23.930025]\n",
            "AMY : 30.480566\n",
            "Cau for Each Validation Subject: [16.085321  9.837248 22.532139 27.765778 24.888994 57.079903  8.066527\n",
            " 24.165607 19.559317  9.812349]\n",
            "Cau : 21.979319\n",
            "dlPFC for Each Validation Subject: [29.783073 25.72864  21.818209 20.849998 45.45795  48.208282 32.52078\n",
            " 30.1858   32.908035 34.709404]\n",
            "dlPFC : 32.21702\n",
            "INS for Each Validation Subject: [ 8.70562    5.725372  10.107117   9.537617   3.7634137  3.5633516\n",
            "  7.691879  11.623642  10.991811   5.5769796]\n",
            "INS : 7.7286806\n",
            "IPL for Each Validation Subject: [40.035614 23.670088 40.957306 78.394554 53.956226 74.20303  47.4405\n",
            " 46.49849  22.80997  31.741762]\n",
            "IPL : 45.970753\n",
            "mCC for Each Validation Subject: [20.933704 13.089826  8.371638 15.342027 17.539227 30.09085  19.236423\n",
            " 31.925922 16.175116 17.945799]\n",
            "mCC : 19.065052\n",
            "Nac for Each Validation Subject: [ 7.994447   5.3031306 10.123474  29.592499  10.149334  20.625957\n",
            "  3.2369611 11.703625   9.752828   5.261453 ]\n",
            "Nac : 11.374372\n",
            "PCC for Each Validation Subject: [70.71774  24.95105  20.796865 14.544326 20.287804 87.485504 26.92654\n",
            " 23.866362 24.120382 29.902983]\n",
            "PCC : 34.359955\n",
            "PCG for Each Validation Subject: [ 88.823326 122.83995   38.18299   97.66412   56.028248 161.22198\n",
            "  97.04658   82.150314 132.48915   67.76367 ]\n",
            "PCG : 94.421036\n",
            "Prec for Each Validation Subject: [ 52.358067  63.903564  21.146662  36.8026    16.600534 120.54042\n",
            "  59.26788   28.4359    30.008572  41.31313 ]\n",
            "Prec : 47.037735\n",
            "TP for Each Validation Subject: [14.075619 20.529898 24.404089 14.072086 39.143368 26.761015 22.303888\n",
            " 28.694113 28.419798 44.709328]\n",
            "TP : 26.31132\n",
            "Put for Each Validation Subject: [ 2.7845573  4.4324093  4.8401628  4.320288   2.0268278 11.54507\n",
            "  5.0667396  4.0090923  3.3275945  7.495395 ]\n",
            "Put : 4.9848137\n",
            "pSTS for Each Validation Subject: [ 9.2891245  5.382097  12.856839   7.1836185 10.387961   5.7505097\n",
            "  9.516997  10.690997   5.3167987 18.239614 ]\n",
            "pSTS : 9.461455\n",
            "VC for Each Validation Subject: [111.879364  91.51679   46.295628  60.854637  87.56007  168.55933\n",
            "  67.40548   65.879875  77.821815  53.901264]\n",
            "VC : 83.16743\n",
            "vlPFC for Each Validation Subject: [27.626623  18.513945   7.0392103 11.010053  42.85644   25.727602\n",
            " 18.606777  16.295437  28.673605   7.5252776]\n",
            "vlPFC : 20.387497\n",
            "mOFC for Each Validation Subject: [12.317136 19.369188 31.630709 20.747786 53.242092 54.932117 19.322891\n",
            " 28.339054 23.321625 21.235296]\n",
            "mOFC : 28.44579\n",
            "mPFC for Each Validation Subject: [ 41.797634  55.898697  53.356277  77.748314  31.756224 220.44295\n",
            "  53.61126   20.949268  61.17656   33.83602 ]\n",
            "mPFC : 65.05732\n",
            "lOFC for Each Validation Subject: [28.062864 29.609568 29.989794 38.082516 23.74575  27.403957 40.00434\n",
            " 13.483664 23.547638 21.341932]\n",
            "lOFC : 27.5272\n"
          ]
        }
      ],
      "source": [
        "print(\"***Model's Final MSE(Validation) Loss between predicted and actual all voxel BOLD values for ROIs for the Test Subjects***\")\n",
        "print()\n",
        "for i in range(len(ROI_names)):\n",
        "  actual_test_data_output = test_data_unscaled[i][:,LOOK_AHEAD:,:]\n",
        "  pred_test_data_output = np.transpose(np.array([scalers[ROI_names[i]][j].inverse_transform(np.hstack([preds[i][:,:,j], preds[i][:,:LOOK_AHEAD,j]])) for j in range(len(scalers[ROI_names[i]]))]), (1,2,0))[:,:-LOOK_AHEAD,:]\n",
        "  print(ROI_names[i]+\" for Each Validation Subject:\", np.mean(tf.keras.losses.mean_squared_error(actual_test_data_output, pred_test_data_output), axis=-1))\n",
        "  print(ROI_names[i]+\" :\", np.mean(np.mean(tf.keras.losses.mean_squared_error(actual_test_data_output, pred_test_data_output), axis=-1)))"
      ]
    },
    {
      "cell_type": "code",
      "execution_count": null,
      "metadata": {
        "id": "vj_dqg--4sG6"
      },
      "outputs": [],
      "source": [
        ""
      ]
    }
  ],
  "metadata": {
    "accelerator": "GPU",
    "colab": {
      "collapsed_sections": [],
      "name": "Basic-LSTM-Model-All-Voxel-5.ipynb",
      "provenance": [],
      "authorship_tag": "ABX9TyOZGUJKZDGfY/EfqwIIEuve"
    },
    "gpuClass": "standard",
    "kernelspec": {
      "display_name": "Python 3",
      "name": "python3"
    },
    "language_info": {
      "name": "python"
    }
  },
  "nbformat": 4,
  "nbformat_minor": 0
}