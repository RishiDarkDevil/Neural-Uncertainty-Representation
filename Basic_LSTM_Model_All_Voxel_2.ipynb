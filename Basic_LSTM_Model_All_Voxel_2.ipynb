{
  "nbformat": 4,
  "nbformat_minor": 0,
  "metadata": {
    "colab": {
      "name": "Basic-LSTM-Model-All-Voxel-2.ipynb",
      "provenance": [],
      "collapsed_sections": [],
      "authorship_tag": "ABX9TyOOb/ecY303NeA9tGobpdXX"
    },
    "kernelspec": {
      "name": "python3",
      "display_name": "Python 3"
    },
    "language_info": {
      "name": "python"
    },
    "gpuClass": "standard",
    "accelerator": "GPU"
  },
  "cells": [
    {
      "cell_type": "markdown",
      "source": [
        "Set Colab to GPU Mode if you are training the models!"
      ],
      "metadata": {
        "id": "rN8VtTibW_kL"
      }
    },
    {
      "cell_type": "markdown",
      "source": [
        "### Mounting Google Drive"
      ],
      "metadata": {
        "id": "ESNkUUOEoS8j"
      }
    },
    {
      "cell_type": "code",
      "execution_count": null,
      "metadata": {
        "id": "GWpiHXuGn6Oy",
        "colab": {
          "base_uri": "https://localhost:8080/"
        },
        "outputId": "c6cac07e-3bf0-4625-d621-868192d6509c"
      },
      "outputs": [
        {
          "output_type": "stream",
          "name": "stdout",
          "text": [
            "Mounted at /content/drive\n"
          ]
        }
      ],
      "source": [
        "from google.colab import drive\n",
        "drive.mount('/content/drive')"
      ]
    },
    {
      "cell_type": "code",
      "source": [
        "cd 'drive/MyDrive/IIT J Summer Internship 2022/Code/Neural-Uncertainty-Representation/'"
      ],
      "metadata": {
        "id": "bpxEP-yeoWPX",
        "colab": {
          "base_uri": "https://localhost:8080/"
        },
        "outputId": "d34431cd-c7b8-4e46-b41b-c79d9cae5382"
      },
      "execution_count": null,
      "outputs": [
        {
          "output_type": "stream",
          "name": "stdout",
          "text": [
            "/content/drive/.shortcut-targets-by-id/1h_oF16bG32l75GPobgHe_9HgdUduLFxT/IIT J Summer Internship 2022/Code/Neural-Uncertainty-Representation\n"
          ]
        }
      ]
    },
    {
      "cell_type": "markdown",
      "source": [
        "### Importing Necessary Libraries\n"
      ],
      "metadata": {
        "id": "Hq9mNRMMomT7"
      }
    },
    {
      "cell_type": "code",
      "source": [
        "import numpy as np\n",
        "import pandas as pd\n",
        "\n",
        "import tensorflow as tf\n",
        "\n",
        "from tensorflow.keras.layers import Dense, Dropout, LSTM, TimeDistributed\n",
        "from tensorflow.keras.models import Sequential\n",
        "from tensorflow.keras.optimizers import Adam\n",
        "\n",
        "from sklearn.preprocessing import MinMaxScaler\n",
        "\n",
        "import matplotlib.pyplot as plt\n",
        "import os"
      ],
      "metadata": {
        "id": "SRXBkwcIogPe"
      },
      "execution_count": null,
      "outputs": []
    },
    {
      "cell_type": "markdown",
      "source": [
        "### Importing Data\n",
        "We import the data of a young subject's 3D-Tensor Data of dimensions (TR, Voxel, Number of Subjects) for the 5 different ROIs as follows:\n",
        "- **Prefrontal areas:** dlPFC, vlPFC, lOFC, dmPFC, mPFC, mOFC\n",
        "- **Default-mode areas:** mPFC, ACC, PCC, Precuneus, mOFC\n",
        "- **Sensory areas:** VC\n",
        "- **Multisensory area:** pSTS\n",
        "- **Some other areas:** TP, IPL, mCC, Put, PCG, Nac, INS\n",
        "\n",
        "\n",
        "\n"
      ],
      "metadata": {
        "id": "_R2-Cetmxned"
      }
    },
    {
      "cell_type": "code",
      "source": [
        "file_names = [name for name in os.listdir('/content/drive/MyDrive/IIT J Summer Internship 2022/Hitchcock/Data/YOUNG/Voxel_BOLD/Numpy') if name.endswith(\"npy\") and (\"(1)\" not in name)]\n",
        "file_names = [name for name in file_names if (\"537\" not in name)]"
      ],
      "metadata": {
        "id": "XUJPFBg1898z"
      },
      "execution_count": null,
      "outputs": []
    },
    {
      "cell_type": "code",
      "source": [
        "ROI_names = [file_name.replace(\"data_\",\"\").replace(\".npy\",\"\") for file_name in file_names]"
      ],
      "metadata": {
        "id": "5lVnzf5N_Ufy"
      },
      "execution_count": null,
      "outputs": []
    },
    {
      "cell_type": "code",
      "source": [
        "data_ori = list()\n",
        "for file_name in file_names:\n",
        "  data_ori.append(np.load('/content/drive/MyDrive/IIT J Summer Internship 2022/Hitchcock/Data/YOUNG/Voxel_BOLD/Numpy/'+file_name))"
      ],
      "metadata": {
        "id": "Kg22rkIGpfP2"
      },
      "execution_count": null,
      "outputs": []
    },
    {
      "cell_type": "markdown",
      "source": [
        "### Data Preparation"
      ],
      "metadata": {
        "id": "Kcaxzm8WDjgO"
      }
    },
    {
      "cell_type": "markdown",
      "source": [
        "Now, here we prepare the data to be fed to the Neural Network Architechtures. We can't predict the time ahead upto which the subjects are predicting correctly so, we will take a bit round about way to predict the BOLD values ahead in time(for several choices of time points e.g. 1 time point ahead, 2 time point ahead, etc) and will compare the results for young and old subjects."
      ],
      "metadata": {
        "id": "K9rJ8CAb97K2"
      }
    },
    {
      "cell_type": "markdown",
      "source": [
        "Right from the starting we decide some of the data preparation parameters, so that we can use them as we require."
      ],
      "metadata": {
        "id": "im3Oqy2ueeEU"
      }
    },
    {
      "cell_type": "code",
      "source": [
        "TRAIN_BATCH_SIZE = 20\n",
        "TEST_BATCH_SIZE = 10\n",
        "LOOK_AHEAD = 1\n",
        "NUM_TEST_SUBS = 10"
      ],
      "metadata": {
        "id": "X1DoZ2Fcec20"
      },
      "execution_count": null,
      "outputs": []
    },
    {
      "cell_type": "markdown",
      "source": [
        "We will avoid doing an average since, all voxels in a ROI is not equally important and hence we will want to predict the BOLD values of several voxels simultaneously."
      ],
      "metadata": {
        "id": "TYuu8ZM2-u9z"
      }
    },
    {
      "cell_type": "code",
      "source": [
        "data = data_ori"
      ],
      "metadata": {
        "id": "pFvaFL69geft"
      },
      "execution_count": null,
      "outputs": []
    },
    {
      "cell_type": "markdown",
      "source": [
        "Let's Start the Data Preparation for lOFC later we will iterate the same procedure for the other ROIs."
      ],
      "metadata": {
        "id": "mY3usMssn3T5"
      }
    },
    {
      "cell_type": "code",
      "source": [
        "print(ROI_names[-1], \"BOLD Shape:\", data[-1].shape)"
      ],
      "metadata": {
        "id": "71dv3Zkcgu3N",
        "colab": {
          "base_uri": "https://localhost:8080/"
        },
        "outputId": "96b40585-6e43-4b13-99fa-1da4a22365bf"
      },
      "execution_count": null,
      "outputs": [
        {
          "output_type": "stream",
          "name": "stdout",
          "text": [
            "lOFC BOLD Shape: (189, 537, 111)\n"
          ]
        }
      ]
    },
    {
      "cell_type": "markdown",
      "source": [
        "Below, we see the BOLD time series plot for all the ROIs."
      ],
      "metadata": {
        "id": "jG7ofnvRczcN"
      }
    },
    {
      "cell_type": "markdown",
      "source": [
        "We have changed the data in the form (Number of Subjects, TR, Voxels) below."
      ],
      "metadata": {
        "id": "-wIOccLpE0d-"
      }
    },
    {
      "cell_type": "code",
      "source": [
        "data = [np.transpose(dat, (2,0,1)) for dat in data]"
      ],
      "metadata": {
        "id": "0pHK54KjDnah"
      },
      "execution_count": null,
      "outputs": []
    },
    {
      "cell_type": "code",
      "source": [
        "print(ROI_names[-1], \"BOLD Shape:\", data[-1].shape)"
      ],
      "metadata": {
        "id": "HRXHJ1cwgrzp",
        "colab": {
          "base_uri": "https://localhost:8080/"
        },
        "outputId": "e7ce2866-42a6-42b3-8e75-3f4b4b644657"
      },
      "execution_count": null,
      "outputs": [
        {
          "output_type": "stream",
          "name": "stdout",
          "text": [
            "lOFC BOLD Shape: (111, 189, 537)\n"
          ]
        }
      ]
    },
    {
      "cell_type": "code",
      "source": [
        "# for i in range(len(data)):  \n",
        "#   plt.figure(figsize=(10, 8))\n",
        "#   plt.plot(data[i][0,:,:])\n",
        "#   plt.title(\"BOLD of 1st Subject for \"+ROI_names[i]+\"'s Voxels\")\n",
        "#   plt.xlabel(\"TRs\")\n",
        "#   plt.ylabel(\"BOLD\")\n",
        "#   plt.savefig(\"./Plots/YOUNG/ALL-BOLD/ALL-BOLD-\"+ROI_names[i]+\".png\")"
      ],
      "metadata": {
        "id": "AseI4ZNeg26E"
      },
      "execution_count": null,
      "outputs": []
    },
    {
      "cell_type": "markdown",
      "source": [
        "We split the dataset of 111 young subjects into 101 subjects in the training data and 10 subject in the test data."
      ],
      "metadata": {
        "id": "gg50q17pp5xQ"
      }
    },
    {
      "cell_type": "code",
      "source": [
        "train_data_unscaled = [dat[:-NUM_TEST_SUBS] for dat in data]\n",
        "test_data_unscaled = [dat[-NUM_TEST_SUBS:] for dat in data]  "
      ],
      "metadata": {
        "id": "hrldyz8XnDlv"
      },
      "execution_count": null,
      "outputs": []
    },
    {
      "cell_type": "markdown",
      "source": [
        "We scaled the BOLD values of each voxel in the train data between 0 and 1 for each voxel. We use the same MinMaxScaler fit on the train data on the test data."
      ],
      "metadata": {
        "id": "MDV7H0sYt6jd"
      }
    },
    {
      "cell_type": "code",
      "source": [
        "scalers = dict() # Stores a list of MinMaxScalers for each ROI, where number of MinMaxScalers is equal to the number of voxels in that ROI\n",
        "for i in range(len(ROI_names)):\n",
        "  scalers[ROI_names[i]] = [MinMaxScaler(feature_range = (0, 1)) for _ in range(data[i].shape[-1])]\n",
        "\n",
        "train_data = [[scalers[ROI_names[j]][i].fit_transform(train_data_unscaled[j][:,:,i]) for i in range(len(scalers[ROI_names[j]]))] for j in range(len(ROI_names))]\n",
        "test_data = [[scalers[ROI_names[j]][i].transform(test_data_unscaled[j][:,:,i]) for i in range(len(scalers[ROI_names[j]]))] for j in range(len(ROI_names))]"
      ],
      "metadata": {
        "id": "-xkJQLj3tORj"
      },
      "execution_count": null,
      "outputs": []
    },
    {
      "cell_type": "code",
      "source": [
        "train_data = [np.transpose(np.array(dat), (1,2,0)) for dat in train_data]\n",
        "test_data = [np.transpose(np.array(dat), (1,2,0)) for dat in test_data]"
      ],
      "metadata": {
        "id": "Ail126iVuR6s"
      },
      "execution_count": null,
      "outputs": []
    },
    {
      "cell_type": "code",
      "source": [
        "print(ROI_names[-1], \"Train Data Shape: \", train_data[-1].shape)\n",
        "print(ROI_names[-1], \"Test Data Shape: \", test_data[-1].shape)"
      ],
      "metadata": {
        "id": "_cOAv_VrnbLU",
        "colab": {
          "base_uri": "https://localhost:8080/"
        },
        "outputId": "f47fea66-e93e-415c-b0c7-b9434d04afc1"
      },
      "execution_count": null,
      "outputs": [
        {
          "output_type": "stream",
          "name": "stdout",
          "text": [
            "lOFC Train Data Shape:  (101, 189, 537)\n",
            "lOFC Test Data Shape:  (10, 189, 537)\n"
          ]
        }
      ]
    },
    {
      "cell_type": "code",
      "source": [
        "# for i in range(len(data)):  \n",
        "#   plt.figure(figsize=(10, 8))\n",
        "#   plt.plot(train_data[i][0,:,:])\n",
        "#   plt.title(\"BOLD of 1st Subject for \"+ROI_names[i]+\"'s Voxels\")\n",
        "#   plt.xlabel(\"TRs\")\n",
        "#   plt.ylabel(\"BOLD[Scaled between 0 and 1]\")\n",
        "#   plt.savefig(\"./Plots/YOUNG/ALL-BOLD/ALL-BOLD-SCALED-\"+ROI_names[i]+\".png\")"
      ],
      "metadata": {
        "id": "YIlJSRX92txN"
      },
      "execution_count": null,
      "outputs": []
    },
    {
      "cell_type": "markdown",
      "source": [
        "We now build a data generator which would produce mini-batches during the training of the neural network."
      ],
      "metadata": {
        "id": "0yjlAwWeiEru"
      }
    },
    {
      "cell_type": "code",
      "source": [
        "class KerasBatchGenerator(object):\n",
        "    def __init__(self, data, num_TRs, batch_size, look_ahead=1):\n",
        "        self.data = data\n",
        "        self.num_TRs = num_TRs\n",
        "        self.batch_size = batch_size\n",
        "        self.current_idx = 0\n",
        "        self.look_ahead = look_ahead\n",
        "\n",
        "    def generate(self):\n",
        "        while True:\n",
        "            if self.current_idx + self.batch_size >= self.data.shape[0]:\n",
        "              self.current_idx = 0\n",
        "            x = self.data[self.current_idx:(self.current_idx+self.batch_size),:(-self.look_ahead),:]\n",
        "            y = self.data[self.current_idx:(self.current_idx+self.batch_size),self.look_ahead:,:]\n",
        "            self.current_idx = self.current_idx + self.batch_size\n",
        "            yield x, y "
      ],
      "metadata": {
        "id": "Blko7LXpgtwA"
      },
      "execution_count": null,
      "outputs": []
    },
    {
      "cell_type": "code",
      "source": [
        "train_data_generator = [KerasBatchGenerator(dat, dat.shape[1], TRAIN_BATCH_SIZE, LOOK_AHEAD) for dat in train_data]\n",
        "test_data_generator = [KerasBatchGenerator(dat, dat.shape[1], TEST_BATCH_SIZE, LOOK_AHEAD) for dat in test_data]"
      ],
      "metadata": {
        "id": "lZN56Eg3mrsc"
      },
      "execution_count": null,
      "outputs": []
    },
    {
      "cell_type": "code",
      "source": [
        "batch_x, batch_y = next(train_data_generator[-1].generate())\n",
        "print(ROI_names[-1], \"Train Batch X Shape: \", batch_x.shape)\n",
        "print(ROI_names[-1], \"Train Batch y Shape: \", batch_y.shape)"
      ],
      "metadata": {
        "colab": {
          "base_uri": "https://localhost:8080/"
        },
        "id": "5UPT6iRxpJ7c",
        "outputId": "eb4a89fc-a34f-4f1b-bbe9-4275be56f42c"
      },
      "execution_count": null,
      "outputs": [
        {
          "output_type": "stream",
          "name": "stdout",
          "text": [
            "lOFC Train Batch X Shape:  (20, 188, 537)\n",
            "lOFC Train Batch y Shape:  (20, 188, 537)\n"
          ]
        }
      ]
    },
    {
      "cell_type": "code",
      "source": [
        "batch_x, batch_y = next(test_data_generator[-1].generate())\n",
        "print(ROI_names[-1], \"Test Batch X Shape: \", batch_x.shape)\n",
        "print(ROI_names[-1], \"Test Batch y Shape: \", batch_y.shape)"
      ],
      "metadata": {
        "colab": {
          "base_uri": "https://localhost:8080/"
        },
        "id": "Clavfro-pSEV",
        "outputId": "22b9868a-278d-4359-ea20-e9d3b1ea11df"
      },
      "execution_count": null,
      "outputs": [
        {
          "output_type": "stream",
          "name": "stdout",
          "text": [
            "lOFC Test Batch X Shape:  (10, 188, 537)\n",
            "lOFC Test Batch y Shape:  (10, 188, 537)\n"
          ]
        }
      ]
    },
    {
      "cell_type": "markdown",
      "source": [
        "### Building Model"
      ],
      "metadata": {
        "id": "31NRewZjqoi1"
      }
    },
    {
      "cell_type": "markdown",
      "source": [
        "We will start off by building a LSTM Model:\n",
        "- `Number of LSTM Layers = 2`\n",
        "- `Number of Dense Layers = 3`\n",
        "- `hidden units = 32`\n",
        "- `dropout = 0.3`"
      ],
      "metadata": {
        "id": "8Ry-jGmHqqx0"
      }
    },
    {
      "cell_type": "code",
      "source": [
        "HIDDEN_UNITS = 32\n",
        "DROPOUT_PROB = 0.3\n",
        "LSTM_LAYERS = 2\n",
        "DENSE_LAYERS = 3"
      ],
      "metadata": {
        "id": "AKDAJkiVgK2n"
      },
      "execution_count": null,
      "outputs": []
    },
    {
      "cell_type": "code",
      "source": [
        "def avg_bold_model(num_voxs):\n",
        "  model = Sequential()\n",
        "  for _ in range(LSTM_LAYERS):\n",
        "    model.add(LSTM(HIDDEN_UNITS, return_sequences=True))\n",
        "  model.add(Dropout(0.3))\n",
        "  for _ in range(DENSE_LAYERS-1):\n",
        "    model.add(TimeDistributed(Dense(HIDDEN_UNITS, activation='relu')))\n",
        "  model.add(TimeDistributed(Dense(num_voxs)))\n",
        "  return model"
      ],
      "metadata": {
        "id": "fqoXwHTTqqCR"
      },
      "execution_count": null,
      "outputs": []
    },
    {
      "cell_type": "code",
      "source": [
        "sample_model = avg_bold_model(batch_x.shape[-1])\n",
        "sample_model.build(input_shape=batch_x.shape)\n",
        "sample_model.summary()"
      ],
      "metadata": {
        "colab": {
          "base_uri": "https://localhost:8080/"
        },
        "id": "nYHgnyz-v5nA",
        "outputId": "b001a753-d6a2-4deb-f750-9b3c69b7aa4c"
      },
      "execution_count": null,
      "outputs": [
        {
          "output_type": "stream",
          "name": "stdout",
          "text": [
            "Model: \"sequential\"\n",
            "_________________________________________________________________\n",
            " Layer (type)                Output Shape              Param #   \n",
            "=================================================================\n",
            " lstm (LSTM)                 (10, 188, 32)             72960     \n",
            "                                                                 \n",
            " lstm_1 (LSTM)               (10, 188, 32)             8320      \n",
            "                                                                 \n",
            " dropout (Dropout)           (10, 188, 32)             0         \n",
            "                                                                 \n",
            " time_distributed (TimeDistr  (10, 188, 32)            1056      \n",
            " ibuted)                                                         \n",
            "                                                                 \n",
            " time_distributed_1 (TimeDis  (10, 188, 32)            1056      \n",
            " tributed)                                                       \n",
            "                                                                 \n",
            " time_distributed_2 (TimeDis  (10, 188, 537)           17721     \n",
            " tributed)                                                       \n",
            "                                                                 \n",
            "=================================================================\n",
            "Total params: 101,113\n",
            "Trainable params: 101,113\n",
            "Non-trainable params: 0\n",
            "_________________________________________________________________\n"
          ]
        }
      ]
    },
    {
      "cell_type": "code",
      "source": [
        "models = [avg_bold_model(train_data[i].shape[-1]) for i in range(len(ROI_names))]"
      ],
      "metadata": {
        "id": "fUZSBnNft2Dl"
      },
      "execution_count": null,
      "outputs": []
    },
    {
      "cell_type": "markdown",
      "source": [
        "#### Training Model"
      ],
      "metadata": {
        "id": "3PRKFwUahAKG"
      }
    },
    {
      "cell_type": "markdown",
      "source": [
        "If you haven't already trained the models then uncomment and train your models which will be saved and will be loaded for inference later."
      ],
      "metadata": {
        "id": "LsHnfCSrhC0g"
      }
    },
    {
      "cell_type": "code",
      "source": [
        "for i in range(len(ROI_names)):\n",
        "  models[i].compile(optimizer = 'adam', loss = 'mean_squared_error')"
      ],
      "metadata": {
        "id": "kf-dFQmfzqTA"
      },
      "execution_count": null,
      "outputs": []
    },
    {
      "cell_type": "code",
      "source": [
        "EPOCHS = 100\n",
        "checkpoint_filepaths = [f\"./Models/YOUNG/LSTM/ALL-BOLD/{name}/model_weights-best-val-loss-{LSTM_LAYERS}L-{HIDDEN_UNITS}H-{DENSE_LAYERS}D-{int(DROPOUT_PROB*10)}Drop-{LOOK_AHEAD}Ahead-{name}\" for name in ROI_names]\n",
        "model_checkpoint_callbacks = [tf.keras.callbacks.ModelCheckpoint(\n",
        "    filepath=checkpoint_filepath,\n",
        "    save_weights_only=True,\n",
        "    monitor = \"val_loss\",\n",
        "    mode='min',\n",
        "    save_best_only=True) for checkpoint_filepath in checkpoint_filepaths]"
      ],
      "metadata": {
        "id": "vcZsfhkz3lCH"
      },
      "execution_count": null,
      "outputs": []
    },
    {
      "cell_type": "code",
      "source": [
        "def plot_train_test_loss(history, model_name, i):  \n",
        "  plt.figure(figsize=(10,10))\n",
        "  plt.plot(history.history['loss'])\n",
        "  plt.plot(history.history['val_loss'])\n",
        "  plt.title(model_name+' loss')\n",
        "  plt.ylabel('loss')\n",
        "  plt.xlabel('epochs')\n",
        "  plt.legend(['train', 'val'], loc='upper left')\n",
        "  plt.savefig(\"./Plots/YOUNG/LSTM/ALL-BOLD/\"+ROI_names[i]+\"/\"+model_name+\"-loss.png\")"
      ],
      "metadata": {
        "id": "wECZbf2i_AH7"
      },
      "execution_count": null,
      "outputs": []
    },
    {
      "cell_type": "code",
      "source": [
        "histories = list()\n",
        "with tf.device('/device:GPU:0'):\n",
        "  for i in range(len(ROI_names)):\n",
        "    history = models[i].fit(\n",
        "                    train_data_generator[i].generate(),\n",
        "                    steps_per_epoch=train_data[i].shape[0]//TRAIN_BATCH_SIZE,\n",
        "                    epochs=EPOCHS,\n",
        "                    validation_data=test_data_generator[i].generate(),\n",
        "                    validation_steps=test_data[i].shape[0]//TEST_BATCH_SIZE,\n",
        "                    callbacks=[model_checkpoint_callbacks[i]]\n",
        "                    )\n",
        "    models[i].save_weights(f\"./Models/YOUNG/LSTM/ALL-BOLD/{ROI_names[i]}/model_weights-{LSTM_LAYERS}L-{HIDDEN_UNITS}H-{DENSE_LAYERS}D-{int(DROPOUT_PROB*10)}Drop-{LOOK_AHEAD}Ahead-{ROI_names[i]}\")\n",
        "    plot_train_test_loss(history, f\"{LSTM_LAYERS}L-{HIDDEN_UNITS}H-{DENSE_LAYERS}D-{int(DROPOUT_PROB*10)}Drop-{LOOK_AHEAD}Ahead-{ROI_names[i]}\", i)\n",
        "    histories.append(history)"
      ],
      "metadata": {
        "id": "AFb-kTLR21hl"
      },
      "execution_count": null,
      "outputs": []
    },
    {
      "cell_type": "code",
      "source": [
        "for i in range(len(ROI_names)):\n",
        "  models[i].load_weights(f\"./Models/YOUNG/LSTM/ALL-BOLD/{ROI_names[i]}/model_weights-{LSTM_LAYERS}L-{HIDDEN_UNITS}H-{DENSE_LAYERS}D-{int(DROPOUT_PROB*10)}Drop-{LOOK_AHEAD}Ahead-{ROI_names[i]}\")"
      ],
      "metadata": {
        "id": "dKvn0145hViW"
      },
      "execution_count": null,
      "outputs": []
    },
    {
      "cell_type": "code",
      "source": [
        "preds = [models[i].predict(next(test_data_generator[i].generate())[0]) for i in range(len(ROI_names))]"
      ],
      "metadata": {
        "id": "7mpQ5Rap6kQ0",
        "colab": {
          "base_uri": "https://localhost:8080/"
        },
        "outputId": "cf537ac8-ea4f-4afd-e0ee-f560371f2b7a"
      },
      "execution_count": null,
      "outputs": [
        {
          "output_type": "stream",
          "name": "stdout",
          "text": [
            "WARNING:tensorflow:5 out of the last 5 calls to <function Model.make_predict_function.<locals>.predict_function at 0x7f23df2c84d0> triggered tf.function retracing. Tracing is expensive and the excessive number of tracings could be due to (1) creating @tf.function repeatedly in a loop, (2) passing tensors with different shapes, (3) passing Python objects instead of tensors. For (1), please define your @tf.function outside of the loop. For (2), @tf.function has experimental_relax_shapes=True option that relaxes argument shapes that can avoid unnecessary retracing. For (3), please refer to https://www.tensorflow.org/guide/function#controlling_retracing and https://www.tensorflow.org/api_docs/python/tf/function for  more details.\n",
            "WARNING:tensorflow:6 out of the last 6 calls to <function Model.make_predict_function.<locals>.predict_function at 0x7f23df0b04d0> triggered tf.function retracing. Tracing is expensive and the excessive number of tracings could be due to (1) creating @tf.function repeatedly in a loop, (2) passing tensors with different shapes, (3) passing Python objects instead of tensors. For (1), please define your @tf.function outside of the loop. For (2), @tf.function has experimental_relax_shapes=True option that relaxes argument shapes that can avoid unnecessary retracing. For (3), please refer to https://www.tensorflow.org/guide/function#controlling_retracing and https://www.tensorflow.org/api_docs/python/tf/function for  more details.\n"
          ]
        }
      ]
    },
    {
      "cell_type": "code",
      "source": [
        "a_TRs = np.array([56, 67, 73, 81, 134, 142, 155, 167, 174, 180])\n",
        "d_TRs = np.array([67, 72, 85, 89, 145, 154, 168, 174, 180, 188])\n",
        "and_TRs = np.union1d(a_TRs, d_TRs)\n",
        "\n",
        "def highlight_and(act, pred):\n",
        "  min_y_list = list()\n",
        "  max_y_list = list()\n",
        "  for i in range(5):\n",
        "    min_y_list.append(np.min(np.concatenate([act[a_TRs[2*i]:d_TRs[2*i+1]], pred[a_TRs[2*i]:d_TRs[2*i+1]]])))\n",
        "    max_y_list.append(np.max(np.concatenate([act[a_TRs[2*i]:d_TRs[2*i+1]], pred[a_TRs[2*i]:d_TRs[2*i+1]]])))\n",
        "    # plt.fill_betweenx(y=[min_y_list[i], max_y_list[i]], x1=a_TRs[2*i], x2=d_TRs[2*i+1], color='gray', alpha=0.1)\n",
        "    plt.fill_betweenx(y=[min_y_list[i], max_y_list[i]], x1=a_TRs[2*i], x2=a_TRs[2*i+1], color='violet', alpha=0.4)\n",
        "    plt.fill_betweenx(y=[min_y_list[i], max_y_list[i]], x1=d_TRs[2*i], x2=d_TRs[2*i+1], color='greenyellow', alpha=0.4)"
      ],
      "metadata": {
        "id": "HeE2zhmXxOge"
      },
      "execution_count": null,
      "outputs": []
    },
    {
      "cell_type": "code",
      "source": [
        "np.random.seed(43)\n",
        "for i in range(len(ROI_names)):\n",
        "  \n",
        "  actual_test_data_output = test_data_unscaled[i][:,LOOK_AHEAD:,:]\n",
        "  pred_test_data_output = np.transpose(np.array([scalers[ROI_names[i]][j].inverse_transform(np.hstack([preds[i][:,:,j], preds[i][:,:LOOK_AHEAD,j]])) for j in range(len(scalers[ROI_names[i]]))]), (1,2,0))[:,:-LOOK_AHEAD,:]\n",
        "  plt.figure(figsize=(24, 18))\n",
        "\n",
        "  for j in range(NUM_TEST_SUBS-1):\n",
        "  \n",
        "    ax = plt.subplot(3, 3, j + 1)\n",
        "    vox_choice = np.random.randint(0, len(scalers[ROI_names[i]]), 5)\n",
        "    plt.plot(np.transpose(actual_test_data_output[j,:, vox_choice]), c='b', label='actual')\n",
        "    plt.plot(np.transpose(pred_test_data_output[j,:, vox_choice]), c='r', ls='--', label='pred')\n",
        "    # highlight_and(actual_test_data_output[j,:], pred_test_data_output[j,:])\n",
        "    plt.xticks(np.concatenate([np.array([0]), and_TRs - LOOK_AHEAD]), np.concatenate([np.array([LOOK_AHEAD]), and_TRs]))\n",
        "    plt.ylabel(\"BOLD\")\n",
        "    plt.xlabel(\"TRs\")\n",
        "    plt.title(f\"All BOLD Preds of {LSTM_LAYERS}L-{HIDDEN_UNITS}H-{DENSE_LAYERS}D-{int(DROPOUT_PROB*10)}Drop-{LOOK_AHEAD}Ahead for {j+1}th Test Sub's {ROI_names[i]}\")\n",
        "    plt.legend()\n",
        "    plt.savefig(f\"./Plots/YOUNG/LSTM/ALL-BOLD/{ROI_names[i]}/{LSTM_LAYERS}L-{HIDDEN_UNITS}H-{DENSE_LAYERS}D-{int(DROPOUT_PROB*10)}Drop-{LOOK_AHEAD}Ahead-Preds.png\")"
      ],
      "metadata": {
        "id": "WBLOHLixAWnk"
      },
      "execution_count": null,
      "outputs": []
    },
    {
      "cell_type": "code",
      "source": [
        "print(\"***Each Test Subject's Correlation Coefficient between predicted and actual BOLD averaged across each Voxel Prediction values for ROIs***\")\n",
        "print()\n",
        "avg_r = list()\n",
        "for i in range(len(ROI_names)):\n",
        "  actual_test_data_output = test_data_unscaled[i][:,LOOK_AHEAD:,:]\n",
        "  pred_test_data_output = np.transpose(np.array([scalers[ROI_names[i]][j].inverse_transform(np.hstack([preds[i][:,:,j], preds[i][:,:LOOK_AHEAD,j]])) for j in range(len(scalers[ROI_names[i]]))]), (1,2,0))[:,:-LOOK_AHEAD,:] \n",
        "  for j in range(NUM_TEST_SUBS):\n",
        "    print(f\"{ROI_names[i]} for {j+1}th sub: {np.round(np.trace(np.corrcoef(actual_test_data_output[j,:,:], pred_test_data_output[j,:,:], rowvar=False)[:actual_test_data_output.shape[-1], actual_test_data_output.shape[-1]:])/actual_test_data_output.shape[-1], 2)}\")\n",
        "  print()\n",
        "\n",
        "print(\"***Average across test subjects Correlation Coefficient between predicted and actual BOLD averaged across each Voxel Prediction values for ROIs***\")\n",
        "print()\n",
        "for i in range(len(ROI_names)):\n",
        "  actual_test_data_output = test_data_unscaled[i][:,LOOK_AHEAD:,:]\n",
        "  pred_test_data_output = np.transpose(np.array([scalers[ROI_names[i]][j].inverse_transform(np.hstack([preds[i][:,:,j], preds[i][:,:LOOK_AHEAD,j]])) for j in range(len(scalers[ROI_names[i]]))]), (1,2,0))[:,:-LOOK_AHEAD,:]\n",
        "  sum_r = 0\n",
        "  for j in range(NUM_TEST_SUBS):\n",
        "    sum_r += np.trace(np.corrcoef(actual_test_data_output[j,:,:], pred_test_data_output[j,:,:], rowvar=False)[:actual_test_data_output.shape[-1], actual_test_data_output.shape[-1]:]/actual_test_data_output.shape[-1])\n",
        "  print(f\"{ROI_names[i]}: {np.round(sum_r / NUM_TEST_SUBS, 2)}\")"
      ],
      "metadata": {
        "colab": {
          "base_uri": "https://localhost:8080/"
        },
        "id": "J8hiJzxcKFuz",
        "outputId": "f09f20d1-0052-4a92-e98d-735294a21ae3"
      },
      "execution_count": null,
      "outputs": [
        {
          "output_type": "stream",
          "name": "stdout",
          "text": [
            "***Each Test Subject's Correlation Coefficient between predicted and actual BOLD averaged across each Voxel Prediction values for ROIs***\n",
            "\n",
            "dmPFC for 1th sub: 0.33\n",
            "dmPFC for 2th sub: 0.43\n",
            "dmPFC for 3th sub: 0.33\n",
            "dmPFC for 4th sub: 0.22\n",
            "dmPFC for 5th sub: 0.17\n",
            "dmPFC for 6th sub: 0.4\n",
            "dmPFC for 7th sub: 0.16\n",
            "dmPFC for 8th sub: 0.31\n",
            "dmPFC for 9th sub: 0.42\n",
            "dmPFC for 10th sub: 0.27\n",
            "\n",
            "ACC for 1th sub: 0.22\n",
            "ACC for 2th sub: 0.33\n",
            "ACC for 3th sub: 0.18\n",
            "ACC for 4th sub: 0.17\n",
            "ACC for 5th sub: 0.11\n",
            "ACC for 6th sub: 0.26\n",
            "ACC for 7th sub: 0.15\n",
            "ACC for 8th sub: 0.47\n",
            "ACC for 9th sub: 0.21\n",
            "ACC for 10th sub: 0.29\n",
            "\n",
            "AMY for 1th sub: 0.32\n",
            "AMY for 2th sub: 0.31\n",
            "AMY for 3th sub: 0.54\n",
            "AMY for 4th sub: 0.19\n",
            "AMY for 5th sub: 0.17\n",
            "AMY for 6th sub: 0.41\n",
            "AMY for 7th sub: 0.15\n",
            "AMY for 8th sub: 0.58\n",
            "AMY for 9th sub: 0.23\n",
            "AMY for 10th sub: 0.05\n",
            "\n",
            "Cau for 1th sub: 0.18\n",
            "Cau for 2th sub: 0.55\n",
            "Cau for 3th sub: 0.27\n",
            "Cau for 4th sub: 0.14\n",
            "Cau for 5th sub: 0.41\n",
            "Cau for 6th sub: 0.13\n",
            "Cau for 7th sub: 0.08\n",
            "Cau for 8th sub: 0.28\n",
            "Cau for 9th sub: 0.55\n",
            "Cau for 10th sub: 0.33\n",
            "\n",
            "dlPFC for 1th sub: 0.32\n",
            "dlPFC for 2th sub: 0.24\n",
            "dlPFC for 3th sub: 0.38\n",
            "dlPFC for 4th sub: 0.28\n",
            "dlPFC for 5th sub: 0.28\n",
            "dlPFC for 6th sub: 0.13\n",
            "dlPFC for 7th sub: 0.27\n",
            "dlPFC for 8th sub: 0.17\n",
            "dlPFC for 9th sub: 0.33\n",
            "dlPFC for 10th sub: 0.33\n",
            "\n",
            "INS for 1th sub: 0.3\n",
            "INS for 2th sub: 0.73\n",
            "INS for 3th sub: 0.51\n",
            "INS for 4th sub: 0.53\n",
            "INS for 5th sub: 0.21\n",
            "INS for 6th sub: 0.49\n",
            "INS for 7th sub: 0.3\n",
            "INS for 8th sub: 0.44\n",
            "INS for 9th sub: 0.24\n",
            "INS for 10th sub: 0.45\n",
            "\n",
            "IPL for 1th sub: 0.37\n",
            "IPL for 2th sub: 0.31\n",
            "IPL for 3th sub: 0.45\n",
            "IPL for 4th sub: 0.45\n",
            "IPL for 5th sub: 0.39\n",
            "IPL for 6th sub: 0.23\n",
            "IPL for 7th sub: 0.41\n",
            "IPL for 8th sub: 0.55\n",
            "IPL for 9th sub: 0.34\n",
            "IPL for 10th sub: 0.36\n",
            "\n",
            "mCC for 1th sub: 0.2\n",
            "mCC for 2th sub: 0.07\n",
            "mCC for 3th sub: 0.34\n",
            "mCC for 4th sub: 0.13\n",
            "mCC for 5th sub: 0.24\n",
            "mCC for 6th sub: 0.72\n",
            "mCC for 7th sub: 0.13\n",
            "mCC for 8th sub: 0.32\n",
            "mCC for 9th sub: 0.19\n",
            "mCC for 10th sub: 0.2\n",
            "\n",
            "Nac for 1th sub: 0.21\n",
            "Nac for 2th sub: 0.35\n",
            "Nac for 3th sub: 0.27\n",
            "Nac for 4th sub: 0.29\n",
            "Nac for 5th sub: 0.3\n",
            "Nac for 6th sub: 0.14\n",
            "Nac for 7th sub: 0.16\n",
            "Nac for 8th sub: 0.32\n",
            "Nac for 9th sub: 0.67\n",
            "Nac for 10th sub: 0.23\n",
            "\n",
            "PCC for 1th sub: 0.34\n",
            "PCC for 2th sub: 0.34\n",
            "PCC for 3th sub: 0.48\n",
            "PCC for 4th sub: 0.39\n",
            "PCC for 5th sub: 0.19\n",
            "PCC for 6th sub: 0.56\n",
            "PCC for 7th sub: 0.24\n",
            "PCC for 8th sub: 0.55\n",
            "PCC for 9th sub: 0.17\n",
            "PCC for 10th sub: 0.29\n",
            "\n",
            "PCG for 1th sub: -0.09\n",
            "PCG for 2th sub: 0.12\n",
            "PCG for 3th sub: 0.11\n",
            "PCG for 4th sub: 0.01\n",
            "PCG for 5th sub: 0.0\n",
            "PCG for 6th sub: -0.19\n",
            "PCG for 7th sub: -0.05\n",
            "PCG for 8th sub: 0.22\n",
            "PCG for 9th sub: 0.04\n",
            "PCG for 10th sub: -0.06\n",
            "\n",
            "Prec for 1th sub: 0.38\n",
            "Prec for 2th sub: 0.35\n",
            "Prec for 3th sub: 0.5\n",
            "Prec for 4th sub: 0.35\n",
            "Prec for 5th sub: 0.29\n",
            "Prec for 6th sub: 0.53\n",
            "Prec for 7th sub: 0.35\n",
            "Prec for 8th sub: 0.55\n",
            "Prec for 9th sub: 0.31\n",
            "Prec for 10th sub: 0.43\n",
            "\n",
            "TP for 1th sub: 0.55\n",
            "TP for 2th sub: 0.33\n",
            "TP for 3th sub: 0.55\n",
            "TP for 4th sub: 0.42\n",
            "TP for 5th sub: 0.67\n",
            "TP for 6th sub: 0.31\n",
            "TP for 7th sub: 0.38\n",
            "TP for 8th sub: 0.77\n",
            "TP for 9th sub: 0.62\n",
            "TP for 10th sub: 0.62\n",
            "\n",
            "Put for 1th sub: 0.28\n",
            "Put for 2th sub: 0.14\n",
            "Put for 3th sub: 0.57\n",
            "Put for 4th sub: 0.02\n",
            "Put for 5th sub: 0.27\n",
            "Put for 6th sub: 0.2\n",
            "Put for 7th sub: 0.11\n",
            "Put for 8th sub: 0.52\n",
            "Put for 9th sub: 0.33\n",
            "Put for 10th sub: 0.16\n",
            "\n",
            "pSTS for 1th sub: 0.51\n",
            "pSTS for 2th sub: 0.45\n",
            "pSTS for 3th sub: 0.63\n",
            "pSTS for 4th sub: 0.44\n",
            "pSTS for 5th sub: 0.38\n",
            "pSTS for 6th sub: 0.58\n",
            "pSTS for 7th sub: 0.37\n",
            "pSTS for 8th sub: 0.59\n",
            "pSTS for 9th sub: 0.32\n",
            "pSTS for 10th sub: 0.43\n",
            "\n",
            "VC for 1th sub: 0.25\n",
            "VC for 2th sub: 0.22\n",
            "VC for 3th sub: 0.33\n",
            "VC for 4th sub: 0.38\n",
            "VC for 5th sub: 0.31\n",
            "VC for 6th sub: 0.43\n",
            "VC for 7th sub: 0.17\n",
            "VC for 8th sub: 0.42\n",
            "VC for 9th sub: 0.2\n",
            "VC for 10th sub: 0.26\n",
            "\n",
            "vlPFC for 1th sub: 0.37\n",
            "vlPFC for 2th sub: 0.33\n",
            "vlPFC for 3th sub: 0.58\n",
            "vlPFC for 4th sub: 0.49\n",
            "vlPFC for 5th sub: 0.29\n",
            "vlPFC for 6th sub: 0.26\n",
            "vlPFC for 7th sub: 0.38\n",
            "vlPFC for 8th sub: 0.42\n",
            "vlPFC for 9th sub: 0.47\n",
            "vlPFC for 10th sub: 0.29\n",
            "\n",
            "mOFC for 1th sub: 0.27\n",
            "mOFC for 2th sub: 0.25\n",
            "mOFC for 3th sub: 0.25\n",
            "mOFC for 4th sub: 0.74\n",
            "mOFC for 5th sub: 0.3\n",
            "mOFC for 6th sub: 0.46\n",
            "mOFC for 7th sub: 0.08\n",
            "mOFC for 8th sub: 0.66\n",
            "mOFC for 9th sub: 0.77\n",
            "mOFC for 10th sub: 0.34\n",
            "\n",
            "mPFC for 1th sub: 0.36\n",
            "mPFC for 2th sub: 0.06\n",
            "mPFC for 3th sub: 0.17\n",
            "mPFC for 4th sub: 0.43\n",
            "mPFC for 5th sub: 0.22\n",
            "mPFC for 6th sub: 0.09\n",
            "mPFC for 7th sub: 0.14\n",
            "mPFC for 8th sub: 0.75\n",
            "mPFC for 9th sub: 0.34\n",
            "mPFC for 10th sub: 0.33\n",
            "\n",
            "lOFC for 1th sub: 0.37\n",
            "lOFC for 2th sub: 0.21\n",
            "lOFC for 3th sub: 0.34\n",
            "lOFC for 4th sub: 0.68\n",
            "lOFC for 5th sub: 0.28\n",
            "lOFC for 6th sub: 0.05\n",
            "lOFC for 7th sub: 0.18\n",
            "lOFC for 8th sub: 0.58\n",
            "lOFC for 9th sub: 0.67\n",
            "lOFC for 10th sub: 0.15\n",
            "\n",
            "***Average across test subjects Correlation Coefficient between predicted and actual BOLD averaged across each Voxel Prediction values for ROIs***\n",
            "\n",
            "dmPFC: 0.3\n",
            "ACC: 0.24\n",
            "AMY: 0.29\n",
            "Cau: 0.29\n",
            "dlPFC: 0.27\n",
            "INS: 0.42\n",
            "IPL: 0.39\n",
            "mCC: 0.25\n",
            "Nac: 0.3\n",
            "PCC: 0.35\n",
            "PCG: 0.01\n",
            "Prec: 0.4\n",
            "TP: 0.52\n",
            "Put: 0.26\n",
            "pSTS: 0.47\n",
            "VC: 0.3\n",
            "vlPFC: 0.39\n",
            "mOFC: 0.41\n",
            "mPFC: 0.29\n",
            "lOFC: 0.35\n"
          ]
        }
      ]
    },
    {
      "cell_type": "code",
      "source": [
        "print(\"***Model's Final Scaled MSE(Train) Loss between predicted and actual all voxel BOLD values for ROIs for the Train Subjects***\")\n",
        "print()\n",
        "for i in range(len(ROI_names)):\n",
        "  print(ROI_names[i]+\":\", np.round(histories[i].history['loss'][-1], 5))\n",
        "print()\n",
        "print(\"***Model's Final MSE(Validation) Loss between predicted and actual all voxel BOLD values for ROIs for the Test Subjects***\")\n",
        "print()\n",
        "for i in range(len(ROI_names)):\n",
        "  print(ROI_names[i]+\":\", np.round(histories[i].history['val_loss'][-1], 5))"
      ],
      "metadata": {
        "id": "f8gPew9YMI2B",
        "colab": {
          "base_uri": "https://localhost:8080/"
        },
        "outputId": "1338c9d8-aa10-48a7-edaa-374a99f39cf1"
      },
      "execution_count": null,
      "outputs": [
        {
          "output_type": "stream",
          "name": "stdout",
          "text": [
            "***Model's Final Scaled MSE(Train) Loss between predicted and actual all voxel BOLD values for ROIs for the Train Subjects***\n",
            "\n",
            "dmPFC: 0.00648\n",
            "ACC: 0.00795\n",
            "AMY: 0.00496\n",
            "Cau: 0.00412\n",
            "dlPFC: 0.01055\n",
            "INS: 0.00263\n",
            "IPL: 0.01255\n",
            "mCC: 0.00459\n",
            "Nac: 0.00318\n",
            "PCC: 0.00682\n",
            "PCG: 0.0175\n",
            "Prec: 0.0089\n",
            "TP: 0.00727\n",
            "Put: 0.00135\n",
            "pSTS: 0.00319\n",
            "VC: 0.02249\n",
            "vlPFC: 0.00638\n",
            "mOFC: 0.00775\n",
            "mPFC: 0.00525\n",
            "lOFC: 0.00797\n",
            "\n",
            "***Model's Final MSE(Validation) Loss between predicted and actual all voxel BOLD values for ROIs for the Test Subjects***\n",
            "\n",
            "dmPFC: 0.007\n",
            "ACC: 0.0133\n",
            "AMY: 0.00495\n",
            "Cau: 0.00552\n",
            "dlPFC: 0.01266\n",
            "INS: 0.00277\n",
            "IPL: 0.01803\n",
            "mCC: 0.00394\n",
            "Nac: 0.00611\n",
            "PCC: 0.01097\n",
            "PCG: 0.02823\n",
            "Prec: 0.01104\n",
            "TP: 0.0069\n",
            "Put: 0.00158\n",
            "pSTS: 0.00444\n",
            "VC: 0.02346\n",
            "vlPFC: 0.0068\n",
            "mOFC: 0.00947\n",
            "mPFC: 0.00747\n",
            "lOFC: 0.0085\n"
          ]
        }
      ]
    },
    {
      "cell_type": "code",
      "source": [
        "print(\"***Model's Final MSE(Validation) Loss between predicted and actual all voxel BOLD values for ROIs for the Test Subjects***\")\n",
        "print()\n",
        "for i in range(len(ROI_names)):\n",
        "  actual_test_data_output = test_data_unscaled[i][:,LOOK_AHEAD:,:]\n",
        "  pred_test_data_output = np.transpose(np.array([scalers[ROI_names[i]][j].inverse_transform(np.hstack([preds[i][:,:,j], preds[i][:,:LOOK_AHEAD,j]])) for j in range(len(scalers[ROI_names[i]]))]), (1,2,0))[:,:-LOOK_AHEAD,:]\n",
        "  print(ROI_names[i]+\" for Each Validation Subject:\", np.mean(tf.keras.losses.mean_squared_error(actual_test_data_output, pred_test_data_output), axis=-1))\n",
        "  print(ROI_names[i]+\" :\", np.mean(np.mean(tf.keras.losses.mean_squared_error(actual_test_data_output, pred_test_data_output), axis=-1)))"
      ],
      "metadata": {
        "colab": {
          "base_uri": "https://localhost:8080/"
        },
        "id": "EQ3FUO9eY5gO",
        "outputId": "6eed052d-0e80-4d3d-838d-14ea0cbe2fcc"
      },
      "execution_count": null,
      "outputs": [
        {
          "output_type": "stream",
          "name": "stdout",
          "text": [
            "***Model's Final MSE(Validation) Loss between predicted and actual all voxel BOLD values for ROIs for the Test Subjects***\n",
            "\n",
            "dmPFC for Each Validation Subject: [39.945957 53.72088  36.892982 14.430721 26.234442 64.38253  28.646412\n",
            " 17.565014 31.298134 54.807907]\n",
            "dmPFC : 36.7925\n",
            "ACC for Each Validation Subject: [57.76475  36.249393 41.685425 27.984488 20.255104 74.364975 43.553204\n",
            " 71.417404 48.060257 29.758963]\n",
            "ACC : 45.109398\n",
            "AMY for Each Validation Subject: [22.421429 30.388685 31.34182  16.118916 16.678267 52.581253 32.531025\n",
            " 52.340206 56.39702  24.942583]\n",
            "AMY : 33.57412\n",
            "Cau for Each Validation Subject: [16.44557  21.173342 21.311941 26.760471 29.003258 48.837532 10.467337\n",
            " 46.615856 21.599394 20.779112]\n",
            "Cau : 26.299381\n",
            "dlPFC for Each Validation Subject: [36.40189  28.07401  23.718325 23.492401 45.859997 44.238358 39.129246\n",
            " 28.570793 32.419205 39.507366]\n",
            "dlPFC : 34.14116\n",
            "INS for Each Validation Subject: [10.218868   5.0111094  8.405866   8.685158   4.4653125  7.875697\n",
            "  9.710848   7.641625  11.373226   7.827258 ]\n",
            "INS : 8.121496\n",
            "IPL for Each Validation Subject: [43.676643 29.344618 39.051785 84.724815 58.267075 96.57195  48.533257\n",
            " 36.651543 22.788158 46.365818]\n",
            "IPL : 50.59756\n",
            "mCC for Each Validation Subject: [ 8.802967 11.83166   8.878998 16.182396 13.919254 17.34675  16.242468\n",
            " 26.315908  9.70765  18.033934]\n",
            "mCC : 14.726199\n",
            "Nac for Each Validation Subject: [11.362936  15.157873  11.298472  35.103657  13.388212  31.954618\n",
            "  3.5006652 40.870144  10.970977  18.018179 ]\n",
            "Nac : 19.162573\n",
            "PCC for Each Validation Subject: [57.791203 20.98537  18.87311  11.862219 25.159445 87.49011  25.875078\n",
            " 16.509237 25.803347 26.994276]\n",
            "PCC : 31.734339\n",
            "PCG for Each Validation Subject: [108.624405 124.002556  60.038616  89.628365  87.987785 205.46397\n",
            " 128.84695   77.779106 155.94197  120.3606  ]\n",
            "PCG : 115.86743\n",
            "Prec for Each Validation Subject: [ 51.12738   64.27182   27.553522  41.19828   19.531178 113.59013\n",
            "  63.80688   46.079746  32.96613   42.486015]\n",
            "Prec : 50.26111\n",
            "TP for Each Validation Subject: [19.346367 23.009974 20.49958  14.797963 39.30728  34.41326  25.844753\n",
            " 41.79613  30.60139  56.868973]\n",
            "TP : 30.648565\n",
            "Put for Each Validation Subject: [ 3.5174384  5.461753   5.4499745  5.4111047  4.072444  12.950164\n",
            "  5.923205  11.696322   3.8295133 10.763538 ]\n",
            "Put : 6.9075456\n",
            "pSTS for Each Validation Subject: [12.170238  8.213671 14.138259 25.025476 14.617198 13.3252   10.632997\n",
            " 22.670168  7.631493 38.346264]\n",
            "pSTS : 16.677097\n",
            "VC for Each Validation Subject: [151.4215    79.504875  59.771168  75.92042  129.86879  193.02034\n",
            "  64.11352   81.14372   86.19801   84.031685]\n",
            "VC : 100.4994\n",
            "vlPFC for Each Validation Subject: [22.050488 14.851588  6.215106 11.763661 42.504337 30.26735  17.634146\n",
            " 20.417002 22.624823  9.242953]\n",
            "vlPFC : 19.757145\n",
            "mOFC for Each Validation Subject: [16.893467 24.551504 37.151035 23.510252 56.012653 66.766754 29.431435\n",
            " 44.879734 21.779066 31.477165]\n",
            "mOFC : 35.245308\n",
            "mPFC for Each Validation Subject: [ 32.671276  37.26989  106.387505  56.168915  29.238    112.81648\n",
            "  44.274445  16.712759  54.603245  16.308184]\n",
            "mPFC : 50.645073\n",
            "lOFC for Each Validation Subject: [24.370913 25.697462 33.209187 39.809113 19.334272 28.657856 35.90212\n",
            " 16.06081  23.7912   25.97505 ]\n",
            "lOFC : 27.280796\n"
          ]
        }
      ]
    }
  ]
}