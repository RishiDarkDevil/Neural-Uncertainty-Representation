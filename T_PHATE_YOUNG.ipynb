{
  "cells": [
    {
      "cell_type": "markdown",
      "source": [
        "### Mounting Google Drive"
      ],
      "metadata": {
        "id": "I-YamcGilsGa"
      },
      "id": "I-YamcGilsGa"
    },
    {
      "cell_type": "code",
      "source": [
        "from google.colab import drive\n",
        "drive.mount('/content/drive')"
      ],
      "metadata": {
        "id": "NetB0WaAlrhn"
      },
      "id": "NetB0WaAlrhn",
      "execution_count": null,
      "outputs": []
    },
    {
      "cell_type": "code",
      "source": [
        "cd 'drive/Othercomputers/My Laptop (1)/MY COLLEGE/ISI KOLKATA/PROJECTS/IIT J Summer Internship 2022/Code/Neural-Uncertainty-Representation/'"
      ],
      "metadata": {
        "id": "ztGEGtA2l0vb"
      },
      "id": "ztGEGtA2l0vb",
      "execution_count": null,
      "outputs": []
    },
    {
      "cell_type": "markdown",
      "id": "af2c797e",
      "metadata": {
        "id": "af2c797e"
      },
      "source": [
        "### Importing necessary libraries"
      ]
    },
    {
      "cell_type": "code",
      "source": [
        "!pip install phate\n",
        "!pip install scprep"
      ],
      "metadata": {
        "id": "S5LezeiKXrm2"
      },
      "id": "S5LezeiKXrm2",
      "execution_count": 4,
      "outputs": []
    },
    {
      "cell_type": "code",
      "execution_count": 5,
      "id": "a1aad3f6",
      "metadata": {
        "id": "a1aad3f6"
      },
      "outputs": [],
      "source": [
        "import numpy as np\n",
        "import phate as ph\n",
        "import pandas as pd\n",
        "import scprep as scp\n",
        "import matplotlib.pyplot as plt\n",
        "\n",
        "import os"
      ]
    },
    {
      "cell_type": "code",
      "source": [
        "import TPHATE # Temporal PHATE\n",
        "# 2 Modifications over Vanilla PHATE(Check https://github.com/KrishnaswamyLab/PHATE):\n",
        "# (a) Calculation of Temporal Affinity Matrix\n",
        "# (b) Changing the inputs of the Vanilla PHATE class to take the above matrix as input\n",
        "# (c) Calculation of the Resultant Diffusion Operator as the product of the Vanilla PHATE Diffusion Operator and Temporal Affinity Matrix"
      ],
      "metadata": {
        "id": "4Wc3Fiauj7YG"
      },
      "id": "4Wc3Fiauj7YG",
      "execution_count": 6,
      "outputs": []
    },
    {
      "cell_type": "markdown",
      "id": "8285fc63",
      "metadata": {
        "id": "8285fc63"
      },
      "source": [
        "### Importing Data"
      ]
    },
    {
      "cell_type": "markdown",
      "id": "65da5d62",
      "metadata": {
        "id": "65da5d62"
      },
      "source": [
        "We import the data of a young subject's 3D-Tensor Data of dimensions (TR, Voxel, Number of Subjects) for the 5 different ROIs as follows:\n",
        "- **Prefrontal areas:** dlPFC, vlPFC, lOFC, dmPFC, mPFC, mOFC\n",
        "- **Default-mode areas:** mPFC, ACC, PCC, Precuneus, mOFC\n",
        "- **Sensory areas:** VC\n",
        "- **Multisensory area:** pSTS\n",
        "- **Some other areas:** TP, IPL, mCC, Put, PCG, Nac, INS\n",
        "\n"
      ]
    },
    {
      "cell_type": "code",
      "source": [
        "file_names = [name for name in os.listdir('/content/drive/Othercomputers/My Laptop (1)/MY COLLEGE/ISI KOLKATA/PROJECTS/IIT J Summer Internship 2022/Hitchcock/Data/YOUNG/Voxel_BOLD/Numpy') if name.endswith(\"npy\") and (\"537\" not in name) and (\"(1)\" not in name)]"
      ],
      "metadata": {
        "id": "rP2kSsucuAST"
      },
      "id": "rP2kSsucuAST",
      "execution_count": 7,
      "outputs": []
    },
    {
      "cell_type": "code",
      "source": [
        "file_names"
      ],
      "metadata": {
        "colab": {
          "base_uri": "https://localhost:8080/"
        },
        "id": "N5UPOQM0rcM6",
        "outputId": "a1fbab6c-6450-445c-98e0-a31437ca78e1"
      },
      "id": "N5UPOQM0rcM6",
      "execution_count": 8,
      "outputs": [
        {
          "output_type": "execute_result",
          "data": {
            "text/plain": [
              "['data_mOFC.npy',\n",
              " 'data_mPFC.npy',\n",
              " 'data_dmPFC.npy',\n",
              " 'data_lOFC.npy',\n",
              " 'data_ACC.npy',\n",
              " 'data_AMY.npy',\n",
              " 'data_Cau.npy',\n",
              " 'data_dlPFC.npy',\n",
              " 'data_INS.npy',\n",
              " 'data_IPL.npy',\n",
              " 'data_mCC.npy',\n",
              " 'data_Nac.npy',\n",
              " 'data_PCC.npy',\n",
              " 'data_PCG.npy',\n",
              " 'data_Prec.npy',\n",
              " 'data_TP.npy',\n",
              " 'data_Put.npy',\n",
              " 'data_pSTS.npy',\n",
              " 'data_VC.npy',\n",
              " 'data_vlPFC.npy']"
            ]
          },
          "metadata": {},
          "execution_count": 8
        }
      ]
    },
    {
      "cell_type": "code",
      "execution_count": 9,
      "id": "454ff34a",
      "metadata": {
        "id": "454ff34a"
      },
      "outputs": [],
      "source": [
        "data = list()\n",
        "for file_name in file_names:\n",
        "  data.append(np.load('/content/drive/Othercomputers/My Laptop (1)/MY COLLEGE/ISI KOLKATA/PROJECTS/IIT J Summer Internship 2022/Hitchcock/Data/YOUNG/Voxel_BOLD/Numpy/'+file_name))"
      ]
    },
    {
      "cell_type": "markdown",
      "source": [
        "We now find the BOLD data for all voxel and all the TRs averaged over the subjects."
      ],
      "metadata": {
        "id": "sdRd2TaWoAnl"
      },
      "id": "sdRd2TaWoAnl"
    },
    {
      "cell_type": "code",
      "source": [
        "data_avg = [np.mean(dat, axis=2) for dat in data]"
      ],
      "metadata": {
        "id": "ibYpkmuYmDD2"
      },
      "id": "ibYpkmuYmDD2",
      "execution_count": 10,
      "outputs": []
    },
    {
      "cell_type": "code",
      "source": [
        "data_avg[-1].shape"
      ],
      "metadata": {
        "colab": {
          "base_uri": "https://localhost:8080/"
        },
        "id": "qLPXTE6Kma6-",
        "outputId": "e338010b-27a4-44b7-e124-714c32e73795"
      },
      "id": "qLPXTE6Kma6-",
      "execution_count": 11,
      "outputs": [
        {
          "output_type": "execute_result",
          "data": {
            "text/plain": [
              "(189, 515)"
            ]
          },
          "metadata": {},
          "execution_count": 11
        }
      ]
    },
    {
      "cell_type": "markdown",
      "source": [
        "### T-PHATE Representation"
      ],
      "metadata": {
        "id": "M0Ul3reUoJTU"
      },
      "id": "M0Ul3reUoJTU"
    },
    {
      "cell_type": "markdown",
      "source": [
        "Here we apply Temporal PHATE Algorithm on the average young subjects BOLD data for each ROI. It differs from the Vanilla PHATE in the following way:\n",
        "- Temporal Affinity Probability Matrix is calculated by:\n",
        "  - Estimating the Autocorrelation Function for each voxel's Time Series with lags $0, 1, \\dots, TR_{final}-1$.\n",
        "  - Averaging the Autocorrelation Function($acf$) over the voxels.\n",
        "  - Finding the first position(lag), where the $acf$ is $0$. Take this as $lag_{max}$.\n",
        "  - Form the Affinity Matrix as $A$, where $A(i,j) = acf(i,j)$, whenever $0<|i-j|\\leq lag_{max}$ and $0$ o.w.\n",
        "  - Row-Normalize $A$ to obtain the Temporal Affinity Probability Matrix $P_T$\n",
        "- Modifying the Diffusion Operator($P_D$) of the Vanilla PHATE to take into account the $P_T$ matrix by:\n",
        "  - Modified Diffusion Operator = $P_D\\cdot P_T$\n",
        "- Carrying on the same operations as in Vanilla PHATE.\n",
        "\n",
        "Disclaimer:\n",
        "- The $acf$ function is not smoothed and the $lag_{max}$ is the first value of lag where the $acf$ drops below 0.\n",
        "- $acf(i,j) = acf(lag=|i-j|)$ i.e. by assumption of stationary time series."
      ],
      "metadata": {
        "id": "e04oZkSQp0cO"
      },
      "id": "e04oZkSQp0cO"
    },
    {
      "cell_type": "code",
      "source": [
        "def phate_rep(data):\n",
        "  # We find the temporal affinity matrix --- The Last Function in the TPHATE.py File\n",
        "  P_T = TPHATE.temporal_affinity_matrix(data)\n",
        "\n",
        "  # We now instantiate the PHATE operator(matrix)/object of the PHATE class\n",
        "  phate_op = TPHATE.PHATE(P_T, random_state=43, verbose=0)\n",
        "  # PHATE requires Voxel x TR Data\n",
        "  phate_embd =  phate_op.fit_transform(data)\n",
        "\n",
        "  return phate_embd"
      ],
      "metadata": {
        "id": "3-_ao_cFHNKh"
      },
      "id": "3-_ao_cFHNKh",
      "execution_count": 13,
      "outputs": []
    },
    {
      "cell_type": "code",
      "source": [
        "phate_embd = [phate_rep(data) for data in data_avg]"
      ],
      "metadata": {
        "id": "FMSa5kjXHVfK"
      },
      "id": "FMSa5kjXHVfK",
      "execution_count": 14,
      "outputs": []
    },
    {
      "cell_type": "code",
      "source": [
        "def plot_phate_rep(embd, c, ax=None, title=\"\", legend_title=\"\", save_file_name=None):\n",
        "  scp.plot.scatter2d(embd, ax=ax,  c = c, label_prefix='T-PHATE ', title=title, legend_title=legend_title, figsize=(10, 8), filename=save_file_name)"
      ],
      "metadata": {
        "id": "hs-ELK7RT7gE"
      },
      "id": "hs-ELK7RT7gE",
      "execution_count": null,
      "outputs": []
    },
    {
      "cell_type": "code",
      "source": [
        "import warnings\n",
        "warnings.filterwarnings('ignore')"
      ],
      "metadata": {
        "id": "irhSt0xl3run"
      },
      "id": "irhSt0xl3run",
      "execution_count": 21,
      "outputs": []
    },
    {
      "cell_type": "code",
      "source": [
        "ROI_names = [file_name.replace(\"data_\",\"\").replace(\".npy\",\"\") for file_name in file_names]"
      ],
      "metadata": {
        "id": "8AxK46HxUD2N"
      },
      "id": "8AxK46HxUD2N",
      "execution_count": 22,
      "outputs": []
    },
    {
      "cell_type": "code",
      "source": [
        "for name, embd in zip(ROI_names, phate_embd):\n",
        "  plot_phate_rep(embd, list(range(data.shape[0])), None, \"T-PHATE Represenation of \"+ name, \"TRs\", \"Plots/PHATE2-v-PHATE1-\"+name+\".png\")"
      ],
      "metadata": {
        "id": "5dCYupBmZvp3"
      },
      "id": "5dCYupBmZvp3",
      "execution_count": null,
      "outputs": []
    },
    {
      "cell_type": "markdown",
      "source": [
        "I have color coded each set of Ascent and Descent below, i.e.\n",
        "- 0 indicates those TRs which are neither ascent and descent. \n",
        "- 1 indicates those TRs which are in A1 and D1.\n",
        "- 2 indicates those TRs which are in A2 and D2.\n",
        "- 3 indicates those TRs which are in A3 and D3.\n",
        "- 4 indicates those TRs which are in A4 and A4\n",
        "- 5 indicates those TRs wiich are in A5 and D5."
      ],
      "metadata": {
        "id": "wthszwXHoajn"
      },
      "id": "wthszwXHoajn"
    },
    {
      "cell_type": "code",
      "source": [
        "for name, embd in zip(ROI_names, phate_embd):\n",
        "  plot_phate_rep(embd, [0]*56+[1]*17+[2]*17+[0]*44+[3]*21+[4]*19+[5]*15, None, \"T-PHATE Represenation of \"+ name, \"A&D TRs\", \"Plots/PHATE2-v-PHATE1-5-AnD-\"+name+\".png\")"
      ],
      "metadata": {
        "id": "n7hYksOPbx7z"
      },
      "id": "n7hYksOPbx7z",
      "execution_count": null,
      "outputs": []
    },
    {
      "cell_type": "markdown",
      "source": [
        "I have color coded each set of Ascent and Descent below, i.e.\n",
        "- 0 indicates those TRs which are neither ascent and descent. \n",
        "- 1 indicates those TRs which are in Ascents.\n",
        "- 2 indicates those TRs which are in Descents."
      ],
      "metadata": {
        "id": "lk8u-TbX32wQ"
      },
      "id": "lk8u-TbX32wQ"
    },
    {
      "cell_type": "code",
      "source": [
        "for name, embd in zip(ROI_names, phate_embd):\n",
        "  plot_phate_rep(embd, [0]*56+[1]*12+[2]*5+[1]*9+[2]*8+[0]*44+[1]*9+[2]*12+[1]*13+[2]*6+[1]*7+[2]*8, None, \"T-PHATE Represenation of \"+ name, \"A&D TRs\", \"Plots/PHATE2-v-PHATE1-2-AnD-\"+name+\".png\")"
      ],
      "metadata": {
        "id": "OOLp97SF3_6R"
      },
      "id": "OOLp97SF3_6R",
      "execution_count": null,
      "outputs": []
    },
    {
      "cell_type": "markdown",
      "source": [
        "Below, we plot the PHATE 1 and PHATE 2 components wrt TRs."
      ],
      "metadata": {
        "id": "DkkZPc6QPvg9"
      },
      "id": "DkkZPc6QPvg9"
    },
    {
      "cell_type": "code",
      "source": [
        "def plot_phate_time_rep(embd, phate_comp=1, c=None, ax=None, title=\"\", legend_title=\"\", save_file_name=None):\n",
        "  plot_data = np.concatenate((np.arange(embd.shape[0]).reshape(-1,1), embd[:,(phate_comp-1)].reshape(-1,1)), axis=1)\n",
        "  scp.plot.scatter2d(plot_data, ax=ax,  c = c, xlabel='TRs', ylabel='T-PHATE '+str(phate_comp), title=title, legend_title=legend_title, figsize=(10, 8), filename=save_file_name)"
      ],
      "metadata": {
        "id": "q7MY15Yz4Nyw"
      },
      "id": "q7MY15Yz4Nyw",
      "execution_count": null,
      "outputs": []
    },
    {
      "cell_type": "code",
      "source": [
        "for name, embd in zip(ROI_names, phate_embd):\n",
        "  plot_phate_time_rep(embd, 1, [0]*56+[1]*12+[2]*5+[1]*9+[2]*8+[0]*44+[1]*9+[2]*12+[1]*13+[2]*6+[1]*7+[2]*8, None, \"T-PHATE over time of \"+ name, \"A&D TRs\", \"Plots/PHATE1-v-TR-2-AnD-\"+name+\".png\")"
      ],
      "metadata": {
        "id": "w3v8QLGNSBcX"
      },
      "id": "w3v8QLGNSBcX",
      "execution_count": null,
      "outputs": []
    },
    {
      "cell_type": "code",
      "source": [
        "for name, embd in zip(ROI_names, phate_embd):\n",
        "  plot_phate_time_rep(embd, 1, [0]*56+[1]*17+[2]*17+[0]*44+[3]*21+[4]*19+[5]*15, None, \"T-PHATE over time of \"+ name, \"A&D TRs\", \"Plots/PHATE1-v-TR-5-AnD-\"+name+\".png\")"
      ],
      "metadata": {
        "id": "nlFvgw8Q-OkH"
      },
      "id": "nlFvgw8Q-OkH",
      "execution_count": null,
      "outputs": []
    },
    {
      "cell_type": "code",
      "source": [
        "for name, embd in zip(ROI_names, phate_embd):\n",
        "  plot_phate_time_rep(embd, 2, [0]*56+[1]*17+[2]*17+[0]*44+[3]*21+[4]*19+[5]*15, None, \"T-PHATE over time of \"+ name, \"A&D TRs\", \"Plots/PHATE2-v-TR-5-AnD-\"+name+\".png\")"
      ],
      "metadata": {
        "id": "_gB3TZdKViOu"
      },
      "id": "_gB3TZdKViOu",
      "execution_count": null,
      "outputs": []
    },
    {
      "cell_type": "code",
      "source": [
        "for name, embd in zip(ROI_names, phate_embd):\n",
        "  plot_phate_time_rep(embd, 2, [0]*56+[1]*12+[2]*5+[1]*9+[2]*8+[0]*44+[1]*9+[2]*12+[1]*13+[2]*6+[1]*7+[2]*8, None, \"T-PHATE over time of \"+ name, \"A&D TRs\", \"Plots/PHATE2-v-TR-2-AnD-\"+name+\".png\")"
      ],
      "metadata": {
        "id": "BoMPwUjI-g36"
      },
      "id": "BoMPwUjI-g36",
      "execution_count": null,
      "outputs": []
    },
    {
      "cell_type": "markdown",
      "source": [
        "Below, we show the PHATE 1 and PHATE 2 components wrt TRs with concatenated Ascent and Descent TRs."
      ],
      "metadata": {
        "id": "3SjafDd1NRBy"
      },
      "id": "3SjafDd1NRBy"
    },
    {
      "cell_type": "code",
      "source": [
        "def plot_phate_time_line_rep(embd, t, phate_comp=1, title=\"\", filename=\"\"):\n",
        "  plt.figure(figsize=(10,8))\n",
        "  plt.plot(np.arange(len(t))+1, embd[t,(phate_comp-1)])\n",
        "  plt.title(title)\n",
        "  plt.ylabel('T-PHATE '+str(phate_comp))\n",
        "  plt.xlabel('TRs')\n",
        "  plt.savefig(filename)"
      ],
      "metadata": {
        "id": "TXqLdGz3Y3_Y"
      },
      "id": "TXqLdGz3Y3_Y",
      "execution_count": null,
      "outputs": []
    },
    {
      "cell_type": "code",
      "source": [
        "for name, embd in zip(ROI_names, phate_embd):\n",
        "  plot_phate_time_line_rep(embd, list(range(56, 68))+list(range(73, 82))+list(range(134, 143))+list(range(155, 168))+list(range(174, 181)), 1, \"T-PHATE over concatenated ascent time of \"+ name, \"Plots/PHATE1-v-A-TR-\"+name+\".png\")"
      ],
      "metadata": {
        "id": "tKILQv_OdExn"
      },
      "id": "tKILQv_OdExn",
      "execution_count": null,
      "outputs": []
    },
    {
      "cell_type": "code",
      "source": [
        "for name, embd in zip(ROI_names, phate_embd):\n",
        "  plot_phate_time_line_rep(embd, list(range(56, 68))+list(range(73, 82))+list(range(134, 143))+list(range(155, 168))+list(range(174, 181)), 2, \"T-PHATE over concatenated ascent time of \"+ name, \"Plots/PHATE2-v-A-TR-\"+name+\".png\")"
      ],
      "metadata": {
        "id": "827kkU6TU7xQ"
      },
      "id": "827kkU6TU7xQ",
      "execution_count": null,
      "outputs": []
    },
    {
      "cell_type": "code",
      "source": [
        "for name, embd in zip(ROI_names, phate_embd):\n",
        "  plot_phate_time_line_rep(embd, list(range(67, 73))+list(range(85, 90))+list(range(145, 155))+list(range(168, 175))+list(range(180, 189)), 1, \"T-PHATE over concatenated descent time of \"+ name, \"Plots/PHATE1-v-D-TR-\"+name+\".png\")"
      ],
      "metadata": {
        "id": "OZR8HLtrggFf"
      },
      "id": "OZR8HLtrggFf",
      "execution_count": null,
      "outputs": []
    },
    {
      "cell_type": "code",
      "source": [
        "for name, embd in zip(ROI_names, phate_embd):\n",
        "  plot_phate_time_line_rep(embd, list(range(67, 73))+list(range(85, 90))+list(range(145, 155))+list(range(168, 175))+list(range(180, 189)), 2, \"T-PHATE over concatenated descent time of \"+ name, \"Plots/PHATE2-v-D-TR-\"+name+\".png\")"
      ],
      "metadata": {
        "id": "cEJAT-27U2ZR"
      },
      "id": "cEJAT-27U2ZR",
      "execution_count": null,
      "outputs": []
    },
    {
      "cell_type": "markdown",
      "source": [
        "Here, we will look at the Diffusion Operator generated by the T-PHATE algorithm for getting the TR to TR Transition Matrix."
      ],
      "metadata": {
        "id": "1kzdZbIfnWlj"
      },
      "id": "1kzdZbIfnWlj"
    },
    {
      "cell_type": "markdown",
      "source": [
        "The Probabilities close to 1 are indicated by white and probabilities close to 0 are indicated by black."
      ],
      "metadata": {
        "id": "ryXk8_4Srtuw"
      },
      "id": "ryXk8_4Srtuw"
    },
    {
      "cell_type": "code",
      "source": [
        "def phate_diff_matrix(data):\n",
        "  # We find the temporal affinity matrix --- The Last Function in the TPHATE.py File\n",
        "  P_T = TPHATE.temporal_affinity_matrix(data)\n",
        "\n",
        "  # We now instantiate the PHATE operator(matrix)/object of the PHATE class\n",
        "  phate_op = TPHATE.PHATE(P_T, random_state=43, verbose=0)\n",
        "  # PHATE requires Voxel x TR Data\n",
        "  phate_op.fit(data)\n",
        "\n",
        "  return phate_op.diff_op"
      ],
      "metadata": {
        "id": "5-OBELp8wctq"
      },
      "id": "5-OBELp8wctq",
      "execution_count": 15,
      "outputs": []
    },
    {
      "cell_type": "code",
      "source": [
        "phate_diff_mats = [phate_diff_matrix(data) for data in data_avg]"
      ],
      "metadata": {
        "id": "khSzb0uwnY4-"
      },
      "id": "khSzb0uwnY4-",
      "execution_count": 16,
      "outputs": []
    },
    {
      "cell_type": "code",
      "source": [
        "phate_diff_mats[0].shape"
      ],
      "metadata": {
        "colab": {
          "base_uri": "https://localhost:8080/"
        },
        "id": "dJYYnwNEoZTs",
        "outputId": "146e20cf-a7fc-4efc-c6b0-ede4a9dc9e30"
      },
      "id": "dJYYnwNEoZTs",
      "execution_count": 17,
      "outputs": [
        {
          "output_type": "execute_result",
          "data": {
            "text/plain": [
              "(189, 189)"
            ]
          },
          "metadata": {},
          "execution_count": 17
        }
      ]
    },
    {
      "cell_type": "code",
      "source": [
        "def plot_phate_diff_matrx(diff_mat, c, title=\"\", filename=\"\"):\n",
        "  plt.figure(figsize=(10,10))\n",
        "  plt.imshow(diff_mat, interpolation='nearest', cmap= c)\n",
        "  plt.title(title)\n",
        "  plt.ylabel('TRs')\n",
        "  plt.xlabel('TRs')\n",
        "  plt.savefig(filename)"
      ],
      "metadata": {
        "id": "bmEZAxlzowtn"
      },
      "id": "bmEZAxlzowtn",
      "execution_count": 18,
      "outputs": []
    },
    {
      "cell_type": "code",
      "source": [
        "import matplotlib.cm as cm"
      ],
      "metadata": {
        "id": "1VBz81yZpHMa"
      },
      "id": "1VBz81yZpHMa",
      "execution_count": 19,
      "outputs": []
    },
    {
      "cell_type": "code",
      "source": [
        "for name, diff_mat in zip(ROI_names, phate_diff_mats):\n",
        "  plot_phate_diff_matrx(diff_mat, cm.Greys_r, \"Diffusion Matrix of \"+name, \"Plots/YOUNG/DIFF-MAT-\"+name+\".png\")"
      ],
      "metadata": {
        "id": "EEEfYFESozML"
      },
      "id": "EEEfYFESozML",
      "execution_count": null,
      "outputs": []
    },
    {
      "cell_type": "code",
      "source": [
        ""
      ],
      "metadata": {
        "id": "q7Tvy0OGprAz"
      },
      "id": "q7Tvy0OGprAz",
      "execution_count": null,
      "outputs": []
    }
  ],
  "metadata": {
    "kernelspec": {
      "display_name": "Python 3",
      "language": "python",
      "name": "python3"
    },
    "language_info": {
      "codemirror_mode": {
        "name": "ipython",
        "version": 3
      },
      "file_extension": ".py",
      "mimetype": "text/x-python",
      "name": "python",
      "nbconvert_exporter": "python",
      "pygments_lexer": "ipython3",
      "version": "3.6.8"
    },
    "colab": {
      "name": "T-PHATE-YOUNG.ipynb",
      "provenance": [],
      "collapsed_sections": []
    }
  },
  "nbformat": 4,
  "nbformat_minor": 5
}