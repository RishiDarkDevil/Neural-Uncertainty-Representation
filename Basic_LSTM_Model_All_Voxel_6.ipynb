{
  "cells": [
    {
      "cell_type": "markdown",
      "metadata": {
        "id": "rN8VtTibW_kL"
      },
      "source": [
        "Set Colab to GPU Mode if you are training the models!"
      ]
    },
    {
      "cell_type": "markdown",
      "metadata": {
        "id": "ESNkUUOEoS8j"
      },
      "source": [
        "### Mounting Google Drive"
      ]
    },
    {
      "cell_type": "code",
      "execution_count": 1,
      "metadata": {
        "colab": {
          "base_uri": "https://localhost:8080/"
        },
        "id": "GWpiHXuGn6Oy",
        "outputId": "fefef2f7-c955-4927-e111-75362cfe910e"
      },
      "outputs": [
        {
          "output_type": "stream",
          "name": "stdout",
          "text": [
            "Mounted at /content/drive\n"
          ]
        }
      ],
      "source": [
        "from google.colab import drive\n",
        "drive.mount('/content/drive')"
      ]
    },
    {
      "cell_type": "code",
      "execution_count": 2,
      "metadata": {
        "colab": {
          "base_uri": "https://localhost:8080/"
        },
        "id": "bpxEP-yeoWPX",
        "outputId": "0d1208d8-8dd6-4e66-c466-b6eb0d7534d4"
      },
      "outputs": [
        {
          "output_type": "stream",
          "name": "stdout",
          "text": [
            "/content/drive/.shortcut-targets-by-id/1h_oF16bG32l75GPobgHe_9HgdUduLFxT/IIT J Summer Internship 2022/Code/Neural-Uncertainty-Representation\n"
          ]
        }
      ],
      "source": [
        "cd 'drive/MyDrive/IIT J Summer Internship 2022/Code/Neural-Uncertainty-Representation/'"
      ]
    },
    {
      "cell_type": "markdown",
      "metadata": {
        "id": "Hq9mNRMMomT7"
      },
      "source": [
        "### Importing Necessary Libraries\n"
      ]
    },
    {
      "cell_type": "code",
      "execution_count": 3,
      "metadata": {
        "id": "SRXBkwcIogPe"
      },
      "outputs": [],
      "source": [
        "import numpy as np\n",
        "import pandas as pd\n",
        "\n",
        "import tensorflow as tf\n",
        "\n",
        "from tensorflow.keras.layers import Dense, Dropout, LSTM, TimeDistributed\n",
        "from tensorflow.keras.models import Sequential\n",
        "from tensorflow.keras.optimizers import Adam\n",
        "\n",
        "from sklearn.preprocessing import MinMaxScaler\n",
        "\n",
        "import matplotlib.pyplot as plt\n",
        "import os"
      ]
    },
    {
      "cell_type": "markdown",
      "metadata": {
        "id": "_R2-Cetmxned"
      },
      "source": [
        "### Importing Data\n",
        "We import the data of a young subject's 3D-Tensor Data of dimensions (TR, Voxel, Number of Subjects) for the 5 different ROIs as follows:\n",
        "- **Prefrontal areas:** dlPFC, vlPFC, lOFC, dmPFC, mPFC, mOFC\n",
        "- **Default-mode areas:** mPFC, ACC, PCC, Precuneus, mOFC\n",
        "- **Sensory areas:** VC\n",
        "- **Multisensory area:** pSTS\n",
        "- **Some other areas:** TP, IPL, mCC, Put, PCG, Nac, INS\n",
        "\n",
        "\n",
        "\n"
      ]
    },
    {
      "cell_type": "code",
      "execution_count": 4,
      "metadata": {
        "id": "XUJPFBg1898z"
      },
      "outputs": [],
      "source": [
        "file_names = [name for name in os.listdir('/content/drive/MyDrive/IIT J Summer Internship 2022/Hitchcock/Data/YOUNG/Voxel_BOLD/Numpy') if name.endswith(\"npy\") and (\"(1)\" not in name)]\n",
        "file_names = [name for name in file_names if (\"537\" not in name)]"
      ]
    },
    {
      "cell_type": "code",
      "execution_count": 5,
      "metadata": {
        "id": "5lVnzf5N_Ufy"
      },
      "outputs": [],
      "source": [
        "ROI_names = [file_name.replace(\"data_\",\"\").replace(\".npy\",\"\") for file_name in file_names]"
      ]
    },
    {
      "cell_type": "code",
      "execution_count": 6,
      "metadata": {
        "id": "Kg22rkIGpfP2"
      },
      "outputs": [],
      "source": [
        "data_ori = list()\n",
        "for file_name in file_names:\n",
        "  data_ori.append(np.load('/content/drive/MyDrive/IIT J Summer Internship 2022/Hitchcock/Data/YOUNG/Voxel_BOLD/Numpy/'+file_name))"
      ]
    },
    {
      "cell_type": "markdown",
      "metadata": {
        "id": "Kcaxzm8WDjgO"
      },
      "source": [
        "### Data Preparation"
      ]
    },
    {
      "cell_type": "markdown",
      "metadata": {
        "id": "K9rJ8CAb97K2"
      },
      "source": [
        "Now, here we prepare the data to be fed to the Neural Network Architechtures. We can't predict the time ahead upto which the subjects are predicting correctly so, we will take a bit round about way to predict the BOLD values ahead in time(for several choices of time points e.g. 1 time point ahead, 2 time point ahead, etc) and will compare the results for young and old subjects."
      ]
    },
    {
      "cell_type": "markdown",
      "metadata": {
        "id": "im3Oqy2ueeEU"
      },
      "source": [
        "Right from the starting we decide some of the data preparation parameters, so that we can use them as we require."
      ]
    },
    {
      "cell_type": "code",
      "execution_count": 7,
      "metadata": {
        "id": "X1DoZ2Fcec20"
      },
      "outputs": [],
      "source": [
        "TRAIN_BATCH_SIZE = 20\n",
        "TEST_BATCH_SIZE = 10\n",
        "LOOK_AHEAD = 1\n",
        "NUM_TEST_SUBS = 10"
      ]
    },
    {
      "cell_type": "markdown",
      "metadata": {
        "id": "TYuu8ZM2-u9z"
      },
      "source": [
        "We will avoid doing an average since, all voxels in a ROI is not equally important and hence we will want to predict the BOLD values of several voxels simultaneously."
      ]
    },
    {
      "cell_type": "code",
      "execution_count": 8,
      "metadata": {
        "id": "pFvaFL69geft"
      },
      "outputs": [],
      "source": [
        "data = data_ori"
      ]
    },
    {
      "cell_type": "markdown",
      "metadata": {
        "id": "mY3usMssn3T5"
      },
      "source": [
        "Let's Start the Data Preparation for lOFC later we will iterate the same procedure for the other ROIs."
      ]
    },
    {
      "cell_type": "code",
      "execution_count": 9,
      "metadata": {
        "colab": {
          "base_uri": "https://localhost:8080/"
        },
        "id": "71dv3Zkcgu3N",
        "outputId": "ca7ea087-480d-4d63-c082-d4f4d189e5d5"
      },
      "outputs": [
        {
          "output_type": "stream",
          "name": "stdout",
          "text": [
            "lOFC BOLD Shape: (189, 537, 111)\n"
          ]
        }
      ],
      "source": [
        "print(ROI_names[-1], \"BOLD Shape:\", data[-1].shape)"
      ]
    },
    {
      "cell_type": "markdown",
      "metadata": {
        "id": "jG7ofnvRczcN"
      },
      "source": [
        "Below, we see the BOLD time series plot for all the ROIs."
      ]
    },
    {
      "cell_type": "markdown",
      "metadata": {
        "id": "-wIOccLpE0d-"
      },
      "source": [
        "We have changed the data in the form (Number of Subjects, TR, Voxels) below."
      ]
    },
    {
      "cell_type": "code",
      "execution_count": 10,
      "metadata": {
        "id": "0pHK54KjDnah"
      },
      "outputs": [],
      "source": [
        "data = [np.transpose(dat, (2,0,1)) for dat in data]"
      ]
    },
    {
      "cell_type": "code",
      "execution_count": 11,
      "metadata": {
        "colab": {
          "base_uri": "https://localhost:8080/"
        },
        "id": "HRXHJ1cwgrzp",
        "outputId": "e1d13be7-3c31-4c24-e514-05615b44c17c"
      },
      "outputs": [
        {
          "output_type": "stream",
          "name": "stdout",
          "text": [
            "lOFC BOLD Shape: (111, 189, 537)\n"
          ]
        }
      ],
      "source": [
        "print(ROI_names[-1], \"BOLD Shape:\", data[-1].shape)"
      ]
    },
    {
      "cell_type": "code",
      "execution_count": 12,
      "metadata": {
        "id": "AseI4ZNeg26E"
      },
      "outputs": [],
      "source": [
        "# for i in range(len(data)):  \n",
        "#   plt.figure(figsize=(10, 8))\n",
        "#   plt.plot(data[i][0,:,:])\n",
        "#   plt.title(\"BOLD of 1st Subject for \"+ROI_names[i]+\"'s Voxels\")\n",
        "#   plt.xlabel(\"TRs\")\n",
        "#   plt.ylabel(\"BOLD\")\n",
        "#   plt.savefig(\"./Plots/YOUNG/ALL-BOLD/ALL-BOLD-\"+ROI_names[i]+\".png\")"
      ]
    },
    {
      "cell_type": "markdown",
      "metadata": {
        "id": "gg50q17pp5xQ"
      },
      "source": [
        "We split the dataset of 111 young subjects into 101 subjects in the training data and 10 subject in the test data."
      ]
    },
    {
      "cell_type": "code",
      "execution_count": 13,
      "metadata": {
        "id": "hrldyz8XnDlv"
      },
      "outputs": [],
      "source": [
        "train_data_unscaled = [dat[:-NUM_TEST_SUBS] for dat in data]\n",
        "test_data_unscaled = [dat[-NUM_TEST_SUBS:] for dat in data]  "
      ]
    },
    {
      "cell_type": "markdown",
      "metadata": {
        "id": "MDV7H0sYt6jd"
      },
      "source": [
        "We scaled the BOLD values of each voxel in the train data between 0 and 1 for each voxel. We use the same MinMaxScaler fit on the train data on the test data."
      ]
    },
    {
      "cell_type": "code",
      "execution_count": 14,
      "metadata": {
        "id": "-xkJQLj3tORj"
      },
      "outputs": [],
      "source": [
        "scalers = dict() # Stores a list of MinMaxScalers for each ROI, where number of MinMaxScalers is equal to the number of voxels in that ROI\n",
        "for i in range(len(ROI_names)):\n",
        "  scalers[ROI_names[i]] = [MinMaxScaler(feature_range = (0, 1)) for _ in range(data[i].shape[-1])]\n",
        "\n",
        "train_data = [[scalers[ROI_names[j]][i].fit_transform(train_data_unscaled[j][:,:,i]) for i in range(len(scalers[ROI_names[j]]))] for j in range(len(ROI_names))]\n",
        "test_data = [[scalers[ROI_names[j]][i].transform(test_data_unscaled[j][:,:,i]) for i in range(len(scalers[ROI_names[j]]))] for j in range(len(ROI_names))]"
      ]
    },
    {
      "cell_type": "code",
      "execution_count": 15,
      "metadata": {
        "id": "Ail126iVuR6s"
      },
      "outputs": [],
      "source": [
        "train_data = [np.transpose(np.array(dat), (1,2,0)) for dat in train_data]\n",
        "test_data = [np.transpose(np.array(dat), (1,2,0)) for dat in test_data]"
      ]
    },
    {
      "cell_type": "code",
      "execution_count": 16,
      "metadata": {
        "colab": {
          "base_uri": "https://localhost:8080/"
        },
        "id": "_cOAv_VrnbLU",
        "outputId": "3ce3d447-8ddf-47fa-92f7-234c4db3e7bd"
      },
      "outputs": [
        {
          "output_type": "stream",
          "name": "stdout",
          "text": [
            "lOFC Train Data Shape:  (101, 189, 537)\n",
            "lOFC Test Data Shape:  (10, 189, 537)\n"
          ]
        }
      ],
      "source": [
        "print(ROI_names[-1], \"Train Data Shape: \", train_data[-1].shape)\n",
        "print(ROI_names[-1], \"Test Data Shape: \", test_data[-1].shape)"
      ]
    },
    {
      "cell_type": "code",
      "execution_count": 17,
      "metadata": {
        "id": "YIlJSRX92txN"
      },
      "outputs": [],
      "source": [
        "# for i in range(len(data)):  \n",
        "#   plt.figure(figsize=(10, 8))\n",
        "#   plt.plot(train_data[i][0,:,:])\n",
        "#   plt.title(\"BOLD of 1st Subject for \"+ROI_names[i]+\"'s Voxels\")\n",
        "#   plt.xlabel(\"TRs\")\n",
        "#   plt.ylabel(\"BOLD[Scaled between 0 and 1]\")\n",
        "#   plt.savefig(\"./Plots/YOUNG/ALL-BOLD/ALL-BOLD-SCALED-\"+ROI_names[i]+\".png\")"
      ]
    },
    {
      "cell_type": "markdown",
      "metadata": {
        "id": "0yjlAwWeiEru"
      },
      "source": [
        "We now build a data generator which would produce mini-batches during the training of the neural network."
      ]
    },
    {
      "cell_type": "code",
      "execution_count": 18,
      "metadata": {
        "id": "Blko7LXpgtwA"
      },
      "outputs": [],
      "source": [
        "class KerasBatchGenerator(object):\n",
        "    def __init__(self, data, num_TRs, batch_size, look_ahead=1):\n",
        "        self.data = data\n",
        "        self.num_TRs = num_TRs\n",
        "        self.batch_size = batch_size\n",
        "        self.current_idx = 0\n",
        "        self.look_ahead = look_ahead\n",
        "\n",
        "    def generate(self):\n",
        "        while True:\n",
        "            if self.current_idx + self.batch_size >= self.data.shape[0]:\n",
        "              self.current_idx = 0\n",
        "            x = self.data[self.current_idx:(self.current_idx+self.batch_size),:(-self.look_ahead),:]\n",
        "            y = self.data[self.current_idx:(self.current_idx+self.batch_size),self.look_ahead:,:]\n",
        "            self.current_idx = self.current_idx + self.batch_size\n",
        "            yield x, y "
      ]
    },
    {
      "cell_type": "code",
      "execution_count": 19,
      "metadata": {
        "id": "lZN56Eg3mrsc"
      },
      "outputs": [],
      "source": [
        "train_data_generator = [KerasBatchGenerator(dat, dat.shape[1], TRAIN_BATCH_SIZE, LOOK_AHEAD) for dat in train_data]\n",
        "test_data_generator = [KerasBatchGenerator(dat, dat.shape[1], TEST_BATCH_SIZE, LOOK_AHEAD) for dat in test_data]"
      ]
    },
    {
      "cell_type": "code",
      "execution_count": 20,
      "metadata": {
        "colab": {
          "base_uri": "https://localhost:8080/"
        },
        "id": "5UPT6iRxpJ7c",
        "outputId": "a0221b87-7272-47e1-d3f4-f9f32091d055"
      },
      "outputs": [
        {
          "output_type": "stream",
          "name": "stdout",
          "text": [
            "lOFC Train Batch X Shape:  (20, 188, 537)\n",
            "lOFC Train Batch y Shape:  (20, 188, 537)\n"
          ]
        }
      ],
      "source": [
        "batch_x, batch_y = next(train_data_generator[-1].generate())\n",
        "print(ROI_names[-1], \"Train Batch X Shape: \", batch_x.shape)\n",
        "print(ROI_names[-1], \"Train Batch y Shape: \", batch_y.shape)"
      ]
    },
    {
      "cell_type": "code",
      "execution_count": 21,
      "metadata": {
        "colab": {
          "base_uri": "https://localhost:8080/"
        },
        "id": "Clavfro-pSEV",
        "outputId": "3fed443d-28a2-4a46-c9c9-792dce250b15"
      },
      "outputs": [
        {
          "output_type": "stream",
          "name": "stdout",
          "text": [
            "lOFC Test Batch X Shape:  (10, 188, 537)\n",
            "lOFC Test Batch y Shape:  (10, 188, 537)\n"
          ]
        }
      ],
      "source": [
        "batch_x, batch_y = next(test_data_generator[-1].generate())\n",
        "print(ROI_names[-1], \"Test Batch X Shape: \", batch_x.shape)\n",
        "print(ROI_names[-1], \"Test Batch y Shape: \", batch_y.shape)"
      ]
    },
    {
      "cell_type": "markdown",
      "metadata": {
        "id": "31NRewZjqoi1"
      },
      "source": [
        "### Building Model"
      ]
    },
    {
      "cell_type": "markdown",
      "metadata": {
        "id": "8Ry-jGmHqqx0"
      },
      "source": [
        "We will start off by building a LSTM Model:\n",
        "- `Number of LSTM Layers = 1`\n",
        "- `Number of Dense Layers = 1`\n",
        "- `hidden units = 32`\n",
        "- `dropout = 0.3`"
      ]
    },
    {
      "cell_type": "code",
      "execution_count": 22,
      "metadata": {
        "id": "AKDAJkiVgK2n"
      },
      "outputs": [],
      "source": [
        "HIDDEN_UNITS = 32\n",
        "DROPOUT_PROB = 0.3\n",
        "LSTM_LAYERS = 1\n",
        "DENSE_LAYERS = 1"
      ]
    },
    {
      "cell_type": "code",
      "execution_count": 23,
      "metadata": {
        "id": "fqoXwHTTqqCR"
      },
      "outputs": [],
      "source": [
        "def avg_bold_model(num_voxs):\n",
        "  model = Sequential()\n",
        "  for _ in range(LSTM_LAYERS):\n",
        "    model.add(LSTM(HIDDEN_UNITS, return_sequences=True))\n",
        "  model.add(Dropout(0.3))\n",
        "  for _ in range(DENSE_LAYERS-1):\n",
        "    model.add(TimeDistributed(Dense(HIDDEN_UNITS, activation='relu')))\n",
        "  model.add(TimeDistributed(Dense(num_voxs)))\n",
        "  return model"
      ]
    },
    {
      "cell_type": "code",
      "execution_count": 24,
      "metadata": {
        "colab": {
          "base_uri": "https://localhost:8080/"
        },
        "id": "nYHgnyz-v5nA",
        "outputId": "17adc10f-4d21-4799-ba6c-e8d7712318be"
      },
      "outputs": [
        {
          "output_type": "stream",
          "name": "stdout",
          "text": [
            "Model: \"sequential\"\n",
            "_________________________________________________________________\n",
            " Layer (type)                Output Shape              Param #   \n",
            "=================================================================\n",
            " lstm (LSTM)                 (10, 188, 32)             72960     \n",
            "                                                                 \n",
            " dropout (Dropout)           (10, 188, 32)             0         \n",
            "                                                                 \n",
            " time_distributed (TimeDistr  (10, 188, 537)           17721     \n",
            " ibuted)                                                         \n",
            "                                                                 \n",
            "=================================================================\n",
            "Total params: 90,681\n",
            "Trainable params: 90,681\n",
            "Non-trainable params: 0\n",
            "_________________________________________________________________\n"
          ]
        }
      ],
      "source": [
        "sample_model = avg_bold_model(batch_x.shape[-1])\n",
        "sample_model.build(input_shape=batch_x.shape)\n",
        "sample_model.summary()"
      ]
    },
    {
      "cell_type": "code",
      "execution_count": 25,
      "metadata": {
        "id": "fUZSBnNft2Dl"
      },
      "outputs": [],
      "source": [
        "models = [avg_bold_model(train_data[i].shape[-1]) for i in range(len(ROI_names))]"
      ]
    },
    {
      "cell_type": "markdown",
      "metadata": {
        "id": "3PRKFwUahAKG"
      },
      "source": [
        "#### Training Model"
      ]
    },
    {
      "cell_type": "markdown",
      "metadata": {
        "id": "LsHnfCSrhC0g"
      },
      "source": [
        "If you haven't already trained the models then uncomment and train your models which will be saved and will be loaded for inference later."
      ]
    },
    {
      "cell_type": "code",
      "execution_count": 26,
      "metadata": {
        "id": "kf-dFQmfzqTA"
      },
      "outputs": [],
      "source": [
        "for i in range(len(ROI_names)):\n",
        "  models[i].compile(optimizer = 'adam', loss = 'mean_squared_error')"
      ]
    },
    {
      "cell_type": "code",
      "execution_count": 27,
      "metadata": {
        "id": "vcZsfhkz3lCH"
      },
      "outputs": [],
      "source": [
        "EPOCHS = 100\n",
        "checkpoint_filepaths = [f\"./Models/YOUNG/LSTM/ALL-BOLD/{name}/model_weights-best-val-loss-{LSTM_LAYERS}L-{HIDDEN_UNITS}H-{DENSE_LAYERS}D-{int(DROPOUT_PROB*10)}Drop-{LOOK_AHEAD}Ahead-{name}\" for name in ROI_names]\n",
        "model_checkpoint_callbacks = [tf.keras.callbacks.ModelCheckpoint(\n",
        "    filepath=checkpoint_filepath,\n",
        "    save_weights_only=True,\n",
        "    monitor = \"val_loss\",\n",
        "    mode='min',\n",
        "    save_best_only=True) for checkpoint_filepath in checkpoint_filepaths]"
      ]
    },
    {
      "cell_type": "code",
      "execution_count": 28,
      "metadata": {
        "id": "wECZbf2i_AH7"
      },
      "outputs": [],
      "source": [
        "def plot_train_test_loss(history, model_name, i):  \n",
        "  plt.figure(figsize=(10,10))\n",
        "  plt.plot(history.history['loss'])\n",
        "  plt.plot(history.history['val_loss'])\n",
        "  plt.title(model_name+' loss')\n",
        "  plt.ylabel('loss')\n",
        "  plt.xlabel('epochs')\n",
        "  plt.legend(['train', 'val'], loc='upper left')\n",
        "  plt.savefig(\"./Plots/YOUNG/LSTM/ALL-BOLD/\"+ROI_names[i]+\"/\"+model_name+\"-loss.png\")"
      ]
    },
    {
      "cell_type": "code",
      "execution_count": null,
      "metadata": {
        "id": "AFb-kTLR21hl"
      },
      "outputs": [],
      "source": [
        "histories = list()\n",
        "with tf.device('/device:GPU:0'):\n",
        "  for i in range(len(ROI_names)):\n",
        "    history = models[i].fit(\n",
        "                    train_data_generator[i].generate(),\n",
        "                    steps_per_epoch=train_data[i].shape[0]//TRAIN_BATCH_SIZE,\n",
        "                    epochs=EPOCHS,\n",
        "                    validation_data=test_data_generator[i].generate(),\n",
        "                    validation_steps=test_data[i].shape[0]//TEST_BATCH_SIZE,\n",
        "                    callbacks=[model_checkpoint_callbacks[i]]\n",
        "                    )\n",
        "    models[i].save_weights(f\"./Models/YOUNG/LSTM/ALL-BOLD/{ROI_names[i]}/model_weights-{LSTM_LAYERS}L-{HIDDEN_UNITS}H-{DENSE_LAYERS}D-{int(DROPOUT_PROB*10)}Drop-{LOOK_AHEAD}Ahead-{ROI_names[i]}\")\n",
        "    plot_train_test_loss(history, f\"{LSTM_LAYERS}L-{HIDDEN_UNITS}H-{DENSE_LAYERS}D-{int(DROPOUT_PROB*10)}Drop-{LOOK_AHEAD}Ahead-{ROI_names[i]}\", i)\n",
        "    histories.append(history)"
      ]
    },
    {
      "cell_type": "code",
      "execution_count": 30,
      "metadata": {
        "id": "dKvn0145hViW"
      },
      "outputs": [],
      "source": [
        "for i in range(len(ROI_names)):\n",
        "  models[i].load_weights(f\"./Models/YOUNG/LSTM/ALL-BOLD/{ROI_names[i]}/model_weights-{LSTM_LAYERS}L-{HIDDEN_UNITS}H-{DENSE_LAYERS}D-{int(DROPOUT_PROB*10)}Drop-{LOOK_AHEAD}Ahead-{ROI_names[i]}\")"
      ]
    },
    {
      "cell_type": "code",
      "execution_count": null,
      "metadata": {
        "id": "7mpQ5Rap6kQ0"
      },
      "outputs": [],
      "source": [
        "preds = [models[i].predict(next(test_data_generator[i].generate())[0]) for i in range(len(ROI_names))]"
      ]
    },
    {
      "cell_type": "code",
      "execution_count": 32,
      "metadata": {
        "id": "HeE2zhmXxOge"
      },
      "outputs": [],
      "source": [
        "a_TRs = np.array([56, 67, 73, 81, 134, 142, 155, 167, 174, 180])\n",
        "d_TRs = np.array([67, 72, 85, 89, 145, 154, 168, 174, 180, 188])\n",
        "and_TRs = np.union1d(a_TRs, d_TRs)\n",
        "\n",
        "def highlight_and(act, pred):\n",
        "  min_y_list = list()\n",
        "  max_y_list = list()\n",
        "  for i in range(5):\n",
        "    min_y_list.append(np.min(np.concatenate([act[a_TRs[2*i]:d_TRs[2*i+1]], pred[a_TRs[2*i]:d_TRs[2*i+1]]])))\n",
        "    max_y_list.append(np.max(np.concatenate([act[a_TRs[2*i]:d_TRs[2*i+1]], pred[a_TRs[2*i]:d_TRs[2*i+1]]])))\n",
        "    # plt.fill_betweenx(y=[min_y_list[i], max_y_list[i]], x1=a_TRs[2*i], x2=d_TRs[2*i+1], color='gray', alpha=0.1)\n",
        "    plt.fill_betweenx(y=[min_y_list[i], max_y_list[i]], x1=a_TRs[2*i], x2=a_TRs[2*i+1], color='violet', alpha=0.4)\n",
        "    plt.fill_betweenx(y=[min_y_list[i], max_y_list[i]], x1=d_TRs[2*i], x2=d_TRs[2*i+1], color='greenyellow', alpha=0.4)"
      ]
    },
    {
      "cell_type": "code",
      "execution_count": null,
      "metadata": {
        "id": "WBLOHLixAWnk"
      },
      "outputs": [],
      "source": [
        "np.random.seed(43)\n",
        "for i in range(len(ROI_names)):\n",
        "  \n",
        "  actual_test_data_output = test_data_unscaled[i][:,LOOK_AHEAD:,:]\n",
        "  pred_test_data_output = np.transpose(np.array([scalers[ROI_names[i]][j].inverse_transform(np.hstack([preds[i][:,:,j], preds[i][:,:LOOK_AHEAD,j]])) for j in range(len(scalers[ROI_names[i]]))]), (1,2,0))[:,:-LOOK_AHEAD,:]\n",
        "  plt.figure(figsize=(24, 18))\n",
        "\n",
        "  for j in range(NUM_TEST_SUBS-1):\n",
        "  \n",
        "    ax = plt.subplot(3, 3, j + 1)\n",
        "    vox_choice = np.random.randint(0, len(scalers[ROI_names[i]]), 5)\n",
        "    plt.plot(np.transpose(actual_test_data_output[j,:, vox_choice]), c='b', label='actual')\n",
        "    plt.plot(np.transpose(pred_test_data_output[j,:, vox_choice]), c='r', ls='--', label='pred')\n",
        "    # highlight_and(actual_test_data_output[j,:], pred_test_data_output[j,:])\n",
        "    plt.xticks(np.concatenate([np.array([0]), and_TRs - LOOK_AHEAD]), np.concatenate([np.array([LOOK_AHEAD]), and_TRs]))\n",
        "    plt.ylabel(\"BOLD\")\n",
        "    plt.xlabel(\"TRs\")\n",
        "    plt.title(f\"All BOLD Preds of {LSTM_LAYERS}L-{HIDDEN_UNITS}H-{DENSE_LAYERS}D-{int(DROPOUT_PROB*10)}Drop-{LOOK_AHEAD}Ahead for {j+1}th Test Sub's {ROI_names[i]}\")\n",
        "    plt.legend()\n",
        "    plt.savefig(f\"./Plots/YOUNG/LSTM/ALL-BOLD/{ROI_names[i]}/{LSTM_LAYERS}L-{HIDDEN_UNITS}H-{DENSE_LAYERS}D-{int(DROPOUT_PROB*10)}Drop-{LOOK_AHEAD}Ahead-Preds.png\")"
      ]
    },
    {
      "cell_type": "code",
      "execution_count": 34,
      "metadata": {
        "colab": {
          "base_uri": "https://localhost:8080/"
        },
        "id": "J8hiJzxcKFuz",
        "outputId": "6b4781c8-0d07-4a9b-be80-3c126a35dc9e"
      },
      "outputs": [
        {
          "output_type": "stream",
          "name": "stdout",
          "text": [
            "***Each Test Subject's Correlation Coefficient between predicted and actual BOLD averaged across each Voxel Prediction values for ROIs***\n",
            "\n",
            "dmPFC for 1th sub: 0.34\n",
            "dmPFC for 2th sub: 0.46\n",
            "dmPFC for 3th sub: 0.71\n",
            "dmPFC for 4th sub: 0.34\n",
            "dmPFC for 5th sub: 0.37\n",
            "dmPFC for 6th sub: 0.42\n",
            "dmPFC for 7th sub: 0.31\n",
            "dmPFC for 8th sub: 0.53\n",
            "dmPFC for 9th sub: 0.51\n",
            "dmPFC for 10th sub: 0.33\n",
            "\n",
            "ACC for 1th sub: 0.26\n",
            "ACC for 2th sub: 0.4\n",
            "ACC for 3th sub: 0.4\n",
            "ACC for 4th sub: 0.4\n",
            "ACC for 5th sub: 0.39\n",
            "ACC for 6th sub: 0.33\n",
            "ACC for 7th sub: 0.27\n",
            "ACC for 8th sub: 0.59\n",
            "ACC for 9th sub: 0.47\n",
            "ACC for 10th sub: 0.4\n",
            "\n",
            "AMY for 1th sub: 0.33\n",
            "AMY for 2th sub: 0.39\n",
            "AMY for 3th sub: 0.61\n",
            "AMY for 4th sub: 0.28\n",
            "AMY for 5th sub: 0.26\n",
            "AMY for 6th sub: 0.46\n",
            "AMY for 7th sub: 0.21\n",
            "AMY for 8th sub: 0.61\n",
            "AMY for 9th sub: 0.44\n",
            "AMY for 10th sub: 0.21\n",
            "\n",
            "Cau for 1th sub: 0.19\n",
            "Cau for 2th sub: 0.62\n",
            "Cau for 3th sub: 0.43\n",
            "Cau for 4th sub: 0.16\n",
            "Cau for 5th sub: 0.54\n",
            "Cau for 6th sub: 0.17\n",
            "Cau for 7th sub: 0.28\n",
            "Cau for 8th sub: 0.36\n",
            "Cau for 9th sub: 0.6\n",
            "Cau for 10th sub: 0.44\n",
            "\n",
            "dlPFC for 1th sub: 0.47\n",
            "dlPFC for 2th sub: 0.32\n",
            "dlPFC for 3th sub: 0.67\n",
            "dlPFC for 4th sub: 0.46\n",
            "dlPFC for 5th sub: 0.31\n",
            "dlPFC for 6th sub: 0.31\n",
            "dlPFC for 7th sub: 0.37\n",
            "dlPFC for 8th sub: 0.43\n",
            "dlPFC for 9th sub: 0.52\n",
            "dlPFC for 10th sub: 0.4\n",
            "\n",
            "INS for 1th sub: 0.43\n",
            "INS for 2th sub: 0.74\n",
            "INS for 3th sub: 0.66\n",
            "INS for 4th sub: 0.55\n",
            "INS for 5th sub: 0.45\n",
            "INS for 6th sub: 0.57\n",
            "INS for 7th sub: 0.46\n",
            "INS for 8th sub: 0.56\n",
            "INS for 9th sub: 0.45\n",
            "INS for 10th sub: 0.47\n",
            "\n",
            "IPL for 1th sub: 0.53\n",
            "IPL for 2th sub: 0.45\n",
            "IPL for 3th sub: 0.62\n",
            "IPL for 4th sub: 0.55\n",
            "IPL for 5th sub: 0.47\n",
            "IPL for 6th sub: 0.33\n",
            "IPL for 7th sub: 0.51\n",
            "IPL for 8th sub: 0.66\n",
            "IPL for 9th sub: 0.5\n",
            "IPL for 10th sub: 0.48\n",
            "\n",
            "mCC for 1th sub: 0.29\n",
            "mCC for 2th sub: 0.09\n",
            "mCC for 3th sub: 0.43\n",
            "mCC for 4th sub: 0.2\n",
            "mCC for 5th sub: 0.34\n",
            "mCC for 6th sub: 0.69\n",
            "mCC for 7th sub: 0.22\n",
            "mCC for 8th sub: 0.41\n",
            "mCC for 9th sub: 0.34\n",
            "mCC for 10th sub: 0.32\n",
            "\n",
            "Nac for 1th sub: 0.22\n",
            "Nac for 2th sub: 0.46\n",
            "Nac for 3th sub: 0.46\n",
            "Nac for 4th sub: 0.34\n",
            "Nac for 5th sub: 0.53\n",
            "Nac for 6th sub: 0.23\n",
            "Nac for 7th sub: 0.32\n",
            "Nac for 8th sub: 0.42\n",
            "Nac for 9th sub: 0.77\n",
            "Nac for 10th sub: 0.34\n",
            "\n",
            "PCC for 1th sub: 0.39\n",
            "PCC for 2th sub: 0.41\n",
            "PCC for 3th sub: 0.64\n",
            "PCC for 4th sub: 0.51\n",
            "PCC for 5th sub: 0.36\n",
            "PCC for 6th sub: 0.6\n",
            "PCC for 7th sub: 0.34\n",
            "PCC for 8th sub: 0.56\n",
            "PCC for 9th sub: 0.43\n",
            "PCC for 10th sub: 0.44\n",
            "\n",
            "PCG for 1th sub: 0.36\n",
            "PCG for 2th sub: 0.33\n",
            "PCG for 3th sub: 0.44\n",
            "PCG for 4th sub: 0.34\n",
            "PCG for 5th sub: 0.27\n",
            "PCG for 6th sub: 0.37\n",
            "PCG for 7th sub: 0.32\n",
            "PCG for 8th sub: 0.42\n",
            "PCG for 9th sub: 0.41\n",
            "PCG for 10th sub: 0.49\n",
            "\n",
            "Prec for 1th sub: 0.53\n",
            "Prec for 2th sub: 0.47\n",
            "Prec for 3th sub: 0.64\n",
            "Prec for 4th sub: 0.5\n",
            "Prec for 5th sub: 0.41\n",
            "Prec for 6th sub: 0.64\n",
            "Prec for 7th sub: 0.54\n",
            "Prec for 8th sub: 0.67\n",
            "Prec for 9th sub: 0.51\n",
            "Prec for 10th sub: 0.56\n",
            "\n",
            "TP for 1th sub: 0.66\n",
            "TP for 2th sub: 0.5\n",
            "TP for 3th sub: 0.69\n",
            "TP for 4th sub: 0.5\n",
            "TP for 5th sub: 0.74\n",
            "TP for 6th sub: 0.35\n",
            "TP for 7th sub: 0.52\n",
            "TP for 8th sub: 0.8\n",
            "TP for 9th sub: 0.72\n",
            "TP for 10th sub: 0.69\n",
            "\n",
            "Put for 1th sub: 0.31\n",
            "Put for 2th sub: 0.2\n",
            "Put for 3th sub: 0.63\n",
            "Put for 4th sub: 0.2\n",
            "Put for 5th sub: 0.41\n",
            "Put for 6th sub: 0.32\n",
            "Put for 7th sub: 0.19\n",
            "Put for 8th sub: 0.58\n",
            "Put for 9th sub: 0.48\n",
            "Put for 10th sub: 0.17\n",
            "\n",
            "pSTS for 1th sub: 0.51\n",
            "pSTS for 2th sub: 0.4\n",
            "pSTS for 3th sub: 0.78\n",
            "pSTS for 4th sub: 0.53\n",
            "pSTS for 5th sub: 0.54\n",
            "pSTS for 6th sub: 0.71\n",
            "pSTS for 7th sub: 0.54\n",
            "pSTS for 8th sub: 0.74\n",
            "pSTS for 9th sub: 0.52\n",
            "pSTS for 10th sub: 0.46\n",
            "\n",
            "VC for 1th sub: 0.28\n",
            "VC for 2th sub: 0.23\n",
            "VC for 3th sub: 0.3\n",
            "VC for 4th sub: 0.35\n",
            "VC for 5th sub: 0.11\n",
            "VC for 6th sub: 0.29\n",
            "VC for 7th sub: 0.27\n",
            "VC for 8th sub: 0.4\n",
            "VC for 9th sub: 0.06\n",
            "VC for 10th sub: 0.34\n",
            "\n",
            "vlPFC for 1th sub: 0.52\n",
            "vlPFC for 2th sub: 0.45\n",
            "vlPFC for 3th sub: 0.7\n",
            "vlPFC for 4th sub: 0.59\n",
            "vlPFC for 5th sub: 0.38\n",
            "vlPFC for 6th sub: 0.33\n",
            "vlPFC for 7th sub: 0.47\n",
            "vlPFC for 8th sub: 0.55\n",
            "vlPFC for 9th sub: 0.65\n",
            "vlPFC for 10th sub: 0.37\n",
            "\n",
            "mOFC for 1th sub: 0.38\n",
            "mOFC for 2th sub: 0.41\n",
            "mOFC for 3th sub: 0.69\n",
            "mOFC for 4th sub: 0.81\n",
            "mOFC for 5th sub: 0.54\n",
            "mOFC for 6th sub: 0.5\n",
            "mOFC for 7th sub: 0.14\n",
            "mOFC for 8th sub: 0.75\n",
            "mOFC for 9th sub: 0.81\n",
            "mOFC for 10th sub: 0.43\n",
            "\n",
            "mPFC for 1th sub: 0.46\n",
            "mPFC for 2th sub: 0.23\n",
            "mPFC for 3th sub: 0.45\n",
            "mPFC for 4th sub: 0.5\n",
            "mPFC for 5th sub: 0.32\n",
            "mPFC for 6th sub: 0.23\n",
            "mPFC for 7th sub: 0.27\n",
            "mPFC for 8th sub: 0.79\n",
            "mPFC for 9th sub: 0.45\n",
            "mPFC for 10th sub: 0.39\n",
            "\n",
            "lOFC for 1th sub: 0.43\n",
            "lOFC for 2th sub: 0.38\n",
            "lOFC for 3th sub: 0.58\n",
            "lOFC for 4th sub: 0.75\n",
            "lOFC for 5th sub: 0.46\n",
            "lOFC for 6th sub: 0.11\n",
            "lOFC for 7th sub: 0.22\n",
            "lOFC for 8th sub: 0.67\n",
            "lOFC for 9th sub: 0.77\n",
            "lOFC for 10th sub: 0.28\n",
            "\n",
            "***Average across test subjects Correlation Coefficient between predicted and actual BOLD averaged across each Voxel Prediction values for ROIs***\n",
            "\n",
            "dmPFC: 0.43\n",
            "ACC: 0.39\n",
            "AMY: 0.38\n",
            "Cau: 0.38\n",
            "dlPFC: 0.43\n",
            "INS: 0.54\n",
            "IPL: 0.51\n",
            "mCC: 0.33\n",
            "Nac: 0.41\n",
            "PCC: 0.47\n",
            "PCG: 0.38\n",
            "Prec: 0.55\n",
            "TP: 0.62\n",
            "Put: 0.35\n",
            "pSTS: 0.57\n",
            "VC: 0.26\n",
            "vlPFC: 0.5\n",
            "mOFC: 0.55\n",
            "mPFC: 0.41\n",
            "lOFC: 0.47\n"
          ]
        }
      ],
      "source": [
        "print(\"***Each Test Subject's Correlation Coefficient between predicted and actual BOLD averaged across each Voxel Prediction values for ROIs***\")\n",
        "print()\n",
        "avg_r = list()\n",
        "for i in range(len(ROI_names)):\n",
        "  actual_test_data_output = test_data_unscaled[i][:,LOOK_AHEAD:,:]\n",
        "  pred_test_data_output = np.transpose(np.array([scalers[ROI_names[i]][j].inverse_transform(np.hstack([preds[i][:,:,j], preds[i][:,:LOOK_AHEAD,j]])) for j in range(len(scalers[ROI_names[i]]))]), (1,2,0))[:,:-LOOK_AHEAD,:] \n",
        "  for j in range(NUM_TEST_SUBS):\n",
        "    print(f\"{ROI_names[i]} for {j+1}th sub: {np.round(np.trace(np.corrcoef(actual_test_data_output[j,:,:], pred_test_data_output[j,:,:], rowvar=False)[:actual_test_data_output.shape[-1], actual_test_data_output.shape[-1]:])/actual_test_data_output.shape[-1], 2)}\")\n",
        "  print()\n",
        "\n",
        "print(\"***Average across test subjects Correlation Coefficient between predicted and actual BOLD averaged across each Voxel Prediction values for ROIs***\")\n",
        "print()\n",
        "for i in range(len(ROI_names)):\n",
        "  actual_test_data_output = test_data_unscaled[i][:,LOOK_AHEAD:,:]\n",
        "  pred_test_data_output = np.transpose(np.array([scalers[ROI_names[i]][j].inverse_transform(np.hstack([preds[i][:,:,j], preds[i][:,:LOOK_AHEAD,j]])) for j in range(len(scalers[ROI_names[i]]))]), (1,2,0))[:,:-LOOK_AHEAD,:]\n",
        "  sum_r = 0\n",
        "  for j in range(NUM_TEST_SUBS):\n",
        "    sum_r += np.trace(np.corrcoef(actual_test_data_output[j,:,:], pred_test_data_output[j,:,:], rowvar=False)[:actual_test_data_output.shape[-1], actual_test_data_output.shape[-1]:]/actual_test_data_output.shape[-1])\n",
        "  print(f\"{ROI_names[i]}: {np.round(sum_r / NUM_TEST_SUBS, 2)}\")"
      ]
    },
    {
      "cell_type": "code",
      "execution_count": 35,
      "metadata": {
        "colab": {
          "base_uri": "https://localhost:8080/"
        },
        "id": "f8gPew9YMI2B",
        "outputId": "6f98ab96-689e-4367-9541-af7ed94d6929"
      },
      "outputs": [
        {
          "output_type": "stream",
          "name": "stdout",
          "text": [
            "***Model's Final Scaled MSE(Train) Loss between predicted and actual all voxel BOLD values for ROIs for the Train Subjects***\n",
            "\n",
            "dmPFC: 0.01082\n",
            "ACC: 0.00999\n",
            "AMY: 0.00662\n",
            "Cau: 0.00815\n",
            "dlPFC: 0.01285\n",
            "INS: 0.00631\n",
            "IPL: 0.01511\n",
            "mCC: 0.00822\n",
            "Nac: 0.00739\n",
            "PCC: 0.01074\n",
            "PCG: 0.02732\n",
            "Prec: 0.01261\n",
            "TP: 0.01128\n",
            "Put: 0.00363\n",
            "pSTS: 0.00747\n",
            "VC: 0.04543\n",
            "vlPFC: 0.01016\n",
            "mOFC: 0.01306\n",
            "mPFC: 0.01113\n",
            "lOFC: 0.0124\n",
            "\n",
            "***Model's Final MSE(Validation) Loss between predicted and actual all voxel BOLD values for ROIs for the Test Subjects***\n",
            "\n",
            "dmPFC: 0.00577\n",
            "ACC: 0.00585\n",
            "AMY: 0.0034\n",
            "Cau: 0.00484\n",
            "dlPFC: 0.00909\n",
            "INS: 0.00247\n",
            "IPL: 0.01176\n",
            "mCC: 0.00358\n",
            "Nac: 0.00299\n",
            "PCC: 0.00904\n",
            "PCG: 0.026\n",
            "Prec: 0.01047\n",
            "TP: 0.00445\n",
            "Put: 0.00101\n",
            "pSTS: 0.00229\n",
            "VC: 0.0359\n",
            "vlPFC: 0.00543\n",
            "mOFC: 0.00605\n",
            "mPFC: 0.00705\n",
            "lOFC: 0.00654\n"
          ]
        }
      ],
      "source": [
        "print(\"***Model's Final Scaled MSE(Train) Loss between predicted and actual all voxel BOLD values for ROIs for the Train Subjects***\")\n",
        "print()\n",
        "for i in range(len(ROI_names)):\n",
        "  print(ROI_names[i]+\":\", np.round(histories[i].history['loss'][-1], 5))\n",
        "print()\n",
        "print(\"***Model's Final MSE(Validation) Loss between predicted and actual all voxel BOLD values for ROIs for the Test Subjects***\")\n",
        "print()\n",
        "for i in range(len(ROI_names)):\n",
        "  print(ROI_names[i]+\":\", np.round(histories[i].history['val_loss'][-1], 5))"
      ]
    },
    {
      "cell_type": "code",
      "execution_count": 36,
      "metadata": {
        "colab": {
          "base_uri": "https://localhost:8080/"
        },
        "id": "EQ3FUO9eY5gO",
        "outputId": "6ec39566-f9b6-4780-ac01-c41a113d2482"
      },
      "outputs": [
        {
          "output_type": "stream",
          "name": "stdout",
          "text": [
            "***Model's Final MSE(Validation) Loss between predicted and actual all voxel BOLD values for ROIs for the Test Subjects***\n",
            "\n",
            "dmPFC for Each Validation Subject: [48.3314   33.166264 16.928362 14.970272 25.09789  53.945488 31.529259\n",
            " 14.864214 25.057947 44.48611 ]\n",
            "dmPFC : 30.837723\n",
            "ACC for Each Validation Subject: [17.696302  13.039174  22.927776  15.184244  14.18463   33.38955\n",
            " 17.707396  21.290089  11.870041  15.0960455]\n",
            "ACC : 18.238523\n",
            "AMY for Each Validation Subject: [23.06232   23.13047   22.283787  17.061604  17.6994    37.39724\n",
            " 14.2148695 22.406998  39.124245  19.783863 ]\n",
            "AMY : 23.616478\n",
            "Cau for Each Validation Subject: [17.483313  13.893307  24.80707   27.173683  22.190636  52.105694\n",
            "  7.2259665 27.895061  13.527458  12.9246645]\n",
            "Cau : 21.922686\n",
            "dlPFC for Each Validation Subject: [27.754278 17.054401 17.050653 15.105392 35.218376 37.237305 29.81918\n",
            " 23.023956 23.440668 24.537994]\n",
            "dlPFC : 25.02422\n",
            "INS for Each Validation Subject: [ 9.5601015  5.7811437  9.211283   8.811742   4.2481084  3.5850759\n",
            "  5.8545995 13.160659   8.525013   4.8721337]\n",
            "INS : 7.360986\n",
            "IPL for Each Validation Subject: [31.07547  19.931822 20.691896 58.045414 41.10336  50.03687  39.60658\n",
            " 26.927452 20.807877 25.711191]\n",
            "IPL : 33.39379\n",
            "mCC for Each Validation Subject: [ 9.811578  10.917524   7.7891903 11.607925  13.245647  20.677805\n",
            " 15.763987  22.959616   8.19126   10.742508 ]\n",
            "mCC : 13.170705\n",
            "Nac for Each Validation Subject: [ 7.3587794  4.5605645  9.605264  21.660057   8.344612  17.201006\n",
            "  2.7797701 10.884573   7.5314956  4.610369 ]\n",
            "Nac : 9.453649\n",
            "PCC for Each Validation Subject: [62.431652 14.770425 14.545769 10.552523 15.266295 63.07253  18.792055\n",
            " 13.258523 21.965672 22.986364]\n",
            "PCC : 25.764181\n",
            "PCG for Each Validation Subject: [ 93.3104   118.01284   37.81205   89.374535  76.392105 165.1712\n",
            " 148.95567  109.11305  179.70784   70.35124 ]\n",
            "PCG : 108.82009\n",
            "Prec for Each Validation Subject: [ 74.60137   62.396202  20.020987  30.611055  16.017334 122.93629\n",
            "  65.0143    23.632273  29.158962  35.19956 ]\n",
            "Prec : 47.95883\n",
            "TP for Each Validation Subject: [10.469386 15.247257 16.752972 11.565484 25.54368  22.974916 18.110361\n",
            " 22.913473 23.0705   36.75226 ]\n",
            "TP : 20.340029\n",
            "Put for Each Validation Subject: [ 2.6293364  3.9562798  4.4370937  3.6827009  2.3271878 11.349903\n",
            "  3.8358757  2.2662015  2.7638803  6.7443395]\n",
            "Put : 4.3992796\n",
            "pSTS for Each Validation Subject: [ 9.879988   5.456947  11.275593   5.9283524  9.362107   5.4464235\n",
            "  8.650355   8.913138   4.69288   15.714384 ]\n",
            "pSTS : 8.532017\n",
            "VC for Each Validation Subject: [224.97514   76.74514  145.99223   52.929688 207.29292  401.78674\n",
            "  88.651566 156.50052  118.59944  143.08601 ]\n",
            "VC : 161.65596\n",
            "vlPFC for Each Validation Subject: [18.96061   11.886547   5.9369287  9.182157  36.18485   17.12134\n",
            " 12.195197  17.33419   22.222597   7.94944  ]\n",
            "vlPFC : 15.897385\n",
            "mOFC for Each Validation Subject: [10.2049055 17.325268  27.099258  20.17099   34.624493  39.319786\n",
            " 14.708621  23.47335   15.656054  18.10638  ]\n",
            "mOFC : 22.06891\n",
            "mPFC for Each Validation Subject: [ 37.435764  31.185146  58.81603   61.054832  38.151806 167.26613\n",
            "  44.250473  27.064161  46.054157  23.096773]\n",
            "mPFC : 53.43753\n",
            "lOFC for Each Validation Subject: [18.897072 21.445864 21.404675 22.735    15.656676 22.543608 31.172186\n",
            " 12.58835  20.886438 17.493126]\n",
            "lOFC : 20.4823\n"
          ]
        }
      ],
      "source": [
        "print(\"***Model's Final MSE(Validation) Loss between predicted and actual all voxel BOLD values for ROIs for the Test Subjects***\")\n",
        "print()\n",
        "for i in range(len(ROI_names)):\n",
        "  actual_test_data_output = test_data_unscaled[i][:,LOOK_AHEAD:,:]\n",
        "  pred_test_data_output = np.transpose(np.array([scalers[ROI_names[i]][j].inverse_transform(np.hstack([preds[i][:,:,j], preds[i][:,:LOOK_AHEAD,j]])) for j in range(len(scalers[ROI_names[i]]))]), (1,2,0))[:,:-LOOK_AHEAD,:]\n",
        "  print(ROI_names[i]+\" for Each Validation Subject:\", np.mean(tf.keras.losses.mean_squared_error(actual_test_data_output, pred_test_data_output), axis=-1))\n",
        "  print(ROI_names[i]+\" :\", np.mean(np.mean(tf.keras.losses.mean_squared_error(actual_test_data_output, pred_test_data_output), axis=-1)))"
      ]
    },
    {
      "cell_type": "code",
      "execution_count": 36,
      "metadata": {
        "id": "vj_dqg--4sG6"
      },
      "outputs": [],
      "source": [
        ""
      ]
    }
  ],
  "metadata": {
    "accelerator": "GPU",
    "colab": {
      "collapsed_sections": [],
      "name": "Basic-LSTM-Model-All-Voxel-6.ipynb",
      "provenance": [],
      "authorship_tag": "ABX9TyOlMJQGmz0sV6nVpaZOIdqO"
    },
    "gpuClass": "standard",
    "kernelspec": {
      "display_name": "Python 3",
      "name": "python3"
    },
    "language_info": {
      "name": "python"
    }
  },
  "nbformat": 4,
  "nbformat_minor": 0
}