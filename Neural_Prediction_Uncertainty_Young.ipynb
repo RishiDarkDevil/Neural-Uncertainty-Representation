{
  "nbformat": 4,
  "nbformat_minor": 0,
  "metadata": {
    "colab": {
      "name": "Neural-Prediction-Uncertainty-Young.ipynb",
      "provenance": [],
      "authorship_tag": "ABX9TyMZAOeKVL5UX99/h5aiCmfZ"
    },
    "kernelspec": {
      "name": "python3",
      "display_name": "Python 3"
    },
    "language_info": {
      "name": "python"
    }
  },
  "cells": [
    {
      "cell_type": "markdown",
      "source": [
        "### Mounting Google Drive"
      ],
      "metadata": {
        "id": "ESNkUUOEoS8j"
      }
    },
    {
      "cell_type": "code",
      "execution_count": null,
      "metadata": {
        "id": "GWpiHXuGn6Oy"
      },
      "outputs": [],
      "source": [
        "from google.colab import drive\n",
        "drive.mount('/content/drive')"
      ]
    },
    {
      "cell_type": "code",
      "source": [
        "cd 'drive/MyDrive/IIT J Summer Internship 2022/Code/Neural-Uncertainty-Representation/'"
      ],
      "metadata": {
        "id": "bpxEP-yeoWPX"
      },
      "execution_count": null,
      "outputs": []
    },
    {
      "cell_type": "markdown",
      "source": [
        "### Importing Necessary Libraries\n"
      ],
      "metadata": {
        "id": "Hq9mNRMMomT7"
      }
    },
    {
      "cell_type": "code",
      "source": [
        "import numpy as np\n",
        "import pandas as pd\n",
        "\n",
        "import tensorflow as tf\n",
        "\n",
        "from tensorflow.keras.layers import Dense, Activation, Dropout, Input, LSTM, Reshape\n",
        "from tensorflow.keras.models import Model\n",
        "from tensorflow.keras.optimizers import Adam\n",
        "\n",
        "import matplotlib.pyplot as plt\n",
        "import os"
      ],
      "metadata": {
        "id": "SRXBkwcIogPe"
      },
      "execution_count": 28,
      "outputs": []
    },
    {
      "cell_type": "markdown",
      "source": [
        "### Importing Data\n",
        "We import the data of a young subject's 3D-Tensor Data of dimensions (TR, Voxel, Number of Subjects) for the 5 different ROIs as follows:\n",
        "- **Prefrontal areas:** dlPFC, vlPFC, lOFC, dmPFC, mPFC, mOFC\n",
        "\n"
      ],
      "metadata": {
        "id": "_R2-Cetmxned"
      }
    },
    {
      "cell_type": "code",
      "source": [
        "file_names = [name for name in os.listdir('/content/drive/MyDrive/IIT J Summer Internship 2022/Hitchcock/Data/YOUNG/Voxel_BOLD/Numpy') if name.endswith(\"npy\") and (\"(1)\" not in name) and (\"PFC\" in name) or (\"OFC\" in name)]\n",
        "file_names = [name for name in file_names if (\"537\" not in name)]"
      ],
      "metadata": {
        "id": "XUJPFBg1898z"
      },
      "execution_count": 23,
      "outputs": []
    },
    {
      "cell_type": "code",
      "source": [
        "data = list()\n",
        "for file_name in file_names:\n",
        "  data.append(np.load('/content/drive/MyDrive/IIT J Summer Internship 2022/Hitchcock/Data/YOUNG/Voxel_BOLD/Numpy/'+file_name))"
      ],
      "metadata": {
        "id": "Kg22rkIGpfP2"
      },
      "execution_count": 24,
      "outputs": []
    },
    {
      "cell_type": "markdown",
      "source": [
        "### Data Preparation"
      ],
      "metadata": {
        "id": "Kcaxzm8WDjgO"
      }
    },
    {
      "cell_type": "markdown",
      "source": [
        "We here prepare the data to feed it into Neural Network Based Architechtures for prediction of bold data one time step ahead."
      ],
      "metadata": {
        "id": "Ie-ySoOhDoHh"
      }
    },
    {
      "cell_type": "markdown",
      "source": [
        "We have changed the data in the form (Number of Subjects, TR, Voxels) below."
      ],
      "metadata": {
        "id": "-wIOccLpE0d-"
      }
    },
    {
      "cell_type": "code",
      "source": [
        "data = [np.transpose(dat, (2,0,1)) for dat in data]"
      ],
      "metadata": {
        "id": "0pHK54KjDnah"
      },
      "execution_count": 25,
      "outputs": []
    },
    {
      "cell_type": "code",
      "source": [
        "data[2].shape"
      ],
      "metadata": {
        "colab": {
          "base_uri": "https://localhost:8080/"
        },
        "id": "AZaUyUl0EwkY",
        "outputId": "23ad858d-d21f-44b0-f91b-bbf7ce667e3b"
      },
      "execution_count": 26,
      "outputs": [
        {
          "output_type": "execute_result",
          "data": {
            "text/plain": [
              "(111, 189, 1700)"
            ]
          },
          "metadata": {},
          "execution_count": 26
        }
      ]
    },
    {
      "cell_type": "markdown",
      "source": [
        "### Building Model"
      ],
      "metadata": {
        "id": "iG1Ya1XPL9e3"
      }
    },
    {
      "cell_type": "markdown",
      "source": [
        "We plan to go for a LSTM Model at first."
      ],
      "metadata": {
        "id": "JepcVXYmL_tt"
      }
    },
    {
      "cell_type": "code",
      "source": [
        "n_a = 64 # Number of hidden layer nodes"
      ],
      "metadata": {
        "id": "0Xa-goWmMxeF"
      },
      "execution_count": 33,
      "outputs": []
    },
    {
      "cell_type": "code",
      "source": [
        "reshaper = Reshape((1, data[0].shape[-1]))\n",
        "LSTM_cell = LSTM(n_a, return_state = True) \n",
        "densor = Dense(data[0].shape[-1]) "
      ],
      "metadata": {
        "id": "wnvpC2FcF9M3"
      },
      "execution_count": 34,
      "outputs": []
    },
    {
      "cell_type": "code",
      "source": [
        "def boldModel(Tx, LSTM_cell, densor, reshaper):\n",
        "    n_voxs = densor.units\n",
        "    n_a = LSTM_cell.units\n",
        "\n",
        "    X = Input(shape=(Tx, n_voxs)) \n",
        "\n",
        "    a0 = Input(shape=(n_a,), name='a0')\n",
        "    c0 = Input(shape=(n_a,), name='c0')\n",
        "    a = a0\n",
        "    c = c0\n",
        "    outputs = []\n",
        "    for t in range(Tx): \n",
        "        x = X[:,t,:]\n",
        "        x = reshaper(x)\n",
        "        a, _, c = LSTM_cell(inputs = x, initial_state = [a, c])\n",
        "        out = densor(a)\n",
        "        outputs.append(out)\n",
        "        \n",
        "    model = Model(inputs=[X, a0, c0], outputs=outputs)\n",
        "    return model"
      ],
      "metadata": {
        "id": "Cg3rWXM5WeQ6"
      },
      "execution_count": null,
      "outputs": []
    }
  ]
}