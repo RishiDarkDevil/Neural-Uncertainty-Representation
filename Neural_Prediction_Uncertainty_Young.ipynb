{
  "nbformat": 4,
  "nbformat_minor": 0,
  "metadata": {
    "colab": {
      "name": "Neural-Prediction-Uncertainty-Young.ipynb",
      "provenance": [],
      "collapsed_sections": [],
      "authorship_tag": "ABX9TyPut9gpNu1IfuT/ExLSnK2u"
    },
    "kernelspec": {
      "name": "python3",
      "display_name": "Python 3"
    },
    "language_info": {
      "name": "python"
    },
    "accelerator": "GPU",
    "gpuClass": "standard"
  },
  "cells": [
    {
      "cell_type": "markdown",
      "source": [
        "### Mounting Google Drive"
      ],
      "metadata": {
        "id": "ESNkUUOEoS8j"
      }
    },
    {
      "cell_type": "code",
      "execution_count": null,
      "metadata": {
        "id": "GWpiHXuGn6Oy"
      },
      "outputs": [],
      "source": [
        "from google.colab import drive\n",
        "drive.mount('/content/drive')"
      ]
    },
    {
      "cell_type": "code",
      "source": [
        "cd 'drive/MyDrive/IIT J Summer Internship 2022/Code/Neural-Uncertainty-Representation/'"
      ],
      "metadata": {
        "id": "bpxEP-yeoWPX"
      },
      "execution_count": null,
      "outputs": []
    },
    {
      "cell_type": "markdown",
      "source": [
        "### Importing Necessary Libraries\n"
      ],
      "metadata": {
        "id": "Hq9mNRMMomT7"
      }
    },
    {
      "cell_type": "code",
      "source": [
        "import numpy as np\n",
        "import pandas as pd\n",
        "\n",
        "import tensorflow as tf\n",
        "\n",
        "from tensorflow.keras.layers import Dense, Activation, Dropout, Input, LSTM, Reshape, TimeDistributed\n",
        "from tensorflow.keras.models import Sequential\n",
        "from tensorflow.keras.optimizers import Adam\n",
        "\n",
        "from sklearn.preprocessing import MinMaxScaler\n",
        "\n",
        "import matplotlib.pyplot as plt\n",
        "import os"
      ],
      "metadata": {
        "id": "SRXBkwcIogPe"
      },
      "execution_count": null,
      "outputs": []
    },
    {
      "cell_type": "markdown",
      "source": [
        "### Importing Data\n",
        "We import the data of a young subject's 3D-Tensor Data of dimensions (TR, Voxel, Number of Subjects) for the 5 different ROIs as follows:\n",
        "- **Prefrontal areas:** dlPFC, vlPFC, lOFC, dmPFC, mPFC, mOFC\n",
        "\n"
      ],
      "metadata": {
        "id": "_R2-Cetmxned"
      }
    },
    {
      "cell_type": "code",
      "source": [
        "file_names = [name for name in os.listdir('/content/drive/MyDrive/IIT J Summer Internship 2022/Hitchcock/Data/YOUNG/Voxel_BOLD/Numpy') if name.endswith(\"npy\") and (\"(1)\" not in name) and (\"PFC\" in name) or (\"OFC\" in name)]\n",
        "file_names = [name for name in file_names if (\"537\" not in name)]"
      ],
      "metadata": {
        "id": "XUJPFBg1898z"
      },
      "execution_count": null,
      "outputs": []
    },
    {
      "cell_type": "code",
      "source": [
        "ROI_names = [file_name.replace(\"data_\",\"\").replace(\".npy\",\"\") for file_name in file_names]"
      ],
      "metadata": {
        "id": "5lVnzf5N_Ufy"
      },
      "execution_count": null,
      "outputs": []
    },
    {
      "cell_type": "code",
      "source": [
        "data_ori = list()\n",
        "for file_name in file_names:\n",
        "  data_ori.append(np.load('/content/drive/MyDrive/IIT J Summer Internship 2022/Hitchcock/Data/YOUNG/Voxel_BOLD/Numpy/'+file_name))"
      ],
      "metadata": {
        "id": "Kg22rkIGpfP2"
      },
      "execution_count": null,
      "outputs": []
    },
    {
      "cell_type": "markdown",
      "source": [
        "### Data Preparation"
      ],
      "metadata": {
        "id": "Kcaxzm8WDjgO"
      }
    },
    {
      "cell_type": "markdown",
      "source": [
        "Now, here we prepare the data to be fed to the Neural Network Architechtures. We can't predict the time ahead upto which the subjects are predicting correctly so, we will take a bit round about way to predict the BOLD values ahead in time(for several choices of time points e.g. 1 time point ahead, 2 time point ahead, etc) and will compare the results for young and old subjects."
      ],
      "metadata": {
        "id": "K9rJ8CAb97K2"
      }
    },
    {
      "cell_type": "markdown",
      "source": [
        "We will start a basic data preparation where we will average across all the voxels for a ROI and fit the model which predicts this average BOLD value. Later we will avoid doing an average since, all voxels in a ROI is not equally important and hence we will want to predict the BOLD values of several voxels simultaneously."
      ],
      "metadata": {
        "id": "TYuu8ZM2-u9z"
      }
    },
    {
      "cell_type": "code",
      "source": [
        "data = [np.mean(dat, axis=1, keepdims=True) for dat in data_ori]"
      ],
      "metadata": {
        "id": "pFvaFL69geft"
      },
      "execution_count": null,
      "outputs": []
    },
    {
      "cell_type": "markdown",
      "source": [
        "Let's Start the Data Preparation for lOFC later we will iterate the same procedure for the other ROIs."
      ],
      "metadata": {
        "id": "mY3usMssn3T5"
      }
    },
    {
      "cell_type": "code",
      "source": [
        "data[-1].shape"
      ],
      "metadata": {
        "colab": {
          "base_uri": "https://localhost:8080/"
        },
        "id": "71dv3Zkcgu3N",
        "outputId": "0fad6727-4d9f-4c91-ff3e-c9bb44fc3e83"
      },
      "execution_count": null,
      "outputs": [
        {
          "output_type": "execute_result",
          "data": {
            "text/plain": [
              "(189, 1, 111)"
            ]
          },
          "metadata": {},
          "execution_count": 8
        }
      ]
    },
    {
      "cell_type": "code",
      "source": [
        "plt.figure(figsize=(10, 6))\n",
        "plt.plot(data[-1][0,0,:])\n",
        "plt.title(\"Average BOLD for \"+ROI_names[-1])"
      ],
      "metadata": {
        "colab": {
          "base_uri": "https://localhost:8080/",
          "height": 407
        },
        "id": "AseI4ZNeg26E",
        "outputId": "23649e6d-6542-4fcb-e6f1-514188bc05aa"
      },
      "execution_count": null,
      "outputs": [
        {
          "output_type": "execute_result",
          "data": {
            "text/plain": [
              "Text(0.5, 1.0, 'Average BOLD for lOFC')"
            ]
          },
          "metadata": {},
          "execution_count": 9
        },
        {
          "output_type": "display_data",
          "data": {
            "text/plain": [
              "<Figure size 720x432 with 1 Axes>"
            ],
            "image/png": "[encoded data removed]"
          },
          "metadata": {
            "needs_background": "light"
          }
        }
      ]
    },
    {
      "cell_type": "markdown",
      "source": [
        "We have changed the data in the form (Number of Subjects, TR, Voxels) below."
      ],
      "metadata": {
        "id": "-wIOccLpE0d-"
      }
    },
    {
      "cell_type": "code",
      "source": [
        "data = [np.transpose(dat, (2,0,1)) for dat in data]"
      ],
      "metadata": {
        "id": "0pHK54KjDnah"
      },
      "execution_count": null,
      "outputs": []
    },
    {
      "cell_type": "code",
      "source": [
        "data[-1].shape"
      ],
      "metadata": {
        "colab": {
          "base_uri": "https://localhost:8080/"
        },
        "id": "HRXHJ1cwgrzp",
        "outputId": "2e29eb42-f8e8-4eb2-b029-d36a29cd2bc8"
      },
      "execution_count": null,
      "outputs": [
        {
          "output_type": "execute_result",
          "data": {
            "text/plain": [
              "(111, 189, 1)"
            ]
          },
          "metadata": {},
          "execution_count": 11
        }
      ]
    },
    {
      "cell_type": "markdown",
      "source": [
        "We split the dataset of 111 young subjects into 110 subjects in the training data and 1 subject in the test data."
      ],
      "metadata": {
        "id": "gg50q17pp5xQ"
      }
    },
    {
      "cell_type": "code",
      "source": [
        "train_data_unscaled = data[-1][:-1]\n",
        "test_data_unscaled = np.expand_dims(data[-1][-1], axis=0)  "
      ],
      "metadata": {
        "id": "hrldyz8XnDlv"
      },
      "execution_count": null,
      "outputs": []
    },
    {
      "cell_type": "markdown",
      "source": [
        "We scaled the BOLD values of each voxel in the train data between 0 and 1 for each voxel. We use the same MinMaxScaler fit on the train data on the test data."
      ],
      "metadata": {
        "id": "MDV7H0sYt6jd"
      }
    },
    {
      "cell_type": "code",
      "source": [
        "sc = MinMaxScaler(feature_range = (0, 1))\n",
        "train_data = sc.fit_transform(train_data_unscaled[:,:,0])\n",
        "test_data = sc.transform(test_data_unscaled[:,:,0])"
      ],
      "metadata": {
        "id": "-xkJQLj3tORj"
      },
      "execution_count": null,
      "outputs": []
    },
    {
      "cell_type": "code",
      "source": [
        "train_data = np.expand_dims(train_data, axis = -1)\n",
        "test_data = np.expand_dims(test_data, axis = -1)"
      ],
      "metadata": {
        "id": "Ail126iVuR6s"
      },
      "execution_count": null,
      "outputs": []
    },
    {
      "cell_type": "code",
      "source": [
        "print(\"Train Data Shape: \", train_data.shape)\n",
        "print(\"Test Data Shape: \", test_data.shape)"
      ],
      "metadata": {
        "colab": {
          "base_uri": "https://localhost:8080/"
        },
        "id": "_cOAv_VrnbLU",
        "outputId": "45cee61a-054d-45c9-eb5d-98434b319e02"
      },
      "execution_count": null,
      "outputs": [
        {
          "output_type": "stream",
          "name": "stdout",
          "text": [
            "Train Data Shape:  (110, 189, 1)\n",
            "Test Data Shape:  (1, 189, 1)\n"
          ]
        }
      ]
    },
    {
      "cell_type": "markdown",
      "source": [
        "We now build a data generator which would produce mini-batches during the training of the neural network."
      ],
      "metadata": {
        "id": "0yjlAwWeiEru"
      }
    },
    {
      "cell_type": "code",
      "source": [
        "class KerasBatchGenerator(object):\n",
        "    def __init__(self, data, num_TRs, batch_size, look_ahead=1):\n",
        "        self.data = data\n",
        "        self.num_TRs = num_TRs\n",
        "        self.batch_size = batch_size\n",
        "        self.current_idx = 0\n",
        "        self.look_ahead = look_ahead\n",
        "\n",
        "    def generate(self):\n",
        "        while True:\n",
        "            if self.current_idx + self.batch_size >= self.data.shape[0]:\n",
        "              self.current_idx = 0\n",
        "            x = self.data[self.current_idx:(self.current_idx+self.batch_size),:(-self.look_ahead),:]\n",
        "            y = self.data[self.current_idx:(self.current_idx+self.batch_size),self.look_ahead:,:]\n",
        "            self.current_idx = self.current_idx + self.batch_size\n",
        "            yield x, y "
      ],
      "metadata": {
        "id": "Blko7LXpgtwA"
      },
      "execution_count": null,
      "outputs": []
    },
    {
      "cell_type": "code",
      "source": [
        "train_data_generator = KerasBatchGenerator(train_data, train_data.shape[1], 16, 1)\n",
        "test_data_generator = KerasBatchGenerator(test_data, test_data.shape[1], 1, 1)"
      ],
      "metadata": {
        "id": "lZN56Eg3mrsc"
      },
      "execution_count": null,
      "outputs": []
    },
    {
      "cell_type": "code",
      "source": [
        "batch_x, batch_y = next(train_data_generator.generate())\n",
        "print(\"Train Batch X Shape: \", batch_x.shape)\n",
        "print(\"Train Batch y Shape: \", batch_y.shape)"
      ],
      "metadata": {
        "colab": {
          "base_uri": "https://localhost:8080/"
        },
        "id": "5UPT6iRxpJ7c",
        "outputId": "162463c3-974d-4a01-c216-cb43159739b8"
      },
      "execution_count": null,
      "outputs": [
        {
          "output_type": "stream",
          "name": "stdout",
          "text": [
            "Train Batch X Shape:  (16, 188, 1)\n",
            "Train Batch y Shape:  (16, 188, 1)\n"
          ]
        }
      ]
    },
    {
      "cell_type": "code",
      "source": [
        "batch_x, batch_y = next(test_data_generator.generate())\n",
        "print(\"Test Batch X Shape: \", batch_x.shape)\n",
        "print(\"Test Batch y Shape: \", batch_y.shape)"
      ],
      "metadata": {
        "colab": {
          "base_uri": "https://localhost:8080/"
        },
        "id": "Clavfro-pSEV",
        "outputId": "fe357e08-35de-4e86-b746-334e9cd3a130"
      },
      "execution_count": null,
      "outputs": [
        {
          "output_type": "stream",
          "name": "stdout",
          "text": [
            "Test Batch X Shape:  (1, 188, 1)\n",
            "Test Batch y Shape:  (1, 188, 1)\n"
          ]
        }
      ]
    },
    {
      "cell_type": "markdown",
      "source": [
        "### Building Model"
      ],
      "metadata": {
        "id": "31NRewZjqoi1"
      }
    },
    {
      "cell_type": "markdown",
      "source": [
        "We will start off by building a Single Layer Deep LSTM Model."
      ],
      "metadata": {
        "id": "8Ry-jGmHqqx0"
      }
    },
    {
      "cell_type": "code",
      "source": [
        "model = Sequential()\n",
        "model.add(LSTM(16, return_sequences=True))\n",
        "model.add(Dropout(0.3))\n",
        "model.add(TimeDistributed(Dense(1)))"
      ],
      "metadata": {
        "id": "fqoXwHTTqqCR"
      },
      "execution_count": null,
      "outputs": []
    },
    {
      "cell_type": "code",
      "source": [
        "model.build(input_shape=test_data.shape)\n",
        "model.summary()"
      ],
      "metadata": {
        "colab": {
          "base_uri": "https://localhost:8080/"
        },
        "id": "nYHgnyz-v5nA",
        "outputId": "53cb2135-c81a-4a85-8bb7-869ff3365045"
      },
      "execution_count": null,
      "outputs": [
        {
          "output_type": "stream",
          "name": "stdout",
          "text": [
            "Model: \"sequential\"\n",
            "_________________________________________________________________\n",
            " Layer (type)                Output Shape              Param #   \n",
            "=================================================================\n",
            " lstm (LSTM)                 (1, 189, 16)              1152      \n",
            "                                                                 \n",
            " dropout (Dropout)           (1, 189, 16)              0         \n",
            "                                                                 \n",
            " time_distributed (TimeDistr  (1, 189, 1)              17        \n",
            " ibuted)                                                         \n",
            "                                                                 \n",
            "=================================================================\n",
            "Total params: 1,169\n",
            "Trainable params: 1,169\n",
            "Non-trainable params: 0\n",
            "_________________________________________________________________\n"
          ]
        }
      ]
    },
    {
      "cell_type": "code",
      "source": [
        "# I am already trained the model hence I commented the following lines\n",
        "# model.compile(optimizer = 'adam', loss = 'mean_squared_error')"
      ],
      "metadata": {
        "id": "kf-dFQmfzqTA"
      },
      "execution_count": null,
      "outputs": []
    },
    {
      "cell_type": "code",
      "source": [
        "# num_epochs = 100\n",
        "# checkpointer = tf.keras.callbacks.ModelCheckpoint(filepath=\"./Models/LSTM-H16-lOFC/\", verbose=1)"
      ],
      "metadata": {
        "id": "vcZsfhkz3lCH"
      },
      "execution_count": null,
      "outputs": []
    },
    {
      "cell_type": "code",
      "source": [
        "# with tf.device('/device:GPU:0'):\n",
        "#     model.fit_generator(train_data_generator.generate(), train_data.shape[0]//16, num_epochs,\n",
        "#                         validation_data=test_data_generator.generate(),\n",
        "#                         validation_steps=test_data.shape[0]//1, callbacks=[checkpointer])"
      ],
      "metadata": {
        "id": "AFb-kTLR21hl"
      },
      "execution_count": null,
      "outputs": []
    },
    {
      "cell_type": "code",
      "source": [
        "preds = model.predict(test_data)"
      ],
      "metadata": {
        "id": "7mpQ5Rap6kQ0"
      },
      "execution_count": null,
      "outputs": []
    },
    {
      "cell_type": "code",
      "source": [
        "plt.figure(figsize=(10, 6))\n",
        "plt.plot(np.squeeze(test_data))\n",
        "plt.plot(np.squeeze(preds))\n",
        "plt.ylabel(\"Average BOLD\")\n",
        "plt.xlabel(\"TRs\")\n",
        "plt.title(\"Average BOLD for Last Subject's \"+ROI_names[-1])"
      ],
      "metadata": {
        "colab": {
          "base_uri": "https://localhost:8080/",
          "height": 421
        },
        "id": "WBLOHLixAWnk",
        "outputId": "4dfe1831-e70b-40dd-b54c-8bd9ad2adda3"
      },
      "execution_count": null,
      "outputs": [
        {
          "output_type": "execute_result",
          "data": {
            "text/plain": [
              "Text(0.5, 1.0, \"Average BOLD for Last Subject's lOFC\")"
            ]
          },
          "metadata": {},
          "execution_count": 34
        },
        {
          "output_type": "display_data",
          "data": {
            "text/plain": [
              "<Figure size 720x432 with 1 Axes>"
            ],
            "image/png": "[encoded data removed]"
          },
          "metadata": {
            "needs_background": "light"
          }
        }
      ]
    }
  ]
}