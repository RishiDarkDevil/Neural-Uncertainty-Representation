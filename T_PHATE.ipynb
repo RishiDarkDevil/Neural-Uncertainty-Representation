{
  "cells": [
    {
      "cell_type": "markdown",
      "source": [
        "### Mounting Google Drive"
      ],
      "metadata": {
        "id": "I-YamcGilsGa"
      },
      "id": "I-YamcGilsGa"
    },
    {
      "cell_type": "code",
      "source": [
        "from google.colab import drive\n",
        "drive.mount('/content/drive')"
      ],
      "metadata": {
        "id": "NetB0WaAlrhn"
      },
      "id": "NetB0WaAlrhn",
      "execution_count": null,
      "outputs": []
    },
    {
      "cell_type": "code",
      "source": [
        "cd 'drive/Othercomputers/My Laptop (1)/MY COLLEGE/ISI KOLKATA/PROJECTS/IIT J Summer Internship 2022/Code/Neural-Uncertainty-Representation/'"
      ],
      "metadata": {
        "id": "ztGEGtA2l0vb"
      },
      "id": "ztGEGtA2l0vb",
      "execution_count": null,
      "outputs": []
    },
    {
      "cell_type": "markdown",
      "id": "af2c797e",
      "metadata": {
        "id": "af2c797e"
      },
      "source": [
        "### Importing necessary libraries"
      ]
    },
    {
      "cell_type": "code",
      "source": [
        "!pip install phate\n",
        "!pip install scprep"
      ],
      "metadata": {
        "id": "S5LezeiKXrm2"
      },
      "id": "S5LezeiKXrm2",
      "execution_count": null,
      "outputs": []
    },
    {
      "cell_type": "code",
      "execution_count": 7,
      "id": "a1aad3f6",
      "metadata": {
        "id": "a1aad3f6"
      },
      "outputs": [],
      "source": [
        "import numpy as np\n",
        "import phate as ph\n",
        "import pandas as pd\n",
        "import scprep as scp"
      ]
    },
    {
      "cell_type": "markdown",
      "id": "8285fc63",
      "metadata": {
        "id": "8285fc63"
      },
      "source": [
        "### Importing Data"
      ]
    },
    {
      "cell_type": "markdown",
      "id": "65da5d62",
      "metadata": {
        "id": "65da5d62"
      },
      "source": [
        "We import the data of a young subject"
      ]
    },
    {
      "cell_type": "code",
      "execution_count": 8,
      "id": "454ff34a",
      "metadata": {
        "id": "454ff34a"
      },
      "outputs": [],
      "source": [
        "data_lOFC = np.load('YOUNG/data_lOFC.npy')"
      ]
    },
    {
      "cell_type": "code",
      "source": [
        "data_lOFC_avg = np.mean(data_lOFC, axis=2)"
      ],
      "metadata": {
        "id": "ibYpkmuYmDD2"
      },
      "id": "ibYpkmuYmDD2",
      "execution_count": 9,
      "outputs": []
    },
    {
      "cell_type": "code",
      "source": [
        "data_lOFC_avg.shape"
      ],
      "metadata": {
        "colab": {
          "base_uri": "https://localhost:8080/"
        },
        "id": "qLPXTE6Kma6-",
        "outputId": "cf8e5e4c-2a16-498b-8e6e-35d7c681f91a"
      },
      "id": "qLPXTE6Kma6-",
      "execution_count": 11,
      "outputs": [
        {
          "output_type": "execute_result",
          "data": {
            "text/plain": [
              "(189, 1700)"
            ]
          },
          "metadata": {},
          "execution_count": 11
        }
      ]
    },
    {
      "cell_type": "markdown",
      "id": "e366cbdc",
      "metadata": {
        "id": "e366cbdc"
      },
      "source": [
        "Finding auto-correlation function for each voxel time series"
      ]
    },
    {
      "cell_type": "code",
      "execution_count": 20,
      "id": "fedb6291",
      "metadata": {
        "id": "fedb6291"
      },
      "outputs": [],
      "source": [
        "# Calculates the Autocovariance of a time series Xi with given lag\n",
        "# Dimension of Xi should be 1 x length of time series\n",
        "def autocovariance(Xi, lag):\n",
        "    X_mean = np.mean(Xi, axis=1, keepdims=True)\n",
        "    if lag != 0:\n",
        "        autocov = np.dot((Xi[:,lag:]-X_mean), (Xi[:,:-lag]-X_mean).T)/(Xi.shape[1]-1)\n",
        "    else:\n",
        "        autocov = np.dot((Xi[:,:]-X_mean), (Xi[:,:]-X_mean).T)/(Xi.shape[1]-1)\n",
        "    return autocov\n",
        "\n",
        "# Calculates the Autocorrelation of the time series xi with given lag\n",
        "# Dimension of Xi should be 1 x length of time series\n",
        "def autocorrelation(Xi, lag):\n",
        "    return autocovariance(Xi, lag)/autocovariance(Xi, 0)"
      ]
    },
    {
      "cell_type": "code",
      "execution_count": 44,
      "id": "dd6213a4",
      "metadata": {
        "id": "dd6213a4"
      },
      "outputs": [],
      "source": [
        "acf = {}\n",
        "for i in range(0, data_lOFC_avg.shape[0]):\n",
        "    acf[i] = np.trace(autocorrelation((data_lOFC_avg.T), i))/data_lOFC_avg.shape[1]"
      ]
    },
    {
      "cell_type": "code",
      "source": [
        "acf"
      ],
      "metadata": {
        "colab": {
          "base_uri": "https://localhost:8080/"
        },
        "id": "rARSTE70rhOC",
        "outputId": "fe11a4e7-4ba4-4a12-95c1-b22a04721e1d"
      },
      "id": "rARSTE70rhOC",
      "execution_count": 45,
      "outputs": [
        {
          "output_type": "execute_result",
          "data": {
            "text/plain": [
              "{0: 1.0,\n",
              " 1: 0.8549318163121004,\n",
              " 2: 0.7060016347458382,\n",
              " 3: 0.6053820297490093,\n",
              " 4: 0.5339374031904184,\n",
              " 5: 0.4974922565924147,\n",
              " 6: 0.46712527723597125,\n",
              " 7: 0.44238658673923925,\n",
              " 8: 0.42381133500935514,\n",
              " 9: 0.40720764688424615,\n",
              " 10: 0.37843776514018157,\n",
              " 11: 0.3380606665556006,\n",
              " 12: 0.31443455203064224,\n",
              " 13: 0.32092970892925204,\n",
              " 14: 0.3322106328630926,\n",
              " 15: 0.3542175100307918,\n",
              " 16: 0.3520187221383766,\n",
              " 17: 0.3369809367641745,\n",
              " 18: 0.31400555942903735,\n",
              " 19: 0.29352289935498577,\n",
              " 20: 0.2755787819889186,\n",
              " 21: 0.2564215836118855,\n",
              " 22: 0.25397925410471334,\n",
              " 23: 0.2516889649823876,\n",
              " 24: 0.24617413006731237,\n",
              " 25: 0.22182073531295535,\n",
              " 26: 0.18744021323198345,\n",
              " 27: 0.1558068948208721,\n",
              " 28: 0.12424409455726151,\n",
              " 29: 0.12640517298828452,\n",
              " 30: 0.15466155019832434,\n",
              " 31: 0.17365948130147804,\n",
              " 32: 0.18185063810222266,\n",
              " 33: 0.1669751181489003,\n",
              " 34: 0.1466026886168055,\n",
              " 35: 0.13433106674764217,\n",
              " 36: 0.11216505346044711,\n",
              " 37: 0.09500730707097686,\n",
              " 38: 0.07621165627061911,\n",
              " 39: 0.062100619417406355,\n",
              " 40: 0.056931864183572815,\n",
              " 41: 0.02897394439267409,\n",
              " 42: -0.007992935278502596,\n",
              " 43: -0.03481945608730262,\n",
              " 44: -0.038715527024886544,\n",
              " 45: -0.025675580170110224,\n",
              " 46: -0.014640462586054476,\n",
              " 47: -0.009182923988788071,\n",
              " 48: -0.0089989053245769,\n",
              " 49: 0.0018244513459585345,\n",
              " 50: 0.021827444009329518,\n",
              " 51: 0.037197769514811636,\n",
              " 52: 0.051865851642836545,\n",
              " 53: 0.06605601348929255,\n",
              " 54: 0.06103146707220286,\n",
              " 55: 0.05533960374057648,\n",
              " 56: 0.05025546548097586,\n",
              " 57: 0.03702139070354716,\n",
              " 58: 0.02399077213359552,\n",
              " 59: 0.008679067345132945,\n",
              " 60: -0.0021593894360674667,\n",
              " 61: -0.01832883028892371,\n",
              " 62: -0.03893646126220672,\n",
              " 63: -0.0644088198087634,\n",
              " 64: -0.08005386086298692,\n",
              " 65: -0.08129501417914642,\n",
              " 66: -0.0908797694157076,\n",
              " 67: -0.08854617400008044,\n",
              " 68: -0.06883144760395515,\n",
              " 69: -0.04324072050501638,\n",
              " 70: -0.02531323995612629,\n",
              " 71: -0.015685567252067854,\n",
              " 72: -0.015694741253048622,\n",
              " 73: -0.02767046501746515,\n",
              " 74: -0.0338091944883262,\n",
              " 75: -0.033672079682018526,\n",
              " 76: -0.0321127034123138,\n",
              " 77: -0.028362164572362798,\n",
              " 78: -0.030239893652779414,\n",
              " 79: -0.04331040110825219,\n",
              " 80: -0.05521040241521025,\n",
              " 81: -0.06804698249002174,\n",
              " 82: -0.0715867237086218,\n",
              " 83: -0.06527449327330616,\n",
              " 84: -0.04993897096643396,\n",
              " 85: -0.03721079029612553,\n",
              " 86: -0.03888081979921703,\n",
              " 87: -0.0357196937166669,\n",
              " 88: -0.043325980860290506,\n",
              " 89: -0.04757438491158201,\n",
              " 90: -0.04813449108403089,\n",
              " 91: -0.04383302391423847,\n",
              " 92: -0.04045396528879403,\n",
              " 93: -0.0434207308693524,\n",
              " 94: -0.05095056698140704,\n",
              " 95: -0.05734215157790881,\n",
              " 96: -0.06737244626307322,\n",
              " 97: -0.07520828979748548,\n",
              " 98: -0.08244149934133013,\n",
              " 99: -0.08121833010051559,\n",
              " 100: -0.06812348322078848,\n",
              " 101: -0.05935605552990173,\n",
              " 102: -0.04873767438403286,\n",
              " 103: -0.04583857037987278,\n",
              " 104: -0.03725043380169796,\n",
              " 105: -0.035886933487858035,\n",
              " 106: -0.04736964930788832,\n",
              " 107: -0.06292129074796216,\n",
              " 108: -0.075596790011478,\n",
              " 109: -0.07607882361607429,\n",
              " 110: -0.07620236871188701,\n",
              " 111: -0.08284417339897951,\n",
              " 112: -0.09510675739202724,\n",
              " 113: -0.10399305800292395,\n",
              " 114: -0.11743699033169987,\n",
              " 115: -0.14210652771233484,\n",
              " 116: -0.16446512660784773,\n",
              " 117: -0.1769263916015914,\n",
              " 118: -0.17740740101478147,\n",
              " 119: -0.1622284500348069,\n",
              " 120: -0.1575580602732909,\n",
              " 121: -0.15762185784568533,\n",
              " 122: -0.15203998830545817,\n",
              " 123: -0.1563463886413889,\n",
              " 124: -0.1598161529004917,\n",
              " 125: -0.16465648682858386,\n",
              " 126: -0.1651802513285916,\n",
              " 127: -0.1552065246662726,\n",
              " 128: -0.1518378088443703,\n",
              " 129: -0.14670731351626484,\n",
              " 130: -0.14138900150525624,\n",
              " 131: -0.1484285099512628,\n",
              " 132: -0.1624525540032318,\n",
              " 133: -0.18106750809019515,\n",
              " 134: -0.18711902731298213,\n",
              " 135: -0.18079181578762285,\n",
              " 136: -0.1719958630676343,\n",
              " 137: -0.16758370838539924,\n",
              " 138: -0.17889596273411396,\n",
              " 139: -0.19586162448443037,\n",
              " 140: -0.20305880707230495,\n",
              " 141: -0.20325421780119232,\n",
              " 142: -0.20268395852441853,\n",
              " 143: -0.2035453587907155,\n",
              " 144: -0.2027775041419644,\n",
              " 145: -0.1990927304698112,\n",
              " 146: -0.19710529190741682,\n",
              " 147: -0.20620775193033078,\n",
              " 148: -0.21595117412870468,\n",
              " 149: -0.21131349225402166,\n",
              " 150: -0.20007526458535882,\n",
              " 151: -0.1912753203600128,\n",
              " 152: -0.18688047129351992,\n",
              " 153: -0.18098424533282537,\n",
              " 154: -0.1662222984173955,\n",
              " 155: -0.15552189979731157,\n",
              " 156: -0.15138306740694554,\n",
              " 157: -0.15025639029020837,\n",
              " 158: -0.14959874449060231,\n",
              " 159: -0.1390453645670892,\n",
              " 160: -0.12328186423177001,\n",
              " 161: -0.11178798257493312,\n",
              " 162: -0.1008081278572924,\n",
              " 163: -0.09967508775692162,\n",
              " 164: -0.09670807468926057,\n",
              " 165: -0.09420988729116579,\n",
              " 166: -0.09444459172122892,\n",
              " 167: -0.091600946645831,\n",
              " 168: -0.08698355443253844,\n",
              " 169: -0.07836683119911747,\n",
              " 170: -0.06934137829017559,\n",
              " 171: -0.06504254995855849,\n",
              " 172: -0.06521721194737354,\n",
              " 173: -0.06700218690359142,\n",
              " 174: -0.06379423240191598,\n",
              " 175: -0.05896353789057321,\n",
              " 176: -0.0549220595539992,\n",
              " 177: -0.04743398958798498,\n",
              " 178: -0.041734756323338104,\n",
              " 179: -0.03755454737555893,\n",
              " 180: -0.0346189647972725,\n",
              " 181: -0.03281018970203867,\n",
              " 182: -0.028827712126661256,\n",
              " 183: -0.023973696403361115,\n",
              " 184: -0.018591423484329545,\n",
              " 185: -0.012721729937090882,\n",
              " 186: -0.00933133076863099,\n",
              " 187: -0.004920901013192961,\n",
              " 188: -0.0021575256803644366}"
            ]
          },
          "metadata": {},
          "execution_count": 45
        }
      ]
    },
    {
      "cell_type": "code",
      "source": [
        "autocovariance((data_lOFC_avg.T)[np.newaxis,1,:], 1)"
      ],
      "metadata": {
        "colab": {
          "base_uri": "https://localhost:8080/"
        },
        "id": "WO6XV3Yqmxad",
        "outputId": "588d0c30-0eb2-48b7-959a-47d7b4991b01"
      },
      "id": "WO6XV3Yqmxad",
      "execution_count": 35,
      "outputs": [
        {
          "output_type": "execute_result",
          "data": {
            "text/plain": [
              "array([[0.02683063]])"
            ]
          },
          "metadata": {},
          "execution_count": 35
        }
      ]
    },
    {
      "cell_type": "code",
      "source": [
        "A = np.zeros((data_lOFC_avg.shape[0], data_lOFC_avg.shape[0]))"
      ],
      "metadata": {
        "id": "mgSgKJvQq7OO"
      },
      "id": "mgSgKJvQq7OO",
      "execution_count": 59,
      "outputs": []
    },
    {
      "cell_type": "code",
      "source": [
        "for i in range(data_lOFC_avg.shape[0]):\n",
        "  for j in range(data_lOFC_avg.shape[0]):\n",
        "    if np.abs(i-j) <= 60 and np.abs(i-j) > 0:\n",
        "      A[i, j] = acf[np.abs(i-j)]"
      ],
      "metadata": {
        "id": "VxFi8Z7ssvPG"
      },
      "id": "VxFi8Z7ssvPG",
      "execution_count": 60,
      "outputs": []
    },
    {
      "cell_type": "code",
      "source": [
        "A"
      ],
      "metadata": {
        "colab": {
          "base_uri": "https://localhost:8080/"
        },
        "id": "AZOozWsEtK0m",
        "outputId": "1d781add-557a-4f5d-f0d8-222a625b6d7f"
      },
      "id": "AZOozWsEtK0m",
      "execution_count": 61,
      "outputs": [
        {
          "output_type": "execute_result",
          "data": {
            "text/plain": [
              "array([[0.        , 0.85493182, 0.70600163, ..., 0.        , 0.        ,\n",
              "        0.        ],\n",
              "       [0.85493182, 0.        , 0.85493182, ..., 0.        , 0.        ,\n",
              "        0.        ],\n",
              "       [0.70600163, 0.85493182, 0.        , ..., 0.        , 0.        ,\n",
              "        0.        ],\n",
              "       ...,\n",
              "       [0.        , 0.        , 0.        , ..., 0.        , 0.85493182,\n",
              "        0.70600163],\n",
              "       [0.        , 0.        , 0.        , ..., 0.85493182, 0.        ,\n",
              "        0.85493182],\n",
              "       [0.        , 0.        , 0.        , ..., 0.70600163, 0.85493182,\n",
              "        0.        ]])"
            ]
          },
          "metadata": {},
          "execution_count": 61
        }
      ]
    },
    {
      "cell_type": "code",
      "source": [
        ""
      ],
      "metadata": {
        "id": "NOy5z9tsuHYY"
      },
      "id": "NOy5z9tsuHYY",
      "execution_count": null,
      "outputs": []
    }
  ],
  "metadata": {
    "kernelspec": {
      "display_name": "Python 3",
      "language": "python",
      "name": "python3"
    },
    "language_info": {
      "codemirror_mode": {
        "name": "ipython",
        "version": 3
      },
      "file_extension": ".py",
      "mimetype": "text/x-python",
      "name": "python",
      "nbconvert_exporter": "python",
      "pygments_lexer": "ipython3",
      "version": "3.6.8"
    },
    "colab": {
      "name": "T-PHATE.ipynb",
      "provenance": []
    }
  },
  "nbformat": 4,
  "nbformat_minor": 5
}