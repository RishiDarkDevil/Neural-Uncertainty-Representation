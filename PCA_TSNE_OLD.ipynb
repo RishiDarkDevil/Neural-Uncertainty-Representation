{
  "nbformat": 4,
  "nbformat_minor": 0,
  "metadata": {
    "colab": {
      "name": "PCA-TSNE-OLD.ipynb",
      "provenance": [],
      "authorship_tag": "ABX9TyMLHchNK2hmMfxYRzcetm+S"
    },
    "kernelspec": {
      "name": "python3",
      "display_name": "Python 3"
    },
    "language_info": {
      "name": "python"
    }
  },
  "cells": [
    {
      "cell_type": "markdown",
      "source": [
        "### Mounting Google Drive"
      ],
      "metadata": {
        "id": "ESNkUUOEoS8j"
      }
    },
    {
      "cell_type": "code",
      "execution_count": 1,
      "metadata": {
        "colab": {
          "base_uri": "https://localhost:8080/"
        },
        "id": "GWpiHXuGn6Oy",
        "outputId": "30cec1ee-b590-400a-90d4-d3ed99149e65"
      },
      "outputs": [
        {
          "output_type": "stream",
          "name": "stdout",
          "text": [
            "Mounted at /content/drive\n"
          ]
        }
      ],
      "source": [
        "from google.colab import drive\n",
        "drive.mount('/content/drive')"
      ]
    },
    {
      "cell_type": "code",
      "source": [
        "cd 'drive/Othercomputers/My Laptop (1)/MY COLLEGE/ISI KOLKATA/PROJECTS/IIT J Summer Internship 2022/Code/Neural-Uncertainty-Representation/'"
      ],
      "metadata": {
        "id": "bpxEP-yeoWPX",
        "colab": {
          "base_uri": "https://localhost:8080/"
        },
        "outputId": "2ef72a84-b0d7-461e-822e-7ec7898162f6"
      },
      "execution_count": 2,
      "outputs": [
        {
          "output_type": "stream",
          "name": "stdout",
          "text": [
            "/content/drive/Othercomputers/My Laptop (1)/MY COLLEGE/ISI KOLKATA/PROJECTS/IIT J Summer Internship 2022/Code/Neural-Uncertainty-Representation\n"
          ]
        }
      ]
    },
    {
      "cell_type": "markdown",
      "source": [
        "### Importing Necessary Libraries\n"
      ],
      "metadata": {
        "id": "Hq9mNRMMomT7"
      }
    },
    {
      "cell_type": "code",
      "source": [
        "!pip install scprep"
      ],
      "metadata": {
        "id": "PPhZfzfsqFvU"
      },
      "execution_count": null,
      "outputs": []
    },
    {
      "cell_type": "code",
      "source": [
        "import numpy as np\n",
        "import pandas as pd\n",
        "import scprep as scp\n",
        "import matplotlib.pyplot as plt\n",
        "from sklearn.decomposition import PCA\n",
        "from sklearn.manifold import TSNE\n",
        "import os"
      ],
      "metadata": {
        "id": "SRXBkwcIogPe"
      },
      "execution_count": 4,
      "outputs": []
    },
    {
      "cell_type": "markdown",
      "source": [
        "### Importing Data\n",
        "We import the data of a old subject's 3D-Tensor Data of dimensions (TR, Voxel, Number of Subjects) for the 5 different ROIs as follows:\n",
        "- **Prefrontal areas:** dlPFC, vlPFC, lOFC, dmPFC, mPFC, mOFC\n",
        "- **Default-mode areas:** mPFC, ACC, PCC, Precuneus, mOFC\n",
        "- **Sensory areas:** VC\n",
        "- **Multisensory area:** pSTS\n",
        "- **Some other areas:** TP, IPL, mCC, Put, PCG, Nac, INS\n",
        "\n"
      ],
      "metadata": {
        "id": "_R2-Cetmxned"
      }
    },
    {
      "cell_type": "code",
      "source": [
        "file_names = [name for name in os.listdir('/content/drive/Othercomputers/My Laptop (1)/MY COLLEGE/ISI KOLKATA/PROJECTS/IIT J Summer Internship 2022/Hitchcock/Data/OLD/Voxel_BOLD/Numpy') if name.endswith(\"npy\") and (\"537\" not in name) and (\"(1)\" not in name)]"
      ],
      "metadata": {
        "id": "XUJPFBg1898z"
      },
      "execution_count": 5,
      "outputs": []
    },
    {
      "cell_type": "code",
      "source": [
        "data = list()\n",
        "for file_name in file_names:\n",
        "  data.append(np.load('/content/drive/Othercomputers/My Laptop (1)/MY COLLEGE/ISI KOLKATA/PROJECTS/IIT J Summer Internship 2022/Hitchcock/Data/OLD/Voxel_BOLD/Numpy/'+file_name))"
      ],
      "metadata": {
        "id": "Kg22rkIGpfP2"
      },
      "execution_count": 6,
      "outputs": []
    },
    {
      "cell_type": "markdown",
      "source": [
        "We now find the BOLD data for all voxel and all the TRs averaged over the subjects."
      ],
      "metadata": {
        "id": "PayIYjeQx_uk"
      }
    },
    {
      "cell_type": "code",
      "source": [
        "data_avg = [np.mean(dat, axis=2) for dat in data]"
      ],
      "metadata": {
        "id": "UE8qd5hWpmhQ"
      },
      "execution_count": 7,
      "outputs": []
    },
    {
      "cell_type": "code",
      "source": [
        "data_avg[-1].shape"
      ],
      "metadata": {
        "colab": {
          "base_uri": "https://localhost:8080/"
        },
        "id": "iyIgtthG9Qov",
        "outputId": "77239a54-4c74-4761-9083-bbe66f506786"
      },
      "execution_count": 8,
      "outputs": [
        {
          "output_type": "execute_result",
          "data": {
            "text/plain": [
              "(189, 257)"
            ]
          },
          "metadata": {},
          "execution_count": 8
        }
      ]
    },
    {
      "cell_type": "markdown",
      "source": [
        "### PCA Representation"
      ],
      "metadata": {
        "id": "b5SwXJv0yET2"
      }
    },
    {
      "cell_type": "markdown",
      "source": [
        "I have reduced the Voxels Dimension and have calculated the principal components based on SVD for the low 2D projection of the TR x Voxel data for each of the ROIs. "
      ],
      "metadata": {
        "id": "Bsi7bdqKC5fD"
      }
    },
    {
      "cell_type": "code",
      "source": [
        "def pca_rep(data, n_comps):\n",
        "  # We find the PCA embedding for the data\n",
        "  pca = PCA(n_components=n_comps, random_state=43)\n",
        "  principalComponents = pca.fit_transform(data)\n",
        "\n",
        "  return principalComponents"
      ],
      "metadata": {
        "id": "Rp7911Ne_7uF"
      },
      "execution_count": 9,
      "outputs": []
    },
    {
      "cell_type": "code",
      "source": [
        "p_comps = [pca_rep(data, 2) for data in data_avg]"
      ],
      "metadata": {
        "id": "2zz3QVyeAOTo"
      },
      "execution_count": 10,
      "outputs": []
    },
    {
      "cell_type": "code",
      "source": [
        "def plot_pca_rep(principalComponents, c, ax=None, title=\"\", legend_title=\"\", save_file_name=None):\n",
        "  # Plot PCA data\n",
        "  scp.plot.scatter2d(principalComponents, ax=ax,  c = c, label_prefix='PC ', title=title, legend_title=legend_title, figsize=(10, 8), filename=save_file_name)"
      ],
      "metadata": {
        "id": "ZOc-dV5KsQfd"
      },
      "execution_count": 11,
      "outputs": []
    },
    {
      "cell_type": "code",
      "source": [
        "ROI_names = [file_name.replace(\"data_\",\"\").replace(\".npy\",\"\") for file_name in file_names]"
      ],
      "metadata": {
        "id": "Al63UfMHBpia"
      },
      "execution_count": 12,
      "outputs": []
    },
    {
      "cell_type": "code",
      "source": [
        "for name, p_comp in zip(ROI_names, p_comps):\n",
        "  plot_pca_rep(p_comp, list(range(p_comp.shape[0])), None, \"PCA Represenation of \"+ name, \"TRs\", \"Plots/OLD/PCA2-v-PCA1-\"+name+\".png\")"
      ],
      "metadata": {
        "id": "vgEyGYwt6Gcs"
      },
      "execution_count": null,
      "outputs": []
    },
    {
      "cell_type": "markdown",
      "source": [
        "I have color coded each set of Ascent and Descent below, i.e.\n",
        "- 0 indicates those TRs which are neither ascent and descent. \n",
        "- 1 indicates those TRs which are in A1 and D1.\n",
        "- 2 indicates those TRs which are in A2 and D2.\n",
        "- 3 indicates those TRs which are in A3 and D3.\n",
        "- 4 indicates those TRs which are in A4 and A4\n",
        "- 5 indicates those TRs wiich are in A5 and D5."
      ],
      "metadata": {
        "id": "Pn48OFVV1xWC"
      }
    },
    {
      "cell_type": "code",
      "source": [
        "for name, p_comp in zip(ROI_names, p_comps):\n",
        "  plot_pca_rep(p_comp, [0]*56+[1]*17+[2]*17+[0]*44+[3]*21+[4]*19+[5]*15, None, \"PCA Represenation of \"+ name, \"A&D TRs\", \"Plots/OLD/PCA2-v-PCA1-5-AnD-\"+name+\".png\")"
      ],
      "metadata": {
        "id": "bnhuB0hPtYbQ"
      },
      "execution_count": null,
      "outputs": []
    },
    {
      "cell_type": "markdown",
      "source": [
        "I have color coded each set of Ascent and Descent below, i.e.\n",
        "- 0 indicates those TRs which are neither ascent and descent. \n",
        "- 1 indicates those TRs which are in Ascents.\n",
        "- 2 indicates those TRs which are in Descents."
      ],
      "metadata": {
        "id": "cnOGvPD-2F1r"
      }
    },
    {
      "cell_type": "code",
      "source": [
        "for name, p_comp in zip(ROI_names, p_comps):\n",
        "  plot_pca_rep(p_comp, [0]*56+[1]*12+[2]*5+[1]*9+[2]*8+[0]*44+[1]*9+[2]*12+[1]*13+[2]*6+[1]*7+[2]*8, None, \"PCA Represenation of \"+ name, \"A&D TRs\", \"Plots/OLD/PCA2-v-PCA1-2-AnD-\"+name+\".png\")"
      ],
      "metadata": {
        "id": "Pk1Pf9mZyTsK"
      },
      "execution_count": null,
      "outputs": []
    },
    {
      "cell_type": "markdown",
      "source": [
        "Below, we plot the PC 1 and PC 2 components wrt TRs."
      ],
      "metadata": {
        "id": "Ue--NRrPEKFN"
      }
    },
    {
      "cell_type": "code",
      "source": [
        "def plot_pca_time_rep(principalComponents, p_comp=1, c=None, ax=None, title=\"\", legend_title=\"\", save_file_name=None):\n",
        "  plot_data = np.concatenate((np.arange(principalComponents.shape[0]).reshape(-1,1), principalComponents[:,(p_comp-1)].reshape(-1,1)), axis=1)\n",
        "  scp.plot.scatter2d(plot_data, ax=ax,  c = c, xlabel='TRs', ylabel='PC '+str(p_comp), title=title, legend_title=legend_title, figsize=(10, 8), filename=save_file_name)"
      ],
      "metadata": {
        "id": "ZgLaDHJsEcRU"
      },
      "execution_count": 16,
      "outputs": []
    },
    {
      "cell_type": "code",
      "source": [
        "for name, p_comp in zip(ROI_names, p_comps):\n",
        "  plot_pca_time_rep(p_comp, 1, [0]*56+[1]*12+[2]*5+[1]*9+[2]*8+[0]*44+[1]*9+[2]*12+[1]*13+[2]*6+[1]*7+[2]*8, None, \"PC over time of \"+ name, \"A&D TRs\", \"Plots/OLD/PCA1-v-TR-2-AnD-\"+name+\".png\")"
      ],
      "metadata": {
        "id": "7bnV2rFRFCU6"
      },
      "execution_count": null,
      "outputs": []
    },
    {
      "cell_type": "code",
      "source": [
        "for name, p_comp in zip(ROI_names, p_comps):\n",
        "  plot_pca_time_rep(p_comp, 1, [0]*56+[1]*17+[2]*17+[0]*44+[3]*21+[4]*19+[5]*15, None, \"PC over time of \"+ name, \"A&D TRs\", \"Plots/OLD/PCA1-v-TR-5-AnD-\"+name+\".png\")"
      ],
      "metadata": {
        "id": "vKmVUY6iFjCS"
      },
      "execution_count": null,
      "outputs": []
    },
    {
      "cell_type": "code",
      "source": [
        "for name, p_comp in zip(ROI_names, p_comps):\n",
        "  plot_pca_time_rep(p_comp, 2, [0]*56+[1]*12+[2]*5+[1]*9+[2]*8+[0]*44+[1]*9+[2]*12+[1]*13+[2]*6+[1]*7+[2]*8, None, \"PC over time of \"+ name, \"A&D TRs\", \"Plots/OLD/PCA2-v-TR-2-AnD-\"+name+\".png\")"
      ],
      "metadata": {
        "id": "0Gm1t7USFtj5"
      },
      "execution_count": null,
      "outputs": []
    },
    {
      "cell_type": "code",
      "source": [
        "for name, p_comp in zip(ROI_names, p_comps):\n",
        "  plot_pca_time_rep(p_comp, 2, [0]*56+[1]*17+[2]*17+[0]*44+[3]*21+[4]*19+[5]*15, None, \"PC over time of \"+ name, \"A&D TRs\", \"Plots/OLD/PCA2-v-TR-5-AnD-\"+name+\".png\")"
      ],
      "metadata": {
        "id": "BcqI77usGGTb"
      },
      "execution_count": null,
      "outputs": []
    },
    {
      "cell_type": "markdown",
      "source": [
        "Below, we show the PC 1 and PC 2 components wrt TRs with concatenated Ascent and Descent TRs."
      ],
      "metadata": {
        "id": "Leah7089Gg0o"
      }
    },
    {
      "cell_type": "code",
      "source": [
        "def plot_pca_time_line_rep(principalComponents, t, p_comp=1, title=\"\", filename=\"\"):\n",
        "  plt.figure(figsize=(10,8))\n",
        "  plt.plot(np.arange(len(t))+1, principalComponents[t,(p_comp-1)])\n",
        "  plt.title(title)\n",
        "  plt.ylabel('PC '+str(p_comp))\n",
        "  plt.xlabel('TRs')\n",
        "  plt.savefig(filename)"
      ],
      "metadata": {
        "id": "RdPOsZa9GmEJ"
      },
      "execution_count": 21,
      "outputs": []
    },
    {
      "cell_type": "code",
      "source": [
        "for name, p_comp in zip(ROI_names, p_comps):\n",
        "  plot_pca_time_line_rep(p_comp, list(range(56, 68))+list(range(73, 82))+list(range(134, 143))+list(range(155, 168))+list(range(174, 181)), 1, \"PC over concatenated ascent time of \"+ name, \"Plots/OLD/PCA1-v-A-TR-\"+name+\".png\")"
      ],
      "metadata": {
        "id": "SSY4Pa2PGznI"
      },
      "execution_count": null,
      "outputs": []
    },
    {
      "cell_type": "code",
      "source": [
        "for name, p_comp in zip(ROI_names, p_comps):\n",
        "  plot_pca_time_line_rep(p_comp, list(range(56, 68))+list(range(73, 82))+list(range(134, 143))+list(range(155, 168))+list(range(174, 181)), 2, \"PC over concatenated ascent time of \"+ name, \"Plots/OLD/PCA2-v-A-TR-\"+name+\".png\")"
      ],
      "metadata": {
        "id": "2G2nmxJZHNew"
      },
      "execution_count": null,
      "outputs": []
    },
    {
      "cell_type": "code",
      "source": [
        "for name, p_comp in zip(ROI_names, p_comps):\n",
        "  plot_pca_time_line_rep(p_comp, list(range(67, 73))+list(range(85, 90))+list(range(145, 155))+list(range(168, 175))+list(range(180, 189)), 1, \"PC over concatenated descent time of \"+ name, \"Plots/OLD/PCA1-v-D-TR-\"+name+\".png\")"
      ],
      "metadata": {
        "id": "LFt4ASWbHcf5"
      },
      "execution_count": null,
      "outputs": []
    },
    {
      "cell_type": "code",
      "source": [
        "for name, p_comp in zip(ROI_names, p_comps):\n",
        "  plot_pca_time_line_rep(p_comp, list(range(67, 73))+list(range(85, 90))+list(range(145, 155))+list(range(168, 175))+list(range(180, 189)), 2, \"PC over concatenated descent time of \"+ name, \"Plots/OLD/PCA2-v-D-TR-\"+name+\".png\")"
      ],
      "metadata": {
        "id": "7DiYIvE1Hphw"
      },
      "execution_count": null,
      "outputs": []
    },
    {
      "cell_type": "markdown",
      "source": [
        "### tSNE Representation"
      ],
      "metadata": {
        "id": "BdioYV9QyLAE"
      }
    },
    {
      "cell_type": "markdown",
      "source": [
        "We will now look at the voxel dimension reduction using a highly non-linear projection method, t-SNE. It preserves the local relationship in the data but sacrifices the local relationship between data points. t-SNE however is mostly a data visualization method and I use 3 components."
      ],
      "metadata": {
        "id": "FKFT74htIqJD"
      }
    },
    {
      "cell_type": "code",
      "source": [
        "def tSNE_rep(data, n_comps):\n",
        "  # We find the tSNE embedding for the data\n",
        "  tsne = TSNE(n_components=n_comps, learning_rate=\"auto\", random_state=43, init=\"random\")\n",
        "  tsne_embd = tsne.fit_transform(data)\n",
        "\n",
        "  return tsne_embd"
      ],
      "metadata": {
        "id": "5kr-kjRDJK5s"
      },
      "execution_count": 26,
      "outputs": []
    },
    {
      "cell_type": "code",
      "source": [
        "tSNE_embds = [tSNE_rep(data, 2) for data in data_avg]"
      ],
      "metadata": {
        "id": "pu2E8TWoJwp_"
      },
      "execution_count": 27,
      "outputs": []
    },
    {
      "cell_type": "code",
      "source": [
        "def plot_tsne_rep(tsne_comps, c, ax=None, title=\"\", legend_title=\"\", save_file_name=None):\n",
        "  # Plot PCA data\n",
        "  scp.plot.scatter2d(tsne_comps, ax=ax,  c = c, label_prefix='t-SNE ', title=title, legend_title=legend_title, figsize=(10, 8), filename=save_file_name)"
      ],
      "metadata": {
        "id": "cX7OSTf_uCPm"
      },
      "execution_count": 28,
      "outputs": []
    },
    {
      "cell_type": "code",
      "source": [
        "for name, tSNE_embd in zip(ROI_names, tSNE_embds):\n",
        "  plot_tsne_rep(tSNE_embd, list(range(tSNE_embd.shape[0])), None, \"t-SNE Represenation of \"+ name, \"TRs\", \"Plots/OLD/tSNE2-v-tSNE1-\"+name+\".png\")"
      ],
      "metadata": {
        "id": "efuGCoB14r0d"
      },
      "execution_count": null,
      "outputs": []
    },
    {
      "cell_type": "markdown",
      "source": [
        "tSNE with 3 components was applied and \"barnes_hut\" method.\\\n",
        "I have color coded each set of Ascent and Descent below, i.e.\n",
        "- 0 indicates those TRs which are neither ascent and descent. \n",
        "- 1 indicates those TRs which are in A1 and D1.\n",
        "- 2 indicates those TRs which are in A2 and D2.\n",
        "- 3 indicates those TRs which are in A3 and D3.\n",
        "- 4 indicates those TRs which are in A4 and A4\n",
        "- 5 indicates those TRs wiich are in A5 and D5."
      ],
      "metadata": {
        "id": "3ilAWKfx2iB-"
      }
    },
    {
      "cell_type": "code",
      "source": [
        "for name, tSNE_embd in zip(ROI_names, tSNE_embds):\n",
        "  plot_tsne_rep(tSNE_embd, [0]*56+[1]*17+[2]*17+[0]*44+[3]*21+[4]*19+[5]*15, None, \"t-SNE Represenation of \"+ name, \"TRs\", \"Plots/OLD/tSNE2-v-tSNE1-5-AnD-\"+name+\".png\")"
      ],
      "metadata": {
        "id": "JYvqyHS1vmaw"
      },
      "execution_count": null,
      "outputs": []
    },
    {
      "cell_type": "markdown",
      "source": [
        "tSNE with 3 components was applied with \"barnes_hut\"(default) method.\\\n",
        "I have color coded each set of Ascent and Descent below, i.e.\n",
        "- 0 indicates those TRs which are neither ascent and descent. \n",
        "- 1 indicates those TRs which are in Ascents.\n",
        "- 2 indicates those TRs which are in Descents."
      ],
      "metadata": {
        "id": "XSfpx4aS22T2"
      }
    },
    {
      "cell_type": "code",
      "source": [
        "for name, tSNE_embd in zip(ROI_names, tSNE_embds):\n",
        "  plot_tsne_rep(tSNE_embd, [0]*56+[1]*12+[2]*5+[1]*9+[2]*8+[0]*44+[1]*9+[2]*12+[1]*13+[2]*6+[1]*7+[2]*8, None, \"t-SNE Represenation of \"+ name, \"TRs\", \"Plots/OLD/tSNE2-v-tSNE1-2-AnD-\"+name+\".png\")"
      ],
      "metadata": {
        "id": "n4l7Sq8mwQ07"
      },
      "execution_count": null,
      "outputs": []
    },
    {
      "cell_type": "markdown",
      "source": [
        "Below, we plot the tSNE 1 and tSNE 2 components wrt TRs."
      ],
      "metadata": {
        "id": "dSXamobERP53"
      }
    },
    {
      "cell_type": "code",
      "source": [
        "def plot_tsne_time_rep(tsne_embd, tsne_comp=1, c=None, ax=None, title=\"\", legend_title=\"\", save_file_name=None):\n",
        "  plot_data = np.concatenate((np.arange(tsne_embd.shape[0]).reshape(-1,1), tsne_embd[:,(tsne_comp-1)].reshape(-1,1)), axis=1)\n",
        "  scp.plot.scatter2d(plot_data, ax=ax,  c = c, xlabel='TRs', ylabel='t-SNE '+str(tsne_comp), title=title, legend_title=legend_title, figsize=(10, 8), filename=save_file_name)"
      ],
      "metadata": {
        "id": "XNMgteai0vlH"
      },
      "execution_count": 32,
      "outputs": []
    },
    {
      "cell_type": "code",
      "source": [
        "for name, tsne_embd in zip(ROI_names, tSNE_embds):\n",
        "  plot_tsne_time_rep(tsne_embd, 1, [0]*56+[1]*12+[2]*5+[1]*9+[2]*8+[0]*44+[1]*9+[2]*12+[1]*13+[2]*6+[1]*7+[2]*8, None, \"t-SNE over time of \"+ name, \"A&D TRs\", \"Plots/OLD/tSNE1-v-TR-2-AnD-\"+name+\".png\")"
      ],
      "metadata": {
        "id": "ELts2wm_RrdL"
      },
      "execution_count": null,
      "outputs": []
    },
    {
      "cell_type": "code",
      "source": [
        "for name, tsne_embd in zip(ROI_names, tSNE_embds):\n",
        "  plot_tsne_time_rep(tsne_embd, 1, [0]*56+[1]*17+[2]*17+[0]*44+[3]*21+[4]*19+[5]*15, None, \"t-SNE over time of \"+ name, \"A&D TRs\", \"Plots/OLD/tSNE1-v-TR-5-AnD-\"+name+\".png\")"
      ],
      "metadata": {
        "id": "aV_tk948TlJd"
      },
      "execution_count": null,
      "outputs": []
    },
    {
      "cell_type": "code",
      "source": [
        "for name, tsne_embd in zip(ROI_names, tSNE_embds):\n",
        "  plot_tsne_time_rep(tsne_embd, 2, [0]*56+[1]*12+[2]*5+[1]*9+[2]*8+[0]*44+[1]*9+[2]*12+[1]*13+[2]*6+[1]*7+[2]*8, None, \"t-SNE over time of \"+ name, \"A&D TRs\", \"Plots/OLD/tSNE2-v-TR-2-AnD-\"+name+\".png\")"
      ],
      "metadata": {
        "id": "CmCrazlQTuw5"
      },
      "execution_count": null,
      "outputs": []
    },
    {
      "cell_type": "code",
      "source": [
        "for name, tsne_embd in zip(ROI_names, tSNE_embds):\n",
        "  plot_tsne_time_rep(tsne_embd, 2, [0]*56+[1]*17+[2]*17+[0]*44+[3]*21+[4]*19+[5]*15, None, \"t-SNE over time of \"+ name, \"A&D TRs\", \"Plots/OLD/tSNE2-v-TR-5-AnD-\"+name+\".png\")"
      ],
      "metadata": {
        "id": "S0629G9XT3sW"
      },
      "execution_count": null,
      "outputs": []
    },
    {
      "cell_type": "markdown",
      "source": [
        "Below, we show the tSNE 1 and tSNE 2 components wrt TRs with concatenated Ascent and Descent TRs."
      ],
      "metadata": {
        "id": "8LQq0kmRUF-3"
      }
    },
    {
      "cell_type": "code",
      "source": [
        "def plot_tsne_time_line_rep(tsne_embd, t, tsne_comp=1, title=\"\", filename=\"\"):\n",
        "  plt.figure(figsize=(10,8))\n",
        "  plt.plot(np.arange(len(t))+1, tsne_embd[t,(tsne_comp-1)])\n",
        "  plt.title(title)\n",
        "  plt.ylabel('t-SNE '+str(tsne_comp))\n",
        "  plt.xlabel('TRs')\n",
        "  plt.savefig(filename)"
      ],
      "metadata": {
        "id": "KOoQD_umUAql"
      },
      "execution_count": 37,
      "outputs": []
    },
    {
      "cell_type": "code",
      "source": [
        "for name, tsne_embd in zip(ROI_names, tSNE_embds):\n",
        "  plot_tsne_time_line_rep(tsne_embd, list(range(56, 68))+list(range(73, 82))+list(range(134, 143))+list(range(155, 168))+list(range(174, 181)), 1, \"t-SNE over concatenated ascent time of \"+ name, \"Plots/OLD/tSNE1-v-A-TR-\"+name+\".png\")"
      ],
      "metadata": {
        "id": "RbI1jiIZUW76"
      },
      "execution_count": null,
      "outputs": []
    },
    {
      "cell_type": "code",
      "source": [
        "for name, tsne_embd in zip(ROI_names, tSNE_embds):\n",
        "  plot_tsne_time_line_rep(tsne_embd, list(range(56, 68))+list(range(73, 82))+list(range(134, 143))+list(range(155, 168))+list(range(174, 181)), 2, \"t-SNE over concatenated ascent time of \"+ name, \"Plots/OLD/tSNE2-v-A-TR-\"+name+\".png\")"
      ],
      "metadata": {
        "id": "eauEJsjNUmLB"
      },
      "execution_count": null,
      "outputs": []
    },
    {
      "cell_type": "code",
      "source": [
        "for name, tsne_embd in zip(ROI_names, tSNE_embds):\n",
        "  plot_tsne_time_line_rep(tsne_embd, list(range(67, 73))+list(range(85, 90))+list(range(145, 155))+list(range(168, 175))+list(range(180, 189)), 1, \"t-SNE over concatenated descent time of \"+ name, \"Plots/OLD/tSNE1-v-D-TR-\"+name+\".png\")"
      ],
      "metadata": {
        "id": "uyW4byQFfAzv"
      },
      "execution_count": null,
      "outputs": []
    },
    {
      "cell_type": "code",
      "source": [
        "for name, tsne_embd in zip(ROI_names, tSNE_embds):\n",
        "  plot_tsne_time_line_rep(tsne_embd, list(range(67, 73))+list(range(85, 90))+list(range(145, 155))+list(range(168, 175))+list(range(180, 189)), 2, \"t-SNE over concatenated descent time of \"+ name, \"Plots/OLD/tSNE2-v-D-TR-\"+name+\".png\")"
      ],
      "metadata": {
        "id": "cpZW6bX9fQmd"
      },
      "execution_count": null,
      "outputs": []
    },
    {
      "cell_type": "code",
      "source": [
        ""
      ],
      "metadata": {
        "id": "DA4mkpRAfUb7"
      },
      "execution_count": 41,
      "outputs": []
    }
  ]
}