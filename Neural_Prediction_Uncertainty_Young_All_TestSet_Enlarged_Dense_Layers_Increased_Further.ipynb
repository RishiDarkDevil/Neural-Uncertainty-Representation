{
  "nbformat": 4,
  "nbformat_minor": 0,
  "metadata": {
    "colab": {
      "name": "Neural-Prediction-Uncertainty-Young-All-TestSet-Enlarged-Dense-Layers-Increased-Further.ipynb",
      "provenance": [],
      "collapsed_sections": [],
      "authorship_tag": "ABX9TyM1X5bi/8k0Vrrph+Ben/Ul"
    },
    "kernelspec": {
      "name": "python3",
      "display_name": "Python 3"
    },
    "language_info": {
      "name": "python"
    },
    "gpuClass": "standard",
    "accelerator": "GPU"
  },
  "cells": [
    {
      "cell_type": "markdown",
      "source": [
        "Set Colab to GPU Mode if you are training the models!"
      ],
      "metadata": {
        "id": "rN8VtTibW_kL"
      }
    },
    {
      "cell_type": "markdown",
      "source": [
        "### Mounting Google Drive"
      ],
      "metadata": {
        "id": "ESNkUUOEoS8j"
      }
    },
    {
      "cell_type": "code",
      "execution_count": 1,
      "metadata": {
        "id": "GWpiHXuGn6Oy",
        "colab": {
          "base_uri": "https://localhost:8080/"
        },
        "outputId": "216e824f-7b82-4d64-bbd6-428c95b22e2c"
      },
      "outputs": [
        {
          "output_type": "stream",
          "name": "stdout",
          "text": [
            "Mounted at /content/drive\n"
          ]
        }
      ],
      "source": [
        "from google.colab import drive\n",
        "drive.mount('/content/drive')"
      ]
    },
    {
      "cell_type": "code",
      "source": [
        "cd 'drive/MyDrive/IIT J Summer Internship 2022/Code/Neural-Uncertainty-Representation/'"
      ],
      "metadata": {
        "id": "bpxEP-yeoWPX",
        "colab": {
          "base_uri": "https://localhost:8080/"
        },
        "outputId": "2f1a3693-7b69-46a6-8469-9c733a533791"
      },
      "execution_count": 2,
      "outputs": [
        {
          "output_type": "stream",
          "name": "stdout",
          "text": [
            "/content/drive/.shortcut-targets-by-id/1h_oF16bG32l75GPobgHe_9HgdUduLFxT/IIT J Summer Internship 2022/Code/Neural-Uncertainty-Representation\n"
          ]
        }
      ]
    },
    {
      "cell_type": "markdown",
      "source": [
        "### Importing Necessary Libraries\n"
      ],
      "metadata": {
        "id": "Hq9mNRMMomT7"
      }
    },
    {
      "cell_type": "code",
      "source": [
        "import numpy as np\n",
        "import pandas as pd\n",
        "\n",
        "import tensorflow as tf\n",
        "\n",
        "from tensorflow.keras.layers import Dense, Dropout, LSTM, TimeDistributed\n",
        "from tensorflow.keras.models import Sequential\n",
        "from tensorflow.keras.optimizers import Adam\n",
        "\n",
        "from sklearn.preprocessing import MinMaxScaler\n",
        "\n",
        "import matplotlib.pyplot as plt\n",
        "import os"
      ],
      "metadata": {
        "id": "SRXBkwcIogPe"
      },
      "execution_count": 3,
      "outputs": []
    },
    {
      "cell_type": "markdown",
      "source": [
        "### Importing Data\n",
        "We import the data of a young subject's 3D-Tensor Data of dimensions (TR, Voxel, Number of Subjects) for the 5 different ROIs as follows:\n",
        "- **Prefrontal areas:** dlPFC, vlPFC, lOFC, dmPFC, mPFC, mOFC\n",
        "- **Default-mode areas:** mPFC, ACC, PCC, Precuneus, mOFC\n",
        "- **Sensory areas:** VC\n",
        "- **Multisensory area:** pSTS\n",
        "- **Some other areas:** TP, IPL, mCC, Put, PCG, Nac, INS\n",
        "\n",
        "\n",
        "\n"
      ],
      "metadata": {
        "id": "_R2-Cetmxned"
      }
    },
    {
      "cell_type": "code",
      "source": [
        "file_names = [name for name in os.listdir('/content/drive/MyDrive/IIT J Summer Internship 2022/Hitchcock/Data/YOUNG/Voxel_BOLD/Numpy') if name.endswith(\"npy\") and (\"(1)\" not in name)]\n",
        "file_names = [name for name in file_names if (\"537\" not in name)]"
      ],
      "metadata": {
        "id": "XUJPFBg1898z"
      },
      "execution_count": 4,
      "outputs": []
    },
    {
      "cell_type": "code",
      "source": [
        "ROI_names = [file_name.replace(\"data_\",\"\").replace(\".npy\",\"\") for file_name in file_names]"
      ],
      "metadata": {
        "id": "5lVnzf5N_Ufy"
      },
      "execution_count": 5,
      "outputs": []
    },
    {
      "cell_type": "code",
      "source": [
        "data_ori = list()\n",
        "for file_name in file_names:\n",
        "  data_ori.append(np.load('/content/drive/MyDrive/IIT J Summer Internship 2022/Hitchcock/Data/YOUNG/Voxel_BOLD/Numpy/'+file_name))"
      ],
      "metadata": {
        "id": "Kg22rkIGpfP2"
      },
      "execution_count": 6,
      "outputs": []
    },
    {
      "cell_type": "markdown",
      "source": [
        "### Data Preparation"
      ],
      "metadata": {
        "id": "Kcaxzm8WDjgO"
      }
    },
    {
      "cell_type": "markdown",
      "source": [
        "Now, here we prepare the data to be fed to the Neural Network Architechtures. We can't predict the time ahead upto which the subjects are predicting correctly so, we will take a bit round about way to predict the BOLD values ahead in time(for several choices of time points e.g. 1 time point ahead, 2 time point ahead, etc) and will compare the results for young and old subjects."
      ],
      "metadata": {
        "id": "K9rJ8CAb97K2"
      }
    },
    {
      "cell_type": "markdown",
      "source": [
        "Right from the starting we decide some of the data preparation parameters, so that we can use them as we require."
      ],
      "metadata": {
        "id": "im3Oqy2ueeEU"
      }
    },
    {
      "cell_type": "code",
      "source": [
        "TRAIN_BATCH_SIZE = 20\n",
        "TEST_BATCH_SIZE = 10\n",
        "LOOK_AHEAD = 1\n",
        "NUM_TEST_SUBS = 10"
      ],
      "metadata": {
        "id": "X1DoZ2Fcec20"
      },
      "execution_count": 7,
      "outputs": []
    },
    {
      "cell_type": "markdown",
      "source": [
        "We will start a basic data preparation where we will average across all the voxels for a ROI and fit the model which predicts this average BOLD value. Later we will avoid doing an average since, all voxels in a ROI is not equally important and hence we will want to predict the BOLD values of several voxels simultaneously."
      ],
      "metadata": {
        "id": "TYuu8ZM2-u9z"
      }
    },
    {
      "cell_type": "code",
      "source": [
        "data = [np.mean(dat, axis=1, keepdims=True) for dat in data_ori]"
      ],
      "metadata": {
        "id": "pFvaFL69geft"
      },
      "execution_count": 8,
      "outputs": []
    },
    {
      "cell_type": "markdown",
      "source": [
        "Let's Start the Data Preparation for lOFC later we will iterate the same procedure for the other ROIs."
      ],
      "metadata": {
        "id": "mY3usMssn3T5"
      }
    },
    {
      "cell_type": "code",
      "source": [
        "print(ROI_names[-1], \"Average BOLD Shape:\", data[-1].shape)"
      ],
      "metadata": {
        "colab": {
          "base_uri": "https://localhost:8080/"
        },
        "id": "71dv3Zkcgu3N",
        "outputId": "46085e3c-9ca4-423e-f998-a017a3912a11"
      },
      "execution_count": 9,
      "outputs": [
        {
          "output_type": "stream",
          "name": "stdout",
          "text": [
            "lOFC Average BOLD Shape: (189, 1, 111)\n"
          ]
        }
      ]
    },
    {
      "cell_type": "markdown",
      "source": [
        "Below, we see the average BOLD time series plot for all the ROIs."
      ],
      "metadata": {
        "id": "jG7ofnvRczcN"
      }
    },
    {
      "cell_type": "markdown",
      "source": [
        "We have changed the data in the form (Number of Subjects, TR, Voxels) below."
      ],
      "metadata": {
        "id": "-wIOccLpE0d-"
      }
    },
    {
      "cell_type": "code",
      "source": [
        "data = [np.transpose(dat, (2,0,1)) for dat in data]"
      ],
      "metadata": {
        "id": "0pHK54KjDnah"
      },
      "execution_count": 10,
      "outputs": []
    },
    {
      "cell_type": "code",
      "source": [
        "print(ROI_names[-1], \"Average BOLD Shape:\", data[-1].shape)"
      ],
      "metadata": {
        "colab": {
          "base_uri": "https://localhost:8080/"
        },
        "id": "HRXHJ1cwgrzp",
        "outputId": "e7a9db51-2455-431b-f02f-72a87da6caaa"
      },
      "execution_count": 11,
      "outputs": [
        {
          "output_type": "stream",
          "name": "stdout",
          "text": [
            "lOFC Average BOLD Shape: (111, 189, 1)\n"
          ]
        }
      ]
    },
    {
      "cell_type": "code",
      "source": [
        "# for i in range(len(data)):  \n",
        "#   plt.figure(figsize=(10, 8))\n",
        "#   plt.plot(data[i][0,:,0])\n",
        "#   plt.title(\"Average BOLD of 1st Subject for \"+ROI_names[i])\n",
        "#   plt.xlabel(\"TRs\")\n",
        "#   plt.ylabel(\"Average BOLD(over voxels)\")\n",
        "#   plt.savefig(\"./Plots/YOUNG/AVG-BOLD/AVG-BOLD-\"+ROI_names[i]+\".png\")"
      ],
      "metadata": {
        "id": "AseI4ZNeg26E"
      },
      "execution_count": 12,
      "outputs": []
    },
    {
      "cell_type": "markdown",
      "source": [
        "We split the dataset of 111 young subjects into 101 subjects in the training data and 10 subject in the test data."
      ],
      "metadata": {
        "id": "gg50q17pp5xQ"
      }
    },
    {
      "cell_type": "code",
      "source": [
        "train_data_unscaled = [dat[:-NUM_TEST_SUBS] for dat in data]\n",
        "test_data_unscaled = [dat[-NUM_TEST_SUBS:] for dat in data]  "
      ],
      "metadata": {
        "id": "hrldyz8XnDlv"
      },
      "execution_count": 13,
      "outputs": []
    },
    {
      "cell_type": "markdown",
      "source": [
        "We scaled the BOLD values of each voxel in the train data between 0 and 1 for each voxel. We use the same MinMaxScaler fit on the train data on the test data."
      ],
      "metadata": {
        "id": "MDV7H0sYt6jd"
      }
    },
    {
      "cell_type": "code",
      "source": [
        "scalers = list()\n",
        "for i in range(len(ROI_names)):\n",
        "  scalers.append(MinMaxScaler(feature_range = (0, 1)))\n",
        "train_data = [sc.fit_transform(dat[:,:,0]) for sc, dat in zip(scalers, train_data_unscaled)] \n",
        "test_data = [sc.transform(dat[:,:,0]) for sc, dat in zip(scalers, test_data_unscaled)]"
      ],
      "metadata": {
        "id": "-xkJQLj3tORj"
      },
      "execution_count": 14,
      "outputs": []
    },
    {
      "cell_type": "code",
      "source": [
        "train_data = [np.expand_dims(dat, axis = -1) for dat in train_data]\n",
        "test_data = [np.expand_dims(dat, axis = -1) for dat in test_data]"
      ],
      "metadata": {
        "id": "Ail126iVuR6s"
      },
      "execution_count": 15,
      "outputs": []
    },
    {
      "cell_type": "code",
      "source": [
        "print(ROI_names[-1], \"Train Data Shape: \", train_data[-1].shape)\n",
        "print(ROI_names[-1], \"Test Data Shape: \", test_data[-1].shape)"
      ],
      "metadata": {
        "colab": {
          "base_uri": "https://localhost:8080/"
        },
        "id": "_cOAv_VrnbLU",
        "outputId": "d0926531-3cf6-46e0-ae46-ef667556cb00"
      },
      "execution_count": 16,
      "outputs": [
        {
          "output_type": "stream",
          "name": "stdout",
          "text": [
            "lOFC Train Data Shape:  (101, 189, 1)\n",
            "lOFC Test Data Shape:  (10, 189, 1)\n"
          ]
        }
      ]
    },
    {
      "cell_type": "code",
      "source": [
        "# for i in range(len(data)):  \n",
        "#   plt.figure(figsize=(10, 8))\n",
        "#   plt.plot(train_data[i][0,:,0])\n",
        "#   plt.title(\"Average BOLD of 1st Subject for \"+ROI_names[i])\n",
        "#   plt.xlabel(\"TRs\")\n",
        "#   plt.ylabel(\"Average BOLD(over voxels)[Scaled between 0 and 1]\")\n",
        "#   plt.savefig(\"./Plots/YOUNG/AVG-BOLD/AVG-BOLD-SCALED-\"+ROI_names[i]+\".png\")"
      ],
      "metadata": {
        "id": "YIlJSRX92txN"
      },
      "execution_count": 17,
      "outputs": []
    },
    {
      "cell_type": "markdown",
      "source": [
        "We now build a data generator which would produce mini-batches during the training of the neural network."
      ],
      "metadata": {
        "id": "0yjlAwWeiEru"
      }
    },
    {
      "cell_type": "code",
      "source": [
        "class KerasBatchGenerator(object):\n",
        "    def __init__(self, data, num_TRs, batch_size, look_ahead=1):\n",
        "        self.data = data\n",
        "        self.num_TRs = num_TRs\n",
        "        self.batch_size = batch_size\n",
        "        self.current_idx = 0\n",
        "        self.look_ahead = look_ahead\n",
        "\n",
        "    def generate(self):\n",
        "        while True:\n",
        "            if self.current_idx + self.batch_size >= self.data.shape[0]:\n",
        "              self.current_idx = 0\n",
        "            x = self.data[self.current_idx:(self.current_idx+self.batch_size),:(-self.look_ahead),:]\n",
        "            y = self.data[self.current_idx:(self.current_idx+self.batch_size),self.look_ahead:,:]\n",
        "            self.current_idx = self.current_idx + self.batch_size\n",
        "            yield x, y "
      ],
      "metadata": {
        "id": "Blko7LXpgtwA"
      },
      "execution_count": 18,
      "outputs": []
    },
    {
      "cell_type": "code",
      "source": [
        "train_data_generator = [KerasBatchGenerator(dat, dat.shape[1], TRAIN_BATCH_SIZE, LOOK_AHEAD) for dat in train_data]\n",
        "test_data_generator = [KerasBatchGenerator(dat, dat.shape[1], TEST_BATCH_SIZE, LOOK_AHEAD) for dat in test_data]"
      ],
      "metadata": {
        "id": "lZN56Eg3mrsc"
      },
      "execution_count": 19,
      "outputs": []
    },
    {
      "cell_type": "code",
      "source": [
        "batch_x, batch_y = next(train_data_generator[-1].generate())\n",
        "print(ROI_names[-1], \"Train Batch X Shape: \", batch_x.shape)\n",
        "print(ROI_names[-1], \"Train Batch y Shape: \", batch_y.shape)"
      ],
      "metadata": {
        "colab": {
          "base_uri": "https://localhost:8080/"
        },
        "id": "5UPT6iRxpJ7c",
        "outputId": "f1004d41-ca54-4c2c-9c6e-9e44733bbb33"
      },
      "execution_count": 20,
      "outputs": [
        {
          "output_type": "stream",
          "name": "stdout",
          "text": [
            "lOFC Train Batch X Shape:  (20, 188, 1)\n",
            "lOFC Train Batch y Shape:  (20, 188, 1)\n"
          ]
        }
      ]
    },
    {
      "cell_type": "code",
      "source": [
        "batch_x, batch_y = next(test_data_generator[-1].generate())\n",
        "print(ROI_names[-1], \"Test Batch X Shape: \", batch_x.shape)\n",
        "print(ROI_names[-1], \"Test Batch y Shape: \", batch_y.shape)"
      ],
      "metadata": {
        "colab": {
          "base_uri": "https://localhost:8080/"
        },
        "id": "Clavfro-pSEV",
        "outputId": "35753563-5cfe-4bf3-f596-6908243412e5"
      },
      "execution_count": 21,
      "outputs": [
        {
          "output_type": "stream",
          "name": "stdout",
          "text": [
            "lOFC Test Batch X Shape:  (10, 188, 1)\n",
            "lOFC Test Batch y Shape:  (10, 188, 1)\n"
          ]
        }
      ]
    },
    {
      "cell_type": "markdown",
      "source": [
        "### Building Model"
      ],
      "metadata": {
        "id": "31NRewZjqoi1"
      }
    },
    {
      "cell_type": "markdown",
      "source": [
        "We will start off by building a LSTM Model:\n",
        "- `Number of LSTM Layers = 1`\n",
        "- `Number of Dense Layers = 3`\n",
        "- `hidden units = 16`\n",
        "- `dropout = 0.3`"
      ],
      "metadata": {
        "id": "8Ry-jGmHqqx0"
      }
    },
    {
      "cell_type": "code",
      "source": [
        "HIDDEN_UNITS = 16\n",
        "DROPOUT_PROB = 0.3\n",
        "LSTM_LAYERS = 1\n",
        "DENSE_LAYERS = 3"
      ],
      "metadata": {
        "id": "AKDAJkiVgK2n"
      },
      "execution_count": 22,
      "outputs": []
    },
    {
      "cell_type": "code",
      "source": [
        "def avg_bold_model():\n",
        "  model = Sequential()\n",
        "  for _ in range(LSTM_LAYERS):\n",
        "    model.add(LSTM(HIDDEN_UNITS, return_sequences=True))\n",
        "  model.add(Dropout(0.3))\n",
        "  for _ in range(DENSE_LAYERS-1):\n",
        "    model.add(TimeDistributed(Dense(HIDDEN_UNITS)))\n",
        "  model.add(TimeDistributed(Dense(1)))\n",
        "  return model"
      ],
      "metadata": {
        "id": "fqoXwHTTqqCR"
      },
      "execution_count": 23,
      "outputs": []
    },
    {
      "cell_type": "code",
      "source": [
        "sample_model = avg_bold_model()\n",
        "sample_model.build(input_shape=batch_x.shape)\n",
        "sample_model.summary()"
      ],
      "metadata": {
        "colab": {
          "base_uri": "https://localhost:8080/"
        },
        "id": "nYHgnyz-v5nA",
        "outputId": "ac51914b-50fe-4158-e262-813953f9274a"
      },
      "execution_count": 24,
      "outputs": [
        {
          "output_type": "stream",
          "name": "stdout",
          "text": [
            "Model: \"sequential\"\n",
            "_________________________________________________________________\n",
            " Layer (type)                Output Shape              Param #   \n",
            "=================================================================\n",
            " lstm (LSTM)                 (10, 188, 16)             1152      \n",
            "                                                                 \n",
            " dropout (Dropout)           (10, 188, 16)             0         \n",
            "                                                                 \n",
            " time_distributed (TimeDistr  (10, 188, 16)            272       \n",
            " ibuted)                                                         \n",
            "                                                                 \n",
            " time_distributed_1 (TimeDis  (10, 188, 16)            272       \n",
            " tributed)                                                       \n",
            "                                                                 \n",
            " time_distributed_2 (TimeDis  (10, 188, 1)             17        \n",
            " tributed)                                                       \n",
            "                                                                 \n",
            "=================================================================\n",
            "Total params: 1,713\n",
            "Trainable params: 1,713\n",
            "Non-trainable params: 0\n",
            "_________________________________________________________________\n"
          ]
        }
      ]
    },
    {
      "cell_type": "code",
      "source": [
        "models = [avg_bold_model() for _ in range(len(ROI_names))]"
      ],
      "metadata": {
        "id": "fUZSBnNft2Dl"
      },
      "execution_count": 25,
      "outputs": []
    },
    {
      "cell_type": "markdown",
      "source": [
        "#### Training Model"
      ],
      "metadata": {
        "id": "3PRKFwUahAKG"
      }
    },
    {
      "cell_type": "markdown",
      "source": [
        "If you haven't already trained the models then uncomment and train your models which will be saved and will be loaded for inference later."
      ],
      "metadata": {
        "id": "LsHnfCSrhC0g"
      }
    },
    {
      "cell_type": "code",
      "source": [
        "for i in range(len(ROI_names)):\n",
        "  models[i].compile(optimizer = 'adam', loss = 'mean_squared_error')"
      ],
      "metadata": {
        "id": "kf-dFQmfzqTA"
      },
      "execution_count": 26,
      "outputs": []
    },
    {
      "cell_type": "code",
      "source": [
        "# EPOCHS = 100\n",
        "# checkpoint_filepaths = [f\"./Models/YOUNG/LSTM/AVG-BOLD/{name}/model_weights-best-val-loss-{LSTM_LAYERS}L-{HIDDEN_UNITS}H-{DENSE_LAYERS}D-{int(DROPOUT_PROB*10)}Drop-{LOOK_AHEAD}Ahead-{name}\" for name in ROI_names]\n",
        "# model_checkpoint_callbacks = [tf.keras.callbacks.ModelCheckpoint(\n",
        "#     filepath=checkpoint_filepath,\n",
        "#     save_weights_only=True,\n",
        "#     monitor = \"val_loss\",\n",
        "#     mode='min',\n",
        "#     save_best_only=True) for checkpoint_filepath in checkpoint_filepaths]"
      ],
      "metadata": {
        "id": "vcZsfhkz3lCH"
      },
      "execution_count": 27,
      "outputs": []
    },
    {
      "cell_type": "code",
      "source": [
        "# def plot_train_test_loss(history, model_name, i):  \n",
        "#   plt.figure(figsize=(10,10))\n",
        "#   plt.plot(history.history['loss'])\n",
        "#   plt.plot(history.history['val_loss'])\n",
        "#   plt.title(model_name+' loss')\n",
        "#   plt.ylabel('loss')\n",
        "#   plt.xlabel('epochs')\n",
        "#   plt.legend(['train', 'val'], loc='upper left')\n",
        "#   plt.savefig(\"./Plots/YOUNG/LSTM/AVG-BOLD/\"+ROI_names[i]+\"/\"+model_name+\"-loss.png\")"
      ],
      "metadata": {
        "id": "wECZbf2i_AH7"
      },
      "execution_count": 28,
      "outputs": []
    },
    {
      "cell_type": "code",
      "source": [
        "# histories = list()\n",
        "# with tf.device('/device:GPU:0'):\n",
        "#   for i in range(len(ROI_names)):\n",
        "#     history = models[i].fit(\n",
        "#                     train_data_generator[i].generate(),\n",
        "#                     steps_per_epoch=train_data[i].shape[0]//TRAIN_BATCH_SIZE,\n",
        "#                     epochs=EPOCHS,\n",
        "#                     validation_data=test_data_generator[i].generate(),\n",
        "#                     validation_steps=test_data[i].shape[0]//TEST_BATCH_SIZE,\n",
        "#                     callbacks=[model_checkpoint_callbacks[i]]\n",
        "#                     )\n",
        "#     models[i].save_weights(f\"./Models/YOUNG/LSTM/AVG-BOLD/{ROI_names[i]}/model_weights-{LSTM_LAYERS}L-{HIDDEN_UNITS}H-{DENSE_LAYERS}D-{int(DROPOUT_PROB*10)}Drop-{LOOK_AHEAD}Ahead-{ROI_names[i]}\")\n",
        "#     plot_train_test_loss(history, f\"{LSTM_LAYERS}L-{HIDDEN_UNITS}H-{DENSE_LAYERS}D-{int(DROPOUT_PROB*10)}Drop-{LOOK_AHEAD}Ahead-{ROI_names[i]}\", i)\n",
        "#     histories.append(history)"
      ],
      "metadata": {
        "id": "AFb-kTLR21hl"
      },
      "execution_count": 29,
      "outputs": []
    },
    {
      "cell_type": "code",
      "source": [
        "for i in range(len(ROI_names)):\n",
        "  models[i].load_weights(f\"./Models/YOUNG/LSTM/AVG-BOLD/{ROI_names[i]}/model_weights-{LSTM_LAYERS}L-{HIDDEN_UNITS}H-{DENSE_LAYERS}D-{int(DROPOUT_PROB*10)}Drop-{LOOK_AHEAD}Ahead-{ROI_names[i]}\")"
      ],
      "metadata": {
        "id": "dKvn0145hViW"
      },
      "execution_count": 30,
      "outputs": []
    },
    {
      "cell_type": "code",
      "source": [
        "preds = [models[i].predict(next(test_data_generator[i].generate())[0]) for i in range(len(ROI_names))]"
      ],
      "metadata": {
        "id": "7mpQ5Rap6kQ0",
        "colab": {
          "base_uri": "https://localhost:8080/"
        },
        "outputId": "8c8b2eae-0229-4b0a-c326-5e5721f35ce2"
      },
      "execution_count": 31,
      "outputs": [
        {
          "output_type": "stream",
          "name": "stdout",
          "text": [
            "WARNING:tensorflow:5 out of the last 5 calls to <function Model.make_predict_function.<locals>.predict_function at 0x7fd51573c9e0> triggered tf.function retracing. Tracing is expensive and the excessive number of tracings could be due to (1) creating @tf.function repeatedly in a loop, (2) passing tensors with different shapes, (3) passing Python objects instead of tensors. For (1), please define your @tf.function outside of the loop. For (2), @tf.function has experimental_relax_shapes=True option that relaxes argument shapes that can avoid unnecessary retracing. For (3), please refer to https://www.tensorflow.org/guide/function#controlling_retracing and https://www.tensorflow.org/api_docs/python/tf/function for  more details.\n",
            "WARNING:tensorflow:6 out of the last 6 calls to <function Model.make_predict_function.<locals>.predict_function at 0x7fd515437b00> triggered tf.function retracing. Tracing is expensive and the excessive number of tracings could be due to (1) creating @tf.function repeatedly in a loop, (2) passing tensors with different shapes, (3) passing Python objects instead of tensors. For (1), please define your @tf.function outside of the loop. For (2), @tf.function has experimental_relax_shapes=True option that relaxes argument shapes that can avoid unnecessary retracing. For (3), please refer to https://www.tensorflow.org/guide/function#controlling_retracing and https://www.tensorflow.org/api_docs/python/tf/function for  more details.\n"
          ]
        }
      ]
    },
    {
      "cell_type": "code",
      "source": [
        "a_TRs = np.array([56, 67, 73, 81, 134, 142, 155, 167, 174, 180])\n",
        "d_TRs = np.array([67, 72, 85, 89, 145, 154, 168, 174, 180, 188])\n",
        "and_TRs = np.union1d(a_TRs, d_TRs)\n",
        "\n",
        "def highlight_and(act, pred):\n",
        "  min_y_list = list()\n",
        "  max_y_list = list()\n",
        "  for i in range(5):\n",
        "    min_y_list.append(np.min(np.concatenate([act[a_TRs[2*i]:d_TRs[2*i+1]], pred[a_TRs[2*i]:d_TRs[2*i+1]]])))\n",
        "    max_y_list.append(np.max(np.concatenate([act[a_TRs[2*i]:d_TRs[2*i+1]], pred[a_TRs[2*i]:d_TRs[2*i+1]]])))\n",
        "    # plt.fill_betweenx(y=[min_y_list[i], max_y_list[i]], x1=a_TRs[2*i], x2=d_TRs[2*i+1], color='gray', alpha=0.1)\n",
        "    plt.fill_betweenx(y=[min_y_list[i], max_y_list[i]], x1=a_TRs[2*i], x2=a_TRs[2*i+1], color='violet', alpha=0.4)\n",
        "    plt.fill_betweenx(y=[min_y_list[i], max_y_list[i]], x1=d_TRs[2*i], x2=d_TRs[2*i+1], color='greenyellow', alpha=0.4)"
      ],
      "metadata": {
        "id": "HeE2zhmXxOge"
      },
      "execution_count": 32,
      "outputs": []
    },
    {
      "cell_type": "code",
      "source": [
        "for i in range(len(ROI_names)):\n",
        "  \n",
        "  actual_test_data_output = np.squeeze(test_data_unscaled[i])[:,LOOK_AHEAD:] \n",
        "  pred_test_data_output = scalers[i].inverse_transform(np.hstack([preds[i][:,:,0], preds[i][:,:LOOK_AHEAD,0]]))[:,:-LOOK_AHEAD]\n",
        "  plt.figure(figsize=(24, 18))\n",
        "\n",
        "  for j in range(NUM_TEST_SUBS-1):\n",
        "  \n",
        "    ax = plt.subplot(3, 3, j + 1)\n",
        "    plt.plot(actual_test_data_output[j,:])\n",
        "    plt.plot(pred_test_data_output[j,:])\n",
        "    highlight_and(actual_test_data_output[j,:], pred_test_data_output[j,:])\n",
        "    plt.xticks(np.concatenate([np.array([0]), and_TRs - LOOK_AHEAD]), np.concatenate([np.array([LOOK_AHEAD]), and_TRs]))\n",
        "    plt.ylabel(\"Average BOLD\")\n",
        "    plt.xlabel(\"TRs\")\n",
        "    plt.title(f\"Avg BOLD Preds of {LSTM_LAYERS}L-{HIDDEN_UNITS}H-{DENSE_LAYERS}D-{int(DROPOUT_PROB*10)}Drop-{LOOK_AHEAD}Ahead for {j+1}th Test Sub's {ROI_names[i]}\")\n",
        "    plt.legend(['actual', 'pred'])\n",
        "    plt.savefig(f\"./Plots/YOUNG/LSTM/AVG-BOLD/{ROI_names[i]}/{LSTM_LAYERS}L-{HIDDEN_UNITS}H-{DENSE_LAYERS}D-{int(DROPOUT_PROB*10)}Drop-{LOOK_AHEAD}Ahead-Preds.png\")"
      ],
      "metadata": {
        "id": "WBLOHLixAWnk"
      },
      "execution_count": null,
      "outputs": []
    },
    {
      "cell_type": "code",
      "source": [
        "print(\"***Each Test Subject's Correlation Coefficient between predicted and actual average BOLD values for ROIs***\")\n",
        "print()\n",
        "avg_r = list()\n",
        "for i in range(len(ROI_names)):\n",
        "  actual_test_data_output = np.squeeze(test_data_unscaled[i])[:,LOOK_AHEAD:] \n",
        "  pred_test_data_output = scalers[i].inverse_transform(np.hstack([preds[i][:,:,0], preds[i][:,:LOOK_AHEAD,0]]))[:,:-LOOK_AHEAD]\n",
        "  for j in range(NUM_TEST_SUBS):\n",
        "    print(f\"{ROI_names[i]} for {j+1}th sub: {np.round(np.corrcoef(actual_test_data_output[j,:], pred_test_data_output[j,:])[0,1], 2)}\")\n",
        "  print()\n",
        "\n",
        "print(\"***Average across test subjects Correlation Coefficient between predicted and actual average BOLD values for ROIs***\")\n",
        "print()\n",
        "for i in range(len(ROI_names)):\n",
        "  actual_test_data_output = np.squeeze(test_data_unscaled[i])[:,LOOK_AHEAD:] \n",
        "  pred_test_data_output = scalers[i].inverse_transform(np.hstack([preds[i][:,:,0], preds[i][:,:LOOK_AHEAD,0]]))[:,:-LOOK_AHEAD]\n",
        "  sum_r = 0\n",
        "  for j in range(NUM_TEST_SUBS):\n",
        "    sum_r += np.corrcoef(actual_test_data_output[j,:], pred_test_data_output[j,:])[0,1]\n",
        "  print(f\"{ROI_names[i]}: {np.round(sum_r / NUM_TEST_SUBS, 2)}\")"
      ],
      "metadata": {
        "colab": {
          "base_uri": "https://localhost:8080/"
        },
        "id": "J8hiJzxcKFuz",
        "outputId": "69d0605f-b7a2-4299-82ce-ae5826db29a1"
      },
      "execution_count": null,
      "outputs": [
        {
          "output_type": "stream",
          "name": "stdout",
          "text": [
            "***Each Test Subject's Correlation Coefficient between predicted and actual average BOLD values for ROIs***\n",
            "\n",
            "dmPFC for 1th sub: 0.18\n",
            "dmPFC for 2th sub: 0.53\n",
            "dmPFC for 3th sub: 0.31\n",
            "dmPFC for 4th sub: 0.08\n",
            "dmPFC for 5th sub: -0.1\n",
            "dmPFC for 6th sub: 0.45\n",
            "dmPFC for 7th sub: 0.08\n",
            "dmPFC for 8th sub: 0.26\n",
            "dmPFC for 9th sub: 0.42\n",
            "dmPFC for 10th sub: 0.13\n",
            "\n",
            "ACC for 1th sub: 0.38\n",
            "ACC for 2th sub: 0.57\n",
            "ACC for 3th sub: 0.32\n",
            "ACC for 4th sub: -0.02\n",
            "ACC for 5th sub: 0.04\n",
            "ACC for 6th sub: 0.47\n",
            "ACC for 7th sub: 0.08\n",
            "ACC for 8th sub: 0.7\n",
            "ACC for 9th sub: 0.5\n",
            "ACC for 10th sub: 0.49\n",
            "\n",
            "AMY for 1th sub: 0.19\n",
            "AMY for 2th sub: 0.48\n",
            "AMY for 3th sub: 0.56\n",
            "AMY for 4th sub: 0.15\n",
            "AMY for 5th sub: -0.06\n",
            "AMY for 6th sub: 0.57\n",
            "AMY for 7th sub: 0.2\n",
            "AMY for 8th sub: 0.73\n",
            "AMY for 9th sub: 0.13\n",
            "AMY for 10th sub: 0.14\n",
            "\n",
            "Cau for 1th sub: 0.25\n",
            "Cau for 2th sub: 0.7\n",
            "Cau for 3th sub: 0.43\n",
            "Cau for 4th sub: 0.17\n",
            "Cau for 5th sub: 0.48\n",
            "Cau for 6th sub: 0.14\n",
            "Cau for 7th sub: 0.01\n",
            "Cau for 8th sub: 0.32\n",
            "Cau for 9th sub: 0.7\n",
            "Cau for 10th sub: 0.38\n",
            "\n",
            "dlPFC for 1th sub: 0.23\n",
            "dlPFC for 2th sub: 0.32\n",
            "dlPFC for 3th sub: 0.29\n",
            "dlPFC for 4th sub: 0.07\n",
            "dlPFC for 5th sub: 0.14\n",
            "dlPFC for 6th sub: 0.09\n",
            "dlPFC for 7th sub: 0.18\n",
            "dlPFC for 8th sub: -0.01\n",
            "dlPFC for 9th sub: 0.36\n",
            "dlPFC for 10th sub: 0.46\n",
            "\n",
            "INS for 1th sub: 0.37\n",
            "INS for 2th sub: 0.78\n",
            "INS for 3th sub: 0.51\n",
            "INS for 4th sub: 0.41\n",
            "INS for 5th sub: -0.09\n",
            "INS for 6th sub: 0.34\n",
            "INS for 7th sub: -0.09\n",
            "INS for 8th sub: 0.43\n",
            "INS for 9th sub: -0.02\n",
            "INS for 10th sub: 0.26\n",
            "\n",
            "IPL for 1th sub: 0.47\n",
            "IPL for 2th sub: 0.18\n",
            "IPL for 3th sub: 0.54\n",
            "IPL for 4th sub: 0.54\n",
            "IPL for 5th sub: 0.42\n",
            "IPL for 6th sub: 0.37\n",
            "IPL for 7th sub: 0.63\n",
            "IPL for 8th sub: 0.58\n",
            "IPL for 9th sub: 0.43\n",
            "IPL for 10th sub: 0.4\n",
            "\n",
            "mCC for 1th sub: 0.17\n",
            "mCC for 2th sub: 0.01\n",
            "mCC for 3th sub: 0.46\n",
            "mCC for 4th sub: 0.15\n",
            "mCC for 5th sub: 0.49\n",
            "mCC for 6th sub: 0.87\n",
            "mCC for 7th sub: 0.19\n",
            "mCC for 8th sub: 0.51\n",
            "mCC for 9th sub: 0.31\n",
            "mCC for 10th sub: 0.22\n",
            "\n",
            "Nac for 1th sub: 0.27\n",
            "Nac for 2th sub: 0.52\n",
            "Nac for 3th sub: 0.34\n",
            "Nac for 4th sub: 0.45\n",
            "Nac for 5th sub: 0.38\n",
            "Nac for 6th sub: 0.15\n",
            "Nac for 7th sub: 0.06\n",
            "Nac for 8th sub: 0.34\n",
            "Nac for 9th sub: 0.84\n",
            "Nac for 10th sub: 0.2\n",
            "\n",
            "PCC for 1th sub: 0.27\n",
            "PCC for 2th sub: 0.43\n",
            "PCC for 3th sub: 0.54\n",
            "PCC for 4th sub: 0.25\n",
            "PCC for 5th sub: 0.0\n",
            "PCC for 6th sub: 0.65\n",
            "PCC for 7th sub: 0.21\n",
            "PCC for 8th sub: 0.59\n",
            "PCC for 9th sub: 0.12\n",
            "PCC for 10th sub: 0.48\n",
            "\n",
            "PCG for 1th sub: 0.38\n",
            "PCG for 2th sub: 0.27\n",
            "PCG for 3th sub: 0.31\n",
            "PCG for 4th sub: 0.07\n",
            "PCG for 5th sub: 0.08\n",
            "PCG for 6th sub: 0.5\n",
            "PCG for 7th sub: 0.21\n",
            "PCG for 8th sub: 0.33\n",
            "PCG for 9th sub: 0.46\n",
            "PCG for 10th sub: 0.55\n",
            "\n",
            "Prec for 1th sub: 0.29\n",
            "Prec for 2th sub: 0.49\n",
            "Prec for 3th sub: 0.54\n",
            "Prec for 4th sub: 0.33\n",
            "Prec for 5th sub: 0.14\n",
            "Prec for 6th sub: 0.61\n",
            "Prec for 7th sub: 0.4\n",
            "Prec for 8th sub: 0.65\n",
            "Prec for 9th sub: 0.33\n",
            "Prec for 10th sub: 0.48\n",
            "\n",
            "TP for 1th sub: 0.69\n",
            "TP for 2th sub: 0.67\n",
            "TP for 3th sub: 0.82\n",
            "TP for 4th sub: 0.41\n",
            "TP for 5th sub: 0.77\n",
            "TP for 6th sub: 0.37\n",
            "TP for 7th sub: 0.29\n",
            "TP for 8th sub: 0.75\n",
            "TP for 9th sub: 0.71\n",
            "TP for 10th sub: 0.69\n",
            "\n",
            "Put for 1th sub: 0.29\n",
            "Put for 2th sub: 0.11\n",
            "Put for 3th sub: 0.64\n",
            "Put for 4th sub: 0.07\n",
            "Put for 5th sub: 0.32\n",
            "Put for 6th sub: 0.22\n",
            "Put for 7th sub: 0.14\n",
            "Put for 8th sub: 0.47\n",
            "Put for 9th sub: 0.35\n",
            "Put for 10th sub: 0.02\n",
            "\n",
            "pSTS for 1th sub: 0.5\n",
            "pSTS for 2th sub: 0.42\n",
            "pSTS for 3th sub: 0.65\n",
            "pSTS for 4th sub: 0.43\n",
            "pSTS for 5th sub: 0.32\n",
            "pSTS for 6th sub: 0.58\n",
            "pSTS for 7th sub: 0.15\n",
            "pSTS for 8th sub: 0.69\n",
            "pSTS for 9th sub: 0.28\n",
            "pSTS for 10th sub: 0.09\n",
            "\n",
            "VC for 1th sub: 0.59\n",
            "VC for 2th sub: 0.53\n",
            "VC for 3th sub: 0.65\n",
            "VC for 4th sub: 0.68\n",
            "VC for 5th sub: 0.67\n",
            "VC for 6th sub: 0.52\n",
            "VC for 7th sub: 0.44\n",
            "VC for 8th sub: 0.67\n",
            "VC for 9th sub: 0.58\n",
            "VC for 10th sub: 0.6\n",
            "\n",
            "vlPFC for 1th sub: 0.24\n",
            "vlPFC for 2th sub: 0.06\n",
            "vlPFC for 3th sub: 0.49\n",
            "vlPFC for 4th sub: 0.29\n",
            "vlPFC for 5th sub: 0.44\n",
            "vlPFC for 6th sub: 0.22\n",
            "vlPFC for 7th sub: 0.22\n",
            "vlPFC for 8th sub: 0.46\n",
            "vlPFC for 9th sub: 0.52\n",
            "vlPFC for 10th sub: 0.13\n",
            "\n",
            "mOFC for 1th sub: 0.1\n",
            "mOFC for 2th sub: 0.44\n",
            "mOFC for 3th sub: 0.86\n",
            "mOFC for 4th sub: 0.88\n",
            "mOFC for 5th sub: 0.54\n",
            "mOFC for 6th sub: 0.74\n",
            "mOFC for 7th sub: -0.18\n",
            "mOFC for 8th sub: 0.92\n",
            "mOFC for 9th sub: 0.9\n",
            "mOFC for 10th sub: 0.33\n",
            "\n",
            "mPFC for 1th sub: 0.26\n",
            "mPFC for 2th sub: 0.18\n",
            "mPFC for 3th sub: 0.37\n",
            "mPFC for 4th sub: 0.71\n",
            "mPFC for 5th sub: 0.27\n",
            "mPFC for 6th sub: 0.23\n",
            "mPFC for 7th sub: 0.21\n",
            "mPFC for 8th sub: 0.75\n",
            "mPFC for 9th sub: 0.09\n",
            "mPFC for 10th sub: -0.05\n",
            "\n",
            "lOFC for 1th sub: 0.56\n",
            "lOFC for 2th sub: 0.25\n",
            "lOFC for 3th sub: 0.57\n",
            "lOFC for 4th sub: 0.72\n",
            "lOFC for 5th sub: 0.4\n",
            "lOFC for 6th sub: 0.13\n",
            "lOFC for 7th sub: 0.21\n",
            "lOFC for 8th sub: 0.87\n",
            "lOFC for 9th sub: 0.92\n",
            "lOFC for 10th sub: 0.07\n",
            "\n",
            "***Average across test subjects Correlation Coefficient between predicted and actual average BOLD values for ROIs***\n",
            "\n",
            "dmPFC: 0.24\n",
            "ACC: 0.35\n",
            "AMY: 0.31\n",
            "Cau: 0.36\n",
            "dlPFC: 0.21\n",
            "INS: 0.29\n",
            "IPL: 0.46\n",
            "mCC: 0.34\n",
            "Nac: 0.36\n",
            "PCC: 0.36\n",
            "PCG: 0.32\n",
            "Prec: 0.43\n",
            "TP: 0.62\n",
            "Put: 0.26\n",
            "pSTS: 0.41\n",
            "VC: 0.59\n",
            "vlPFC: 0.31\n",
            "mOFC: 0.55\n",
            "mPFC: 0.3\n",
            "lOFC: 0.47\n"
          ]
        }
      ]
    },
    {
      "cell_type": "code",
      "source": [
        "print(\"***Model's Final MSE(Train) Loss between predicted and actual average BOLD values for ROIs for the Train Subjects***\")\n",
        "print()\n",
        "for i in range(len(ROI_names)):\n",
        "  print(ROI_names[i]+\":\", np.round(histories[i].history['loss'][-1], 5))\n",
        "print()\n",
        "print(\"***Model's Final MSE(Validation) Loss between predicted and actual average BOLD values for ROIs for the Test Subjects***\")\n",
        "print()\n",
        "for i in range(len(ROI_names)):\n",
        "  print(ROI_names[i]+\":\", np.round(histories[i].history['val_loss'][-1], 5))"
      ],
      "metadata": {
        "colab": {
          "base_uri": "https://localhost:8080/"
        },
        "id": "f8gPew9YMI2B",
        "outputId": "db2ed66c-150d-40c1-cba2-3975ebdf582a"
      },
      "execution_count": null,
      "outputs": [
        {
          "output_type": "stream",
          "name": "stdout",
          "text": [
            "***Model's Final MSE(Train) Loss between predicted and actual average BOLD values for ROIs for the Train Subjects***\n",
            "\n",
            "dmPFC: 0.00295\n",
            "ACC: 0.00221\n",
            "AMY: 0.00153\n",
            "Cau: 0.00183\n",
            "dlPFC: 0.00233\n",
            "INS: 0.00222\n",
            "IPL: 0.00284\n",
            "mCC: 0.00246\n",
            "Nac: 0.00243\n",
            "PCC: 0.00252\n",
            "PCG: 0.00231\n",
            "Prec: 0.00167\n",
            "TP: 0.00193\n",
            "Put: 0.0014\n",
            "pSTS: 0.00177\n",
            "VC: 0.00335\n",
            "vlPFC: 0.00221\n",
            "mOFC: 0.00273\n",
            "mPFC: 0.00273\n",
            "lOFC: 0.00204\n",
            "\n",
            "***Model's Final MSE(Validation) Loss between predicted and actual average BOLD values for ROIs for the Test Subjects***\n",
            "\n",
            "dmPFC: 0.00094\n",
            "ACC: 0.00051\n",
            "AMY: 0.00045\n",
            "Cau: 0.00082\n",
            "dlPFC: 0.00072\n",
            "INS: 0.0005\n",
            "IPL: 0.00129\n",
            "mCC: 0.00047\n",
            "Nac: 0.00092\n",
            "PCC: 0.00061\n",
            "PCG: 0.00067\n",
            "Prec: 0.00056\n",
            "TP: 0.00043\n",
            "Put: 0.00032\n",
            "pSTS: 0.0004\n",
            "VC: 0.00089\n",
            "vlPFC: 0.00037\n",
            "mOFC: 0.00148\n",
            "mPFC: 0.00118\n",
            "lOFC: 0.00064\n"
          ]
        }
      ]
    }
  ]
}