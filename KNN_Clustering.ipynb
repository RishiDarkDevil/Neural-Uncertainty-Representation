{
  "nbformat": 4,
  "nbformat_minor": 0,
  "metadata": {
    "colab": {
      "name": "KNN-Clustering.ipynb",
      "provenance": [],
      "authorship_tag": "ABX9TyOzRHfFl3MIadACtlhLj7Pq"
    },
    "kernelspec": {
      "name": "python3",
      "display_name": "Python 3"
    },
    "language_info": {
      "name": "python"
    }
  },
  "cells": [
    {
      "cell_type": "markdown",
      "source": [
        "### Mounting Google Drive"
      ],
      "metadata": {
        "id": "I-YamcGilsGa"
      }
    },
    {
      "cell_type": "code",
      "source": [
        "from google.colab import drive\n",
        "drive.mount('/content/drive')"
      ],
      "metadata": {
        "id": "NetB0WaAlrhn"
      },
      "execution_count": null,
      "outputs": []
    },
    {
      "cell_type": "code",
      "source": [
        "cd 'drive/MyDrive/IIT J Summer Internship 2022/Code/Neural-Uncertainty-Representation/'"
      ],
      "metadata": {
        "id": "ztGEGtA2l0vb"
      },
      "execution_count": null,
      "outputs": []
    },
    {
      "cell_type": "markdown",
      "metadata": {
        "id": "af2c797e"
      },
      "source": [
        "### Importing necessary libraries"
      ]
    },
    {
      "cell_type": "code",
      "source": [
        "!pip install phate\n",
        "!pip install scprep"
      ],
      "metadata": {
        "id": "S5LezeiKXrm2"
      },
      "execution_count": null,
      "outputs": []
    },
    {
      "cell_type": "code",
      "execution_count": 8,
      "metadata": {
        "id": "a1aad3f6"
      },
      "outputs": [],
      "source": [
        "import numpy as np\n",
        "import phate as ph\n",
        "import pandas as pd\n",
        "import scprep as scp\n",
        "import matplotlib.pyplot as plt\n",
        "\n",
        "import os"
      ]
    },
    {
      "cell_type": "code",
      "source": [
        "import TPHATE"
      ],
      "metadata": {
        "id": "4Wc3Fiauj7YG"
      },
      "execution_count": 10,
      "outputs": []
    },
    {
      "cell_type": "markdown",
      "metadata": {
        "id": "8285fc63"
      },
      "source": [
        "### Importing Data"
      ]
    },
    {
      "cell_type": "markdown",
      "source": [
        "#### Young Subject's Data"
      ],
      "metadata": {
        "id": "w0EJKicrmZil"
      }
    },
    {
      "cell_type": "markdown",
      "metadata": {
        "id": "65da5d62"
      },
      "source": [
        "We import the data of a young subject's 3D-Tensor Data of dimensions (TR, Voxel, Number of Subjects) for the 5 different ROIs as follows:\n",
        "- **Prefrontal areas:** dlPFC, vlPFC, lOFC, dmPFC, mPFC, mOFC\n",
        "- **Default-mode areas:** mPFC, ACC, PCC, Precuneus, mOFC\n",
        "- **Sensory areas:** VC\n",
        "- **Multisensory area:** pSTS\n",
        "- **Some other areas:** TP, IPL, mCC, Put, PCG, Nac, INS\n",
        "\n"
      ]
    },
    {
      "cell_type": "code",
      "source": [
        "file_names_young = [name for name in os.listdir('/content/drive/MyDrive/IIT J Summer Internship 2022/Hitchcock/Data/YOUNG/Voxel_BOLD/Numpy') if name.endswith(\"npy\") and (\"537\" not in name) and (\"(1)\" not in name)]"
      ],
      "metadata": {
        "id": "rP2kSsucuAST"
      },
      "execution_count": 20,
      "outputs": []
    },
    {
      "cell_type": "code",
      "execution_count": 21,
      "metadata": {
        "id": "454ff34a"
      },
      "outputs": [],
      "source": [
        "data_young = list()\n",
        "for file_name in file_names_young:\n",
        "  data_young.append(np.load('/content/drive/MyDrive/IIT J Summer Internship 2022/Hitchcock/Data/YOUNG/Voxel_BOLD/Numpy/'+file_name))"
      ]
    },
    {
      "cell_type": "markdown",
      "source": [
        "We now find the BOLD data for all voxel and all the TRs averaged over the subjects."
      ],
      "metadata": {
        "id": "sdRd2TaWoAnl"
      }
    },
    {
      "cell_type": "code",
      "source": [
        "data_avg_young = [np.mean(dat, axis=2) for dat in data_young]"
      ],
      "metadata": {
        "id": "ibYpkmuYmDD2"
      },
      "execution_count": 25,
      "outputs": []
    },
    {
      "cell_type": "code",
      "source": [
        "data_avg_young[-1].shape"
      ],
      "metadata": {
        "colab": {
          "base_uri": "https://localhost:8080/"
        },
        "id": "qLPXTE6Kma6-",
        "outputId": "3b032056-8845-4b6b-b688-8cf050213532"
      },
      "execution_count": 26,
      "outputs": [
        {
          "output_type": "execute_result",
          "data": {
            "text/plain": [
              "(189, 515)"
            ]
          },
          "metadata": {},
          "execution_count": 26
        }
      ]
    },
    {
      "cell_type": "markdown",
      "source": [
        "#### Old Subject's Data"
      ],
      "metadata": {
        "id": "AaQutCkumfs8"
      }
    },
    {
      "cell_type": "markdown",
      "source": [
        "We import the data of a old subject's 3D-Tensor Data of dimensions (TR, Voxel, Number of Subjects) for the 5 different ROIs as follows:\n",
        "- **Prefrontal areas:** dlPFC, vlPFC, lOFC, dmPFC, mPFC, mOFC\n",
        "- **Default-mode areas:** mPFC, ACC, PCC, Precuneus, mOFC\n",
        "- **Sensory areas:** VC\n",
        "- **Multisensory area:** pSTS\n",
        "- **Some other areas:** TP, IPL, mCC, Put, PCG, Nac, INS\n",
        "\n"
      ],
      "metadata": {
        "id": "6LJETh6Sm3_v"
      }
    },
    {
      "cell_type": "code",
      "source": [
        "file_names_old = [name for name in os.listdir('/content/drive/MyDrive/IIT J Summer Internship 2022/Hitchcock/Data/OLD/Voxel_BOLD/Numpy') if name.endswith(\"npy\") and (\"537\" not in name)]"
      ],
      "metadata": {
        "id": "lzPEfffYmWlD"
      },
      "execution_count": 28,
      "outputs": []
    },
    {
      "cell_type": "code",
      "source": [
        "data_old = list()\n",
        "for file_name in file_names_old:\n",
        "  data_old.append(np.load('/content/drive/MyDrive/IIT J Summer Internship 2022/Hitchcock/Data/OLD/Voxel_BOLD/Numpy/'+file_name))"
      ],
      "metadata": {
        "id": "HYbECQE1nGfb"
      },
      "execution_count": 30,
      "outputs": []
    },
    {
      "cell_type": "code",
      "source": [
        "data_avg_old = [np.mean(dat, axis=2) for dat in data_old]"
      ],
      "metadata": {
        "id": "mgLbHip0nlCi"
      },
      "execution_count": 31,
      "outputs": []
    },
    {
      "cell_type": "code",
      "source": [
        "data_avg_old[0].shape"
      ],
      "metadata": {
        "colab": {
          "base_uri": "https://localhost:8080/"
        },
        "id": "WuUHzwiZnvWI",
        "outputId": "28cdd04a-902d-4765-9333-a496f784a56b"
      },
      "execution_count": 34,
      "outputs": [
        {
          "output_type": "execute_result",
          "data": {
            "text/plain": [
              "(189, 1092)"
            ]
          },
          "metadata": {},
          "execution_count": 34
        }
      ]
    },
    {
      "cell_type": "markdown",
      "source": [
        "### T-PHATE Based KNN Clustering "
      ],
      "metadata": {
        "id": "Y3fv3jq3oG_V"
      }
    },
    {
      "cell_type": "markdown",
      "source": [
        "Here we will try to cluster the young and old subjects based on their T-PHATE projection values to see how well the T-PHATE classifies the individuals of the two different age groups, in an unsupervised way without supplying the information about the labels(i.e. the age group membership)."
      ],
      "metadata": {
        "id": "7RpJ-RWVoLEU"
      }
    },
    {
      "cell_type": "code",
      "source": [
        ""
      ],
      "metadata": {
        "id": "b2JIhhoNoKpk"
      },
      "execution_count": null,
      "outputs": []
    }
  ]
}