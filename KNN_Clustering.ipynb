{
  "nbformat": 4,
  "nbformat_minor": 0,
  "metadata": {
    "colab": {
      "name": "KNN-Clustering.ipynb",
      "provenance": [],
      "authorship_tag": "ABX9TyOsEGjFeXQfXvIw+AcKmYdW"
    },
    "kernelspec": {
      "name": "python3",
      "display_name": "Python 3"
    },
    "language_info": {
      "name": "python"
    }
  },
  "cells": [
    {
      "cell_type": "markdown",
      "source": [
        "### Mounting Google Drive"
      ],
      "metadata": {
        "id": "I-YamcGilsGa"
      }
    },
    {
      "cell_type": "code",
      "source": [
        "from google.colab import drive\n",
        "drive.mount('/content/drive')"
      ],
      "metadata": {
        "id": "NetB0WaAlrhn"
      },
      "execution_count": null,
      "outputs": []
    },
    {
      "cell_type": "code",
      "source": [
        "cd 'drive/MyDrive/IIT J Summer Internship 2022/Code/Neural-Uncertainty-Representation/'"
      ],
      "metadata": {
        "id": "ztGEGtA2l0vb"
      },
      "execution_count": null,
      "outputs": []
    },
    {
      "cell_type": "markdown",
      "metadata": {
        "id": "af2c797e"
      },
      "source": [
        "### Importing necessary libraries"
      ]
    },
    {
      "cell_type": "code",
      "source": [
        "!pip install phate\n",
        "!pip install scprep"
      ],
      "metadata": {
        "id": "S5LezeiKXrm2"
      },
      "execution_count": null,
      "outputs": []
    },
    {
      "cell_type": "code",
      "execution_count": 105,
      "metadata": {
        "id": "a1aad3f6"
      },
      "outputs": [],
      "source": [
        "import numpy as np\n",
        "import phate as ph\n",
        "import pandas as pd\n",
        "import scprep as scp\n",
        "import matplotlib.pyplot as plt\n",
        "from sklearn.decomposition import PCA\n",
        "from sklearn.manifold import TSNE\n",
        "import os"
      ]
    },
    {
      "cell_type": "code",
      "source": [
        "import TPHATE"
      ],
      "metadata": {
        "id": "4Wc3Fiauj7YG"
      },
      "execution_count": 10,
      "outputs": []
    },
    {
      "cell_type": "markdown",
      "metadata": {
        "id": "8285fc63"
      },
      "source": [
        "### Importing Data"
      ]
    },
    {
      "cell_type": "markdown",
      "source": [
        "#### Young Subject's Data"
      ],
      "metadata": {
        "id": "w0EJKicrmZil"
      }
    },
    {
      "cell_type": "markdown",
      "metadata": {
        "id": "65da5d62"
      },
      "source": [
        "We import the data of a young subject's 3D-Tensor Data of dimensions (TR, Voxel, Number of Subjects) for the 5 different ROIs as follows:\n",
        "- **Prefrontal areas:** dlPFC, vlPFC, lOFC, dmPFC, mPFC, mOFC\n",
        "- **Default-mode areas:** mPFC, ACC, PCC, Precuneus, mOFC\n",
        "- **Sensory areas:** VC\n",
        "- **Multisensory area:** pSTS\n",
        "- **Some other areas:** TP, IPL, mCC, Put, PCG, Nac, INS\n",
        "\n"
      ]
    },
    {
      "cell_type": "code",
      "source": [
        "file_names_young = [name for name in os.listdir('/content/drive/MyDrive/IIT J Summer Internship 2022/Hitchcock/Data/YOUNG/Voxel_BOLD/Numpy') if name.endswith(\"npy\") and (\"537\" not in name) and (\"(1)\" not in name)]\n",
        "file_names_young.sort() # Else the file names of young and old differed causing issues with mis-merge of data i.e. different ROIs data is merged."
      ],
      "metadata": {
        "id": "rP2kSsucuAST"
      },
      "execution_count": 115,
      "outputs": []
    },
    {
      "cell_type": "code",
      "execution_count": 116,
      "metadata": {
        "id": "454ff34a"
      },
      "outputs": [],
      "source": [
        "data_young = list()\n",
        "for file_name in file_names_young:\n",
        "  data_young.append(np.load('/content/drive/MyDrive/IIT J Summer Internship 2022/Hitchcock/Data/YOUNG/Voxel_BOLD/Numpy/'+file_name))"
      ]
    },
    {
      "cell_type": "markdown",
      "source": [
        "We now find the BOLD data for all voxel and all the TRs averaged over the subjects."
      ],
      "metadata": {
        "id": "sdRd2TaWoAnl"
      }
    },
    {
      "cell_type": "code",
      "source": [
        "data_avg_young = [np.mean(dat, axis=2) for dat in data_young]"
      ],
      "metadata": {
        "id": "ibYpkmuYmDD2"
      },
      "execution_count": 117,
      "outputs": []
    },
    {
      "cell_type": "code",
      "source": [
        "data_avg_young[-1].shape"
      ],
      "metadata": {
        "colab": {
          "base_uri": "https://localhost:8080/"
        },
        "id": "qLPXTE6Kma6-",
        "outputId": "a4d95144-cc4f-43a2-bb07-b3facc1e3a61"
      },
      "execution_count": 118,
      "outputs": [
        {
          "output_type": "execute_result",
          "data": {
            "text/plain": [
              "(189, 515)"
            ]
          },
          "metadata": {},
          "execution_count": 118
        }
      ]
    },
    {
      "cell_type": "markdown",
      "source": [
        "#### Old Subject's Data"
      ],
      "metadata": {
        "id": "AaQutCkumfs8"
      }
    },
    {
      "cell_type": "markdown",
      "source": [
        "We import the data of a old subject's 3D-Tensor Data of dimensions (TR, Voxel, Number of Subjects) for the 5 different ROIs as follows:\n",
        "- **Prefrontal areas:** dlPFC, vlPFC, lOFC, dmPFC, mPFC, mOFC\n",
        "- **Default-mode areas:** mPFC, ACC, PCC, Precuneus, mOFC\n",
        "- **Sensory areas:** VC\n",
        "- **Multisensory area:** pSTS\n",
        "- **Some other areas:** TP, IPL, mCC, Put, PCG, Nac, INS\n",
        "\n"
      ],
      "metadata": {
        "id": "6LJETh6Sm3_v"
      }
    },
    {
      "cell_type": "code",
      "source": [
        "file_names_old = [name for name in os.listdir('/content/drive/MyDrive/IIT J Summer Internship 2022/Hitchcock/Data/OLD/Voxel_BOLD/Numpy') if name.endswith(\"npy\") and (\"537\" not in name)]\n",
        "file_names_old.sort()"
      ],
      "metadata": {
        "id": "lzPEfffYmWlD"
      },
      "execution_count": 119,
      "outputs": []
    },
    {
      "cell_type": "code",
      "source": [
        "data_old = list()\n",
        "for file_name in file_names_old:\n",
        "  data_old.append(np.load('/content/drive/MyDrive/IIT J Summer Internship 2022/Hitchcock/Data/OLD/Voxel_BOLD/Numpy/'+file_name))"
      ],
      "metadata": {
        "id": "HYbECQE1nGfb"
      },
      "execution_count": 120,
      "outputs": []
    },
    {
      "cell_type": "code",
      "source": [
        "data_avg_old = [np.mean(dat, axis=2) for dat in data_old]"
      ],
      "metadata": {
        "id": "mgLbHip0nlCi"
      },
      "execution_count": 121,
      "outputs": []
    },
    {
      "cell_type": "code",
      "source": [
        "data_avg_old[0].shape"
      ],
      "metadata": {
        "colab": {
          "base_uri": "https://localhost:8080/"
        },
        "id": "WuUHzwiZnvWI",
        "outputId": "b8108205-b57a-4218-9813-b134b6ed94ce"
      },
      "execution_count": 122,
      "outputs": [
        {
          "output_type": "execute_result",
          "data": {
            "text/plain": [
              "(189, 1092)"
            ]
          },
          "metadata": {},
          "execution_count": 122
        }
      ]
    },
    {
      "cell_type": "markdown",
      "source": [
        "### T-PHATE Representation Compared"
      ],
      "metadata": {
        "id": "Y3fv3jq3oG_V"
      }
    },
    {
      "cell_type": "markdown",
      "source": [
        "Here we will try to cluster the young and old subjects based on their T-PHATE projection values to see how well the T-PHATE classifies the individuals of the two different age groups, in an unsupervised way without supplying the information about the labels(i.e. the age group membership)."
      ],
      "metadata": {
        "id": "7RpJ-RWVoLEU"
      }
    },
    {
      "cell_type": "markdown",
      "source": [
        "We start by calculating the T-PHATE 2 dimensional embeddings for both young and old subjects."
      ],
      "metadata": {
        "id": "mMaXa_BLsEbO"
      }
    },
    {
      "cell_type": "code",
      "source": [
        "def phate_rep(data):\n",
        "  # We find the temporal affinity matrix --- The Last Function in the TPHATE.py File\n",
        "  P_T = TPHATE.temporal_affinity_matrix(data)\n",
        "\n",
        "  # We now instantiate the PHATE operator(matrix)/object of the PHATE class\n",
        "  phate_op = TPHATE.PHATE(P_T, random_state=43, verbose=0)\n",
        "  # PHATE requires Voxel x TR Data\n",
        "  phate_embd =  phate_op.fit_transform(data)\n",
        "\n",
        "  return phate_embd"
      ],
      "metadata": {
        "id": "b2JIhhoNoKpk"
      },
      "execution_count": 123,
      "outputs": []
    },
    {
      "cell_type": "code",
      "source": [
        "phate_embd_young = [phate_rep(data) for data in data_avg_young]"
      ],
      "metadata": {
        "id": "oCfrs7y1paGp"
      },
      "execution_count": 124,
      "outputs": []
    },
    {
      "cell_type": "code",
      "source": [
        "phate_embd_old = [phate_rep(data) for data in data_avg_old]"
      ],
      "metadata": {
        "id": "-mxZurNBph6T"
      },
      "execution_count": null,
      "outputs": []
    },
    {
      "cell_type": "markdown",
      "source": [
        "We will label the young subjects as 1 and the old subjects are 0."
      ],
      "metadata": {
        "id": "v0cpwwEGtKxJ"
      }
    },
    {
      "cell_type": "code",
      "source": [
        "phate_embd_young_with_label = [np.concatenate([embd, np.ones((embd.shape[0],1))], axis = 1) for embd in phate_embd_young]"
      ],
      "metadata": {
        "id": "YbwtX6i0poeq"
      },
      "execution_count": null,
      "outputs": []
    },
    {
      "cell_type": "code",
      "source": [
        "phate_embd_old_with_label = [np.concatenate([embd, np.zeros((embd.shape[0],1))], axis = 1) for embd in phate_embd_old]"
      ],
      "metadata": {
        "id": "wu--ttSgtDhT"
      },
      "execution_count": null,
      "outputs": []
    },
    {
      "cell_type": "code",
      "source": [
        "merged_data = [np.concatenate([young_data, old_data], axis=0) for young_data, old_data in zip(phate_embd_young_with_label, phate_embd_old_with_label)]"
      ],
      "metadata": {
        "id": "oLSIAfMTt0Q_"
      },
      "execution_count": null,
      "outputs": []
    },
    {
      "cell_type": "code",
      "source": [
        "ROI_names = [file_name.replace(\"data_\",\"\").replace(\".npy\",\"\") for file_name in file_names_young]"
      ],
      "metadata": {
        "id": "tO9_qc5cy_t_"
      },
      "execution_count": null,
      "outputs": []
    },
    {
      "cell_type": "code",
      "source": [
        "i = 0\n",
        "for data_old, data_young in zip(phate_embd_old, phate_embd_young):\n",
        "  plt.figure(figsize=(10,10))\n",
        "  plt.scatter(data_old[:,0], data_old[:,1], label=\"old\")\n",
        "  plt.scatter(data_young[:,0], data_young[:,1], label=\"young\")\n",
        "  plt.title(ROI_names[i])\n",
        "  plt.ylabel('TPHATE 2')\n",
        "  plt.xlabel('TPHATE 1')\n",
        "  plt.legend()\n",
        "  plt.savefig(\"Plots/BOTH/TPHATE/TPHATE-\"+ROI_names[i]+\".png\")\n",
        "  i += 1"
      ],
      "metadata": {
        "id": "ZUmPRTL7uNJ5"
      },
      "execution_count": null,
      "outputs": []
    },
    {
      "cell_type": "markdown",
      "source": [
        "### PCA Representation Compared"
      ],
      "metadata": {
        "id": "NXFRluAY5uWm"
      }
    },
    {
      "cell_type": "code",
      "source": [
        "def pca_rep(data, n_comps=2):\n",
        "  # We find the PCA embedding for the data\n",
        "  pca = PCA(n_components=n_comps, random_state=43)\n",
        "  principalComponents = pca.fit_transform(data)\n",
        "\n",
        "  return principalComponents"
      ],
      "metadata": {
        "id": "CDC_1iJez5wm"
      },
      "execution_count": null,
      "outputs": []
    },
    {
      "cell_type": "code",
      "source": [
        "pca_embd_young = [pca_rep(data) for data in data_avg_young]"
      ],
      "metadata": {
        "id": "t8yODZEn6NyF"
      },
      "execution_count": null,
      "outputs": []
    },
    {
      "cell_type": "code",
      "source": [
        "pca_embd_old = [pca_rep(data) for data in data_avg_old]"
      ],
      "metadata": {
        "id": "rO-5EbNQ6Reu"
      },
      "execution_count": null,
      "outputs": []
    },
    {
      "cell_type": "code",
      "source": [
        "i = 0\n",
        "for data_old, data_young in zip(pca_embd_old, pca_embd_young):\n",
        "  plt.figure(figsize=(10,10))\n",
        "  plt.scatter(data_old[:,0], data_old[:,1], label=\"old\")\n",
        "  plt.scatter(data_young[:,0], data_young[:,1], label=\"young\")\n",
        "  plt.title(ROI_names[i])\n",
        "  plt.ylabel('PCA 2')\n",
        "  plt.xlabel('PCA 1')\n",
        "  plt.legend()\n",
        "  plt.savefig(\"Plots/BOTH/PCA/PCA-\"+ROI_names[i]+\".png\")\n",
        "  i += 1"
      ],
      "metadata": {
        "id": "UMs2bME36kns"
      },
      "execution_count": null,
      "outputs": []
    },
    {
      "cell_type": "markdown",
      "source": [
        "### t-SNE Representation Comprared"
      ],
      "metadata": {
        "id": "Jzt1jwGJ8Z7w"
      }
    },
    {
      "cell_type": "code",
      "source": [
        "def tSNE_rep(data, n_comps=2):\n",
        "  # We find the tSNE embedding for the data\n",
        "  tsne = TSNE(n_components=n_comps, learning_rate=\"auto\", random_state=43, init=\"random\")\n",
        "  tsne_embd = tsne.fit_transform(data)\n",
        "\n",
        "  return tsne_embd"
      ],
      "metadata": {
        "id": "qlauqP9Y6409"
      },
      "execution_count": null,
      "outputs": []
    },
    {
      "cell_type": "code",
      "source": [
        "tSNE_embds_young = [tSNE_rep(data) for data in data_avg_young]"
      ],
      "metadata": {
        "id": "mxxVHoo98ke2"
      },
      "execution_count": null,
      "outputs": []
    },
    {
      "cell_type": "code",
      "source": [
        "tSNE_embds_old = [tSNE_rep(data) for data in data_avg_old]"
      ],
      "metadata": {
        "id": "StUF1V4B8q4z"
      },
      "execution_count": null,
      "outputs": []
    },
    {
      "cell_type": "code",
      "source": [
        "i = 0\n",
        "for data_old, data_young in zip(tSNE_embds_old, tSNE_embds_young):\n",
        "  plt.figure(figsize=(10,10))\n",
        "  plt.scatter(data_old[:,0], data_old[:,1], label=\"old\")\n",
        "  plt.scatter(data_young[:,0], data_young[:,1], label=\"young\")\n",
        "  plt.title(ROI_names[i])\n",
        "  plt.ylabel('tSNE 2')\n",
        "  plt.xlabel('tSNE 1')\n",
        "  plt.legend()\n",
        "  plt.savefig(\"Plots/BOTH/tSNE/tSNE-\"+ROI_names[i]+\".png\")\n",
        "  i += 1"
      ],
      "metadata": {
        "id": "wr0z9ANS8wlc"
      },
      "execution_count": null,
      "outputs": []
    },
    {
      "cell_type": "code",
      "source": [
        ""
      ],
      "metadata": {
        "id": "4l1wAFsf9HQ4"
      },
      "execution_count": null,
      "outputs": []
    }
  ]
}