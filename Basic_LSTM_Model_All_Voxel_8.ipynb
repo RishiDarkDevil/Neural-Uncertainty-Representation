{
  "cells": [
    {
      "cell_type": "markdown",
      "metadata": {
        "id": "rN8VtTibW_kL"
      },
      "source": [
        "Set Colab to GPU Mode if you are training the models!"
      ]
    },
    {
      "cell_type": "markdown",
      "metadata": {
        "id": "ESNkUUOEoS8j"
      },
      "source": [
        "### Mounting Google Drive"
      ]
    },
    {
      "cell_type": "code",
      "execution_count": 2,
      "metadata": {
        "colab": {
          "base_uri": "https://localhost:8080/"
        },
        "id": "GWpiHXuGn6Oy",
        "outputId": "db6a4a2e-bd9d-45a4-a732-104314c9bf2e"
      },
      "outputs": [
        {
          "output_type": "stream",
          "name": "stdout",
          "text": [
            "Mounted at /content/drive\n"
          ]
        }
      ],
      "source": [
        "from google.colab import drive\n",
        "drive.mount('/content/drive')"
      ]
    },
    {
      "cell_type": "code",
      "execution_count": 3,
      "metadata": {
        "colab": {
          "base_uri": "https://localhost:8080/"
        },
        "id": "bpxEP-yeoWPX",
        "outputId": "5e10b391-35ae-4bd5-b071-e596c53b45b0"
      },
      "outputs": [
        {
          "output_type": "stream",
          "name": "stdout",
          "text": [
            "/content/drive/.shortcut-targets-by-id/1h_oF16bG32l75GPobgHe_9HgdUduLFxT/IIT J Summer Internship 2022/Code/Neural-Uncertainty-Representation\n"
          ]
        }
      ],
      "source": [
        "cd 'drive/MyDrive/IIT J Summer Internship 2022/Code/Neural-Uncertainty-Representation/'"
      ]
    },
    {
      "cell_type": "markdown",
      "metadata": {
        "id": "Hq9mNRMMomT7"
      },
      "source": [
        "### Importing Necessary Libraries\n"
      ]
    },
    {
      "cell_type": "code",
      "execution_count": 4,
      "metadata": {
        "id": "SRXBkwcIogPe"
      },
      "outputs": [],
      "source": [
        "import numpy as np\n",
        "import pandas as pd\n",
        "\n",
        "import tensorflow as tf\n",
        "\n",
        "from tensorflow.keras.layers import Dense, Dropout, LSTM, TimeDistributed\n",
        "from tensorflow.keras.models import Sequential\n",
        "from tensorflow.keras.optimizers import Adam\n",
        "\n",
        "from sklearn.preprocessing import MinMaxScaler\n",
        "\n",
        "import matplotlib.pyplot as plt\n",
        "import os"
      ]
    },
    {
      "cell_type": "markdown",
      "metadata": {
        "id": "_R2-Cetmxned"
      },
      "source": [
        "### Importing Data\n",
        "We import the data of a young subject's 3D-Tensor Data of dimensions (TR, Voxel, Number of Subjects) for the 5 different ROIs as follows:\n",
        "- **Prefrontal areas:** dlPFC, vlPFC, lOFC, dmPFC, mPFC, mOFC\n",
        "- **Default-mode areas:** mPFC, ACC, PCC, Precuneus, mOFC\n",
        "- **Sensory areas:** VC\n",
        "- **Multisensory area:** pSTS\n",
        "- **Some other areas:** TP, IPL, mCC, Put, PCG, Nac, INS\n",
        "\n",
        "\n",
        "\n"
      ]
    },
    {
      "cell_type": "code",
      "execution_count": 5,
      "metadata": {
        "id": "XUJPFBg1898z"
      },
      "outputs": [],
      "source": [
        "file_names = [name for name in os.listdir('/content/drive/MyDrive/IIT J Summer Internship 2022/Hitchcock/Data/YOUNG/Voxel_BOLD/Numpy') if name.endswith(\"npy\") and (\"(1)\" not in name)]\n",
        "file_names = [name for name in file_names if (\"537\" not in name)]"
      ]
    },
    {
      "cell_type": "code",
      "execution_count": 6,
      "metadata": {
        "id": "5lVnzf5N_Ufy"
      },
      "outputs": [],
      "source": [
        "ROI_names = [file_name.replace(\"data_\",\"\").replace(\".npy\",\"\") for file_name in file_names]"
      ]
    },
    {
      "cell_type": "code",
      "execution_count": 7,
      "metadata": {
        "id": "Kg22rkIGpfP2"
      },
      "outputs": [],
      "source": [
        "data_ori = list()\n",
        "for file_name in file_names:\n",
        "  data_ori.append(np.load('/content/drive/MyDrive/IIT J Summer Internship 2022/Hitchcock/Data/YOUNG/Voxel_BOLD/Numpy/'+file_name))"
      ]
    },
    {
      "cell_type": "markdown",
      "metadata": {
        "id": "Kcaxzm8WDjgO"
      },
      "source": [
        "### Data Preparation"
      ]
    },
    {
      "cell_type": "markdown",
      "metadata": {
        "id": "K9rJ8CAb97K2"
      },
      "source": [
        "Now, here we prepare the data to be fed to the Neural Network Architechtures. We can't predict the time ahead upto which the subjects are predicting correctly so, we will take a bit round about way to predict the BOLD values ahead in time(for several choices of time points e.g. 1 time point ahead, 2 time point ahead, etc) and will compare the results for young and old subjects."
      ]
    },
    {
      "cell_type": "markdown",
      "metadata": {
        "id": "im3Oqy2ueeEU"
      },
      "source": [
        "Right from the starting we decide some of the data preparation parameters, so that we can use them as we require."
      ]
    },
    {
      "cell_type": "code",
      "execution_count": 8,
      "metadata": {
        "id": "X1DoZ2Fcec20"
      },
      "outputs": [],
      "source": [
        "TRAIN_BATCH_SIZE = 20\n",
        "TEST_BATCH_SIZE = 10\n",
        "LOOK_AHEAD = 1\n",
        "NUM_TEST_SUBS = 10"
      ]
    },
    {
      "cell_type": "markdown",
      "metadata": {
        "id": "TYuu8ZM2-u9z"
      },
      "source": [
        "We will avoid doing an average since, all voxels in a ROI is not equally important and hence we will want to predict the BOLD values of several voxels simultaneously."
      ]
    },
    {
      "cell_type": "code",
      "execution_count": 9,
      "metadata": {
        "id": "pFvaFL69geft"
      },
      "outputs": [],
      "source": [
        "data = data_ori"
      ]
    },
    {
      "cell_type": "markdown",
      "metadata": {
        "id": "mY3usMssn3T5"
      },
      "source": [
        "Let's Start the Data Preparation for lOFC later we will iterate the same procedure for the other ROIs."
      ]
    },
    {
      "cell_type": "code",
      "execution_count": 10,
      "metadata": {
        "colab": {
          "base_uri": "https://localhost:8080/"
        },
        "id": "71dv3Zkcgu3N",
        "outputId": "8b64d5a7-1590-463d-c5aa-facc9f93a778"
      },
      "outputs": [
        {
          "output_type": "stream",
          "name": "stdout",
          "text": [
            "lOFC BOLD Shape: (189, 537, 111)\n"
          ]
        }
      ],
      "source": [
        "print(ROI_names[-1], \"BOLD Shape:\", data[-1].shape)"
      ]
    },
    {
      "cell_type": "markdown",
      "metadata": {
        "id": "jG7ofnvRczcN"
      },
      "source": [
        "Below, we see the BOLD time series plot for all the ROIs."
      ]
    },
    {
      "cell_type": "markdown",
      "metadata": {
        "id": "-wIOccLpE0d-"
      },
      "source": [
        "We have changed the data in the form (Number of Subjects, TR, Voxels) below."
      ]
    },
    {
      "cell_type": "code",
      "execution_count": 11,
      "metadata": {
        "id": "0pHK54KjDnah"
      },
      "outputs": [],
      "source": [
        "data = [np.transpose(dat, (2,0,1)) for dat in data]"
      ]
    },
    {
      "cell_type": "code",
      "execution_count": 12,
      "metadata": {
        "colab": {
          "base_uri": "https://localhost:8080/"
        },
        "id": "HRXHJ1cwgrzp",
        "outputId": "abab9050-0f0c-4c76-ce4c-ff54eaacde7b"
      },
      "outputs": [
        {
          "output_type": "stream",
          "name": "stdout",
          "text": [
            "lOFC BOLD Shape: (111, 189, 537)\n"
          ]
        }
      ],
      "source": [
        "print(ROI_names[-1], \"BOLD Shape:\", data[-1].shape)"
      ]
    },
    {
      "cell_type": "code",
      "execution_count": 13,
      "metadata": {
        "id": "AseI4ZNeg26E"
      },
      "outputs": [],
      "source": [
        "# for i in range(len(data)):  \n",
        "#   plt.figure(figsize=(10, 8))\n",
        "#   plt.plot(data[i][0,:,:])\n",
        "#   plt.title(\"BOLD of 1st Subject for \"+ROI_names[i]+\"'s Voxels\")\n",
        "#   plt.xlabel(\"TRs\")\n",
        "#   plt.ylabel(\"BOLD\")\n",
        "#   plt.savefig(\"./Plots/YOUNG/ALL-BOLD/ALL-BOLD-\"+ROI_names[i]+\".png\")"
      ]
    },
    {
      "cell_type": "markdown",
      "metadata": {
        "id": "gg50q17pp5xQ"
      },
      "source": [
        "We split the dataset of 111 young subjects into 101 subjects in the training data and 10 subject in the test data."
      ]
    },
    {
      "cell_type": "code",
      "execution_count": 14,
      "metadata": {
        "id": "hrldyz8XnDlv"
      },
      "outputs": [],
      "source": [
        "train_data_unscaled = [dat[:-NUM_TEST_SUBS] for dat in data]\n",
        "test_data_unscaled = [dat[-NUM_TEST_SUBS:] for dat in data]  "
      ]
    },
    {
      "cell_type": "markdown",
      "metadata": {
        "id": "MDV7H0sYt6jd"
      },
      "source": [
        "We scaled the BOLD values of each voxel in the train data between 0 and 1 for each voxel. We use the same MinMaxScaler fit on the train data on the test data."
      ]
    },
    {
      "cell_type": "code",
      "execution_count": 15,
      "metadata": {
        "id": "-xkJQLj3tORj"
      },
      "outputs": [],
      "source": [
        "scalers = dict() # Stores a list of MinMaxScalers for each ROI, where number of MinMaxScalers is equal to the number of voxels in that ROI\n",
        "for i in range(len(ROI_names)):\n",
        "  scalers[ROI_names[i]] = [MinMaxScaler(feature_range = (0, 1)) for _ in range(data[i].shape[-1])]\n",
        "\n",
        "train_data = [[scalers[ROI_names[j]][i].fit_transform(train_data_unscaled[j][:,:,i]) for i in range(len(scalers[ROI_names[j]]))] for j in range(len(ROI_names))]\n",
        "test_data = [[scalers[ROI_names[j]][i].transform(test_data_unscaled[j][:,:,i]) for i in range(len(scalers[ROI_names[j]]))] for j in range(len(ROI_names))]"
      ]
    },
    {
      "cell_type": "code",
      "execution_count": 16,
      "metadata": {
        "id": "Ail126iVuR6s"
      },
      "outputs": [],
      "source": [
        "train_data = [np.transpose(np.array(dat), (1,2,0)) for dat in train_data]\n",
        "test_data = [np.transpose(np.array(dat), (1,2,0)) for dat in test_data]"
      ]
    },
    {
      "cell_type": "code",
      "execution_count": 17,
      "metadata": {
        "colab": {
          "base_uri": "https://localhost:8080/"
        },
        "id": "_cOAv_VrnbLU",
        "outputId": "96f0671f-90ac-46d8-852d-2edd7a4e9669"
      },
      "outputs": [
        {
          "output_type": "stream",
          "name": "stdout",
          "text": [
            "lOFC Train Data Shape:  (101, 189, 537)\n",
            "lOFC Test Data Shape:  (10, 189, 537)\n"
          ]
        }
      ],
      "source": [
        "print(ROI_names[-1], \"Train Data Shape: \", train_data[-1].shape)\n",
        "print(ROI_names[-1], \"Test Data Shape: \", test_data[-1].shape)"
      ]
    },
    {
      "cell_type": "code",
      "execution_count": 18,
      "metadata": {
        "id": "YIlJSRX92txN"
      },
      "outputs": [],
      "source": [
        "# for i in range(len(data)):  \n",
        "#   plt.figure(figsize=(10, 8))\n",
        "#   plt.plot(train_data[i][0,:,:])\n",
        "#   plt.title(\"BOLD of 1st Subject for \"+ROI_names[i]+\"'s Voxels\")\n",
        "#   plt.xlabel(\"TRs\")\n",
        "#   plt.ylabel(\"BOLD[Scaled between 0 and 1]\")\n",
        "#   plt.savefig(\"./Plots/YOUNG/ALL-BOLD/ALL-BOLD-SCALED-\"+ROI_names[i]+\".png\")"
      ]
    },
    {
      "cell_type": "markdown",
      "metadata": {
        "id": "0yjlAwWeiEru"
      },
      "source": [
        "We now build a data generator which would produce mini-batches during the training of the neural network."
      ]
    },
    {
      "cell_type": "code",
      "execution_count": 19,
      "metadata": {
        "id": "Blko7LXpgtwA"
      },
      "outputs": [],
      "source": [
        "class KerasBatchGenerator(object):\n",
        "    def __init__(self, data, num_TRs, batch_size, look_ahead=1):\n",
        "        self.data = data\n",
        "        self.num_TRs = num_TRs\n",
        "        self.batch_size = batch_size\n",
        "        self.current_idx = 0\n",
        "        self.look_ahead = look_ahead\n",
        "\n",
        "    def generate(self):\n",
        "        while True:\n",
        "            if self.current_idx + self.batch_size >= self.data.shape[0]:\n",
        "              self.current_idx = 0\n",
        "            x = self.data[self.current_idx:(self.current_idx+self.batch_size),:(-self.look_ahead),:]\n",
        "            y = self.data[self.current_idx:(self.current_idx+self.batch_size),self.look_ahead:,:]\n",
        "            self.current_idx = self.current_idx + self.batch_size\n",
        "            yield x, y "
      ]
    },
    {
      "cell_type": "code",
      "execution_count": 20,
      "metadata": {
        "id": "lZN56Eg3mrsc"
      },
      "outputs": [],
      "source": [
        "train_data_generator = [KerasBatchGenerator(dat, dat.shape[1], TRAIN_BATCH_SIZE, LOOK_AHEAD) for dat in train_data]\n",
        "test_data_generator = [KerasBatchGenerator(dat, dat.shape[1], TEST_BATCH_SIZE, LOOK_AHEAD) for dat in test_data]"
      ]
    },
    {
      "cell_type": "code",
      "execution_count": 21,
      "metadata": {
        "colab": {
          "base_uri": "https://localhost:8080/"
        },
        "id": "5UPT6iRxpJ7c",
        "outputId": "f7a3f88e-c927-4fb5-ff05-3f7d32af7295"
      },
      "outputs": [
        {
          "output_type": "stream",
          "name": "stdout",
          "text": [
            "lOFC Train Batch X Shape:  (20, 188, 537)\n",
            "lOFC Train Batch y Shape:  (20, 188, 537)\n"
          ]
        }
      ],
      "source": [
        "batch_x, batch_y = next(train_data_generator[-1].generate())\n",
        "print(ROI_names[-1], \"Train Batch X Shape: \", batch_x.shape)\n",
        "print(ROI_names[-1], \"Train Batch y Shape: \", batch_y.shape)"
      ]
    },
    {
      "cell_type": "code",
      "execution_count": 22,
      "metadata": {
        "colab": {
          "base_uri": "https://localhost:8080/"
        },
        "id": "Clavfro-pSEV",
        "outputId": "83f6e18d-bf25-4ae8-8f4c-7a8d62f50703"
      },
      "outputs": [
        {
          "output_type": "stream",
          "name": "stdout",
          "text": [
            "lOFC Test Batch X Shape:  (10, 188, 537)\n",
            "lOFC Test Batch y Shape:  (10, 188, 537)\n"
          ]
        }
      ],
      "source": [
        "batch_x, batch_y = next(test_data_generator[-1].generate())\n",
        "print(ROI_names[-1], \"Test Batch X Shape: \", batch_x.shape)\n",
        "print(ROI_names[-1], \"Test Batch y Shape: \", batch_y.shape)"
      ]
    },
    {
      "cell_type": "markdown",
      "metadata": {
        "id": "31NRewZjqoi1"
      },
      "source": [
        "### Building Model"
      ]
    },
    {
      "cell_type": "markdown",
      "metadata": {
        "id": "8Ry-jGmHqqx0"
      },
      "source": [
        "We will start off by building a LSTM Model:\n",
        "- `Number of LSTM Layers = 3`\n",
        "- `Number of Dense Layers = 1`\n",
        "- `hidden units = 32`\n",
        "- `dropout = 0.3`"
      ]
    },
    {
      "cell_type": "code",
      "execution_count": 23,
      "metadata": {
        "id": "AKDAJkiVgK2n"
      },
      "outputs": [],
      "source": [
        "HIDDEN_UNITS = 32\n",
        "DROPOUT_PROB = 0.3\n",
        "LSTM_LAYERS = 3\n",
        "DENSE_LAYERS = 1"
      ]
    },
    {
      "cell_type": "code",
      "execution_count": 24,
      "metadata": {
        "id": "fqoXwHTTqqCR"
      },
      "outputs": [],
      "source": [
        "def avg_bold_model(num_voxs):\n",
        "  model = Sequential()\n",
        "  for _ in range(LSTM_LAYERS):\n",
        "    model.add(LSTM(HIDDEN_UNITS, return_sequences=True))\n",
        "  model.add(Dropout(0.3))\n",
        "  for _ in range(DENSE_LAYERS-1):\n",
        "    model.add(TimeDistributed(Dense(HIDDEN_UNITS, activation='relu')))\n",
        "  model.add(TimeDistributed(Dense(num_voxs)))\n",
        "  return model"
      ]
    },
    {
      "cell_type": "code",
      "execution_count": 25,
      "metadata": {
        "colab": {
          "base_uri": "https://localhost:8080/"
        },
        "id": "nYHgnyz-v5nA",
        "outputId": "3af59944-b7fa-4185-e418-9bdb0220859c"
      },
      "outputs": [
        {
          "output_type": "stream",
          "name": "stdout",
          "text": [
            "Model: \"sequential\"\n",
            "_________________________________________________________________\n",
            " Layer (type)                Output Shape              Param #   \n",
            "=================================================================\n",
            " lstm (LSTM)                 (10, 188, 32)             72960     \n",
            "                                                                 \n",
            " lstm_1 (LSTM)               (10, 188, 32)             8320      \n",
            "                                                                 \n",
            " lstm_2 (LSTM)               (10, 188, 32)             8320      \n",
            "                                                                 \n",
            " dropout (Dropout)           (10, 188, 32)             0         \n",
            "                                                                 \n",
            " time_distributed (TimeDistr  (10, 188, 537)           17721     \n",
            " ibuted)                                                         \n",
            "                                                                 \n",
            "=================================================================\n",
            "Total params: 107,321\n",
            "Trainable params: 107,321\n",
            "Non-trainable params: 0\n",
            "_________________________________________________________________\n"
          ]
        }
      ],
      "source": [
        "sample_model = avg_bold_model(batch_x.shape[-1])\n",
        "sample_model.build(input_shape=batch_x.shape)\n",
        "sample_model.summary()"
      ]
    },
    {
      "cell_type": "code",
      "execution_count": 26,
      "metadata": {
        "id": "fUZSBnNft2Dl"
      },
      "outputs": [],
      "source": [
        "models = [avg_bold_model(train_data[i].shape[-1]) for i in range(len(ROI_names))]"
      ]
    },
    {
      "cell_type": "markdown",
      "metadata": {
        "id": "3PRKFwUahAKG"
      },
      "source": [
        "#### Training Model"
      ]
    },
    {
      "cell_type": "markdown",
      "metadata": {
        "id": "LsHnfCSrhC0g"
      },
      "source": [
        "If you haven't already trained the models then uncomment and train your models which will be saved and will be loaded for inference later."
      ]
    },
    {
      "cell_type": "code",
      "execution_count": 27,
      "metadata": {
        "id": "kf-dFQmfzqTA"
      },
      "outputs": [],
      "source": [
        "for i in range(len(ROI_names)):\n",
        "  models[i].compile(optimizer = 'adam', loss = 'mean_squared_error')"
      ]
    },
    {
      "cell_type": "code",
      "execution_count": null,
      "metadata": {
        "id": "vcZsfhkz3lCH"
      },
      "outputs": [],
      "source": [
        "EPOCHS = 100\n",
        "checkpoint_filepaths = [f\"./Models/YOUNG/LSTM/ALL-BOLD/{name}/model_weights-best-val-loss-{LSTM_LAYERS}L-{HIDDEN_UNITS}H-{DENSE_LAYERS}D-{int(DROPOUT_PROB*10)}Drop-{LOOK_AHEAD}Ahead-{name}\" for name in ROI_names]\n",
        "model_checkpoint_callbacks = [tf.keras.callbacks.ModelCheckpoint(\n",
        "    filepath=checkpoint_filepath,\n",
        "    save_weights_only=True,\n",
        "    monitor = \"val_loss\",\n",
        "    mode='min',\n",
        "    save_best_only=True) for checkpoint_filepath in checkpoint_filepaths]"
      ]
    },
    {
      "cell_type": "code",
      "execution_count": null,
      "metadata": {
        "id": "wECZbf2i_AH7"
      },
      "outputs": [],
      "source": [
        "def plot_train_test_loss(history, model_name, i):  \n",
        "  plt.figure(figsize=(10,10))\n",
        "  plt.plot(history.history['loss'])\n",
        "  plt.plot(history.history['val_loss'])\n",
        "  plt.title(model_name+' loss')\n",
        "  plt.ylabel('loss')\n",
        "  plt.xlabel('epochs')\n",
        "  plt.legend(['train', 'val'], loc='upper left')\n",
        "  plt.savefig(\"./Plots/YOUNG/LSTM/ALL-BOLD/\"+ROI_names[i]+\"/\"+model_name+\"-loss.png\")"
      ]
    },
    {
      "cell_type": "code",
      "execution_count": null,
      "metadata": {
        "id": "AFb-kTLR21hl"
      },
      "outputs": [],
      "source": [
        "histories = list()\n",
        "with tf.device('/device:GPU:0'):\n",
        "  for i in range(len(ROI_names)):\n",
        "    history = models[i].fit(\n",
        "                    train_data_generator[i].generate(),\n",
        "                    steps_per_epoch=train_data[i].shape[0]//TRAIN_BATCH_SIZE,\n",
        "                    epochs=EPOCHS,\n",
        "                    validation_data=test_data_generator[i].generate(),\n",
        "                    validation_steps=test_data[i].shape[0]//TEST_BATCH_SIZE,\n",
        "                    callbacks=[model_checkpoint_callbacks[i]]\n",
        "                    )\n",
        "    models[i].save_weights(f\"./Models/YOUNG/LSTM/ALL-BOLD/{ROI_names[i]}/model_weights-{LSTM_LAYERS}L-{HIDDEN_UNITS}H-{DENSE_LAYERS}D-{int(DROPOUT_PROB*10)}Drop-{LOOK_AHEAD}Ahead-{ROI_names[i]}\")\n",
        "    plot_train_test_loss(history, f\"{LSTM_LAYERS}L-{HIDDEN_UNITS}H-{DENSE_LAYERS}D-{int(DROPOUT_PROB*10)}Drop-{LOOK_AHEAD}Ahead-{ROI_names[i]}\", i)\n",
        "    histories.append(history)"
      ]
    },
    {
      "cell_type": "code",
      "execution_count": 28,
      "metadata": {
        "id": "dKvn0145hViW"
      },
      "outputs": [],
      "source": [
        "for i in range(len(ROI_names)):\n",
        "  models[i].load_weights(f\"./Models/YOUNG/LSTM/ALL-BOLD/{ROI_names[i]}/model_weights-{LSTM_LAYERS}L-{HIDDEN_UNITS}H-{DENSE_LAYERS}D-{int(DROPOUT_PROB*10)}Drop-{LOOK_AHEAD}Ahead-{ROI_names[i]}\")"
      ]
    },
    {
      "cell_type": "code",
      "execution_count": null,
      "metadata": {
        "id": "7mpQ5Rap6kQ0"
      },
      "outputs": [],
      "source": [
        "preds = [models[i].predict(next(test_data_generator[i].generate())[0]) for i in range(len(ROI_names))]"
      ]
    },
    {
      "cell_type": "code",
      "execution_count": null,
      "metadata": {
        "id": "HeE2zhmXxOge"
      },
      "outputs": [],
      "source": [
        "a_TRs = np.array([56, 67, 73, 81, 134, 142, 155, 167, 174, 180])\n",
        "d_TRs = np.array([67, 72, 85, 89, 145, 154, 168, 174, 180, 188])\n",
        "and_TRs = np.union1d(a_TRs, d_TRs)\n",
        "\n",
        "def highlight_and(act, pred):\n",
        "  min_y_list = list()\n",
        "  max_y_list = list()\n",
        "  for i in range(5):\n",
        "    min_y_list.append(np.min(np.concatenate([act[a_TRs[2*i]:d_TRs[2*i+1]], pred[a_TRs[2*i]:d_TRs[2*i+1]]])))\n",
        "    max_y_list.append(np.max(np.concatenate([act[a_TRs[2*i]:d_TRs[2*i+1]], pred[a_TRs[2*i]:d_TRs[2*i+1]]])))\n",
        "    # plt.fill_betweenx(y=[min_y_list[i], max_y_list[i]], x1=a_TRs[2*i], x2=d_TRs[2*i+1], color='gray', alpha=0.1)\n",
        "    plt.fill_betweenx(y=[min_y_list[i], max_y_list[i]], x1=a_TRs[2*i], x2=a_TRs[2*i+1], color='violet', alpha=0.4)\n",
        "    plt.fill_betweenx(y=[min_y_list[i], max_y_list[i]], x1=d_TRs[2*i], x2=d_TRs[2*i+1], color='greenyellow', alpha=0.4)"
      ]
    },
    {
      "cell_type": "code",
      "execution_count": null,
      "metadata": {
        "colab": {
          "background_save": true
        },
        "id": "WBLOHLixAWnk"
      },
      "outputs": [],
      "source": [
        "np.random.seed(43)\n",
        "for i in range(len(ROI_names)):\n",
        "  \n",
        "  actual_test_data_output = test_data_unscaled[i][:,LOOK_AHEAD:,:]\n",
        "  pred_test_data_output = np.transpose(np.array([scalers[ROI_names[i]][j].inverse_transform(np.hstack([preds[i][:,:,j], preds[i][:,:LOOK_AHEAD,j]])) for j in range(len(scalers[ROI_names[i]]))]), (1,2,0))[:,:-LOOK_AHEAD,:]\n",
        "  plt.figure(figsize=(24, 18))\n",
        "\n",
        "  for j in range(NUM_TEST_SUBS-1):\n",
        "  \n",
        "    ax = plt.subplot(3, 3, j + 1)\n",
        "    vox_choice = np.random.randint(0, len(scalers[ROI_names[i]]), 5)\n",
        "    plt.plot(np.transpose(actual_test_data_output[j,:, vox_choice]), c='b', label='actual')\n",
        "    plt.plot(np.transpose(pred_test_data_output[j,:, vox_choice]), c='r', ls='--', label='pred')\n",
        "    # highlight_and(actual_test_data_output[j,:], pred_test_data_output[j,:])\n",
        "    plt.xticks(np.concatenate([np.array([0]), and_TRs - LOOK_AHEAD]), np.concatenate([np.array([LOOK_AHEAD]), and_TRs]))\n",
        "    plt.ylabel(\"BOLD\")\n",
        "    plt.xlabel(\"TRs\")\n",
        "    plt.title(f\"All BOLD Preds of {LSTM_LAYERS}L-{HIDDEN_UNITS}H-{DENSE_LAYERS}D-{int(DROPOUT_PROB*10)}Drop-{LOOK_AHEAD}Ahead for {j+1}th Test Sub's {ROI_names[i]}\")\n",
        "    plt.legend()\n",
        "    plt.savefig(f\"./Plots/YOUNG/LSTM/ALL-BOLD/{ROI_names[i]}/{LSTM_LAYERS}L-{HIDDEN_UNITS}H-{DENSE_LAYERS}D-{int(DROPOUT_PROB*10)}Drop-{LOOK_AHEAD}Ahead-Preds.png\")"
      ]
    },
    {
      "cell_type": "code",
      "execution_count": null,
      "metadata": {
        "colab": {
          "background_save": true
        },
        "id": "J8hiJzxcKFuz",
        "outputId": "80fb1707-539f-44ba-e652-dd6399d6d484"
      },
      "outputs": [
        {
          "name": "stdout",
          "output_type": "stream",
          "text": [
            "***Each Test Subject's Correlation Coefficient between predicted and actual BOLD averaged across each Voxel Prediction values for ROIs***\n",
            "\n",
            "dmPFC for 1th sub: 0.18\n",
            "dmPFC for 2th sub: 0.36\n",
            "dmPFC for 3th sub: 0.38\n",
            "dmPFC for 4th sub: 0.17\n",
            "dmPFC for 5th sub: 0.16\n",
            "dmPFC for 6th sub: 0.28\n",
            "dmPFC for 7th sub: 0.1\n",
            "dmPFC for 8th sub: 0.29\n",
            "dmPFC for 9th sub: 0.33\n",
            "dmPFC for 10th sub: 0.06\n",
            "\n",
            "ACC for 1th sub: 0.2\n",
            "ACC for 2th sub: 0.3\n",
            "ACC for 3th sub: 0.18\n",
            "ACC for 4th sub: 0.21\n",
            "ACC for 5th sub: 0.09\n",
            "ACC for 6th sub: 0.18\n",
            "ACC for 7th sub: 0.15\n",
            "ACC for 8th sub: 0.39\n",
            "ACC for 9th sub: 0.18\n",
            "ACC for 10th sub: 0.24\n",
            "\n",
            "AMY for 1th sub: 0.3\n",
            "AMY for 2th sub: 0.26\n",
            "AMY for 3th sub: 0.53\n",
            "AMY for 4th sub: 0.21\n",
            "AMY for 5th sub: 0.1\n",
            "AMY for 6th sub: 0.41\n",
            "AMY for 7th sub: 0.16\n",
            "AMY for 8th sub: 0.54\n",
            "AMY for 9th sub: 0.28\n",
            "AMY for 10th sub: 0.08\n",
            "\n",
            "Cau for 1th sub: 0.05\n",
            "Cau for 2th sub: 0.45\n",
            "Cau for 3th sub: 0.19\n",
            "Cau for 4th sub: 0.07\n",
            "Cau for 5th sub: 0.38\n",
            "Cau for 6th sub: 0.03\n",
            "Cau for 7th sub: 0.15\n",
            "Cau for 8th sub: 0.19\n",
            "Cau for 9th sub: 0.38\n",
            "Cau for 10th sub: 0.07\n",
            "\n",
            "dlPFC for 1th sub: 0.23\n",
            "dlPFC for 2th sub: 0.2\n",
            "dlPFC for 3th sub: 0.4\n",
            "dlPFC for 4th sub: 0.27\n",
            "dlPFC for 5th sub: 0.13\n",
            "dlPFC for 6th sub: 0.06\n",
            "dlPFC for 7th sub: 0.12\n",
            "dlPFC for 8th sub: 0.23\n",
            "dlPFC for 9th sub: 0.22\n",
            "dlPFC for 10th sub: 0.15\n",
            "\n",
            "INS for 1th sub: 0.27\n",
            "INS for 2th sub: 0.69\n",
            "INS for 3th sub: 0.45\n",
            "INS for 4th sub: 0.48\n",
            "INS for 5th sub: 0.21\n",
            "INS for 6th sub: 0.32\n",
            "INS for 7th sub: 0.27\n",
            "INS for 8th sub: 0.36\n",
            "INS for 9th sub: 0.24\n",
            "INS for 10th sub: 0.27\n",
            "\n",
            "IPL for 1th sub: 0.4\n",
            "IPL for 2th sub: 0.14\n",
            "IPL for 3th sub: 0.44\n",
            "IPL for 4th sub: 0.39\n",
            "IPL for 5th sub: 0.23\n",
            "IPL for 6th sub: 0.26\n",
            "IPL for 7th sub: 0.38\n",
            "IPL for 8th sub: 0.45\n",
            "IPL for 9th sub: 0.28\n",
            "IPL for 10th sub: 0.23\n",
            "\n",
            "mCC for 1th sub: 0.11\n",
            "mCC for 2th sub: 0.03\n",
            "mCC for 3th sub: 0.2\n",
            "mCC for 4th sub: 0.14\n",
            "mCC for 5th sub: 0.23\n",
            "mCC for 6th sub: 0.61\n",
            "mCC for 7th sub: 0.0\n",
            "mCC for 8th sub: 0.3\n",
            "mCC for 9th sub: 0.19\n",
            "mCC for 10th sub: 0.13\n",
            "\n",
            "Nac for 1th sub: 0.12\n",
            "Nac for 2th sub: 0.35\n",
            "Nac for 3th sub: 0.2\n",
            "Nac for 4th sub: 0.31\n",
            "Nac for 5th sub: 0.3\n",
            "Nac for 6th sub: 0.12\n",
            "Nac for 7th sub: 0.2\n",
            "Nac for 8th sub: 0.29\n",
            "Nac for 9th sub: 0.63\n",
            "Nac for 10th sub: 0.07\n",
            "\n",
            "PCC for 1th sub: 0.15\n",
            "PCC for 2th sub: 0.22\n",
            "PCC for 3th sub: 0.34\n",
            "PCC for 4th sub: 0.42\n",
            "PCC for 5th sub: 0.19\n",
            "PCC for 6th sub: 0.41\n",
            "PCC for 7th sub: 0.18\n",
            "PCC for 8th sub: 0.34\n",
            "PCC for 9th sub: 0.19\n",
            "PCC for 10th sub: 0.17\n",
            "\n",
            "PCG for 1th sub: 0.08\n",
            "PCG for 2th sub: 0.13\n",
            "PCG for 3th sub: 0.23\n",
            "PCG for 4th sub: 0.21\n",
            "PCG for 5th sub: 0.03\n",
            "PCG for 6th sub: 0.19\n",
            "PCG for 7th sub: 0.15\n",
            "PCG for 8th sub: 0.26\n",
            "PCG for 9th sub: 0.24\n",
            "PCG for 10th sub: 0.26\n",
            "\n",
            "Prec for 1th sub: 0.21\n",
            "Prec for 2th sub: 0.22\n",
            "Prec for 3th sub: 0.36\n",
            "Prec for 4th sub: 0.34\n",
            "Prec for 5th sub: 0.21\n",
            "Prec for 6th sub: 0.34\n",
            "Prec for 7th sub: 0.31\n",
            "Prec for 8th sub: 0.43\n",
            "Prec for 9th sub: 0.25\n",
            "Prec for 10th sub: 0.22\n",
            "\n",
            "TP for 1th sub: 0.46\n",
            "TP for 2th sub: 0.27\n",
            "TP for 3th sub: 0.4\n",
            "TP for 4th sub: 0.38\n",
            "TP for 5th sub: 0.55\n",
            "TP for 6th sub: 0.26\n",
            "TP for 7th sub: 0.46\n",
            "TP for 8th sub: 0.59\n",
            "TP for 9th sub: 0.61\n",
            "TP for 10th sub: 0.49\n",
            "\n",
            "Put for 1th sub: 0.2\n",
            "Put for 2th sub: 0.04\n",
            "Put for 3th sub: 0.42\n",
            "Put for 4th sub: 0.12\n",
            "Put for 5th sub: 0.29\n",
            "Put for 6th sub: 0.22\n",
            "Put for 7th sub: 0.09\n",
            "Put for 8th sub: 0.35\n",
            "Put for 9th sub: 0.28\n",
            "Put for 10th sub: -0.09\n",
            "\n",
            "pSTS for 1th sub: 0.42\n",
            "pSTS for 2th sub: 0.23\n",
            "pSTS for 3th sub: 0.58\n",
            "pSTS for 4th sub: 0.34\n",
            "pSTS for 5th sub: 0.23\n",
            "pSTS for 6th sub: 0.5\n",
            "pSTS for 7th sub: 0.4\n",
            "pSTS for 8th sub: 0.54\n",
            "pSTS for 9th sub: 0.21\n",
            "pSTS for 10th sub: 0.19\n",
            "\n",
            "VC for 1th sub: -0.1\n",
            "VC for 2th sub: -0.01\n",
            "VC for 3th sub: 0.25\n",
            "VC for 4th sub: 0.1\n",
            "VC for 5th sub: 0.1\n",
            "VC for 6th sub: 0.18\n",
            "VC for 7th sub: 0.16\n",
            "VC for 8th sub: 0.23\n",
            "VC for 9th sub: 0.08\n",
            "VC for 10th sub: -0.0\n",
            "\n",
            "vlPFC for 1th sub: 0.34\n",
            "vlPFC for 2th sub: 0.32\n",
            "vlPFC for 3th sub: 0.44\n",
            "vlPFC for 4th sub: 0.44\n",
            "vlPFC for 5th sub: 0.11\n",
            "vlPFC for 6th sub: 0.18\n",
            "vlPFC for 7th sub: 0.31\n",
            "vlPFC for 8th sub: 0.29\n",
            "vlPFC for 9th sub: 0.38\n",
            "vlPFC for 10th sub: 0.08\n",
            "\n",
            "mOFC for 1th sub: 0.29\n",
            "mOFC for 2th sub: 0.28\n",
            "mOFC for 3th sub: 0.64\n",
            "mOFC for 4th sub: 0.78\n",
            "mOFC for 5th sub: 0.56\n",
            "mOFC for 6th sub: 0.38\n",
            "mOFC for 7th sub: 0.11\n",
            "mOFC for 8th sub: 0.66\n",
            "mOFC for 9th sub: 0.74\n",
            "mOFC for 10th sub: 0.16\n",
            "\n",
            "mPFC for 1th sub: 0.22\n",
            "mPFC for 2th sub: 0.08\n",
            "mPFC for 3th sub: 0.22\n",
            "mPFC for 4th sub: 0.26\n",
            "mPFC for 5th sub: 0.01\n",
            "mPFC for 6th sub: 0.06\n",
            "mPFC for 7th sub: 0.1\n",
            "mPFC for 8th sub: 0.62\n",
            "mPFC for 9th sub: 0.16\n",
            "mPFC for 10th sub: 0.03\n",
            "\n",
            "lOFC for 1th sub: 0.37\n",
            "lOFC for 2th sub: 0.19\n",
            "lOFC for 3th sub: 0.36\n",
            "lOFC for 4th sub: 0.66\n",
            "lOFC for 5th sub: 0.18\n",
            "lOFC for 6th sub: -0.02\n",
            "lOFC for 7th sub: 0.13\n",
            "lOFC for 8th sub: 0.61\n",
            "lOFC for 9th sub: 0.66\n",
            "lOFC for 10th sub: 0.01\n",
            "\n",
            "***Average across test subjects Correlation Coefficient between predicted and actual BOLD averaged across each Voxel Prediction values for ROIs***\n",
            "\n",
            "dmPFC: 0.23\n",
            "ACC: 0.21\n",
            "AMY: 0.29\n",
            "Cau: 0.2\n",
            "dlPFC: 0.2\n",
            "INS: 0.36\n",
            "IPL: 0.32\n",
            "mCC: 0.19\n",
            "Nac: 0.26\n",
            "PCC: 0.26\n",
            "PCG: 0.18\n",
            "Prec: 0.29\n",
            "TP: 0.44\n",
            "Put: 0.19\n",
            "pSTS: 0.36\n",
            "VC: 0.1\n",
            "vlPFC: 0.29\n",
            "mOFC: 0.46\n",
            "mPFC: 0.18\n",
            "lOFC: 0.32\n"
          ]
        }
      ],
      "source": [
        "print(\"***Each Test Subject's Correlation Coefficient between predicted and actual BOLD averaged across each Voxel Prediction values for ROIs***\")\n",
        "print()\n",
        "avg_r = list()\n",
        "for i in range(len(ROI_names)):\n",
        "  actual_test_data_output = test_data_unscaled[i][:,LOOK_AHEAD:,:]\n",
        "  pred_test_data_output = np.transpose(np.array([scalers[ROI_names[i]][j].inverse_transform(np.hstack([preds[i][:,:,j], preds[i][:,:LOOK_AHEAD,j]])) for j in range(len(scalers[ROI_names[i]]))]), (1,2,0))[:,:-LOOK_AHEAD,:] \n",
        "  for j in range(NUM_TEST_SUBS):\n",
        "    print(f\"{ROI_names[i]} for {j+1}th sub: {np.round(np.trace(np.corrcoef(actual_test_data_output[j,:,:], pred_test_data_output[j,:,:], rowvar=False)[:actual_test_data_output.shape[-1], actual_test_data_output.shape[-1]:])/actual_test_data_output.shape[-1], 2)}\")\n",
        "  print()\n",
        "\n",
        "print(\"***Average across test subjects Correlation Coefficient between predicted and actual BOLD averaged across each Voxel Prediction values for ROIs***\")\n",
        "print()\n",
        "for i in range(len(ROI_names)):\n",
        "  actual_test_data_output = test_data_unscaled[i][:,LOOK_AHEAD:,:]\n",
        "  pred_test_data_output = np.transpose(np.array([scalers[ROI_names[i]][j].inverse_transform(np.hstack([preds[i][:,:,j], preds[i][:,:LOOK_AHEAD,j]])) for j in range(len(scalers[ROI_names[i]]))]), (1,2,0))[:,:-LOOK_AHEAD,:]\n",
        "  sum_r = 0\n",
        "  for j in range(NUM_TEST_SUBS):\n",
        "    sum_r += np.trace(np.corrcoef(actual_test_data_output[j,:,:], pred_test_data_output[j,:,:], rowvar=False)[:actual_test_data_output.shape[-1], actual_test_data_output.shape[-1]:]/actual_test_data_output.shape[-1])\n",
        "  print(f\"{ROI_names[i]}: {np.round(sum_r / NUM_TEST_SUBS, 2)}\")"
      ]
    },
    {
      "cell_type": "code",
      "execution_count": null,
      "metadata": {
        "colab": {
          "background_save": true
        },
        "id": "f8gPew9YMI2B",
        "outputId": "4f66ccab-4925-4f6a-8f35-b10085b72087"
      },
      "outputs": [
        {
          "name": "stdout",
          "output_type": "stream",
          "text": [
            "***Model's Final Scaled MSE(Train) Loss between predicted and actual all voxel BOLD values for ROIs for the Train Subjects***\n",
            "\n",
            "dmPFC: 0.01375\n",
            "ACC: 0.0107\n",
            "AMY: 0.00751\n",
            "Cau: 0.0094\n",
            "dlPFC: 0.01508\n",
            "INS: 0.00643\n",
            "IPL: 0.01959\n",
            "mCC: 0.00987\n",
            "Nac: 0.00736\n",
            "PCC: 0.01185\n",
            "PCG: 0.02166\n",
            "Prec: 0.01235\n",
            "TP: 0.01268\n",
            "Put: 0.00344\n",
            "pSTS: 0.00735\n",
            "VC: 0.03117\n",
            "vlPFC: 0.01232\n",
            "mOFC: 0.01682\n",
            "mPFC: 0.01326\n",
            "lOFC: 0.01507\n",
            "\n",
            "***Model's Final MSE(Validation) Loss between predicted and actual all voxel BOLD values for ROIs for the Test Subjects***\n",
            "\n",
            "dmPFC: 0.00991\n",
            "ACC: 0.00974\n",
            "AMY: 0.00504\n",
            "Cau: 0.00729\n",
            "dlPFC: 0.0123\n",
            "INS: 0.00329\n",
            "IPL: 0.02111\n",
            "mCC: 0.00644\n",
            "Nac: 0.00389\n",
            "PCC: 0.01305\n",
            "PCG: 0.02291\n",
            "Prec: 0.01123\n",
            "TP: 0.00646\n",
            "Put: 0.00122\n",
            "pSTS: 0.00313\n",
            "VC: 0.02845\n",
            "vlPFC: 0.00892\n",
            "mOFC: 0.01122\n",
            "mPFC: 0.0117\n",
            "lOFC: 0.01095\n"
          ]
        }
      ],
      "source": [
        "print(\"***Model's Final Scaled MSE(Train) Loss between predicted and actual all voxel BOLD values for ROIs for the Train Subjects***\")\n",
        "print()\n",
        "for i in range(len(ROI_names)):\n",
        "  print(ROI_names[i]+\":\", np.round(histories[i].history['loss'][-1], 5))\n",
        "print()\n",
        "print(\"***Model's Final MSE(Validation) Loss between predicted and actual all voxel BOLD values for ROIs for the Test Subjects***\")\n",
        "print()\n",
        "for i in range(len(ROI_names)):\n",
        "  print(ROI_names[i]+\":\", np.round(histories[i].history['val_loss'][-1], 5))"
      ]
    },
    {
      "cell_type": "code",
      "execution_count": null,
      "metadata": {
        "colab": {
          "background_save": true
        },
        "id": "EQ3FUO9eY5gO",
        "outputId": "2e75e6da-4019-4776-bc1e-c3e0d4161f12"
      },
      "outputs": [
        {
          "name": "stdout",
          "output_type": "stream",
          "text": [
            "***Model's Final MSE(Validation) Loss between predicted and actual all voxel BOLD values for ROIs for the Test Subjects***\n",
            "\n",
            "dmPFC for Each Validation Subject: [ 65.6132    81.22682   25.656574  41.125095  39.16693  119.01752\n",
            "  35.74859   26.22087   61.50221   62.353447]\n",
            "dmPFC : 55.763123\n",
            "ACC for Each Validation Subject: [45.197052 20.267185 35.498585 19.065588 16.089527 54.38965  38.230145\n",
            " 42.41623  35.562008 18.822926]\n",
            "ACC : 32.55389\n",
            "AMY for Each Validation Subject: [32.2807   36.721004 30.301046 23.523926 22.862757 49.269863 21.56272\n",
            " 49.63495  62.678665 25.918602]\n",
            "AMY : 35.475426\n",
            "Cau for Each Validation Subject: [27.66919  17.459553 29.099838 45.377396 38.527626 78.99093   8.71293\n",
            " 43.119606 28.839626 20.886423]\n",
            "Cau : 33.86831\n",
            "dlPFC for Each Validation Subject: [30.950165 26.481518 22.256805 21.346762 47.230427 44.78033  36.14129\n",
            " 30.038403 32.930416 36.54608 ]\n",
            "dlPFC : 32.87022\n",
            "INS for Each Validation Subject: [10.546689  10.521589   9.809857   8.964262   5.0747004  4.4808664\n",
            "  7.3443894 24.508665  11.02023    6.3736324]\n",
            "INS : 9.864489\n",
            "IPL for Each Validation Subject: [ 58.90942   26.154406  55.178467  87.350876  58.694263 138.37154\n",
            "  52.506588  55.49041   25.102015  33.1978  ]\n",
            "IPL : 59.09558\n",
            "mCC for Each Validation Subject: [26.039255 14.927454 11.699004 15.409242 21.669819 49.695187 20.68424\n",
            " 40.360542 20.563345 23.118567]\n",
            "mCC : 24.416664\n",
            "Nac for Each Validation Subject: [ 8.53479    6.680818  10.759783  30.260134  10.072499  21.387367\n",
            "  3.058984  13.43005   12.253798   7.1049767]\n",
            "Nac : 12.35432\n",
            "PCC for Each Validation Subject: [112.65043    27.770056   17.761696   11.7902155  19.584538   77.46593\n",
            "  25.850435   23.383554   25.119452   44.191696 ]\n",
            "PCC : 38.5568\n",
            "PCG for Each Validation Subject: [ 92.14833  130.49113   36.151424 101.452385  57.98023  173.65216\n",
            " 107.632706  77.51054  132.65572   70.835556]\n",
            "PCG : 98.05102\n",
            "Prec for Each Validation Subject: [ 57.654537  68.81824   21.819328  40.69291   20.704113 131.03691\n",
            "  55.944424  29.700003  35.655544  47.46313 ]\n",
            "Prec : 50.948917\n",
            "TP for Each Validation Subject: [17.199543 22.806625 26.806492 14.96315  43.36126  33.0686   24.343313\n",
            " 33.024303 30.946154 48.555832]\n",
            "TP : 29.507526\n",
            "Put for Each Validation Subject: [ 2.9967003  4.7887335  4.836816   4.5879493  2.8423858 12.660865\n",
            "  4.736798   5.1730523  3.5403602  8.698106 ]\n",
            "Put : 5.4861765\n",
            "pSTS for Each Validation Subject: [10.706458   7.469908  17.043781   8.282885  10.896007   6.630519\n",
            "  9.969106  13.716327   6.0780005 27.697426 ]\n",
            "pSTS : 11.849043\n",
            "VC for Each Validation Subject: [199.1646    83.96594   75.459885  91.29648  229.53758  351.003\n",
            "  89.165504  60.934113 111.3045    57.089336]\n",
            "VC : 134.89209\n",
            "vlPFC for Each Validation Subject: [34.432823  21.10944    6.9528823 11.961171  50.129414  31.248701\n",
            " 31.82004   21.395212  32.132996   9.097731 ]\n",
            "vlPFC : 25.028042\n",
            "mOFC for Each Validation Subject: [ 13.604073  26.777008  40.071472  24.42908  124.62452   88.88189\n",
            "  28.554579  28.00831   62.8854    29.666147]\n",
            "mOFC : 46.750248\n",
            "mPFC for Each Validation Subject: [ 53.6219    68.43989   62.305676 120.312294  51.669777 318.25647\n",
            "  58.09642   26.403118  77.50681   43.61011 ]\n",
            "mPFC : 88.02225\n",
            "lOFC for Each Validation Subject: [46.351936 56.198    30.239813 37.010788 29.32546  36.94519  42.099926\n",
            " 14.443226 24.830114 23.979124]\n",
            "lOFC : 34.142357\n"
          ]
        }
      ],
      "source": [
        "print(\"***Model's Final MSE(Validation) Loss between predicted and actual all voxel BOLD values for ROIs for the Test Subjects***\")\n",
        "print()\n",
        "for i in range(len(ROI_names)):\n",
        "  actual_test_data_output = test_data_unscaled[i][:,LOOK_AHEAD:,:]\n",
        "  pred_test_data_output = np.transpose(np.array([scalers[ROI_names[i]][j].inverse_transform(np.hstack([preds[i][:,:,j], preds[i][:,:LOOK_AHEAD,j]])) for j in range(len(scalers[ROI_names[i]]))]), (1,2,0))[:,:-LOOK_AHEAD,:]\n",
        "  print(ROI_names[i]+\" for Each Validation Subject:\", np.mean(tf.keras.losses.mean_squared_error(actual_test_data_output, pred_test_data_output), axis=-1))\n",
        "  print(ROI_names[i]+\" :\", np.mean(np.mean(tf.keras.losses.mean_squared_error(actual_test_data_output, pred_test_data_output), axis=-1)))"
      ]
    },
    {
      "cell_type": "code",
      "execution_count": null,
      "metadata": {
        "colab": {
          "background_save": true
        },
        "id": "vj_dqg--4sG6"
      },
      "outputs": [],
      "source": [
        ""
      ]
    }
  ],
  "metadata": {
    "accelerator": "GPU",
    "colab": {
      "collapsed_sections": [],
      "name": "Basic-LSTM-Model-All-Voxel-8.ipynb",
      "provenance": [],
      "authorship_tag": "ABX9TyOusvsTKUBjNxJhEGbooqAX"
    },
    "gpuClass": "standard",
    "kernelspec": {
      "display_name": "Python 3",
      "name": "python3"
    },
    "language_info": {
      "name": "python"
    }
  },
  "nbformat": 4,
  "nbformat_minor": 0
}