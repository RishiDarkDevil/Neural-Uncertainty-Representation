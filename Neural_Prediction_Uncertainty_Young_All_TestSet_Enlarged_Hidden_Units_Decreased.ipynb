{
  "nbformat": 4,
  "nbformat_minor": 0,
  "metadata": {
    "colab": {
      "name": "Neural-Prediction-Uncertainty-Young-All-TestSet-Enlarged-Hidden-Units-Decreased.ipynb",
      "provenance": [],
      "collapsed_sections": [],
      "authorship_tag": "ABX9TyM+5fr8GwTLyw3WdTaCKSV6"
    },
    "kernelspec": {
      "name": "python3",
      "display_name": "Python 3"
    },
    "language_info": {
      "name": "python"
    },
    "gpuClass": "standard",
    "accelerator": "GPU"
  },
  "cells": [
    {
      "cell_type": "markdown",
      "source": [
        "Set Colab to GPU Mode if you are training the models!"
      ],
      "metadata": {
        "id": "rN8VtTibW_kL"
      }
    },
    {
      "cell_type": "markdown",
      "source": [
        "### Mounting Google Drive"
      ],
      "metadata": {
        "id": "ESNkUUOEoS8j"
      }
    },
    {
      "cell_type": "code",
      "execution_count": 1,
      "metadata": {
        "id": "GWpiHXuGn6Oy",
        "colab": {
          "base_uri": "https://localhost:8080/"
        },
        "outputId": "e747ba38-3e6e-4396-ab1c-5a73209301f6"
      },
      "outputs": [
        {
          "output_type": "stream",
          "name": "stdout",
          "text": [
            "Mounted at /content/drive\n"
          ]
        }
      ],
      "source": [
        "from google.colab import drive\n",
        "drive.mount('/content/drive')"
      ]
    },
    {
      "cell_type": "code",
      "source": [
        "cd 'drive/MyDrive/IIT J Summer Internship 2022/Code/Neural-Uncertainty-Representation/'"
      ],
      "metadata": {
        "id": "bpxEP-yeoWPX",
        "colab": {
          "base_uri": "https://localhost:8080/"
        },
        "outputId": "22b141b9-e2e8-421a-c07f-c86442a5a566"
      },
      "execution_count": 2,
      "outputs": [
        {
          "output_type": "stream",
          "name": "stdout",
          "text": [
            "/content/drive/.shortcut-targets-by-id/1h_oF16bG32l75GPobgHe_9HgdUduLFxT/IIT J Summer Internship 2022/Code/Neural-Uncertainty-Representation\n"
          ]
        }
      ]
    },
    {
      "cell_type": "markdown",
      "source": [
        "### Importing Necessary Libraries\n"
      ],
      "metadata": {
        "id": "Hq9mNRMMomT7"
      }
    },
    {
      "cell_type": "code",
      "source": [
        "import numpy as np\n",
        "import pandas as pd\n",
        "\n",
        "import tensorflow as tf\n",
        "\n",
        "from tensorflow.keras.layers import Dense, Dropout, LSTM, TimeDistributed\n",
        "from tensorflow.keras.models import Sequential\n",
        "from tensorflow.keras.optimizers import Adam\n",
        "\n",
        "from sklearn.preprocessing import MinMaxScaler\n",
        "\n",
        "import matplotlib.pyplot as plt\n",
        "import os"
      ],
      "metadata": {
        "id": "SRXBkwcIogPe"
      },
      "execution_count": 3,
      "outputs": []
    },
    {
      "cell_type": "markdown",
      "source": [
        "### Importing Data\n",
        "We import the data of a young subject's 3D-Tensor Data of dimensions (TR, Voxel, Number of Subjects) for the 5 different ROIs as follows:\n",
        "- **Prefrontal areas:** dlPFC, vlPFC, lOFC, dmPFC, mPFC, mOFC\n",
        "- **Default-mode areas:** mPFC, ACC, PCC, Precuneus, mOFC\n",
        "- **Sensory areas:** VC\n",
        "- **Multisensory area:** pSTS\n",
        "- **Some other areas:** TP, IPL, mCC, Put, PCG, Nac, INS\n",
        "\n",
        "\n",
        "\n"
      ],
      "metadata": {
        "id": "_R2-Cetmxned"
      }
    },
    {
      "cell_type": "code",
      "source": [
        "file_names = [name for name in os.listdir('/content/drive/MyDrive/IIT J Summer Internship 2022/Hitchcock/Data/YOUNG/Voxel_BOLD/Numpy') if name.endswith(\"npy\") and (\"(1)\" not in name)]\n",
        "file_names = [name for name in file_names if (\"537\" not in name)]"
      ],
      "metadata": {
        "id": "XUJPFBg1898z"
      },
      "execution_count": 4,
      "outputs": []
    },
    {
      "cell_type": "code",
      "source": [
        "ROI_names = [file_name.replace(\"data_\",\"\").replace(\".npy\",\"\") for file_name in file_names]"
      ],
      "metadata": {
        "id": "5lVnzf5N_Ufy"
      },
      "execution_count": 5,
      "outputs": []
    },
    {
      "cell_type": "code",
      "source": [
        "data_ori = list()\n",
        "for file_name in file_names:\n",
        "  data_ori.append(np.load('/content/drive/MyDrive/IIT J Summer Internship 2022/Hitchcock/Data/YOUNG/Voxel_BOLD/Numpy/'+file_name))"
      ],
      "metadata": {
        "id": "Kg22rkIGpfP2"
      },
      "execution_count": 6,
      "outputs": []
    },
    {
      "cell_type": "markdown",
      "source": [
        "### Data Preparation"
      ],
      "metadata": {
        "id": "Kcaxzm8WDjgO"
      }
    },
    {
      "cell_type": "markdown",
      "source": [
        "Now, here we prepare the data to be fed to the Neural Network Architechtures. We can't predict the time ahead upto which the subjects are predicting correctly so, we will take a bit round about way to predict the BOLD values ahead in time(for several choices of time points e.g. 1 time point ahead, 2 time point ahead, etc) and will compare the results for young and old subjects."
      ],
      "metadata": {
        "id": "K9rJ8CAb97K2"
      }
    },
    {
      "cell_type": "markdown",
      "source": [
        "Right from the starting we decide some of the data preparation parameters, so that we can use them as we require."
      ],
      "metadata": {
        "id": "im3Oqy2ueeEU"
      }
    },
    {
      "cell_type": "code",
      "source": [
        "TRAIN_BATCH_SIZE = 20\n",
        "TEST_BATCH_SIZE = 10\n",
        "LOOK_AHEAD = 1\n",
        "NUM_TEST_SUBS = 10"
      ],
      "metadata": {
        "id": "X1DoZ2Fcec20"
      },
      "execution_count": 7,
      "outputs": []
    },
    {
      "cell_type": "markdown",
      "source": [
        "We will start a basic data preparation where we will average across all the voxels for a ROI and fit the model which predicts this average BOLD value. Later we will avoid doing an average since, all voxels in a ROI is not equally important and hence we will want to predict the BOLD values of several voxels simultaneously."
      ],
      "metadata": {
        "id": "TYuu8ZM2-u9z"
      }
    },
    {
      "cell_type": "code",
      "source": [
        "data = [np.mean(dat, axis=1, keepdims=True) for dat in data_ori]"
      ],
      "metadata": {
        "id": "pFvaFL69geft"
      },
      "execution_count": 8,
      "outputs": []
    },
    {
      "cell_type": "markdown",
      "source": [
        "Let's Start the Data Preparation for lOFC later we will iterate the same procedure for the other ROIs."
      ],
      "metadata": {
        "id": "mY3usMssn3T5"
      }
    },
    {
      "cell_type": "code",
      "source": [
        "print(ROI_names[-1], \"Average BOLD Shape:\", data[-1].shape)"
      ],
      "metadata": {
        "colab": {
          "base_uri": "https://localhost:8080/"
        },
        "id": "71dv3Zkcgu3N",
        "outputId": "69c12bca-a71d-40ef-ed1a-6c0210130554"
      },
      "execution_count": 9,
      "outputs": [
        {
          "output_type": "stream",
          "name": "stdout",
          "text": [
            "lOFC Average BOLD Shape: (189, 1, 111)\n"
          ]
        }
      ]
    },
    {
      "cell_type": "markdown",
      "source": [
        "Below, we see the average BOLD time series plot for all the ROIs."
      ],
      "metadata": {
        "id": "jG7ofnvRczcN"
      }
    },
    {
      "cell_type": "markdown",
      "source": [
        "We have changed the data in the form (Number of Subjects, TR, Voxels) below."
      ],
      "metadata": {
        "id": "-wIOccLpE0d-"
      }
    },
    {
      "cell_type": "code",
      "source": [
        "data = [np.transpose(dat, (2,0,1)) for dat in data]"
      ],
      "metadata": {
        "id": "0pHK54KjDnah"
      },
      "execution_count": 10,
      "outputs": []
    },
    {
      "cell_type": "code",
      "source": [
        "print(ROI_names[-1], \"Average BOLD Shape:\", data[-1].shape)"
      ],
      "metadata": {
        "colab": {
          "base_uri": "https://localhost:8080/"
        },
        "id": "HRXHJ1cwgrzp",
        "outputId": "85fc81d3-5de8-4a88-959f-9346e1047e7b"
      },
      "execution_count": 11,
      "outputs": [
        {
          "output_type": "stream",
          "name": "stdout",
          "text": [
            "lOFC Average BOLD Shape: (111, 189, 1)\n"
          ]
        }
      ]
    },
    {
      "cell_type": "code",
      "source": [
        "# for i in range(len(data)):  \n",
        "#   plt.figure(figsize=(10, 8))\n",
        "#   plt.plot(data[i][0,:,0])\n",
        "#   plt.title(\"Average BOLD of 1st Subject for \"+ROI_names[i])\n",
        "#   plt.xlabel(\"TRs\")\n",
        "#   plt.ylabel(\"Average BOLD(over voxels)\")\n",
        "#   plt.savefig(\"./Plots/YOUNG/AVG-BOLD/AVG-BOLD-\"+ROI_names[i]+\".png\")"
      ],
      "metadata": {
        "id": "AseI4ZNeg26E"
      },
      "execution_count": 12,
      "outputs": []
    },
    {
      "cell_type": "markdown",
      "source": [
        "We split the dataset of 111 young subjects into 101 subjects in the training data and 10 subject in the test data."
      ],
      "metadata": {
        "id": "gg50q17pp5xQ"
      }
    },
    {
      "cell_type": "code",
      "source": [
        "train_data_unscaled = [dat[:-NUM_TEST_SUBS] for dat in data]\n",
        "test_data_unscaled = [dat[-NUM_TEST_SUBS:] for dat in data]  "
      ],
      "metadata": {
        "id": "hrldyz8XnDlv"
      },
      "execution_count": 13,
      "outputs": []
    },
    {
      "cell_type": "markdown",
      "source": [
        "We scaled the BOLD values of each voxel in the train data between 0 and 1 for each voxel. We use the same MinMaxScaler fit on the train data on the test data."
      ],
      "metadata": {
        "id": "MDV7H0sYt6jd"
      }
    },
    {
      "cell_type": "code",
      "source": [
        "scalers = list()\n",
        "for i in range(len(ROI_names)):\n",
        "  scalers.append(MinMaxScaler(feature_range = (0, 1)))\n",
        "train_data = [sc.fit_transform(dat[:,:,0]) for sc, dat in zip(scalers, train_data_unscaled)] \n",
        "test_data = [sc.transform(dat[:,:,0]) for sc, dat in zip(scalers, test_data_unscaled)]"
      ],
      "metadata": {
        "id": "-xkJQLj3tORj"
      },
      "execution_count": 14,
      "outputs": []
    },
    {
      "cell_type": "code",
      "source": [
        "train_data = [np.expand_dims(dat, axis = -1) for dat in train_data]\n",
        "test_data = [np.expand_dims(dat, axis = -1) for dat in test_data]"
      ],
      "metadata": {
        "id": "Ail126iVuR6s"
      },
      "execution_count": 15,
      "outputs": []
    },
    {
      "cell_type": "code",
      "source": [
        "print(ROI_names[-1], \"Train Data Shape: \", train_data[-1].shape)\n",
        "print(ROI_names[-1], \"Test Data Shape: \", test_data[-1].shape)"
      ],
      "metadata": {
        "colab": {
          "base_uri": "https://localhost:8080/"
        },
        "id": "_cOAv_VrnbLU",
        "outputId": "961ca7ac-566e-4719-bcfa-73a3764fc58e"
      },
      "execution_count": 16,
      "outputs": [
        {
          "output_type": "stream",
          "name": "stdout",
          "text": [
            "lOFC Train Data Shape:  (101, 189, 1)\n",
            "lOFC Test Data Shape:  (10, 189, 1)\n"
          ]
        }
      ]
    },
    {
      "cell_type": "code",
      "source": [
        "# for i in range(len(data)):  \n",
        "#   plt.figure(figsize=(10, 8))\n",
        "#   plt.plot(train_data[i][0,:,0])\n",
        "#   plt.title(\"Average BOLD of 1st Subject for \"+ROI_names[i])\n",
        "#   plt.xlabel(\"TRs\")\n",
        "#   plt.ylabel(\"Average BOLD(over voxels)[Scaled between 0 and 1]\")\n",
        "#   plt.savefig(\"./Plots/YOUNG/AVG-BOLD/AVG-BOLD-SCALED-\"+ROI_names[i]+\".png\")"
      ],
      "metadata": {
        "id": "YIlJSRX92txN"
      },
      "execution_count": 17,
      "outputs": []
    },
    {
      "cell_type": "markdown",
      "source": [
        "We now build a data generator which would produce mini-batches during the training of the neural network."
      ],
      "metadata": {
        "id": "0yjlAwWeiEru"
      }
    },
    {
      "cell_type": "code",
      "source": [
        "class KerasBatchGenerator(object):\n",
        "    def __init__(self, data, num_TRs, batch_size, look_ahead=1):\n",
        "        self.data = data\n",
        "        self.num_TRs = num_TRs\n",
        "        self.batch_size = batch_size\n",
        "        self.current_idx = 0\n",
        "        self.look_ahead = look_ahead\n",
        "\n",
        "    def generate(self):\n",
        "        while True:\n",
        "            if self.current_idx + self.batch_size >= self.data.shape[0]:\n",
        "              self.current_idx = 0\n",
        "            x = self.data[self.current_idx:(self.current_idx+self.batch_size),:(-self.look_ahead),:]\n",
        "            y = self.data[self.current_idx:(self.current_idx+self.batch_size),self.look_ahead:,:]\n",
        "            self.current_idx = self.current_idx + self.batch_size\n",
        "            yield x, y "
      ],
      "metadata": {
        "id": "Blko7LXpgtwA"
      },
      "execution_count": 18,
      "outputs": []
    },
    {
      "cell_type": "code",
      "source": [
        "train_data_generator = [KerasBatchGenerator(dat, dat.shape[1], TRAIN_BATCH_SIZE, LOOK_AHEAD) for dat in train_data]\n",
        "test_data_generator = [KerasBatchGenerator(dat, dat.shape[1], TEST_BATCH_SIZE, LOOK_AHEAD) for dat in test_data]"
      ],
      "metadata": {
        "id": "lZN56Eg3mrsc"
      },
      "execution_count": 19,
      "outputs": []
    },
    {
      "cell_type": "code",
      "source": [
        "batch_x, batch_y = next(train_data_generator[-1].generate())\n",
        "print(ROI_names[-1], \"Train Batch X Shape: \", batch_x.shape)\n",
        "print(ROI_names[-1], \"Train Batch y Shape: \", batch_y.shape)"
      ],
      "metadata": {
        "colab": {
          "base_uri": "https://localhost:8080/"
        },
        "id": "5UPT6iRxpJ7c",
        "outputId": "3c4ee5ed-4764-4b4b-c984-2b3a48f51b56"
      },
      "execution_count": 20,
      "outputs": [
        {
          "output_type": "stream",
          "name": "stdout",
          "text": [
            "lOFC Train Batch X Shape:  (20, 188, 1)\n",
            "lOFC Train Batch y Shape:  (20, 188, 1)\n"
          ]
        }
      ]
    },
    {
      "cell_type": "code",
      "source": [
        "batch_x, batch_y = next(test_data_generator[-1].generate())\n",
        "print(ROI_names[-1], \"Test Batch X Shape: \", batch_x.shape)\n",
        "print(ROI_names[-1], \"Test Batch y Shape: \", batch_y.shape)"
      ],
      "metadata": {
        "colab": {
          "base_uri": "https://localhost:8080/"
        },
        "id": "Clavfro-pSEV",
        "outputId": "bd3e9631-39b4-4ffa-b274-1b90b510199a"
      },
      "execution_count": 21,
      "outputs": [
        {
          "output_type": "stream",
          "name": "stdout",
          "text": [
            "lOFC Test Batch X Shape:  (10, 188, 1)\n",
            "lOFC Test Batch y Shape:  (10, 188, 1)\n"
          ]
        }
      ]
    },
    {
      "cell_type": "markdown",
      "source": [
        "### Building Model"
      ],
      "metadata": {
        "id": "31NRewZjqoi1"
      }
    },
    {
      "cell_type": "markdown",
      "source": [
        "We will start off by building a LSTM Model:\n",
        "- `Number of LSTM Layers = 1`\n",
        "- `Number of Dense Layers = 1`\n",
        "- `hidden units = 8`\n",
        "- `dropout = 0.3`"
      ],
      "metadata": {
        "id": "8Ry-jGmHqqx0"
      }
    },
    {
      "cell_type": "code",
      "source": [
        "HIDDEN_UNITS = 8\n",
        "DROPOUT_PROB = 0.3\n",
        "LSTM_LAYERS = 1\n",
        "DENSE_LAYERS = 1"
      ],
      "metadata": {
        "id": "AKDAJkiVgK2n"
      },
      "execution_count": 22,
      "outputs": []
    },
    {
      "cell_type": "code",
      "source": [
        "def avg_bold_model():\n",
        "  model = Sequential()\n",
        "  for _ in range(LSTM_LAYERS):\n",
        "    model.add(LSTM(HIDDEN_UNITS, return_sequences=True))\n",
        "  model.add(Dropout(DROPOUT_PROB))\n",
        "  model.add(TimeDistributed(Dense(1)))\n",
        "  return model"
      ],
      "metadata": {
        "id": "fqoXwHTTqqCR"
      },
      "execution_count": 23,
      "outputs": []
    },
    {
      "cell_type": "code",
      "source": [
        "sample_model = avg_bold_model()\n",
        "sample_model.build(input_shape=batch_x.shape)\n",
        "sample_model.summary()"
      ],
      "metadata": {
        "colab": {
          "base_uri": "https://localhost:8080/"
        },
        "id": "nYHgnyz-v5nA",
        "outputId": "f73f86d1-b97a-4dc9-87b1-0880e6173019"
      },
      "execution_count": 24,
      "outputs": [
        {
          "output_type": "stream",
          "name": "stdout",
          "text": [
            "Model: \"sequential\"\n",
            "_________________________________________________________________\n",
            " Layer (type)                Output Shape              Param #   \n",
            "=================================================================\n",
            " lstm (LSTM)                 (10, 188, 8)              320       \n",
            "                                                                 \n",
            " dropout (Dropout)           (10, 188, 8)              0         \n",
            "                                                                 \n",
            " time_distributed (TimeDistr  (10, 188, 1)             9         \n",
            " ibuted)                                                         \n",
            "                                                                 \n",
            "=================================================================\n",
            "Total params: 329\n",
            "Trainable params: 329\n",
            "Non-trainable params: 0\n",
            "_________________________________________________________________\n"
          ]
        }
      ]
    },
    {
      "cell_type": "code",
      "source": [
        "models = [avg_bold_model() for _ in range(len(ROI_names))]"
      ],
      "metadata": {
        "id": "fUZSBnNft2Dl"
      },
      "execution_count": 25,
      "outputs": []
    },
    {
      "cell_type": "markdown",
      "source": [
        "#### Training Model"
      ],
      "metadata": {
        "id": "3PRKFwUahAKG"
      }
    },
    {
      "cell_type": "markdown",
      "source": [
        "If you haven't already trained the models then uncomment and train your models which will be saved and will be loaded for inference later."
      ],
      "metadata": {
        "id": "LsHnfCSrhC0g"
      }
    },
    {
      "cell_type": "code",
      "source": [
        "for i in range(len(ROI_names)):\n",
        "  models[i].compile(optimizer = 'adam', loss = 'mean_squared_error')"
      ],
      "metadata": {
        "id": "kf-dFQmfzqTA"
      },
      "execution_count": 26,
      "outputs": []
    },
    {
      "cell_type": "code",
      "source": [
        "EPOCHS = 100\n",
        "checkpoint_filepaths = [f\"./Models/YOUNG/LSTM/AVG-BOLD/{name}/model_weights-best-val-loss-{LSTM_LAYERS}L-{HIDDEN_UNITS}H-{DENSE_LAYERS}D-{int(DROPOUT_PROB*10)}Drop-{LOOK_AHEAD}Ahead-{name}\" for name in ROI_names]\n",
        "model_checkpoint_callbacks = [tf.keras.callbacks.ModelCheckpoint(\n",
        "    filepath=checkpoint_filepath,\n",
        "    save_weights_only=True,\n",
        "    monitor = \"val_loss\",\n",
        "    mode='min',\n",
        "    save_best_only=True) for checkpoint_filepath in checkpoint_filepaths]"
      ],
      "metadata": {
        "id": "vcZsfhkz3lCH"
      },
      "execution_count": 27,
      "outputs": []
    },
    {
      "cell_type": "code",
      "source": [
        "def plot_train_test_loss(history, model_name, i):  \n",
        "  plt.figure(figsize=(10,10))\n",
        "  plt.plot(history.history['loss'])\n",
        "  plt.plot(history.history['val_loss'])\n",
        "  plt.title(model_name+' loss')\n",
        "  plt.ylabel('loss')\n",
        "  plt.xlabel('epochs')\n",
        "  plt.legend(['train', 'val'], loc='upper left')\n",
        "  plt.savefig(\"./Plots/YOUNG/LSTM/AVG-BOLD/\"+ROI_names[i]+\"/\"+model_name+\"-loss.png\")"
      ],
      "metadata": {
        "id": "wECZbf2i_AH7"
      },
      "execution_count": 28,
      "outputs": []
    },
    {
      "cell_type": "code",
      "source": [
        "histories = list()\n",
        "with tf.device('/device:GPU:0'):\n",
        "  for i in range(len(ROI_names)):\n",
        "    history = models[i].fit(\n",
        "                    train_data_generator[i].generate(),\n",
        "                    steps_per_epoch=train_data[i].shape[0]//TRAIN_BATCH_SIZE,\n",
        "                    epochs=EPOCHS,\n",
        "                    validation_data=test_data_generator[i].generate(),\n",
        "                    validation_steps=test_data[i].shape[0]//TEST_BATCH_SIZE,\n",
        "                    callbacks=[model_checkpoint_callbacks[i]]\n",
        "                    )\n",
        "    models[i].save_weights(f\"./Models/YOUNG/LSTM/AVG-BOLD/{ROI_names[i]}/model_weights-{LSTM_LAYERS}L-{HIDDEN_UNITS}H-{DENSE_LAYERS}D-{int(DROPOUT_PROB*10)}Drop-{LOOK_AHEAD}Ahead-{ROI_names[i]}\")\n",
        "    plot_train_test_loss(history, f\"{LSTM_LAYERS}L-{HIDDEN_UNITS}H-{DENSE_LAYERS}D-{int(DROPOUT_PROB*10)}Drop-{LOOK_AHEAD}Ahead-{ROI_names[i]}\", i)\n",
        "    histories.append(history)"
      ],
      "metadata": {
        "id": "AFb-kTLR21hl"
      },
      "execution_count": null,
      "outputs": []
    },
    {
      "cell_type": "code",
      "source": [
        "for i in range(len(ROI_names)):\n",
        "  models[i].load_weights(f\"./Models/YOUNG/LSTM/AVG-BOLD/{ROI_names[i]}/model_weights-{LSTM_LAYERS}L-{HIDDEN_UNITS}H-{DENSE_LAYERS}D-{int(DROPOUT_PROB*10)}Drop-{LOOK_AHEAD}Ahead-{ROI_names[i]}\")"
      ],
      "metadata": {
        "id": "dKvn0145hViW"
      },
      "execution_count": 30,
      "outputs": []
    },
    {
      "cell_type": "code",
      "source": [
        "preds = [models[i].predict(next(test_data_generator[i].generate())[0]) for i in range(len(ROI_names))]"
      ],
      "metadata": {
        "id": "7mpQ5Rap6kQ0"
      },
      "execution_count": null,
      "outputs": []
    },
    {
      "cell_type": "code",
      "source": [
        "for i in range(len(ROI_names)):\n",
        "  \n",
        "  actual_test_data_output = np.squeeze(test_data_unscaled[i])[:,LOOK_AHEAD:] \n",
        "  pred_test_data_output = scalers[i].inverse_transform(np.hstack([preds[i][:,:,0], preds[i][:,:LOOK_AHEAD,0]]))[:,:-LOOK_AHEAD]\n",
        "  plt.figure(figsize=(24, 18))\n",
        "\n",
        "  for j in range(NUM_TEST_SUBS-1):\n",
        "    \n",
        "    ax = plt.subplot(3, 3, j + 1)\n",
        "    plt.plot(actual_test_data_output[j,:])\n",
        "    plt.plot(pred_test_data_output[j,:])\n",
        "    plt.ylabel(\"Average BOLD\")\n",
        "    plt.xlabel(\"TRs\")\n",
        "    plt.title(f\"Avg BOLD Preds of {LSTM_LAYERS}L-{HIDDEN_UNITS}H-{DENSE_LAYERS}D-{int(DROPOUT_PROB*10)}Drop-{LOOK_AHEAD}Ahead for {j+1}th Test Sub's {ROI_names[i]}\")\n",
        "    plt.legend(['actual', 'pred'])\n",
        "    plt.savefig(f\"./Plots/YOUNG/LSTM/AVG-BOLD/{ROI_names[i]}/{LSTM_LAYERS}L-{HIDDEN_UNITS}H-{DENSE_LAYERS}D-{int(DROPOUT_PROB*10)}Drop-{LOOK_AHEAD}Ahead-Preds.png\")"
      ],
      "metadata": {
        "id": "WBLOHLixAWnk"
      },
      "execution_count": null,
      "outputs": []
    },
    {
      "cell_type": "code",
      "source": [
        "print(\"***Each Test Subject's Correlation Coefficient between predicted and actual average BOLD values for ROIs***\")\n",
        "print()\n",
        "avg_r = list()\n",
        "for i in range(len(ROI_names)):\n",
        "  actual_test_data_output = np.squeeze(test_data_unscaled[i])[:,LOOK_AHEAD:] \n",
        "  pred_test_data_output = scalers[i].inverse_transform(np.hstack([preds[i][:,:,0], preds[i][:,:LOOK_AHEAD,0]]))[:,:-LOOK_AHEAD]\n",
        "  for j in range(NUM_TEST_SUBS):\n",
        "    print(f\"{ROI_names[i]} for {j+1}th sub: {np.round(np.corrcoef(actual_test_data_output[j,:], pred_test_data_output[j,:])[0,1], 2)}\")\n",
        "  print()\n",
        "\n",
        "print(\"***Average across test subjects Correlation Coefficient between predicted and actual average BOLD values for ROIs***\")\n",
        "print()\n",
        "for i in range(len(ROI_names)):\n",
        "  actual_test_data_output = np.squeeze(test_data_unscaled[i])[:,LOOK_AHEAD:] \n",
        "  pred_test_data_output = scalers[i].inverse_transform(np.hstack([preds[i][:,:,0], preds[i][:,:LOOK_AHEAD,0]]))[:,:-LOOK_AHEAD]\n",
        "  sum_r = 0\n",
        "  for j in range(NUM_TEST_SUBS):\n",
        "    sum_r += np.corrcoef(actual_test_data_output[j,:], pred_test_data_output[j,:])[0,1]\n",
        "  print(f\"{ROI_names[i]}: {np.round(sum_r / NUM_TEST_SUBS, 2)}\")"
      ],
      "metadata": {
        "colab": {
          "base_uri": "https://localhost:8080/"
        },
        "id": "J8hiJzxcKFuz",
        "outputId": "fcb5bce2-8bd0-484b-a3c9-543c99dcf8ab"
      },
      "execution_count": 33,
      "outputs": [
        {
          "output_type": "stream",
          "name": "stdout",
          "text": [
            "***Each Test Subject's Correlation Coefficient between predicted and actual average BOLD values for ROIs***\n",
            "\n",
            "dmPFC for 1th sub: 0.16\n",
            "dmPFC for 2th sub: 0.34\n",
            "dmPFC for 3th sub: 0.36\n",
            "dmPFC for 4th sub: 0.2\n",
            "dmPFC for 5th sub: 0.21\n",
            "dmPFC for 6th sub: 0.36\n",
            "dmPFC for 7th sub: 0.11\n",
            "dmPFC for 8th sub: 0.35\n",
            "dmPFC for 9th sub: 0.27\n",
            "dmPFC for 10th sub: 0.06\n",
            "\n",
            "ACC for 1th sub: 0.23\n",
            "ACC for 2th sub: 0.51\n",
            "ACC for 3th sub: 0.15\n",
            "ACC for 4th sub: 0.45\n",
            "ACC for 5th sub: 0.34\n",
            "ACC for 6th sub: 0.4\n",
            "ACC for 7th sub: 0.34\n",
            "ACC for 8th sub: 0.53\n",
            "ACC for 9th sub: 0.19\n",
            "ACC for 10th sub: 0.3\n",
            "\n",
            "AMY for 1th sub: 0.29\n",
            "AMY for 2th sub: 0.36\n",
            "AMY for 3th sub: 0.74\n",
            "AMY for 4th sub: 0.21\n",
            "AMY for 5th sub: 0.11\n",
            "AMY for 6th sub: 0.55\n",
            "AMY for 7th sub: 0.26\n",
            "AMY for 8th sub: 0.54\n",
            "AMY for 9th sub: 0.1\n",
            "AMY for 10th sub: 0.15\n",
            "\n",
            "Cau for 1th sub: -0.01\n",
            "Cau for 2th sub: 0.45\n",
            "Cau for 3th sub: 0.12\n",
            "Cau for 4th sub: 0.15\n",
            "Cau for 5th sub: 0.59\n",
            "Cau for 6th sub: 0.11\n",
            "Cau for 7th sub: 0.14\n",
            "Cau for 8th sub: 0.24\n",
            "Cau for 9th sub: 0.34\n",
            "Cau for 10th sub: -0.09\n",
            "\n",
            "dlPFC for 1th sub: 0.04\n",
            "dlPFC for 2th sub: 0.38\n",
            "dlPFC for 3th sub: 0.43\n",
            "dlPFC for 4th sub: 0.51\n",
            "dlPFC for 5th sub: 0.5\n",
            "dlPFC for 6th sub: 0.11\n",
            "dlPFC for 7th sub: 0.02\n",
            "dlPFC for 8th sub: 0.32\n",
            "dlPFC for 9th sub: 0.07\n",
            "dlPFC for 10th sub: 0.27\n",
            "\n",
            "INS for 1th sub: 0.08\n",
            "INS for 2th sub: 0.55\n",
            "INS for 3th sub: 0.23\n",
            "INS for 4th sub: 0.39\n",
            "INS for 5th sub: 0.42\n",
            "INS for 6th sub: 0.11\n",
            "INS for 7th sub: 0.45\n",
            "INS for 8th sub: 0.24\n",
            "INS for 9th sub: 0.24\n",
            "INS for 10th sub: 0.07\n",
            "\n",
            "IPL for 1th sub: 0.39\n",
            "IPL for 2th sub: -0.02\n",
            "IPL for 3th sub: 0.41\n",
            "IPL for 4th sub: 0.31\n",
            "IPL for 5th sub: 0.18\n",
            "IPL for 6th sub: 0.29\n",
            "IPL for 7th sub: 0.38\n",
            "IPL for 8th sub: 0.34\n",
            "IPL for 9th sub: 0.24\n",
            "IPL for 10th sub: 0.27\n",
            "\n",
            "mCC for 1th sub: 0.06\n",
            "mCC for 2th sub: -0.07\n",
            "mCC for 3th sub: 0.07\n",
            "mCC for 4th sub: 0.22\n",
            "mCC for 5th sub: 0.46\n",
            "mCC for 6th sub: 0.71\n",
            "mCC for 7th sub: 0.09\n",
            "mCC for 8th sub: 0.44\n",
            "mCC for 9th sub: 0.29\n",
            "mCC for 10th sub: 0.07\n",
            "\n",
            "Nac for 1th sub: 0.08\n",
            "Nac for 2th sub: 0.33\n",
            "Nac for 3th sub: 0.34\n",
            "Nac for 4th sub: 0.34\n",
            "Nac for 5th sub: 0.47\n",
            "Nac for 6th sub: 0.07\n",
            "Nac for 7th sub: 0.22\n",
            "Nac for 8th sub: 0.29\n",
            "Nac for 9th sub: 0.73\n",
            "Nac for 10th sub: 0.12\n",
            "\n",
            "PCC for 1th sub: 0.06\n",
            "PCC for 2th sub: 0.24\n",
            "PCC for 3th sub: 0.21\n",
            "PCC for 4th sub: 0.58\n",
            "PCC for 5th sub: 0.29\n",
            "PCC for 6th sub: 0.53\n",
            "PCC for 7th sub: 0.32\n",
            "PCC for 8th sub: 0.44\n",
            "PCC for 9th sub: 0.24\n",
            "PCC for 10th sub: 0.2\n",
            "\n",
            "PCG for 1th sub: 0.3\n",
            "PCG for 2th sub: 0.31\n",
            "PCG for 3th sub: 0.65\n",
            "PCG for 4th sub: 0.49\n",
            "PCG for 5th sub: 0.3\n",
            "PCG for 6th sub: 0.49\n",
            "PCG for 7th sub: 0.23\n",
            "PCG for 8th sub: 0.6\n",
            "PCG for 9th sub: 0.46\n",
            "PCG for 10th sub: 0.48\n",
            "\n",
            "Prec for 1th sub: 0.13\n",
            "Prec for 2th sub: 0.35\n",
            "Prec for 3th sub: 0.3\n",
            "Prec for 4th sub: 0.44\n",
            "Prec for 5th sub: 0.28\n",
            "Prec for 6th sub: 0.49\n",
            "Prec for 7th sub: 0.39\n",
            "Prec for 8th sub: 0.5\n",
            "Prec for 9th sub: 0.39\n",
            "Prec for 10th sub: 0.21\n",
            "\n",
            "TP for 1th sub: 0.48\n",
            "TP for 2th sub: 0.34\n",
            "TP for 3th sub: 0.33\n",
            "TP for 4th sub: 0.39\n",
            "TP for 5th sub: 0.6\n",
            "TP for 6th sub: 0.34\n",
            "TP for 7th sub: 0.35\n",
            "TP for 8th sub: 0.6\n",
            "TP for 9th sub: 0.71\n",
            "TP for 10th sub: 0.47\n",
            "\n",
            "Put for 1th sub: -0.08\n",
            "Put for 2th sub: -0.06\n",
            "Put for 3th sub: -0.14\n",
            "Put for 4th sub: 0.1\n",
            "Put for 5th sub: 0.38\n",
            "Put for 6th sub: 0.27\n",
            "Put for 7th sub: 0.03\n",
            "Put for 8th sub: 0.29\n",
            "Put for 9th sub: 0.1\n",
            "Put for 10th sub: -0.24\n",
            "\n",
            "pSTS for 1th sub: 0.17\n",
            "pSTS for 2th sub: -0.06\n",
            "pSTS for 3th sub: 0.4\n",
            "pSTS for 4th sub: 0.17\n",
            "pSTS for 5th sub: 0.11\n",
            "pSTS for 6th sub: 0.33\n",
            "pSTS for 7th sub: 0.45\n",
            "pSTS for 8th sub: 0.44\n",
            "pSTS for 9th sub: 0.1\n",
            "pSTS for 10th sub: -0.17\n",
            "\n",
            "VC for 1th sub: 0.36\n",
            "VC for 2th sub: 0.26\n",
            "VC for 3th sub: 0.71\n",
            "VC for 4th sub: 0.52\n",
            "VC for 5th sub: 0.31\n",
            "VC for 6th sub: 0.72\n",
            "VC for 7th sub: 0.35\n",
            "VC for 8th sub: 0.51\n",
            "VC for 9th sub: 0.35\n",
            "VC for 10th sub: 0.39\n",
            "\n",
            "vlPFC for 1th sub: 0.52\n",
            "vlPFC for 2th sub: 0.54\n",
            "vlPFC for 3th sub: 0.68\n",
            "vlPFC for 4th sub: 0.72\n",
            "vlPFC for 5th sub: 0.29\n",
            "vlPFC for 6th sub: 0.29\n",
            "vlPFC for 7th sub: 0.55\n",
            "vlPFC for 8th sub: 0.54\n",
            "vlPFC for 9th sub: 0.67\n",
            "vlPFC for 10th sub: 0.14\n",
            "\n",
            "mOFC for 1th sub: 0.53\n",
            "mOFC for 2th sub: 0.68\n",
            "mOFC for 3th sub: 0.89\n",
            "mOFC for 4th sub: 0.92\n",
            "mOFC for 5th sub: 0.74\n",
            "mOFC for 6th sub: 0.59\n",
            "mOFC for 7th sub: -0.07\n",
            "mOFC for 8th sub: 0.75\n",
            "mOFC for 9th sub: 0.85\n",
            "mOFC for 10th sub: 0.04\n",
            "\n",
            "mPFC for 1th sub: 0.14\n",
            "mPFC for 2th sub: 0.09\n",
            "mPFC for 3th sub: 0.49\n",
            "mPFC for 4th sub: 0.43\n",
            "mPFC for 5th sub: 0.22\n",
            "mPFC for 6th sub: 0.09\n",
            "mPFC for 7th sub: 0.16\n",
            "mPFC for 8th sub: 0.65\n",
            "mPFC for 9th sub: 0.07\n",
            "mPFC for 10th sub: -0.1\n",
            "\n",
            "lOFC for 1th sub: 0.46\n",
            "lOFC for 2th sub: 0.16\n",
            "lOFC for 3th sub: 0.14\n",
            "lOFC for 4th sub: 0.61\n",
            "lOFC for 5th sub: 0.17\n",
            "lOFC for 6th sub: -0.05\n",
            "lOFC for 7th sub: 0.11\n",
            "lOFC for 8th sub: 0.62\n",
            "lOFC for 9th sub: 0.44\n",
            "lOFC for 10th sub: -0.18\n",
            "\n",
            "***Average across test subjects Correlation Coefficient between predicted and actual average BOLD values for ROIs***\n",
            "\n",
            "dmPFC: 0.24\n",
            "ACC: 0.34\n",
            "AMY: 0.33\n",
            "Cau: 0.21\n",
            "dlPFC: 0.27\n",
            "INS: 0.28\n",
            "IPL: 0.28\n",
            "mCC: 0.23\n",
            "Nac: 0.3\n",
            "PCC: 0.31\n",
            "PCG: 0.43\n",
            "Prec: 0.35\n",
            "TP: 0.46\n",
            "Put: 0.07\n",
            "pSTS: 0.19\n",
            "VC: 0.45\n",
            "vlPFC: 0.49\n",
            "mOFC: 0.59\n",
            "mPFC: 0.22\n",
            "lOFC: 0.25\n"
          ]
        }
      ]
    },
    {
      "cell_type": "code",
      "source": [
        "print(\"***Model's Final MSE(Train) Loss between predicted and actual average BOLD values for ROIs for the Train Subjects***\")\n",
        "print()\n",
        "for i in range(len(ROI_names)):\n",
        "  print(ROI_names[i]+\":\", np.round(histories[i].history['loss'][-1], 5))\n",
        "print()\n",
        "print(\"***Model's Final MSE(Validation) Loss between predicted and actual average BOLD values for ROIs for the Test Subjects***\")\n",
        "print()\n",
        "for i in range(len(ROI_names)):\n",
        "  print(ROI_names[i]+\":\", np.round(histories[i].history['val_loss'][-1], 5))"
      ],
      "metadata": {
        "colab": {
          "base_uri": "https://localhost:8080/"
        },
        "id": "f8gPew9YMI2B",
        "outputId": "c1c55ba2-1538-44da-a31a-812b9f3e7b5d"
      },
      "execution_count": 34,
      "outputs": [
        {
          "output_type": "stream",
          "name": "stdout",
          "text": [
            "***Model's Final MSE(Train) Loss between predicted and actual average BOLD values for ROIs for the Train Subjects***\n",
            "\n",
            "dmPFC: 0.01913\n",
            "ACC: 0.0125\n",
            "AMY: 0.00516\n",
            "Cau: 0.01123\n",
            "dlPFC: 0.01452\n",
            "INS: 0.00957\n",
            "IPL: 0.01464\n",
            "mCC: 0.01107\n",
            "Nac: 0.00688\n",
            "PCC: 0.01236\n",
            "PCG: 0.00843\n",
            "Prec: 0.00805\n",
            "TP: 0.0085\n",
            "Put: 0.00749\n",
            "pSTS: 0.01202\n",
            "VC: 0.01218\n",
            "vlPFC: 0.00577\n",
            "mOFC: 0.0101\n",
            "mPFC: 0.00799\n",
            "lOFC: 0.02243\n",
            "\n",
            "***Model's Final MSE(Validation) Loss between predicted and actual average BOLD values for ROIs for the Test Subjects***\n",
            "\n",
            "dmPFC: 0.0043\n",
            "ACC: 0.00264\n",
            "AMY: 0.00092\n",
            "Cau: 0.00435\n",
            "dlPFC: 0.0022\n",
            "INS: 0.00196\n",
            "IPL: 0.00462\n",
            "mCC: 0.0026\n",
            "Nac: 0.00192\n",
            "PCC: 0.00228\n",
            "PCG: 0.00146\n",
            "Prec: 0.00199\n",
            "TP: 0.00158\n",
            "Put: 0.00193\n",
            "pSTS: 0.00161\n",
            "VC: 0.00283\n",
            "vlPFC: 0.00039\n",
            "mOFC: 0.0024\n",
            "mPFC: 0.00208\n",
            "lOFC: 0.00412\n"
          ]
        }
      ]
    }
  ]
}